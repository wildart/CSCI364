{
  "cells": [
    {
      "metadata": {
        "collapsed": true
      },
      "cell_type": "markdown",
      "source": "# LL Parser"
    },
    {
      "metadata": {},
      "cell_type": "markdown",
      "source": "Consider the following small LL(1) grammar:\n\n```\n1. S → F\n2. S → ( S + F )\n3. F → a\n```\n\nand parse the following input: **( a + a )**"
    },
    {
      "metadata": {},
      "cell_type": "markdown",
      "source": "First, we impement lexical analyser\n- Define `TOKEN` type that lists of token in our language"
    },
    {
      "metadata": {
        "trusted": true
      },
      "cell_type": "code",
      "source": "type TOKEN = LPAR | RPAR | PLUS | MINUS | A | B | C | INVALID | END\n\n// lexical analyser\nlet tokenize input =\n    if Seq.isEmpty input then\n        TOKEN.END, Seq.empty<char>\n    else\n        let C = Seq.head input\n        let S = Seq.tail input\n        let T = match C with\n                | '(' -> TOKEN.LPAR\n                | ')' -> TOKEN.RPAR\n                | '+' -> TOKEN.PLUS\n                | '-' -> TOKEN.MINUS\n                | 'a' -> TOKEN.A\n                | 'b' -> TOKEN.B\n                | 'c' -> TOKEN.C\n                | _   -> TOKEN.INVALID\n        T, S",
      "execution_count": 6,
      "outputs": []
    },
    {
      "metadata": {
        "trusted": true
      },
      "cell_type": "code",
      "source": "tokenize \"a+a\"",
      "execution_count": 7,
      "outputs": [
        {
          "output_type": "execute_result",
          "execution_count": 7,
          "data": {
            "text/plain": "(A, seq ['+'; 'a'])"
          },
          "metadata": {}
        }
      ]
    },
    {
      "metadata": {
        "trusted": true
      },
      "cell_type": "code",
      "source": "// Function generates a sequance of tokens from the input string\nlet tokens input =\n    let tokenizeNext state =\n        match state with\n        | TOKEN.END, _ -> None\n        | _ -> let S = state |> snd |> tokenize\n               Some(S, S)\n    Seq.unfold (tokenizeNext) (TOKEN.INVALID, input)",
      "execution_count": 8,
      "outputs": []
    },
    {
      "metadata": {
        "trusted": true
      },
      "cell_type": "code",
      "source": "tokens \"(a+a)\"",
      "execution_count": 9,
      "outputs": [
        {
          "output_type": "execute_result",
          "execution_count": 9,
          "data": {
            "text/plain": "seq\n  [(LPAR, seq ['a'; '+'; 'a'; ')']); (A, seq ['+'; 'a'; ')']);\n   (PLUS, seq ['a'; ')']); (A, seq [')']); ...]"
          },
          "metadata": {}
        }
      ]
    },
    {
      "metadata": {
        "trusted": true
      },
      "cell_type": "code",
      "source": "for (t,s) in tokens \"(a+a)\" do\n    printf \"%A \" t",
      "execution_count": 10,
      "outputs": [
        {
          "output_type": "display_data",
          "data": {
            "text/plain": "LPAR A PLUS A RPAR END "
          },
          "metadata": {}
        }
      ]
    },
    {
      "metadata": {},
      "cell_type": "markdown",
      "source": "Next, we construct a parsing table for this grammar by expanding all the terminals by column and all nonterminals by row: \n\nN\\T|(|)|a|+|$\n---|-|-|-|-|\nS  |2| |1| |\nF  | | |3| |\n"
    },
    {
      "metadata": {},
      "cell_type": "markdown",
      "source": "Then, we define types requred to construct grammar rules, and define grammar and above table"
    },
    {
      "metadata": {
        "trusted": true
      },
      "cell_type": "code",
      "source": "type RULE = S | F\n\ntype SYMBOL =\n    | Terminal of TOKEN\n    | NonTerminal of RULE\n    | Error\n\nlet grammar = [|\n    (SYMBOL.NonTerminal RULE.S, [SYMBOL.NonTerminal RULE.F]);  // S → F\n    (SYMBOL.NonTerminal RULE.S, [SYMBOL.Terminal TOKEN.LPAR;   // S → ( S + F )\n                                 SYMBOL.NonTerminal RULE.S;\n                                 SYMBOL.Terminal TOKEN.PLUS;\n                                 SYMBOL.NonTerminal RULE.F;\n                                 SYMBOL.Terminal TOKEN.RPAR]); // F → a\n    (SYMBOL.NonTerminal RULE.F, [SYMBOL.Terminal TOKEN.A])\n|]\n\nlet table = [\n     (RULE.S, TOKEN.A);    // Rule 1: parse table location [S, a]\n     (RULE.S, TOKEN.LPAR); // Rule 2: parse table location [S, )]\n     (RULE.F, TOKEN.A);    // Rule 3: parse table location [F, a]\n];",
      "execution_count": 11,
      "outputs": []
    },
    {
      "metadata": {
        "trusted": true
      },
      "cell_type": "code",
      "source": "// Stack helper functions\nlet push sym stk = sym::stk\n\nlet top stk = List.head stk\n\nlet pop stk =\n    match stk with\n    | top::tl -> top, tl\n    | _ -> SYMBOL.Error, List.empty<SYMBOL>",
      "execution_count": 12,
      "outputs": []
    },
    {
      "metadata": {},
      "cell_type": "markdown",
      "source": "Write a syntactic analyser function `parser` that accepts:\n- grammar description\n- parse table\n- string input"
    },
    {
      "metadata": {
        "trusted": true
      },
      "cell_type": "code",
      "source": "// syntactic analyser\nlet parser (grammar: (SYMBOL * SYMBOL list)[]) table input =\n    // Push a $ on the stack\n    // Initialize the stack to the start symbol.\n    let stack = List.empty<SYMBOL> |>\n                push (Terminal TOKEN.END) |>\n                push (NonTerminal RULE.S)\n\n    let rec analyse stack (token, input) =\n        printfn \"Token: %A, Stack: %A\" token stack\n        if List.length stack > 0 then\n            // take element from top of the stack\n            let sym = top stack\n            // get next token\n            match sym with\n            | Terminal term ->\n                if term = token then // input symbol matches terminal\n                    // pop stack\n                    let t, new_stack = pop stack\n                    printfn \"pop %A\" t\n                    analyse new_stack (tokenize input) // advance input\n                else\n                    failwith (sprintf \"bad term on input: %A\" token)\n            | NonTerminal nterm ->\n                begin\n                    // Use nonterminal and current input symbol to find correct production in table.\n                    printfn \"svalue: %A, token: %A\" nterm token\n                    let rule_idx = \n                        try \n                            List.findIndex (fun (r,t) -> r = nterm && t = token) table\n                        with\n                            | :? System.Collections.Generic.KeyNotFoundException -> failwith (sprintf \"No rule found for %A → %A\" nterm token)                    \n                    let rule = grammar.[rule_idx]\n                    printfn \"%d: %A → %A\" (rule_idx + 1) (fst rule) (snd rule)\n\n                    // Pop stack\n                    // Push right-hand side of production from table onto stack, last symbol first.\n                    let new_stack = List.append (snd rule) (stack |> pop |> snd)\n                    analyse new_stack (token, input)\n                end\n            | _ -> failwith \"error\"\n        else ()\n\n    analyse stack (tokenize input)",
      "execution_count": 14,
      "outputs": []
    },
    {
      "metadata": {},
      "cell_type": "markdown",
      "source": "Test our parser with different inputs"
    },
    {
      "metadata": {
        "trusted": true
      },
      "cell_type": "code",
      "source": "parser grammar table \"(a+a)\"",
      "execution_count": 15,
      "outputs": [
        {
          "output_type": "display_data",
          "data": {
            "text/plain": "Token: LPAR, Stack: [NonTerminal S; Terminal END]\nsvalue: S, token: LPAR\n2: NonTerminal S → [Terminal LPAR; NonTerminal S; Terminal PLUS; NonTerminal F; Terminal RPAR]\nToken: LPAR, Stack: [Terminal LPAR; NonTerminal S; Terminal PLUS; NonTerminal F; Terminal RPAR;\n Terminal END]\npop Terminal LPAR\nToken: A, Stack: [NonTerminal S; Terminal PLUS; NonTerminal F; Terminal RPAR; Terminal END]\nsvalue: S, token: A\n1: NonTerminal S → [NonTerminal F]\nToken: A, Stack: [NonTerminal F; Terminal PLUS; NonTerminal F; Terminal RPAR; Terminal END]\nsvalue: F, token: A\n3: NonTerminal F → [Terminal A]\nToken: A, Stack: [Terminal A; Terminal PLUS; NonTerminal F; Terminal RPAR; Terminal END]\npop Terminal A\nToken: PLUS, Stack: [Terminal PLUS; NonTerminal F; Terminal RPAR; Terminal END]\npop Terminal PLUS\nToken: A, Stack: [NonTerminal F; Terminal RPAR; Terminal END]\nsvalue: F, token: A\n3: NonTerminal F → [Terminal A]\nToken: A, Stack: [Terminal A; Terminal RPAR; Terminal END]\npop Terminal A\nToken: RPAR, Stack: [Terminal RPAR; Terminal END]\npop Terminal RPAR\nToken: END, Stack: [Terminal END]\npop Terminal END\nToken: END, Stack: []\n"
          },
          "metadata": {}
        }
      ]
    },
    {
      "metadata": {
        "trusted": true
      },
      "cell_type": "code",
      "source": "parser grammar table \"((a+a)+a)\"",
      "execution_count": 16,
      "outputs": [
        {
          "output_type": "display_data",
          "data": {
            "text/plain": "Token: LPAR, Stack: [NonTerminal S; Terminal END]\nsvalue: S, token: LPAR\n2: NonTerminal S → [Terminal LPAR; NonTerminal S; Terminal PLUS; NonTerminal F; Terminal RPAR]\nToken: LPAR, Stack: [Terminal LPAR; NonTerminal S; Terminal PLUS; NonTerminal F; Terminal RPAR;\n Terminal END]\npop Terminal LPAR\nToken: LPAR, Stack: [NonTerminal S; Terminal PLUS; NonTerminal F; Terminal RPAR; Terminal END]\nsvalue: S, token: LPAR\n2: NonTerminal S → [Terminal LPAR; NonTerminal S; Terminal PLUS; NonTerminal F; Terminal RPAR]\nToken: LPAR, Stack: [Terminal LPAR; NonTerminal S; Terminal PLUS; NonTerminal F; Terminal RPAR;\n Terminal PLUS; NonTerminal F; Terminal RPAR; Terminal END]\npop Terminal LPAR\nToken: A, Stack: [NonTerminal S; Terminal PLUS; NonTerminal F; Terminal RPAR; Terminal PLUS;\n NonTerminal F; Terminal RPAR; Terminal END]\nsvalue: S, token: A\n1: NonTerminal S → [NonTerminal F]\nToken: A, Stack: [NonTerminal F; Terminal PLUS; NonTerminal F; Terminal RPAR; Terminal PLUS;\n NonTerminal F; Terminal RPAR; Terminal END]\nsvalue: F, token: A\n3: NonTerminal F → [Terminal A]\nToken: A, Stack: [Terminal A; Terminal PLUS; NonTerminal F; Terminal RPAR; Terminal PLUS;\n NonTerminal F; Terminal RPAR; Terminal END]\npop Terminal A\nToken: PLUS, Stack: [Terminal PLUS; NonTerminal F; Terminal RPAR; Terminal PLUS; NonTerminal F;\n Terminal RPAR; Terminal END]\npop Terminal PLUS\nToken: A, Stack: [NonTerminal F; Terminal RPAR; Terminal PLUS; NonTerminal F; Terminal RPAR;\n Terminal END]\nsvalue: F, token: A\n3: NonTerminal F → [Terminal A]\nToken: A, Stack: [Terminal A; Terminal RPAR; Terminal PLUS; NonTerminal F; Terminal RPAR;\n Terminal END]\npop Terminal A\nToken: RPAR, Stack: [Terminal RPAR; Terminal PLUS; NonTerminal F; Terminal RPAR; Terminal END]\npop Terminal RPAR\nToken: PLUS, Stack: [Terminal PLUS; NonTerminal F; Terminal RPAR; Terminal END]\npop Terminal PLUS\nToken: A, Stack: [NonTerminal F; Terminal RPAR; Terminal END]\nsvalue: F, token: A\n3: NonTerminal F → [Terminal A]\nToken: A, Stack: [Terminal A; Terminal RPAR; Terminal END]\npop Terminal A\nToken: RPAR, Stack: [Terminal RPAR; Terminal END]\npop Terminal RPAR\nToken: END, Stack: [Terminal END]\npop Terminal END\nToken: END, Stack: []\n"
          },
          "metadata": {}
        }
      ]
    },
    {
      "metadata": {
        "trusted": true
      },
      "cell_type": "code",
      "source": "parser grammar table \"(a+)\"",
      "execution_count": 17,
      "outputs": [
        {
          "output_type": "stream",
          "text": "Expression evaluation failed: No rule found for F → RPAR\nExceptionNo rule found for F → RPAR\n  at FSI_0023.analyse@9-8 (System.Tuple`2[FSI_0020+SYMBOL,Microsoft.FSharp.Collections.FSharpList`1[FSI_0020+SYMBOL]][] grammar, Microsoft.FSharp.Collections.FSharpList`1[T] table, Microsoft.FSharp.Collections.FSharpList`1[T] stack, FSI_0012+TOKEN tupledArg0, System.Collections.Generic.IEnumerable`1[T] tupledArg1) [0x00230] in <b58f97cb4d084617a4ef16da773fb0d1>:0 \n  at FSI_0023.parser (System.Tuple`2[FSI_0020+SYMBOL,Microsoft.FSharp.Collections.FSharpList`1[FSI_0020+SYMBOL]][] grammar, Microsoft.FSharp.Collections.FSharpList`1[T] table, System.Collections.Generic.IEnumerable`1[T] input) [0x00062] in <b58f97cb4d084617a4ef16da773fb0d1>:0 \n  at <StartupCode$FSI_0028>.$FSI_0028.main@ () [0x0000a] in <b58f97cb4d084617a4ef16da773fb0d1>:0 \n  at (wrapper managed-to-native) System.Reflection.MonoMethod.InternalInvoke(System.Reflection.MonoMethod,object,object[],System.Exception&)\n  at System.Reflection.MonoMethod.Invoke (System.Object obj, System.Reflection.BindingFlags invokeAttr, System.Reflection.Binder binder, System.Object[] parameters, System.Globalization.CultureInfo culture) [0x0003b] in <2943701620b54f86b436d3ffad010412>:0 \n",
          "name": "stderr"
        },
        {
          "output_type": "display_data",
          "data": {
            "text/plain": "Token: LPAR, Stack: [NonTerminal S; Terminal END]\nsvalue: S, token: LPAR\n2: NonTerminal S → [Terminal LPAR; NonTerminal S; Terminal PLUS; NonTerminal F; Terminal RPAR]\nToken: LPAR, Stack: [Terminal LPAR; NonTerminal S; Terminal PLUS; NonTerminal F; Terminal RPAR;\n Terminal END]\npop Terminal LPAR\nToken: A, Stack: [NonTerminal S; Terminal PLUS; NonTerminal F; Terminal RPAR; Terminal END]\nsvalue: S, token: A\n1: NonTerminal S → [NonTerminal F]\nToken: A, Stack: [NonTerminal F; Terminal PLUS; NonTerminal F; Terminal RPAR; Terminal END]\nsvalue: F, token: A\n3: NonTerminal F → [Terminal A]\nToken: A, Stack: [Terminal A; Terminal PLUS; NonTerminal F; Terminal RPAR; Terminal END]\npop Terminal A\nToken: PLUS, Stack: [Terminal PLUS; NonTerminal F; Terminal RPAR; Terminal END]\npop Terminal PLUS\nToken: RPAR, Stack: [NonTerminal F; Terminal RPAR; Terminal END]\nsvalue: F, token: RPAR\n"
          },
          "metadata": {}
        }
      ]
    }
  ],
  "metadata": {
    "kernelspec": {
      "name": "ifsharp",
      "display_name": "F#",
      "language": "fsharp"
    },
    "language_info": {
      "mimetype": "text/x-fsharp",
      "nbconvert_exporter": "",
      "name": "fsharp",
      "pygments_lexer": "",
      "version": "4.3.1.0",
      "file_extension": ".fs",
      "codemirror_mode": ""
    },
    "language": "fsharp"
  },
  "nbformat": 4,
  "nbformat_minor": 2
}