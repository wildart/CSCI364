{
 "cells": [
  {
   "cell_type": "markdown",
   "metadata": {
    "collapsed": true,
    "slideshow": {
     "slide_type": "slide"
    }
   },
   "source": [
    "# Abstract Data Types"
   ]
  },
  {
   "cell_type": "markdown",
   "metadata": {
    "slideshow": {
     "slide_type": "slide"
    }
   },
   "source": [
    "- The Concept of Abstraction\n",
    "- Introduction to Data Abstraction\n",
    "- Design Issues for Abstract Data Types\n",
    "- Language Examples\n",
    "- Parameterized Abstract Data Types\n",
    "- Encapsulation Constructs\n",
    "- Naming Encapsulations"
   ]
  },
  {
   "cell_type": "markdown",
   "metadata": {
    "slideshow": {
     "slide_type": "slide"
    }
   },
   "source": [
    "## The Concept of Abstraction\n",
    "\n",
    "- An **abstraction** is a view or representation of an entity that includes only the most significant attributes\n",
    "- The concept of abstraction is fundamental in programming (and computer science)\n",
    "- Nearly all programming languages support **process abstraction** with subprograms\n",
    "- Nearly all programming languages designed since 1980 support **data abstraction**"
   ]
  },
  {
   "cell_type": "markdown",
   "metadata": {
    "slideshow": {
     "slide_type": "slide"
    }
   },
   "source": [
    "## Data Abstraction\n",
    "\n",
    "- An **abstract data type** is a user-defined data type that satisfies the following **two conditions**:\n",
    "    - The representation of objects of the type is **hidden** from the program units that use these objects, so the only operations possible are those provided in the type's definition\n",
    "    - The declarations of the type and the protocols of the operations on objects of the type are contained in a **single** syntactic unit.\n",
    "\n",
    "- An instance of an abstract data type is called an **object**.  "
   ]
  },
  {
   "cell_type": "markdown",
   "metadata": {
    "slideshow": {
     "slide_type": "slide"
    }
   },
   "source": [
    "## Advantages of Data Abstraction\n",
    "\n",
    "Advantages the first condition \n",
    "- Reliability, by hiding the data representations, user code cannot directly access objects of the type or depend on the representation, allowing the representation to be changed without affecting user code\n",
    "- Reduces the range of code and variables of which the programmer must be aware\n",
    "- Name conflicts are less likely\n",
    "\n",
    "Advantages of the second condition\n",
    "- Provides a method of program organization\n",
    "- Aids modifiability (everything associated with a data structure is together)\n",
    "- Separate compilation"
   ]
  },
  {
   "cell_type": "markdown",
   "metadata": {
    "slideshow": {
     "slide_type": "slide"
    }
   },
   "source": [
    "## ADT Specification\n",
    "\n",
    "Language requirements for ADTs  \n",
    "- A syntactic unit in which to encapsulate the type definition\n",
    "- A method of making type names and subprogram headers visible to clients, while hiding actual definitions\n",
    "- Some primitive operations must be built into the language processor\n",
    "\n",
    "Design issues\n",
    "- What is the form of the container for the interface to the type?\n",
    "- Can abstract types be parameterized?\n",
    "- What access controls are provided?\n",
    "- Is the specification of the type physically separate from its implementation?"
   ]
  },
  {
   "cell_type": "markdown",
   "metadata": {
    "slideshow": {
     "slide_type": "slide"
    }
   },
   "source": [
    "## Encapsulation\n",
    "\n",
    "**Encapsulation** is one of the fundamentals of OOP.\n",
    "- It refers to the bundling of data with the methods that operate on that data.\n",
    "\n",
    "Encapsulation is used to **hide** the *values* or *state* of a structured data object inside a class\n",
    "- Publicly accessible methods are generally provided in the class, **getters** and **setters**, to access the values"
   ]
  },
  {
   "cell_type": "markdown",
   "metadata": {
    "slideshow": {
     "slide_type": "slide"
    }
   },
   "source": [
    "## Encapsulation Constructs\n",
    "\n",
    "Large programs have two special needs\n",
    "- Some means of organization, other than simply division into subprograms\n",
    "- Some means of partial compilation (compilation units that are smaller than the whole program)\n",
    "\n",
    "Obvious solution\n",
    "- a grouping of subprograms that are *logically related* into a **unit** that can be separately compiled (compilation units)\n",
    "- Such collections are called **encapsulation**"
   ]
  },
  {
   "cell_type": "markdown",
   "metadata": {
    "slideshow": {
     "slide_type": "slide"
    }
   },
   "source": [
    "## Encapsulation in Ada\n",
    "\n",
    "The encapsulation construct is called a **package**\n",
    "- Specification package (the interface)\n",
    "- Body package (implementation of the entities named in the specification)\n",
    "\n",
    "Information hiding\n",
    "- The spec package has two parts, *public* and *private*\n",
    "- The name of the abstract type appears in the public part of the specification package. This part may also include representations of unhidden types\n",
    "- The representation of the abstract type appears in a part of the specification called the private part\n",
    "  - More restricted form with limited private types\n",
    "  - Private types have built-in operations for assignment and comparison\n",
    "  - Limited private types have NO built-in operations"
   ]
  },
  {
   "cell_type": "markdown",
   "metadata": {
    "slideshow": {
     "slide_type": "slide"
    }
   },
   "source": [
    "## Encapsulation in C++\n",
    "\n",
    "The **class** is the encapsulation device\n",
    "- A class is a type\n",
    "- All of the class instances of a class share a single copy of the member functions\n",
    "- Each instance of a class has its own copy of the class data members\n",
    "- Instances can be *static*, *stack dynamic*, or *heap dynamic*\n",
    "\n",
    "Information hiding\n",
    "- `private` clause for hidden entities\n",
    "- `public` clause for interface entities\n",
    "- `protected` clause for inheritance"
   ]
  },
  {
   "cell_type": "markdown",
   "metadata": {
    "slideshow": {
     "slide_type": "subslide"
    }
   },
   "source": [
    "## C++ Constructors\n",
    "\n",
    "Constructors\n",
    "- Functions to initialize the data members of instances (they do not create the objects)\n",
    "- May also allocate storage if part of the object is heap-dynamic\n",
    "- Can include parameters to provide parameterization of the objects\n",
    "- Implicitly called when an instance is created\n",
    "- Can be explicitly called\n",
    "- Name is the same as the class name"
   ]
  },
  {
   "cell_type": "markdown",
   "metadata": {
    "slideshow": {
     "slide_type": "subslide"
    }
   },
   "source": [
    "## C++ Destructors\n",
    "\n",
    "Destructors\n",
    "- Functions to cleanup after an instance is destroyed; usually just to reclaim heap storage\n",
    "- Implicitly called when the object’s lifetime ends\n",
    "- Can be explicitly called\n",
    "- Name is the class name, preceded by a tilde (~)\n",
    "\n",
    "Friend functions or classes\n",
    "- Provide access to private members to some unrelated units or functions\n",
    "- Necessary in C++"
   ]
  },
  {
   "cell_type": "markdown",
   "metadata": {
    "slideshow": {
     "slide_type": "slide"
    }
   },
   "source": [
    "## Encapsulation in `C#`\n",
    "\n",
    "Based on C++ and Java\n",
    "- Adds two access modifiers, `internal` and `protected internal`\n",
    "- All class instances are *heap dynamic*\n",
    "- Default constructors are available for all classes\n",
    "- Garbage collection is used for most heap objects, so destructors are rarely used structs are lightweight classes that do not support inheritance\n",
    "\n",
    "Access to data members\n",
    "- accessor methods (getter and setter)\n",
    "- *properties* as a way of implementing getters and setters without requiring explicit method calls\n",
    "\n",
    "Parameterized ADTs allow designing an ADT that can store any type elements\n",
    "- only an issue for static typed languages\n",
    "- known as **generic classes**"
   ]
  },
  {
   "cell_type": "markdown",
   "metadata": {
    "slideshow": {
     "slide_type": "subslide"
    }
   },
   "source": [
    "## C# Assemblies\n",
    "\n",
    "- A collection of files that appears to application programs to be a single dynamic link library or executable\n",
    "- Each file contains a module that can be separately compiled\n",
    "- A DLL is a collection of classes and methods that are individually linked to an executing program\n",
    "- C# has an access modifier called **internal**\n",
    "    - an internal member of a class is visible to all classes in the assembly in which it appears"
   ]
  },
  {
   "cell_type": "markdown",
   "metadata": {
    "slideshow": {
     "slide_type": "slide"
    }
   },
   "source": [
    "## Naming Encapsulations\n",
    "\n",
    "Large programs define many global names; need a way to divide into logical groupings\n",
    "- A **naming encapsulation** is used to create a new scope for names\n",
    "\n",
    "C++ Namespaces\n",
    "- Can place each library in its own namespace and qualify names used outside with the namespace\n",
    "- C# also includes namespaces    "
   ]
  },
  {
   "cell_type": "markdown",
   "metadata": {
    "slideshow": {
     "slide_type": "slide"
    }
   },
   "source": [
    "## Naming Encapsulations (cont.)\n",
    "   \n",
    "Java Packages\n",
    "- Packages can contain more than one class definition; classes in a package are partial friends\n",
    "- Clients of a package can use fully qualified name or use the import declaration\n",
    "\n",
    "Ada Packages\n",
    "- Packages are defined in hierarchies which correspond to file hierarchies\n",
    "- Visibility from a program unit is gained with the with clause"
   ]
  },
  {
   "cell_type": "markdown",
   "metadata": {
    "slideshow": {
     "slide_type": "slide"
    }
   },
   "source": [
    "## F#: Namespaces and Modules\n",
    "\n",
    "The most important organizational technique for large-scale software is giving sensible qualified names to your types and values.\n",
    "\n",
    "| Entity | Description | Examples |\n",
    "|:-------|:-----------:|----------|\n",
    "|Namespace| A namespace can contain further namespaces, modules, and types. |System, Microsoft.FSharp|\n",
    "|Module| A module can contain nested modules, types, and values. | Microsoft.FSharp.Collections.Map|\n",
    "|Concrete type definition| A type definition can contain members and nested type definitions.| System.String, System.Int32 |\n",
    "|Type abbreviation| A type abbreviation such as `string` for System.String |int, string|"
   ]
  },
  {
   "cell_type": "markdown",
   "metadata": {
    "slideshow": {
     "slide_type": "slide"
    }
   },
   "source": [
    "## F#: Encapsulation\n",
    "\n",
    "You can add accessibility annotations in a number of places in F# code:\n",
    "- On `let`, and `extern` definitions in modules, and in individual identifiers in patterns\n",
    "- On `new(...)` object constructor definitions\n",
    "- On `member` definitions associated with types\n",
    "- On `module` definitions\n",
    "- On `type` definitions associated with types\n",
    "- On primary constructors, such as `type C private (...) = ...`"
   ]
  },
  {
   "cell_type": "code",
   "execution_count": 14,
   "metadata": {
    "slideshow": {
     "slide_type": "slide"
    }
   },
   "outputs": [],
   "source": [
    "module public GlobalClock =\n",
    "    type TickTock = Tick | Tock\n",
    "    let mutable private clock = Tick\n",
    "    let private tick = new Event<TickTock>()\n",
    "    let internal oneTick() =\n",
    "        (clock <- match clock with Tick -> Tock | Tock -> Tick);\n",
    "        tick.Trigger (clock)\n",
    "    let tickEvent = tick.Publish\n",
    "\n",
    "module internal TickTockDriver =\n",
    "    open System.Threading\n",
    "    let timer = new Timer(callback=(fun _ -> GlobalClock.oneTick()),\n",
    "                          state = null, dueTime = 0, period = 100)\n",
    "\n",
    "module TickTockListener =\n",
    "    GlobalClock.tickEvent.Add(function\n",
    "    | GlobalClock.Tick -> printfn \"tick!\"\n",
    "    | GlobalClock.Tock -> printfn \"tock!\")"
   ]
  },
  {
   "cell_type": "markdown",
   "metadata": {
    "slideshow": {
     "slide_type": "slide"
    }
   },
   "source": [
    "## Parameterized Abstract Data Types\n",
    "\n",
    "- Parameterized ADTs allow designing an ADT that can store any type elements - only an issue for static typed languages\n",
    "- Also known as **generic classes**\n",
    "- C++, Ada, Java 5.0, and C# 2005 provide support for parameterized ADTs"
   ]
  },
  {
   "cell_type": "markdown",
   "metadata": {
    "slideshow": {
     "slide_type": "slide"
    }
   },
   "source": [
    "## Nested Subprograms\n",
    "\n",
    "- Organizing programs by nesting subprogram definitions inside the logically larger subprograms that use them\n",
    "- Nested subprograms are supported in Ada, Fortran 95+, Python, JavaScript, and Ruby\n",
    "- Nested functions may in certain situations (and languages) lead to the creation of a **closure**."
   ]
  }
 ],
 "metadata": {
  "celltoolbar": "Slideshow",
  "kernelspec": {
   "display_name": ".NET (F#)",
   "language": "F#",
   "name": ".net-fsharp"
  },
  "language": "fsharp",
  "language_info": {
   "file_extension": ".fs",
   "mimetype": "text/x-fsharp",
   "name": "C#",
   "pygments_lexer": "fsharp",
   "version": "4.5"
  }
 },
 "nbformat": 4,
 "nbformat_minor": 2
}
