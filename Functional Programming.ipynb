{
  "cells": [
    {
      "metadata": {
        "slideshow": {
          "slide_type": "slide"
        }
      },
      "cell_type": "markdown",
      "source": "# Functional Programming"
    },
    {
      "metadata": {
        "slideshow": {
          "slide_type": "slide"
        }
      },
      "cell_type": "markdown",
      "source": "## Anonymous Functions\n\nF# provides an alternative way to define functions using the keyword fun; you can see this in the following example.\nOrdinarily, you would use this notation when it is not necessary to give a name to a function, so these are referred to as **anonymous functions**\nand sometimes called **lambda functions** or even just **lambdas**."
    },
    {
      "metadata": {
        "trusted": true,
        "slideshow": {
          "slide_type": "fragment"
        }
      },
      "cell_type": "code",
      "source": "function n -> n * n * n",
      "execution_count": 54,
      "outputs": [
        {
          "output_type": "execute_result",
          "execution_count": 54,
          "data": {
            "text/plain": "<fun:it@1-24> : (int -> int)"
          },
          "metadata": {}
        }
      ]
    },
    {
      "metadata": {
        "trusted": true,
        "slideshow": {
          "slide_type": "fragment"
        }
      },
      "cell_type": "code",
      "source": "fun n -> n * n * n",
      "execution_count": 55,
      "outputs": [
        {
          "output_type": "execute_result",
          "execution_count": 55,
          "data": {
            "text/plain": "<fun:it@1-25> : (int -> int)"
          },
          "metadata": {}
        }
      ]
    },
    {
      "metadata": {
        "trusted": true,
        "slideshow": {
          "slide_type": "fragment"
        }
      },
      "cell_type": "code",
      "source": "(fun n -> n * n * n) 3",
      "execution_count": 56,
      "outputs": [
        {
          "output_type": "execute_result",
          "execution_count": 56,
          "data": {
            "text/plain": "27"
          },
          "metadata": {}
        }
      ]
    },
    {
      "metadata": {
        "trusted": true,
        "slideshow": {
          "slide_type": "fragment"
        }
      },
      "cell_type": "code",
      "source": "let x = (fun x y -> x + y) 1 2\nx",
      "execution_count": 57,
      "outputs": [
        {
          "output_type": "execute_result",
          "execution_count": 57,
          "data": {
            "text/plain": "3"
          },
          "metadata": {}
        }
      ]
    },
    {
      "metadata": {
        "slideshow": {
          "slide_type": "subslide"
        }
      },
      "cell_type": "markdown",
      "source": "*Q.* Rewrite `let add x y = x + y` using lambdas. There are two alternatives. Compare the signatures of these alternative functions with the original."
    },
    {
      "metadata": {
        "slideshow": {
          "slide_type": "slide"
        }
      },
      "cell_type": "markdown",
      "source": "## Type Annotations\n\nF# compiler may occasionally need  more information, which we provide in form of **type annotations**."
    },
    {
      "metadata": {
        "slideshow": {
          "slide_type": "fragment"
        },
        "trusted": true
      },
      "cell_type": "code",
      "source": "let add x y = x + y\nadd",
      "execution_count": 58,
      "outputs": [
        {
          "output_type": "execute_result",
          "execution_count": 58,
          "data": {
            "text/plain": "<fun:it@2-26> : (int -> (int -> int))"
          },
          "metadata": {}
        }
      ]
    },
    {
      "metadata": {
        "slideshow": {
          "slide_type": "fragment"
        },
        "trusted": true
      },
      "cell_type": "code",
      "source": "let add x (y:float) = x + y\nadd",
      "execution_count": 59,
      "outputs": [
        {
          "output_type": "execute_result",
          "execution_count": 59,
          "data": {
            "text/plain": "<fun:it@2-27> : (double -> (double -> double))"
          },
          "metadata": {}
        }
      ]
    },
    {
      "metadata": {
        "slideshow": {
          "slide_type": "slide"
        }
      },
      "cell_type": "markdown",
      "source": "## Type Inference"
    },
    {
      "metadata": {
        "slideshow": {
          "slide_type": "fragment"
        }
      },
      "cell_type": "markdown",
      "source": "In the absence of additional type information, the following function is assumed to work with integers:"
    },
    {
      "metadata": {
        "trusted": true,
        "slideshow": {
          "slide_type": "fragment"
        }
      },
      "cell_type": "code",
      "source": "let squareAndAdd a b = a * a + b\nsquareAndAdd",
      "execution_count": 60,
      "outputs": [
        {
          "output_type": "execute_result",
          "execution_count": 60,
          "data": {
            "text/plain": "<fun:it@2-28> : (int -> (int -> int))"
          },
          "metadata": {}
        }
      ]
    },
    {
      "metadata": {
        "slideshow": {
          "slide_type": "slide"
        }
      },
      "cell_type": "markdown",
      "source": "A single type annotation on a is sufficient to indicate that `a * a` is an operation on `float` values and\nthus returns a `float` value, and that `a * a + b` is also an operation on `float`:"
    },
    {
      "metadata": {
        "trusted": true,
        "slideshow": {
          "slide_type": "fragment"
        }
      },
      "cell_type": "code",
      "source": "let squareAndAdd (a:float) b = a * a + b\nsquareAndAdd",
      "execution_count": 61,
      "outputs": [
        {
          "output_type": "execute_result",
          "execution_count": 61,
          "data": {
            "text/plain": "<fun:it@2-29> : (double -> (double -> double))"
          },
          "metadata": {}
        }
      ]
    },
    {
      "metadata": {
        "slideshow": {
          "slide_type": "fragment"
        }
      },
      "cell_type": "markdown",
      "source": "In general, you can place such annotations on any of the function arguments or directly when you use\nthem in the body of the function. If you want, you can also give full type annotations for the arguments\nand return type of a function:"
    },
    {
      "metadata": {
        "trusted": true,
        "slideshow": {
          "slide_type": "fragment"
        }
      },
      "cell_type": "code",
      "source": "let squareAndAdd (a:float) (b:float) : float = a * a + b\nsquareAndAdd",
      "execution_count": 62,
      "outputs": [
        {
          "output_type": "execute_result",
          "execution_count": 62,
          "data": {
            "text/plain": "<fun:it@2-30> : (double -> (double -> double))"
          },
          "metadata": {}
        }
      ]
    },
    {
      "metadata": {
        "collapsed": true,
        "slideshow": {
          "slide_type": "slide"
        }
      },
      "cell_type": "markdown",
      "source": "## Concepts\n\nF# is different in many ways from a standard imperative languages, but there are a few major differences that are particularly important to understand:\n\n- Composition: function-oriented rather than object-oriented\n- Expressions rather than statements\n- Algebraic types for creating domain models\n- Pattern matching for flow of control\n"
    },
    {
      "metadata": {
        "slideshow": {
          "slide_type": "slide"
        }
      },
      "cell_type": "markdown",
      "source": "## Composition"
    },
    {
      "metadata": {
        "trusted": true,
        "slideshow": {
          "slide_type": "slide"
        }
      },
      "cell_type": "code",
      "source": "let double x = x + x\ndouble",
      "execution_count": 63,
      "outputs": [
        {
          "output_type": "execute_result",
          "execution_count": 63,
          "data": {
            "text/plain": "<fun:it@2-31> : (int -> int)"
          },
          "metadata": {}
        }
      ]
    },
    {
      "metadata": {
        "trusted": true,
        "slideshow": {
          "slide_type": "fragment"
        }
      },
      "cell_type": "code",
      "source": "let square x = x * x\nsquare",
      "execution_count": 64,
      "outputs": [
        {
          "output_type": "execute_result",
          "execution_count": 64,
          "data": {
            "text/plain": "<fun:it@2-32> : (int -> int)"
          },
          "metadata": {}
        }
      ]
    },
    {
      "metadata": {
        "trusted": true,
        "slideshow": {
          "slide_type": "fragment"
        }
      },
      "cell_type": "code",
      "source": "(double >> square)",
      "execution_count": 65,
      "outputs": [
        {
          "output_type": "execute_result",
          "execution_count": 65,
          "data": {
            "text/plain": "<fun:it@1-33> : (int -> int)"
          },
          "metadata": {}
        }
      ]
    },
    {
      "metadata": {
        "trusted": true,
        "slideshow": {
          "slide_type": "fragment"
        }
      },
      "cell_type": "code",
      "source": "(double >> square) 3",
      "execution_count": 66,
      "outputs": [
        {
          "output_type": "execute_result",
          "execution_count": 66,
          "data": {
            "text/plain": "36"
          },
          "metadata": {}
        }
      ]
    },
    {
      "metadata": {
        "trusted": true,
        "slideshow": {
          "slide_type": "fragment"
        }
      },
      "cell_type": "code",
      "source": "let double_square = double >> square\ndouble_square 3",
      "execution_count": 67,
      "outputs": [
        {
          "output_type": "execute_result",
          "execution_count": 67,
          "data": {
            "text/plain": "36"
          },
          "metadata": {}
        }
      ]
    },
    {
      "metadata": {
        "slideshow": {
          "slide_type": "slide"
        }
      },
      "cell_type": "markdown",
      "source": "**Building with composition:** Composition is the *glue* that allows us build larger systems from smaller ones. This is not an optional technique, but is at the very heart of the functional style."
    },
    {
      "metadata": {
        "trusted": true,
        "slideshow": {
          "slide_type": "fragment"
        }
      },
      "cell_type": "code",
      "source": "List.map square",
      "execution_count": 68,
      "outputs": [
        {
          "output_type": "execute_result",
          "execution_count": 68,
          "data": {
            "text/plain": "<fun:it@1-35> : (FSharpList`1 -> FSharpList`1)"
          },
          "metadata": {}
        }
      ]
    },
    {
      "metadata": {
        "trusted": true,
        "slideshow": {
          "slide_type": "fragment"
        }
      },
      "cell_type": "code",
      "source": "// functions as values\nlet squareclone = square\nlet result = [1..10] |> List.map squareclone\nresult",
      "execution_count": 69,
      "outputs": [
        {
          "output_type": "execute_result",
          "execution_count": 69,
          "data": {
            "text/plain": "[1; 4; 9; 16; 25; 36; 49; 64; 81; 100]"
          },
          "metadata": {}
        }
      ]
    },
    {
      "metadata": {
        "trusted": true,
        "slideshow": {
          "slide_type": "fragment"
        }
      },
      "cell_type": "code",
      "source": "// functions taking other functions as parameters\nlet execFunction aFunc aParam = aFunc aParam\nlet result2 = execFunction square 12\nresult2",
      "execution_count": 70,
      "outputs": [
        {
          "output_type": "execute_result",
          "execution_count": 70,
          "data": {
            "text/plain": "144"
          },
          "metadata": {}
        }
      ]
    },
    {
      "metadata": {
        "slideshow": {
          "slide_type": "slide"
        }
      },
      "cell_type": "markdown",
      "source": "## Parameter-less functions\n\nLet's have a function that prints a message"
    },
    {
      "metadata": {
        "slideshow": {
          "slide_type": "fragment"
        },
        "trusted": true
      },
      "cell_type": "code",
      "source": "let sayHello = printfn \"Hello World!\"     // not what we want",
      "execution_count": 71,
      "outputs": [
        {
          "output_type": "display_data",
          "data": {
            "text/plain": "Hello World!\n"
          },
          "metadata": {}
        }
      ]
    },
    {
      "metadata": {
        "slideshow": {
          "slide_type": "fragment"
        },
        "trusted": true
      },
      "cell_type": "code",
      "source": "sayHello",
      "execution_count": 72,
      "outputs": []
    },
    {
      "metadata": {
        "slideshow": {
          "slide_type": "slide"
        }
      },
      "cell_type": "markdown",
      "source": "The fix is to use a lambda."
    },
    {
      "metadata": {
        "slideshow": {
          "slide_type": "fragment"
        },
        "trusted": true
      },
      "cell_type": "code",
      "source": "let sayHello = fun () -> printfn \"Hello World!\"   // good\n\nsayHello()",
      "execution_count": 73,
      "outputs": [
        {
          "output_type": "display_data",
          "data": {
            "text/plain": "Hello World!\n"
          },
          "metadata": {}
        }
      ]
    },
    {
      "metadata": {
        "slideshow": {
          "slide_type": "fragment"
        }
      },
      "cell_type": "markdown",
      "source": "or to add a unit parameter to the function"
    },
    {
      "metadata": {
        "slideshow": {
          "slide_type": "fragment"
        },
        "trusted": true
      },
      "cell_type": "code",
      "source": "let sayHello() = printfn \"Hello World!\" // good\nsayHello()",
      "execution_count": 74,
      "outputs": [
        {
          "output_type": "display_data",
          "data": {
            "text/plain": "Hello World!\n"
          },
          "metadata": {}
        }
      ]
    },
    {
      "metadata": {
        "slideshow": {
          "slide_type": "slide"
        }
      },
      "cell_type": "markdown",
      "source": "## Tuples vs. Multiple Parameters "
    },
    {
      "metadata": {
        "trusted": true,
        "slideshow": {
          "slide_type": "fragment"
        }
      },
      "cell_type": "code",
      "source": "// a function that takes two distinct parameters\nlet addTwoParams x y = x + y\naddTwoParams",
      "execution_count": 75,
      "outputs": [
        {
          "output_type": "execute_result",
          "execution_count": 75,
          "data": {
            "text/plain": "<fun:it@3-36> : (int -> (int -> int))"
          },
          "metadata": {}
        }
      ]
    },
    {
      "metadata": {
        "slideshow": {
          "slide_type": "fragment"
        },
        "trusted": true
      },
      "cell_type": "code",
      "source": "// another function that takes a single tuple parameter but looks like it takes two ints\nlet addTupleParams (x,y) = x + y\naddTupleParams",
      "execution_count": 76,
      "outputs": [
        {
          "output_type": "execute_result",
          "execution_count": 76,
          "data": {
            "text/plain": "<fun:it@3-37> : (Tuple`2 -> int)"
          },
          "metadata": {}
        }
      ]
    },
    {
      "metadata": {
        "slideshow": {
          "slide_type": "slide"
        }
      },
      "cell_type": "markdown",
      "source": "Let’s look at the signatures (it is always a good idea to look at the signatures if you are unsure)\n\n```fsharp\nval addTwoParams : int -> int -> int        // two params\nval addTupleParams : int * int -> int       // tuple->int\n```\n\nNow let’s use them:"
    },
    {
      "metadata": {
        "slideshow": {
          "slide_type": "fragment"
        },
        "trusted": true
      },
      "cell_type": "code",
      "source": "addTwoParams 1 2      // ok - uses spaces to separate args",
      "execution_count": 77,
      "outputs": [
        {
          "output_type": "execute_result",
          "execution_count": 77,
          "data": {
            "text/plain": "3"
          },
          "metadata": {}
        }
      ]
    },
    {
      "metadata": {
        "slideshow": {
          "slide_type": "fragment"
        },
        "trusted": true
      },
      "cell_type": "code",
      "source": "addTwoParams (1,2)    // error trying to pass a single tuple",
      "execution_count": 78,
      "outputs": [
        {
          "output_type": "stream",
          "text": "This expression was expected to have type\n    'int'    \nbut here has type\n    ''a * 'b'    ",
          "name": "stderr"
        }
      ]
    },
    {
      "metadata": {
        "slideshow": {
          "slide_type": "fragment"
        },
        "trusted": true
      },
      "cell_type": "code",
      "source": "addTupleParams (1,2) ",
      "execution_count": 79,
      "outputs": [
        {
          "output_type": "execute_result",
          "execution_count": 79,
          "data": {
            "text/plain": "3"
          },
          "metadata": {}
        }
      ]
    },
    {
      "metadata": {},
      "cell_type": "markdown",
      "source": "See more on\n- [function definitions](https://fsharpforfunandprofit.com/posts/defining-functions/)\n- [function calls](https://fsharpforfunandprofit.com/posts/convenience-partial-application/)\n- [function compositions](https://fsharpforfunandprofit.com/posts/convenience-functions-as-interfaces/)"
    },
    {
      "metadata": {
        "slideshow": {
          "slide_type": "slide"
        }
      },
      "cell_type": "markdown",
      "source": "## Scope"
    },
    {
      "metadata": {
        "trusted": true,
        "slideshow": {
          "slide_type": "fragment"
        }
      },
      "cell_type": "code",
      "source": "// Split a string into words at spaces\nlet splitAtSpaces (text:string) =\n    text.Split ' '\n    |> Array.toList\n\n// Analyze a string for duplicate words\nlet wordCount text =\n    let words = splitAtSpaces text in\n    let wordSet = Set.ofList words in\n    let numWords = words.Length in\n    let numDups = numWords - wordSet.Count in\n    (numWords, numDups)\n    \nwordCount \"Analyze a string for duplicate words in a string\"",
      "execution_count": 80,
      "outputs": [
        {
          "output_type": "execute_result",
          "execution_count": 80,
          "data": {
            "text/plain": "(9, 2)"
          },
          "metadata": {}
        }
      ]
    },
    {
      "metadata": {
        "slideshow": {
          "slide_type": "slide"
        }
      },
      "cell_type": "markdown",
      "source": "## Understanding Scope\n\nLocal values, such as `words` and `wordCount`, can't be accessed outside their scope.\n\nIn the case of variables defined using `let`, the scope of the value is the entire expression that follows the definition, although not the definition itself.\n\nHere are two examples of invalid definitions that try to access variables outside their scope. As you see, let definitions follow a sequential,\ntop-down order, which helps ensure that programs are well-formed and free from many bugs related to uninitialized values:"
    },
    {
      "metadata": {
        "trusted": true,
        "slideshow": {
          "slide_type": "slide"
        }
      },
      "cell_type": "code",
      "source": "let badDefinition1 =    \n    let words = splitAtSpaces text\n    let text = \"We three kings\"\n    words.Length\nbadDefinition1",
      "execution_count": 81,
      "outputs": [
        {
          "output_type": "stream",
          "text": "The value or constructor 'text' is not defined. Maybe you want one of the following:\n   Text",
          "name": "stderr"
        }
      ]
    },
    {
      "metadata": {
        "trusted": true,
        "slideshow": {
          "slide_type": "fragment"
        }
      },
      "cell_type": "code",
      "source": "let badDefinition2 = badDefinition2 + 1",
      "execution_count": 82,
      "outputs": [
        {
          "output_type": "stream",
          "text": "The value or constructor 'badDefinition2' is not defined.",
          "name": "stderr"
        }
      ]
    },
    {
      "metadata": {
        "slideshow": {
          "slide_type": "slide"
        }
      },
      "cell_type": "markdown",
      "source": "Within function definitions, you can **outscope** values by declaring another value of the same name."
    },
    {
      "metadata": {
        "trusted": true,
        "slideshow": {
          "slide_type": "fragment"
        }
      },
      "cell_type": "code",
      "source": "(* This code is equivalent to:\nlet powerOfFourPlusTwo n =\n    let n1 = n * n\n    let n2 = n1 * n1\n    let n3 = n2 + 2\n    n3\n*)\nlet powerOfFourPlusTwo n =\n    let n = n * n\n    let n = n * n\n    let n = n + 2\n    n\npowerOfFourPlusTwo 3    ",
      "execution_count": 83,
      "outputs": [
        {
          "output_type": "execute_result",
          "execution_count": 83,
          "data": {
            "text/plain": "83"
          },
          "metadata": {}
        }
      ]
    },
    {
      "metadata": {
        "slideshow": {
          "slide_type": "slide"
        }
      },
      "cell_type": "markdown",
      "source": "Because **let** bindings are simply a kind of expression, you can use them in a nested fashion. For example:"
    },
    {
      "metadata": {
        "trusted": true,
        "slideshow": {
          "slide_type": "fragment"
        }
      },
      "cell_type": "code",
      "source": "let powerOfFourPlusTwoTimesSix n =\n    let n3 =\n        let n1 = n * n\n        let n2 = n1 * n1\n        n2 + 2\n    let n4 = n3 * 6\n    n4\npowerOfFourPlusTwoTimesSix 2",
      "execution_count": 84,
      "outputs": [
        {
          "output_type": "execute_result",
          "execution_count": 84,
          "data": {
            "text/plain": "108"
          },
          "metadata": {}
        }
      ]
    },
    {
      "metadata": {
        "slideshow": {
          "slide_type": "slide"
        }
      },
      "cell_type": "markdown",
      "source": "Here, `n1` and `n2` are values defined locally by let bindings within the expression that defines `n3`.\nThese local values aren’t available for use outside their scope. For example, this code gives an error:"
    },
    {
      "metadata": {
        "trusted": true,
        "slideshow": {
          "slide_type": "fragment"
        }
      },
      "cell_type": "code",
      "source": "let invalidFunction n =\n    let n3 =\n        let n1 = n + n\n        let n2 = n1 * n1\n        n1 * n2\n    let n4 = n1 + n2 + n3 // Error! n3 is in scope, but n1 and n2 are not!\n    n4",
      "execution_count": 85,
      "outputs": [
        {
          "output_type": "stream",
          "text": "The value or constructor 'n1' is not defined. Maybe you want one of the following:\n   n\n   n3\nThe value or constructor 'n2' is not defined. Maybe you want one of the following:\n   n\n   n3",
          "name": "stderr"
        }
      ]
    },
    {
      "metadata": {
        "slideshow": {
          "slide_type": "slide"
        }
      },
      "cell_type": "markdown",
      "source": "Following code that will not compile, because on the third line you change\nthe value of `x` from an integer to the string \"change me\", and then on the fourth line you try to\nadd a string and an integer, which is illegal in F#, so you get a compile error:"
    },
    {
      "metadata": {
        "trusted": true,
        "slideshow": {
          "slide_type": "fragment"
        }
      },
      "cell_type": "code",
      "source": "let changeType () =\n    let x = 1             // bind x to an integer\n    let x = \"change me\"   // rebind x to a string\n    let x = x + 1         // attempt to rebind to itself plus an integer\n    printfn x",
      "execution_count": 86,
      "outputs": [
        {
          "output_type": "stream",
          "text": "The type 'int' does not match the type 'string'\nThe type 'int' does not match the type 'string'",
          "name": "stderr"
        }
      ]
    },
    {
      "metadata": {
        "slideshow": {
          "slide_type": "slide"
        }
      },
      "cell_type": "markdown",
      "source": "## Expressions\n\nIn functional languages, there are no statements, only expressions. That is, every chunk of code always returns a value, and larger chunks are created by combining smaller chunks using composition rather than a serialized list of statements."
    },
    {
      "metadata": {
        "slideshow": {
          "slide_type": "fragment"
        }
      },
      "cell_type": "markdown",
      "source": "```c#\n// statement-based code in C#\nint result;     \nif (aBool)\n{\n  result = 42; \n}\nConsole.WriteLine(\"result={0}\", result);\n```"
    },
    {
      "metadata": {
        "slideshow": {
          "slide_type": "fragment"
        }
      },
      "cell_type": "markdown",
      "source": "```c#\n// expression-based code in C#\nint result = (aBool) ? 42 : 0;\nConsole.WriteLine(\"result={0}\", result);\n```"
    },
    {
      "metadata": {
        "trusted": true,
        "scrolled": true,
        "slideshow": {
          "slide_type": "slide"
        }
      },
      "cell_type": "code",
      "source": "let aBool = true\n\n// expression-based code in F#\nlet result =\n    if aBool then\n        42\n    else\n        12*0\nprintfn \"result=%i\" result ",
      "execution_count": 87,
      "outputs": [
        {
          "output_type": "display_data",
          "data": {
            "text/plain": "result=42\n"
          },
          "metadata": {}
        }
      ]
    },
    {
      "metadata": {
        "trusted": true,
        "scrolled": false,
        "slideshow": {
          "slide_type": "fragment"
        }
      },
      "cell_type": "code",
      "source": "printfn \"result=%i\" (if aBool then 42 else 0) ",
      "execution_count": 88,
      "outputs": [
        {
          "output_type": "display_data",
          "data": {
            "text/plain": "result=42\n"
          },
          "metadata": {}
        }
      ]
    },
    {
      "metadata": {
        "slideshow": {
          "slide_type": "slide"
        }
      },
      "cell_type": "markdown",
      "source": "## Recursion"
    },
    {
      "metadata": {
        "trusted": true,
        "slideshow": {
          "slide_type": "fragment"
        }
      },
      "cell_type": "code",
      "source": "// calculate power (imperative way)\nlet pow x y = \n    let mutable res = 1\n    let mutable count = y\n    while count > 0 do\n        res <- res * x \n        count <- count - 1\n    res\n    \npow    ",
      "execution_count": 1,
      "outputs": [
        {
          "output_type": "execute_result",
          "execution_count": 1,
          "data": {
            "text/plain": "<fun:it@10> : (int -> (int -> int))"
          },
          "metadata": {}
        }
      ]
    },
    {
      "metadata": {
        "trusted": true,
        "slideshow": {
          "slide_type": "fragment"
        }
      },
      "cell_type": "code",
      "source": "pow 2 13",
      "execution_count": 2,
      "outputs": [
        {
          "output_type": "execute_result",
          "execution_count": 2,
          "data": {
            "text/plain": "8192"
          },
          "metadata": {}
        }
      ]
    },
    {
      "metadata": {
        "slideshow": {
          "slide_type": "slide"
        }
      },
      "cell_type": "markdown",
      "source": "**Recursion** means defining a function in terms of itself; in other words, the function calls itself within its definition. \n\n- Recursion is often used in functional programming where you would use a loop in imperative programming.\n\n- Many believe that algorithms are much easier to understand when expressed in terms of recursion rather than loops.\n\n- “Makes sense” because calls to same function solve “simpler” problems"
    },
    {
      "metadata": {
        "trusted": true,
        "slideshow": {
          "slide_type": "fragment"
        }
      },
      "cell_type": "code",
      "source": "let rec pow2 x y = \n    if y = 0\n    then 1\n    else x * pow2 x (y-1)\n        \npow2",
      "execution_count": 10,
      "outputs": [
        {
          "output_type": "execute_result",
          "execution_count": 10,
          "data": {
            "text/plain": "<fun:it@6-5> : (int -> (int -> int))"
          },
          "metadata": {}
        }
      ]
    },
    {
      "metadata": {
        "trusted": true,
        "slideshow": {
          "slide_type": "fragment"
        }
      },
      "cell_type": "code",
      "source": "pow2 2 13",
      "execution_count": 9,
      "outputs": [
        {
          "output_type": "execute_result",
          "execution_count": 9,
          "data": {
            "text/plain": "8192"
          },
          "metadata": {}
        }
      ]
    },
    {
      "metadata": {
        "slideshow": {
          "slide_type": "slide"
        }
      },
      "cell_type": "markdown",
      "source": "Recursion more powerful than loops\n\n- We won’t use a single loop in F#\n- Loops often (not always) obscure simple, elegant solutions"
    },
    {
      "metadata": {
        "trusted": true,
        "slideshow": {
          "slide_type": "fragment"
        }
      },
      "cell_type": "code",
      "source": "let l = [1; 2; 3; 4; 5]\nl",
      "execution_count": 93,
      "outputs": [
        {
          "output_type": "execute_result",
          "execution_count": 93,
          "data": {
            "text/plain": "[1; 2; 3; 4; 5]"
          },
          "metadata": {}
        }
      ]
    },
    {
      "metadata": {
        "trusted": true,
        "slideshow": {
          "slide_type": "fragment"
        }
      },
      "cell_type": "code",
      "source": "let rec sum_list (xs : int list) = \n    if List.isEmpty xs\n    then 0\n    else List.head xs + sum_list (List.tail xs)\n\nsum_list",
      "execution_count": 94,
      "outputs": [
        {
          "output_type": "execute_result",
          "execution_count": 94,
          "data": {
            "text/plain": "<fun:it@6-40> : (FSharpList`1 -> int)"
          },
          "metadata": {}
        }
      ]
    },
    {
      "metadata": {
        "slideshow": {
          "slide_type": "fragment"
        },
        "trusted": true
      },
      "cell_type": "code",
      "source": "sum_list [1; 5 ; 10]",
      "execution_count": 95,
      "outputs": [
        {
          "output_type": "execute_result",
          "execution_count": 95,
          "data": {
            "text/plain": "16"
          },
          "metadata": {}
        }
      ]
    },
    {
      "metadata": {
        "slideshow": {
          "slide_type": "slide"
        }
      },
      "cell_type": "markdown",
      "source": "Because `list` type comes from .NET Framework, it's actually the class `System.List` which have some useful members"
    },
    {
      "metadata": {
        "trusted": true,
        "slideshow": {
          "slide_type": "fragment"
        }
      },
      "cell_type": "code",
      "source": "let rec sum_list (xs : int list) = \n    if xs.IsEmpty\n    then 0\n    else xs.Head + sum_list xs.Tail\n\nsum_list",
      "execution_count": 96,
      "outputs": [
        {
          "output_type": "execute_result",
          "execution_count": 96,
          "data": {
            "text/plain": "<fun:it@6-41> : (FSharpList`1 -> int)"
          },
          "metadata": {}
        }
      ]
    },
    {
      "metadata": {
        "trusted": true,
        "slideshow": {
          "slide_type": "fragment"
        }
      },
      "cell_type": "code",
      "source": "sum_list [1; 5 ; 10]",
      "execution_count": 97,
      "outputs": [
        {
          "output_type": "execute_result",
          "execution_count": 97,
          "data": {
            "text/plain": "16"
          },
          "metadata": {}
        }
      ]
    },
    {
      "metadata": {
        "trusted": true,
        "slideshow": {
          "slide_type": "slide"
        }
      },
      "cell_type": "code",
      "source": "[1 .. 100]",
      "execution_count": 98,
      "outputs": [
        {
          "output_type": "execute_result",
          "execution_count": 98,
          "data": {
            "text/plain": "[1; 2; 3; 4; 5; 6; 7; 8; 9; 10; 11; 12; 13; 14; 15; 16; 17; 18; 19; 20; 21; 22;\n 23; 24; 25; 26; 27; 28; 29; 30; 31; 32; 33; 34; 35; 36; 37; 38; 39; 40; 41; 42;\n 43; 44; 45; 46; 47; 48; 49; 50; 51; 52; 53; 54; 55; 56; 57; 58; 59; 60; 61; 62;\n 63; 64; 65; 66; 67; 68; 69; 70; 71; 72; 73; 74; 75; 76; 77; 78; 79; 80; 81; 82;\n 83; 84; 85; 86; 87; 88; 89; 90; 91; 92; 93; 94; 95; 96; 97; 98; 99; 100]"
          },
          "metadata": {}
        }
      ]
    },
    {
      "metadata": {
        "trusted": true,
        "slideshow": {
          "slide_type": "fragment"
        }
      },
      "cell_type": "code",
      "source": "sum_list [1 .. 100]",
      "execution_count": 99,
      "outputs": [
        {
          "output_type": "execute_result",
          "execution_count": 99,
          "data": {
            "text/plain": "5050"
          },
          "metadata": {}
        }
      ]
    },
    {
      "metadata": {
        "trusted": true,
        "slideshow": {
          "slide_type": "slide"
        }
      },
      "cell_type": "code",
      "source": "1 :: []",
      "execution_count": 100,
      "outputs": [
        {
          "output_type": "execute_result",
          "execution_count": 100,
          "data": {
            "text/plain": "[1]"
          },
          "metadata": {}
        }
      ]
    },
    {
      "metadata": {
        "trusted": true,
        "slideshow": {
          "slide_type": "fragment"
        }
      },
      "cell_type": "code",
      "source": "1 :: [2; 3]",
      "execution_count": 101,
      "outputs": [
        {
          "output_type": "execute_result",
          "execution_count": 101,
          "data": {
            "text/plain": "[1; 2; 3]"
          },
          "metadata": {}
        }
      ]
    },
    {
      "metadata": {
        "trusted": true,
        "slideshow": {
          "slide_type": "slide"
        }
      },
      "cell_type": "code",
      "source": "let rec countdown (x : int) =\n    if x = 0\n    then []\n    else x :: countdown (x-1)\n    \ncountdown",
      "execution_count": 23,
      "outputs": [
        {
          "output_type": "execute_result",
          "execution_count": 23,
          "data": {
            "text/plain": "<fun:it@6-14> : (int -> FSharpList`1)"
          },
          "metadata": {}
        }
      ]
    },
    {
      "metadata": {
        "trusted": true,
        "slideshow": {
          "slide_type": "fragment"
        }
      },
      "cell_type": "code",
      "source": "countdown 10",
      "execution_count": 24,
      "outputs": [
        {
          "output_type": "execute_result",
          "execution_count": 24,
          "data": {
            "text/plain": "[10; 9; 8; 7; 6; 5; 4; 3; 2; 1]"
          },
          "metadata": {}
        }
      ]
    },
    {
      "metadata": {
        "slideshow": {
          "slide_type": "slide"
        }
      },
      "cell_type": "markdown",
      "source": "### Recursion again\n\nFunctions over lists are usually recursive\n- Only way to \"get to all the elements\"\n    - What should the answer be for the empty list?\n    - What should the answer be for a non-empty list?\n- Typically in terms of the answer for the tail of the list!\n\nSimilarly, functions that produce lists of potentially any size will be recursive\n- You create a list out of smaller lists"
    },
    {
      "metadata": {
        "trusted": true,
        "slideshow": {
          "slide_type": "slide"
        }
      },
      "cell_type": "code",
      "source": "let rec append (xs : int list) (ys : int list) =\n    if xs.IsEmpty \n    then ys\n    else xs.Head :: append xs.Tail ys\n    \nappend",
      "execution_count": 21,
      "outputs": [
        {
          "output_type": "execute_result",
          "execution_count": 21,
          "data": {
            "text/plain": "<fun:it@6-13> : (FSharpList`1 -> (FSharpList`1 -> FSharpList`1))"
          },
          "metadata": {}
        }
      ]
    },
    {
      "metadata": {
        "trusted": true,
        "slideshow": {
          "slide_type": "fragment"
        }
      },
      "cell_type": "code",
      "source": "append [1; 2; 3 ; 4] (countdown 3)",
      "execution_count": 25,
      "outputs": [
        {
          "output_type": "execute_result",
          "execution_count": 25,
          "data": {
            "text/plain": "[1; 2; 3; 4; 3; 2; 1]"
          },
          "metadata": {}
        }
      ]
    },
    {
      "metadata": {
        "slideshow": {
          "slide_type": "slide"
        }
      },
      "cell_type": "markdown",
      "source": "### Avoid repeated recursion\n\nConsider this code and the recursive calls it makes\n- Don't worry about calls to `isEmpty`, `head`, and `tail` because they do a small constant amount of work"
    },
    {
      "metadata": {
        "trusted": true,
        "slideshow": {
          "slide_type": "slide"
        },
        "scrolled": true
      },
      "cell_type": "code",
      "source": "let rec bad_max (xs : int list) =\n    if xs.IsEmpty\n    then 0 // horrible style; fix later\n    else if xs.Tail.IsEmpty\n    then xs.Head \n    else if xs.Head > bad_max xs.Tail\n    then xs.Head\n    else bad_max xs.Tail\n\nbad_max",
      "execution_count": 12,
      "outputs": [
        {
          "output_type": "execute_result",
          "execution_count": 12,
          "data": {
            "text/plain": "<fun:it@10-6> : (FSharpList`1 -> int)"
          },
          "metadata": {}
        }
      ]
    },
    {
      "metadata": {
        "slideshow": {
          "slide_type": "skip"
        },
        "trusted": true
      },
      "cell_type": "code",
      "source": "open System.Diagnostics\n\nlet timeIt f x = \n    let t = System.Diagnostics.Stopwatch()\n    t.Start()\n    let res = (f x)\n    t.Stop()\n    res, t.Elapsed.TotalMilliseconds",
      "execution_count": 11,
      "outputs": []
    },
    {
      "metadata": {
        "slideshow": {
          "slide_type": "fragment"
        },
        "trusted": true
      },
      "cell_type": "code",
      "source": "[1  .. 25]",
      "execution_count": 28,
      "outputs": [
        {
          "output_type": "execute_result",
          "execution_count": 28,
          "data": {
            "text/plain": "[1; 2; 3; 4; 5; 6; 7; 8; 9; 10; 11; 12; 13; 14; 15; 16; 17; 18; 19; 20; 21; 22;\n 23; 24; 25]"
          },
          "metadata": {}
        }
      ]
    },
    {
      "metadata": {
        "trusted": true,
        "slideshow": {
          "slide_type": "fragment"
        }
      },
      "cell_type": "code",
      "source": "timeIt bad_max [25 .. -1 .. 1]",
      "execution_count": 27,
      "outputs": [
        {
          "output_type": "execute_result",
          "execution_count": 27,
          "data": {
            "text/plain": "(25, 0.0377)"
          },
          "metadata": {}
        }
      ]
    },
    {
      "metadata": {
        "slideshow": {
          "slide_type": "fragment"
        },
        "trusted": true
      },
      "cell_type": "code",
      "source": "timeIt bad_max [1 .. 28]",
      "execution_count": 30,
      "outputs": [
        {
          "output_type": "execute_result",
          "execution_count": 30,
          "data": {
            "text/plain": "(28, 10032.0354)"
          },
          "metadata": {}
        }
      ]
    },
    {
      "metadata": {
        "slideshow": {
          "slide_type": "slide"
        }
      },
      "cell_type": "markdown",
      "source": "![](img/bar_rec.png)"
    },
    {
      "metadata": {
        "slideshow": {
          "slide_type": "slide"
        }
      },
      "cell_type": "markdown",
      "source": "### Math never lies\n\nSuppose one bad_max call's `if-then-else logic` and calls to `head`, `isEmpty`, `tail` take $10^{-7}$ seconds\n\n- Then bad_max [50,49,...,1] takes 50 x $10^{-7}$ seconds\n- And bad_max [1,2,...,50] takes 1.12 x $10^8$ seconds (over 3.5 years)\n    - bad_max [1,2,...,55]takes over 1 century\n    - Buying a faster computer won’t help much \n    \nThe key is not to do repeated work that might do repeated work that might do...\n- Saving recursive results in local bindings is essential..."
    },
    {
      "metadata": {
        "trusted": true,
        "slideshow": {
          "slide_type": "slide"
        }
      },
      "cell_type": "code",
      "source": "let rec good_max (xs : int list) =\n    if xs.IsEmpty\n    then 0 // horrible style; fix later\n    else if xs.Tail.IsEmpty\n    then xs.Head\n    else\n        let tail_ans = good_max xs.Tail\n        if xs.Head > tail_ans\n        then xs.Head\n        else tail_ans\ngood_max",
      "execution_count": 19,
      "outputs": [
        {
          "output_type": "execute_result",
          "execution_count": 19,
          "data": {
            "text/plain": "<fun:it@11-11> : (FSharpList`1 -> int)"
          },
          "metadata": {}
        }
      ]
    },
    {
      "metadata": {
        "trusted": true,
        "slideshow": {
          "slide_type": "fragment"
        }
      },
      "cell_type": "code",
      "source": "timeIt good_max [1 .. 55]",
      "execution_count": 20,
      "outputs": [
        {
          "output_type": "execute_result",
          "execution_count": 20,
          "data": {
            "text/plain": "(55, 0.155)"
          },
          "metadata": {}
        }
      ]
    },
    {
      "metadata": {
        "slideshow": {
          "slide_type": "slide"
        }
      },
      "cell_type": "markdown",
      "source": "![](img/good_rec.png)"
    },
    {
      "metadata": {
        "slideshow": {
          "slide_type": "slide"
        }
      },
      "cell_type": "markdown",
      "source": "## Pattern matching for flow of control\n\nMost imperative languages offer a variety of control flow statements for branching and looping:\n\n- if-then-else (and the ternary version bool ? if-true : if-false)\n- case or switch statements\n- for and foreach loops, with break and continue\n- while and until loops\n- and even the dreaded goto\n\nF# does support some of these, but F# also supports the most general form of conditional expression, which is **pattern-matching**.\n\nA typical matching expression that replaces if-then-else looks like this:"
    },
    {
      "metadata": {
        "trusted": true,
        "scrolled": true,
        "slideshow": {
          "slide_type": "slide"
        }
      },
      "cell_type": "code",
      "source": "let booleanExpression = true\n\nmatch booleanExpression with\n| true -> \"TRUE\" // true branch\n| false -> \"FALSE\" // false branch",
      "execution_count": 112,
      "outputs": [
        {
          "output_type": "execute_result",
          "execution_count": 112,
          "data": {
            "text/plain": "\"TRUE\""
          },
          "metadata": {}
        }
      ]
    },
    {
      "metadata": {
        "slideshow": {
          "slide_type": "slide"
        }
      },
      "cell_type": "markdown",
      "source": "### Patterns\n\nIn general the syntax is:\n\n        match e_0 with \n        | p_1 => e_1\n        | p_2 => e_2\n        ....\n        | p_n => e_n\n\nEach pattern is a constructor name followed by the right number of variables (i.e., `C` or `C x` or `C(x,y)` or ...)\n\n- Syntactically most patterns (all today) look like expressions\n- But patterns are not expressions\n    - We do not evaluate them\n    - We see if the result of `e_0` matches them"
    },
    {
      "metadata": {},
      "cell_type": "markdown",
      "source": "### Why this way is better\n\n0. You can use pattern-matching to write your own testing and data-extractions functions if you must\n1. You cannot forget a case (inexhaustive pattern-match warning)\n2. You cannot duplicate a case (a type-checking error)\n3. You will not forget to test the variant correctly and get an exception (like List.head [])\n4. Pattern-matching can be generalized and made more powerful, leading to elegant and concise code"
    },
    {
      "metadata": {
        "trusted": true
      },
      "cell_type": "code",
      "source": "// This function calculates the nth term in the Fibonacci sequence.\nlet rec fib x =\n    match x with\n    | 1 -> 1\n    | 2 -> 1\n    | x -> fib (x - 1) + fib (x - 2)\n\nfib",
      "execution_count": 113,
      "outputs": [
        {
          "output_type": "execute_result",
          "execution_count": 113,
          "data": {
            "text/plain": "<fun:it@8-49> : (int -> int)"
          },
          "metadata": {}
        }
      ]
    },
    {
      "metadata": {
        "trusted": true
      },
      "cell_type": "code",
      "source": "fib 11",
      "execution_count": 114,
      "outputs": [
        {
          "output_type": "execute_result",
          "execution_count": 114,
          "data": {
            "text/plain": "89"
          },
          "metadata": {}
        }
      ]
    },
    {
      "metadata": {},
      "cell_type": "markdown",
      "source": "### Lists are datatypes\n\nDo not use `head`, `tail`, or `isEmpty` either\n- [] and :: are constructors too\n- (strange syntax, particularly infix)"
    },
    {
      "metadata": {
        "trusted": true
      },
      "cell_type": "code",
      "source": "// list summation using recursion and pattern matching\nlet rec sum_list_pm (xs : int list) =\n    match xs with\n    | [] -> 0\n    | x::xs -> x + sum_list_pm xs\nsum_list_pm ",
      "execution_count": 115,
      "outputs": [
        {
          "output_type": "execute_result",
          "execution_count": 115,
          "data": {
            "text/plain": "<fun:it@6-50> : (FSharpList`1 -> int)"
          },
          "metadata": {}
        }
      ]
    },
    {
      "metadata": {
        "trusted": true
      },
      "cell_type": "code",
      "source": "sum_list_pm [1; 2; 3; 4]",
      "execution_count": 116,
      "outputs": [
        {
          "output_type": "execute_result",
          "execution_count": 116,
          "data": {
            "text/plain": "10"
          },
          "metadata": {}
        }
      ]
    },
    {
      "metadata": {
        "trusted": true
      },
      "cell_type": "code",
      "source": "let rec append xs ys =\n    match xs with\n    | [] -> ys\n    | x::xs -> x :: append xs ys\n\nappend",
      "execution_count": 117,
      "outputs": []
    },
    {
      "metadata": {
        "trusted": true
      },
      "cell_type": "code",
      "source": "append (countdown 5) [1 .. 5]",
      "execution_count": 118,
      "outputs": [
        {
          "output_type": "execute_result",
          "execution_count": 118,
          "data": {
            "text/plain": "[5; 4; 3; 2; 1; 1; 2; 3; 4; 5]"
          },
          "metadata": {}
        }
      ]
    },
    {
      "metadata": {},
      "cell_type": "markdown",
      "source": "## Why pattern-matching\n\n- Pattern-matching is better for options and lists for the same reasons as for all datatypes\n    - No missing cases, no exceptions for wrong variant, etc.\n- We just learned the other way first for pedagogy\n     - Do not use `isEmpty`, `Head`, `Tail`\n- So why are `isEmpty`, `Head`, etc. predefined?\n    - For passing as arguments to other functions\n    - Because sometimes they are convenient\n    - But not a big deal: could define them yourself"
    },
    {
      "metadata": {},
      "cell_type": "markdown",
      "source": "## Algebraic Types\n\nThe type system in F# is based on the concept of algebraic types. That is, new compound types are built by combining existing types in two different ways:\n\n- First, a combination of values, each picked from a set of types. These are called “product” types.\n- Of, alternately, as a disjoint union representing a choice between a set of types. These are called “sum” types.\n"
    },
    {
      "metadata": {
        "trusted": true
      },
      "cell_type": "code",
      "source": "//declare it\ntype IntAndBool = {intPart: int; boolPart: bool}\n\n//use it\nlet x = {intPart=1; boolPart=false}\nx",
      "execution_count": 119,
      "outputs": [
        {
          "output_type": "execute_result",
          "execution_count": 119,
          "data": {
            "text/plain": "{intPart = 1;\n boolPart = false;}"
          },
          "metadata": {}
        }
      ]
    },
    {
      "metadata": {
        "trusted": true
      },
      "cell_type": "code",
      "source": "//declare it\ntype IntOrBool = \n  | IntChoice of int\n  | BoolChoice of bool\n\n//use it\nlet y = IntChoice 42\nlet z = BoolChoice true\ny, z",
      "execution_count": 120,
      "outputs": [
        {
          "output_type": "execute_result",
          "execution_count": 120,
          "data": {
            "text/plain": "(IntChoice 42, BoolChoice true)"
          },
          "metadata": {}
        }
      ]
    }
  ],
  "metadata": {
    "kernelspec": {
      "name": "ifsharp",
      "display_name": "F#",
      "language": "fsharp"
    },
    "language_info": {
      "mimetype": "text/x-fsharp",
      "nbconvert_exporter": "",
      "name": "fsharp",
      "pygments_lexer": "",
      "version": "4.3.1.0",
      "file_extension": ".fs",
      "codemirror_mode": ""
    },
    "rise": {
      "start_slideshow_at": "selected"
    },
    "language": "fsharp",
    "celltoolbar": "Slideshow"
  },
  "nbformat": 4,
  "nbformat_minor": 2
}