{
  "cells": [
    {
      "metadata": {
        "collapsed": true,
        "slideshow": {
          "slide_type": "slide"
        }
      },
      "cell_type": "markdown",
      "source": "# Names, Bindings and Types"
    },
    {
      "metadata": {
        "slideshow": {
          "slide_type": "slide"
        }
      },
      "cell_type": "markdown",
      "source": "## Names, Bindings and Types\n\n- Introduction\n- Names\n- Variables\n- The Concept of Binding\n- Scope"
    },
    {
      "metadata": {
        "slideshow": {
          "slide_type": "slide"
        }
      },
      "cell_type": "markdown",
      "source": "## Introduction\n\n- Imperative languages are abstractions of von Neumann architecture\n    - Memory\n    - Processor\n\n- Variables are characterized by attributes\n    - To design a type, must consider scope, lifetime, type checking, initialization, and type compatibility"
    },
    {
      "metadata": {
        "slideshow": {
          "slide_type": "slide"
        }
      },
      "cell_type": "markdown",
      "source": "## Names\n\nDesign issues for names:\n- Are names case sensitive?\n- Are special words reserved words or keywords?"
    },
    {
      "metadata": {
        "slideshow": {
          "slide_type": "slide"
        }
      },
      "cell_type": "markdown",
      "source": "## Names: Length\n\n- If too short, they cannot be connotative\n- Language examples:\n    - FORTRAN 95: maximum of 31\n    - C99: no limit but only the first 63 are significant; also, external names are limited to a maximum of 31\n    - C#, Ada, and Java: no limit, and all are significant\n    - C++: no limit, but implementers often impose one"
    },
    {
      "metadata": {
        "slideshow": {
          "slide_type": "slide"
        }
      },
      "cell_type": "markdown",
      "source": "## Names: Special Characters\n\n- PHP: all variable names must begin with dollar signs\n- Perl: all variable names begin with special characters, which specify the variable’s type\n- Ruby: variable names that begin with **@** are instance variables; those that begin with **@@** are class variables"
    },
    {
      "metadata": {
        "slideshow": {
          "slide_type": "slide"
        }
      },
      "cell_type": "markdown",
      "source": "## Names: Case Sensitivity\n\n- Disadvantage: readability (names that look alike are different)\n    - Names in the C-based languages are case sensitive\n    - Names in others are not\n    - Worse in C++, Java, and C# because predefined names are mixed case (e.g. `IndexOutOfBoundsException`)"
    },
    {
      "metadata": {
        "slideshow": {
          "slide_type": "slide"
        }
      },
      "cell_type": "markdown",
      "source": "## Names: Special Words\n\n- An aid to readability; used to delimit or separate statement clauses\n    - A **keyword** is a word that is special only in certain contexts, e.g., in Fortran\n        - Real VarName (Real is a data type followed with a name, therefore `Real` is a keyword)\n        - Real = 3.4 (Real is a variable)\n- A **reserved word** is a special word that cannot be used as a user-defined name\n- Potential problem with reserved words\n    - If there are too many, many collisions occur\n        - COBOL has 300 reserved words!"
    },
    {
      "metadata": {
        "slideshow": {
          "slide_type": "slide"
        }
      },
      "cell_type": "markdown",
      "source": "## Variables\n\nA **variable** is an abstraction of a memory cell\n\nVariables can be characterized as a *sextuple* of attributes:\n- Name\n- Address\n- Value\n- Type\n- Lifetime\n- Scope"
    },
    {
      "metadata": {
        "slideshow": {
          "slide_type": "slide"
        }
      },
      "cell_type": "markdown",
      "source": "## Variables Attributes\n\n- **Name**: not all variables have them\n- **Address**: the memory address with which it is associated\n    - A variable may have different addresses at different times during execution\n    - A variable may have different addresses at different places in a program\n    - If two variable names can be used to access the same memory location, they are called aliases\n    - Aliases are created via pointers, reference variables, C and C++ unions\n    - Aliases are harmful to readability (program readers must remember all of them)"
    },
    {
      "metadata": {
        "slideshow": {
          "slide_type": "slide"
        }
      },
      "cell_type": "markdown",
      "source": "## Variables Attributes (cont.)\n\n- **Type**: determines the range of values of variables and the set of operations that are defined for values of that type;\n    - in the case of floating point, type also determines the precision\n- **Value**: the contents of the location with which the variable is associated\n    - The *l-value* of a variable is its address\n    - The *r-value* of a variable is its value\n- **Abstract memory cell**: the physical cell or collection of cells associated with a variable"
    },
    {
      "metadata": {
        "slideshow": {
          "slide_type": "slide"
        }
      },
      "cell_type": "markdown",
      "source": "## The Concept of Binding\n\n- A **binding** is an association between an entity and an attribute, such as between a variable and its type or value, or between an operation and a symbol\n- **Binding time** is the time at which a binding takes place."
    },
    {
      "metadata": {
        "slideshow": {
          "slide_type": "slide"
        }
      },
      "cell_type": "markdown",
      "source": "## Possible Binding Times\n- **Language design time**: bind operator symbols to operations\n- **Language implementation time**: bind floating point type to a representation\n- **Compile time**: bind a variable to a type in C or Java\n- **Load time**: bind a C or C++ static variable to a memory cell\n- **Runtime**: bind a nonstatic local variable to a memory cell"
    },
    {
      "metadata": {
        "slideshow": {
          "slide_type": "slide"
        }
      },
      "cell_type": "markdown",
      "source": "## Static and Dynamic Binding\n\n- A binding is **static** if it first occurs before runtime and remains unchanged throughout program execution.\n- A binding is **dynamic** if it first occurs during execution or can change during execution of the program"
    },
    {
      "metadata": {
        "slideshow": {
          "slide_type": "slide"
        }
      },
      "cell_type": "markdown",
      "source": "## Type Binding\n\n- How is a type specified?\n- When does the binding take place?\n- If static, the type may be specified by either an explicit or an implicit declaration"
    },
    {
      "metadata": {
        "slideshow": {
          "slide_type": "slide"
        }
      },
      "cell_type": "markdown",
      "source": "## Explicit/Implicit Declaration\n\n- An **explicit declaration** is a program statement used for declaring the types of variables\n- An **implicit declaration** is a default mechanism for specifying types of variables through default conventions, rather than declaration statements\n- Fortran, BASIC, Perl, Ruby, JavaScript, and PHP provide implicit declarations\n    - Fortran has both explicit and implicit\n    - Advantage: writability (a minor convenience)\n    - Disadvantage: reliability (less trouble with Perl)"
    },
    {
      "metadata": {
        "slideshow": {
          "slide_type": "slide"
        }
      },
      "cell_type": "markdown",
      "source": "## Explicit/Implicit Declaration (cont.)\n\n- Some languages use type inferencing to determine types of variables (context)\n- **C#**: a variable can be declared with var and an initial value.\n    - The initial value sets the type\n- **Visual BASIC 9.0+, ML, Haskell, F#, and Go** use type inferencing. \n    - The context of the appearance of a variable determines its type"
    },
    {
      "metadata": {
        "slideshow": {
          "slide_type": "slide"
        }
      },
      "cell_type": "markdown",
      "source": "## Dynamic Type Binding\n\n- Dynamic Type Binding:  JavaScript, Python, Ruby, PHP, and C# (limited)\n- Specified through an assignment statement e.g., JavaScript\n```js\nlist = [2, 4.33, 6, 8];\nlist = 17.3;\n```\n    - Advantage: flexibility (generic program units)\n    - Disadvantages:\n        - High cost (dynamic type checking and interpretation)\n        - Type error detection by the compiler is difficult"
    },
    {
      "metadata": {
        "slideshow": {
          "slide_type": "slide"
        }
      },
      "cell_type": "markdown",
      "source": "## Variables Attributes (cont.)\n\n- Storage bindings\n    - Allocation: getting a cell from some pool of available cells\n    - Deallocation: putting a cell back into the pool\n- The **lifetime** of a variable is the time during which it is bound to a particular memory cell"
    },
    {
      "metadata": {
        "slideshow": {
          "slide_type": "slide"
        }
      },
      "cell_type": "markdown",
      "source": "## Variables Attributes: Lifetime\n\n**Static**: bound to memory cells before execution begins and remains bound to the same memory cell throughout execution\n- E.g. C and C++ static variables in functions\n- Advantages:\n    - efficiency (direct addressing), history-sensitive subprogram support\n- Disadvantage:\n    - lack of flexibility (no recursion)"
    },
    {
      "metadata": {
        "slideshow": {
          "slide_type": "slide"
        }
      },
      "cell_type": "markdown",
      "source": "## Variables Attributes: Lifetime (cont.)\n\n**Stack-dynamic**: storage bindings are created for variables when their declaration statements are elaborated.\n- A declaration is elaborated when the executable code associated with it is executed\n- If scalar, all attributes except address are statically bound\n- Advantage:\n    - Allows recursion; conserves storage\n- Disadvantages:\n    - Overhead of allocation and deallocation\n    - Subprograms cannot be history sensitive\n    - Inefficient references (indirect addressing)"
    },
    {
      "metadata": {
        "slideshow": {
          "slide_type": "slide"
        }
      },
      "cell_type": "markdown",
      "source": "## Variables Attributes: Lifetime (cont.)\n\n**Explicit heap-dynamic**: Allocated and deallocated by explicit directives, specified by the programmer, which take effect during execution\n- Referenced only through pointers or references\n    - dynamic objects in C++ (via **new** and **delete**), all objects in Java\n- Advantage:\n    - provides for dynamic storage management\n- Disadvantage:\n    - inefficient and unreliable"
    },
    {
      "metadata": {
        "slideshow": {
          "slide_type": "slide"
        }
      },
      "cell_type": "markdown",
      "source": "## Variables Attributes: Lifetime\n\n**Implicit heap-dynamic**: Allocation and deallocation caused by assignment statements\n- all variables in APL; all strings and arrays in Perl, JavaScript, and PHP\n- Advantage:\n    - flexibility (generic code)\n- Disadvantages:\n    - inefficient, because all attributes are dynamic\n    - loss of error detection"
    },
    {
      "metadata": {
        "slideshow": {
          "slide_type": "slide"
        }
      },
      "cell_type": "markdown",
      "source": "## Variables Attributes: Scope\n\n- The **scope** of a variable is the range of statements over which it is visible\n- The **local variables** of a program unit are those that are declared in that unit\n- The **nonlocal variables** of a program unit are those that are visible in the unit but not declared there\n- **Global variables** are a special category of nonlocal variables\n- The scope rules of a language determine how references to names are associated with variables"
    },
    {
      "metadata": {
        "slideshow": {
          "slide_type": "slide"
        }
      },
      "cell_type": "markdown",
      "source": "## Static Scope\n\n- **Based on program text**: To connect a name reference to a variable, you (or the compiler) must find the declaration\n- **Search process**: search declarations, first locally, then in increasingly larger enclosing scopes, until one is found for the given name\n- Enclosing static scopes (to a specific scope) are called its **static ancestors**\n    - the nearest static ancestor is called a **static parent**\n- Examples:\n    - Some languages allow nested subprogram definitions, which create nested static scopes (e.g., Ada, JavaScript, Common LISP, Scheme, Fortran 2003+, F#, and Python)\n    - Blocks: A method of creating static scopes inside program units"
    },
    {
      "metadata": {
        "slideshow": {
          "slide_type": "slide"
        }
      },
      "cell_type": "markdown",
      "source": "## Dynamic Scope\n\n- **Based on calling sequences** of program units, not their textual layout (temporal versus spatial)\n- References to variables are connected to declarations by searching back through the chain of subprogram calls that forced execution to this point"
    },
    {
      "metadata": {
        "slideshow": {
          "slide_type": "slide"
        }
      },
      "cell_type": "markdown",
      "source": "## Scope Example\n\n```js\nfunction big() {             // big calls sub1\n    function sub1(){         // sub1 calls sub2\n        var x = 7;           // sub2 uses x\n        sub2();\n    }\n    function sub2() {\n        var y = x;\n    }\n    var x = 3;\n    sub1();\n}\n```\n\n- Static scoping\n    - Reference to `x` in `sub2` is to `big` `x`\n- Dynamic scoping\n    - Reference to `x` in `sub2` is to `sub1` `x`"
    },
    {
      "metadata": {
        "slideshow": {
          "slide_type": "slide"
        }
      },
      "cell_type": "markdown",
      "source": "## Global Scope\n\n- C, C++, PHP, and Python support a program structure that consists of a sequence of function definitions in a file\n    - These languages allow variable declarations to appear outside function definitions\n- C and C++have both declarations (just attributes) and definitions (attributes and storage)\n    - A declaration outside a function definition specifies that it is defined in another file\n- Python\n    - A global variable can be referenced in functions, but can be assigned in a function only if it has been declared to be global in the function\n- PHP\n    - The scope of a variable (implicitly) declared in a function is local to the function\n    - The scope of a variable implicitly declared outside functions is from the declaration to the end of the program, but skips over any intervening functions\n    - Global variables can be accessed in a function through the \\$GLOBALS array or by declaring it global"
    },
    {
      "metadata": {
        "slideshow": {
          "slide_type": "slide"
        }
      },
      "cell_type": "markdown",
      "source": "## Declaration Order\n\n- C99, C++, Java, and C# allow variable declarations to appear anywhere a statement can appear\n    - In C99, C++, and Java, the scope of all local variables is from the declaration to the end of the block\n    - In C#, the scope of any variable declared in a block is the whole block, regardless of the position of the declaration in the block\n        - However, a variable still must be declared before it can be used"
    },
    {
      "metadata": {
        "slideshow": {
          "slide_type": "slide"
        }
      },
      "cell_type": "markdown",
      "source": "## The LET Construct\n\n- Most functional languages include some form of `let` construct\n- A let construct has two parts\n     - The first part binds names to values\n     - The second part uses the names defined in the first part"
    },
    {
      "metadata": {
        "slideshow": {
          "slide_type": "subslide"
        }
      },
      "cell_type": "markdown",
      "source": "In Scheme:\n\n```scheme\n(LET (\n    (name 1 expression 1 )\n    ...\n    (name n expression n )\n)\n```"
    },
    {
      "metadata": {
        "slideshow": {
          "slide_type": "subslide"
        }
      },
      "cell_type": "markdown",
      "source": "In ML:\n```sml\nlet\n    val name_1 = expression_1\n    ...\n    val name_n = expression_n\nin\n    expression\nend;\n```"
    },
    {
      "metadata": {
        "slideshow": {
          "slide_type": "slide"
        }
      },
      "cell_type": "markdown",
      "source": "## F# Binding\n\n```fsharp\n// Binding a value:\nlet identifier-or-pattern [: type] = expressionbody-expression\n\n// Binding a function value:\nlet identifier parameter-list [: return-type] = expressionbody-expression\n```"
    },
    {
      "metadata": {
        "slideshow": {
          "slide_type": "slide"
        }
      },
      "cell_type": "markdown",
      "source": "## F# Binding (cont.)\n\n- If you **separate the expression** from the identifier by *using a new line*, you **must indent** each line of the expression, as in the following code:\n\n```fsharp\nlet someVeryLongIdentifier =\n    // Note indentation below.\n    3 * 4 + 5 * 6\n```    "
    },
    {
      "metadata": {
        "slideshow": {
          "slide_type": "slide"
        }
      },
      "cell_type": "markdown",
      "source": "## F# Binding (cont.)\n\n- Function bindings **follow** the rules for *value bindings*, except that function bindings **include** the *function name* and the *parameters*, as shown in the following code:\n\n```fsharp\nlet function1 a =\n    a + 1\n```    "
    }
  ],
  "metadata": {
    "kernelspec": {
      "name": "ifsharp",
      "display_name": "F#",
      "language": "fsharp"
    },
    "language_info": {
      "mimetype": "text/x-fsharp",
      "nbconvert_exporter": "",
      "name": "fsharp",
      "pygments_lexer": "",
      "version": "4.3.1.0",
      "file_extension": ".fs",
      "codemirror_mode": ""
    },
    "language": "fsharp",
    "celltoolbar": "Slideshow"
  },
  "nbformat": 4,
  "nbformat_minor": 2
}