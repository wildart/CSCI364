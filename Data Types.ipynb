{
 "cells": [
  {
   "cell_type": "markdown",
   "metadata": {
    "slideshow": {
     "slide_type": "slide"
    }
   },
   "source": [
    "# Data Types"
   ]
  },
  {
   "cell_type": "markdown",
   "metadata": {
    "slideshow": {
     "slide_type": "slide"
    }
   },
   "source": [
    "\n",
    "- Primitive Data Types\n",
    "\n",
    "- Character String Types\n",
    "\n",
    "- User-Defined Ordinal Types\n",
    "\n",
    "- Array Types\n",
    "\n",
    "- Associative Arrays\n",
    "\n",
    "- Record Types\n",
    "\n",
    "- Tuple Types\n",
    "\n",
    "- List Types\n",
    "\n",
    "- Union Types\n",
    "\n",
    "- Pointer and Reference Types\n",
    "\n",
    "- Type Checking\n",
    "\n",
    "- Strong Typing\n",
    "\n",
    "- Type Equivalence\n",
    "\n",
    "- Theory and Data Types"
   ]
  },
  {
   "cell_type": "markdown",
   "metadata": {
    "slideshow": {
     "slide_type": "slide"
    }
   },
   "source": [
    "## Introduction\n",
    "\n",
    "Definitions:\n",
    "\n",
    "- A **data type** defines a collection of data objects and a set of predefined operations on those objects\n",
    "- A **descriptor** is the collection of the attributes of a variable\n",
    "- An **object** represents an instance of a user-defined (abstract data) type\n",
    "\n",
    "One design issue for all data types:\n",
    "- What operations are defined and how are they specified?"
   ]
  },
  {
   "cell_type": "markdown",
   "metadata": {
    "slideshow": {
     "slide_type": "slide"
    }
   },
   "source": [
    "## Primitive Data Types\n",
    "\n",
    "- Almost all programming languages provide a set of **primitive data types**\n",
    "\n",
    "    - Those not defined in terms of other data types\n",
    "\n",
    "- Some primitive data types are merely reflections of the hardware\n",
    "\n",
    "- Others require only a little non-hardware support for their implementation"
   ]
  },
  {
   "cell_type": "markdown",
   "metadata": {
    "slideshow": {
     "slide_type": "slide"
    }
   },
   "source": [
    "## Primitive Data Types: Integer\n",
    "\n",
    "- Almost always an exact reflection of the hardware so the mapping is trivial\n",
    "\n",
    "- There may be as many as eight different integer types in a language\n",
    "\n",
    "- E.g. Java's signed integer sizes: `byte`, `short`, `int`, `long`"
   ]
  },
  {
   "cell_type": "markdown",
   "metadata": {
    "slideshow": {
     "slide_type": "slide"
    }
   },
   "source": [
    "## Primitive Data Types: Floating Point\n",
    "\n",
    "- Model real numbers, but only as approximations\n",
    "\n",
    "- Languages for scientific use support at least two floating-point types (e.g., `float` and `double`); sometimes more\n",
    "\n",
    "- Usually exactly like the hardware, but not always\n",
    "    - IEEE Floating-Point Standard 754\n",
    "\n",
    "![float](img/float.png)"
   ]
  },
  {
   "cell_type": "markdown",
   "metadata": {},
   "source": [
    "## Primitive Data Types: Complex\n",
    "\n",
    "- Some languages support a complex type, e.g., C99, Fortran, and Python, Julia\n",
    "\n",
    "- Each value consists of two floats, the real part and the imaginary part\n",
    "\n",
    "- Literal form (in Julia)\n",
    "\n",
    "![complex](img/complex.png)\n"
   ]
  },
  {
   "cell_type": "markdown",
   "metadata": {
    "slideshow": {
     "slide_type": "slide"
    }
   },
   "source": [
    "## Primitive Data Types: Decimal\n",
    "\n",
    "- For business applications (money)\n",
    "    - Essential to COBOL\n",
    "    - C# offers a decimal data type\n",
    "- Store a fixed number of decimal digits, in coded form (BCD)\n",
    "- Advantage: accuracy\n",
    "- Disadvantages: limited range, wastes memory"
   ]
  },
  {
   "cell_type": "markdown",
   "metadata": {
    "slideshow": {
     "slide_type": "slide"
    }
   },
   "source": [
    "## Primitive Data Types: Boolean\n",
    "\n",
    "- Simplest of all\n",
    "\n",
    "- Range of values: two elements, one for `true` and one for `false`\n",
    "\n",
    "- Could be implemented as bits, but often as bytes\n",
    "\n",
    "- Advantage: readability"
   ]
  },
  {
   "cell_type": "markdown",
   "metadata": {
    "slideshow": {
     "slide_type": "slide"
    }
   },
   "source": [
    "## Primitive Data Types: Character\n",
    "\n",
    "- Stored as numeric codings\n",
    "\n",
    "- Most commonly used coding: ASCII\n",
    "\n",
    "- An alternative, 16-bit coding: Unicode (UCS-2)\n",
    "\n",
    "    - Includes characters from most natural languages\n",
    "\n",
    "    - Originally used in Java\n",
    "\n",
    "    - C# and JavaScript also support Unicode\n",
    "\n",
    "- 32-bit Unicode (UCS-4)\n",
    "\n",
    "    - Supported by many modern languages"
   ]
  },
  {
   "cell_type": "markdown",
   "metadata": {
    "slideshow": {
     "slide_type": "slide"
    }
   },
   "source": [
    "## Character String Types\n",
    "\n",
    "- Values are sequences of characters\n",
    "\n",
    "- Design issues:\n",
    "\n",
    "    - Is it a primitive type or just a special kind of array?\n",
    "\n",
    "    - Should the length of strings be static or dynamic?\n"
   ]
  },
  {
   "cell_type": "markdown",
   "metadata": {
    "slideshow": {
     "slide_type": "slide"
    }
   },
   "source": [
    "## Character String Types Operations\n",
    "\n",
    "Typical operations:\n",
    "\n",
    "- Assignment and copying\n",
    "\n",
    "- Comparison (=, &gt;, etc.)\n",
    "\n",
    "- Catenation\n",
    "\n",
    "- Substring reference\n",
    "\n",
    "- Pattern matching"
   ]
  },
  {
   "cell_type": "markdown",
   "metadata": {
    "slideshow": {
     "slide_type": "slide"
    }
   },
   "source": [
    "## Character String Type in Certain Languages\n",
    "\n",
    "- C and C++\n",
    "\n",
    "    - Not primitive\n",
    "\n",
    "    - Use `char` arrays and a library of functions that provide operations\n",
    "\n",
    "- SNOBOL4 (a string manipulation language)\n",
    "\n",
    "    - Primitive\n",
    "\n",
    "    - Many operations, including elaborate pattern matching\n",
    "\n",
    "- Fortran and Python\n",
    "\n",
    "    - Primitive type with assignment and several operations\n",
    "\n",
    "- Java\n",
    "\n",
    "    - Primitive via the `String` class\n",
    "\n",
    "- Perl, JavaScript, Ruby, and PHP\n",
    "    \n",
    "    - Provide built-in pattern matching, using regular expressions\n"
   ]
  },
  {
   "cell_type": "markdown",
   "metadata": {
    "slideshow": {
     "slide_type": "slide"
    }
   },
   "source": [
    "## Character String Length Options\n",
    "\n",
    "- Static: COBOL, Java's `String` class\n",
    "\n",
    "- Limited Dynamic Length: C and C++\n",
    "\n",
    "    - In these languages, a special character is used to indicate the end of a string’s characters, rather than maintaining the length\n",
    "\n",
    "- Dynamic (no maximum): SNOBOL4, Perl, JavaScript\n",
    "\n",
    "- Ada supports all three string length options"
   ]
  },
  {
   "cell_type": "markdown",
   "metadata": {
    "slideshow": {
     "slide_type": "slide"
    }
   },
   "source": [
    "## Character String Implementation\n",
    "\n",
    "- Static length: compile-time descriptor\n",
    "\n",
    "- Limited dynamic length: may need a run-time descriptor for length (but not in C and C++)\n",
    "\n",
    "- Dynamic length: need run-time descriptor; allocation/deallocation is the biggest implementation problem"
   ]
  },
  {
   "cell_type": "markdown",
   "metadata": {
    "slideshow": {
     "slide_type": "slide"
    }
   },
   "source": [
    "## Compile- and Run-Time Descriptors\n",
    "\n",
    "Compile-time descriptor for static strings\n",
    "<img src=\"img/ct-string.png\" style=\"width:30%\"/>\n",
    "Run-time descriptor for limited dynamic strings\n",
    "<img src=\"img/rt-string.png\" style=\"width:30%\"/>"
   ]
  },
  {
   "cell_type": "markdown",
   "metadata": {
    "slideshow": {
     "slide_type": "slide"
    }
   },
   "source": [
    "## User-Defined Ordinal Types\n",
    "\n",
    "- An **ordinal type** is one in which the range of possible values can be easily associated with the set of positive integers\n",
    "\n",
    "- Examples of primitive ordinal types in Java\n",
    "    - integer\n",
    "    - char\n",
    "    - boolean"
   ]
  },
  {
   "cell_type": "markdown",
   "metadata": {
    "slideshow": {
     "slide_type": "slide"
    }
   },
   "source": [
    "## Enumeration Types\n",
    "\n",
    "- All possible values, which are named constants, are provided in the definition\n",
    "\n",
    "- C# example\n",
    "```c#\n",
    "enum days {mon, tue, wed, thu, fri, sat, sun};\n",
    "```\n",
    "\n",
    "- Design issues\n",
    "\n",
    "    - Is an enumeration constant allowed to appear in more than one type definition, and if so, how is the type of an occurrence of that constant checked?\n",
    "\n",
    "    - Are enumeration values coerced to integer?\n",
    "\n",
    "    - Any other type coerced to an enumeration type?"
   ]
  },
  {
   "cell_type": "markdown",
   "metadata": {
    "slideshow": {
     "slide_type": "slide"
    }
   },
   "source": [
    "## Evaluation of Enumerated Type\n",
    "\n",
    "- Aid to readability, e.g., no need to code a color as a number\n",
    "\n",
    "- Aid to reliability, e.g., compiler can check:\n",
    "\n",
    "    - operations (don’t allow colors to be added)\n",
    "\n",
    "    - No enumeration variable can be assigned a value outside its defined range\n",
    "\n",
    "    - Ada, C#, and Java 5.0 provide better support for enumeration than C++ because enumeration type variables in these languages are not coerced into integer types"
   ]
  },
  {
   "cell_type": "markdown",
   "metadata": {
    "slideshow": {
     "slide_type": "slide"
    }
   },
   "source": [
    "## Array Types\n",
    "\n",
    "- An **array** is a homogeneous aggregate of data elements in which an individual element is identified by its position in the aggregate, *relative to the first element*."
   ]
  },
  {
   "cell_type": "markdown",
   "metadata": {
    "slideshow": {
     "slide_type": "slide"
    }
   },
   "source": [
    "## Array Design Issues\n",
    "\n",
    "- What types are legal for subscripts?\n",
    "\n",
    "- Are subscripting expressions in element references range checked?\n",
    "\n",
    "- When are subscript ranges bound?\n",
    "\n",
    "- When does allocation take place?\n",
    "\n",
    "- Are ragged or rectangular multidimensional arrays allowed, or both?\n",
    "\n",
    "- What is the maximum number of subscripts?\n",
    "\n",
    "- Can array objects be initialized?\n",
    "\n",
    "- Are any kind of slices supported?"
   ]
  },
  {
   "cell_type": "markdown",
   "metadata": {
    "slideshow": {
     "slide_type": "slide"
    }
   },
   "source": [
    "## Array Indexing\n",
    "\n",
    "- **Indexing** (or subscripting) is a mapping from indices to elements\n",
    "\n",
    "    - array_name (index_value_list) → element\n",
    "\n",
    "- Index Syntax\n",
    "\n",
    "    - Fortran and Ada use parentheses\n",
    "\n",
    "        - Ada explicitly uses parentheses to show uniformity between array references and function calls because both are *mappings*\n",
    "\n",
    "    - Most other languages use brackets"
   ]
  },
  {
   "cell_type": "markdown",
   "metadata": {
    "slideshow": {
     "slide_type": "slide"
    }
   },
   "source": [
    "## Arrays Index (Subscript) Types\n",
    "\n",
    "- FORTRAN, C: integer only\n",
    "\n",
    "- Ada: integer or enumeration (includes Boolean and char)\n",
    "\n",
    "- Java: integer types only\n",
    "\n",
    "- Index range checking\n",
    "\n",
    "    - C, C++, Perl, and Fortran do not specify range checking\n",
    "    - Java, ML, C# specify range checking\n",
    "    - In Ada & Julia, the default is to require range checking, but it can be turned off"
   ]
  },
  {
   "cell_type": "markdown",
   "metadata": {
    "slideshow": {
     "slide_type": "slide"
    }
   },
   "source": [
    "## Subscript Binding and Array Categories\n",
    "\n",
    "- **Static**: subscript ranges are statically bound and storage allocation is static (before run-time)\n",
    "\n",
    "    - Advantage: efficiency (no dynamic allocation)\n",
    "\n",
    "- **Fixed stack-dynamic**: subscript ranges are statically bound, but the allocation is done at declaration time\n",
    "\n",
    "    - Advantage: space efficiency\n",
    "\n",
    "- **Stack-dynamic**: subscript ranges are dynamically bound and the storage allocation is dynamic (done at run-time)\n",
    "\n",
    "    - Advantage: flexibility (the size of an array need not be known until the array is to be used)\n",
    "\n",
    "- **Fixed heap-dynamic**: similar to fixed stack-dynamic: storage binding is dynamic but fixed after allocation (i.e., binding is done when requested and storage is allocated from heap, not stack)\n",
    "\n",
    "- **Heap-dynamic**: binding of subscript ranges and storage allocation is dynamic and can change any number of times\n",
    "\n",
    "    - Advantage: flexibility (arrays can grow or shrink during program execution)\n"
   ]
  },
  {
   "cell_type": "markdown",
   "metadata": {
    "slideshow": {
     "slide_type": "slide"
    }
   },
   "source": [
    "## Subscript Binding and Array Categories (continued)\n",
    "\n",
    "- C and C++ arrays that include `static` modifier are static\n",
    "\n",
    "- C and C++ arrays without `static` modifier are fixed stack-dynamic\n",
    "\n",
    "- C and C++ provide fixed heap-dynamic arrays\n",
    "\n",
    "- C# includes a second array class `ArrayList` that provides fixed heap-dynamic\n",
    "\n",
    "- Perl, JavaScript, Python, and Ruby support heap-dynamic arrays"
   ]
  },
  {
   "cell_type": "markdown",
   "metadata": {
    "slideshow": {
     "slide_type": "slide"
    }
   },
   "source": [
    "## Arrays Operations\n",
    "\n",
    "- **APL** provides the most powerful array processing operations for vectors and matrixes as well as unary operators (for example, to reverse column elements)\n",
    "\n",
    "- **Ada** allows array assignment but also catenation\n",
    "\n",
    "- **Python** array assignments, but they are only reference changes. Python also supports array catenation and element membership operations\n",
    "\n",
    "- **Ruby** also provides array catenation\n",
    "\n",
    "- **Fortran** provides *elemental* operations because they are between pairs of array elements\n",
    "\n",
    "    - For example, + operator between two arrays results in an array of the sums of the element pairs of the two arrays"
   ]
  },
  {
   "cell_type": "markdown",
   "metadata": {
    "slideshow": {
     "slide_type": "slide"
    }
   },
   "source": [
    "## Slices\n",
    "\n",
    "- A **slice** is some substructure of an array; nothing more than a referencing mechanism\n",
    "\n",
    "- Slices are only useful in languages that have array operations\n",
    "\n",
    "- Python\n",
    "```py\n",
    "vector = [2, 4, 6, 8, 10, 12, 14, 16]\n",
    "mat = [[1, 2, 3], [4, 5, 6], [7, 8, 9]]\n",
    "vector (3:6) # is a three-element array\n",
    "mat[0][0:2] # is the first and second element of the first row of `mat`\n",
    "```"
   ]
  },
  {
   "cell_type": "markdown",
   "metadata": {
    "slideshow": {
     "slide_type": "slide"
    }
   },
   "source": [
    "## Implementation of Arrays\n",
    "\n",
    "- Access function maps subscript expressions to an address in the array\n",
    "\n",
    "- Access function for single-dimensioned arrays:\n",
    "\n",
    "    - address(list[k]) = address (list[lower_bound]) + ((k-lower_bound) * element_size)\n",
    "\n",
    "<img src=\"img/array.jpeg\" style=\"width:30%\" />"
   ]
  },
  {
   "cell_type": "markdown",
   "metadata": {
    "slideshow": {
     "slide_type": "slide"
    }
   },
   "source": [
    "## Associative Arrays\n",
    "\n",
    "- A **associative array** is an unordered collection of data elements that are indexed by an equal number of values called **keys**\n",
    "\n",
    "    - User-defined keys must be stored\n",
    "\n",
    "- Design issues:\n",
    "\n",
    "    - What is the form of references to elements?\n",
    "    \n",
    "    - Is the size static or dynamic?\n",
    "\n",
    "- Built-in type in Perl, Python, Ruby, and Lua, Julia"
   ]
  },
  {
   "cell_type": "markdown",
   "metadata": {
    "slideshow": {
     "slide_type": "slide"
    }
   },
   "source": [
    "## Record Types\n",
    "\n",
    "- A **record** is a possibly heterogeneous aggregate of data elements in which the individual elements are identified by names \n",
    "\n",
    "- Design issues:\n",
    "\n",
    "    - What is the syntactic form of references to the field?\n",
    "\n",
    "    - Are elliptical references allowed\n",
    "\n",
    "- COBOL uses level numbers to show nested records; others use recursive definition\n",
    "```\n",
    "01 EMP-REC.\n",
    "    02 EMP-NAME.\n",
    "        05 FIRST PIC X(20).\n",
    "        05 MID   PIC X(10).\n",
    "        05 LAST  PIC X(20).\n",
    "    02 HOURLY-RATE PIC 99V99.\n",
    "```"
   ]
  },
  {
   "cell_type": "markdown",
   "metadata": {
    "slideshow": {
     "slide_type": "slide"
    }
   },
   "source": [
    "## Operations on Records\n",
    "\n",
    "- Assignment is very common if the types are identical\n",
    "\n",
    "- Ada allows record comparison\n",
    "\n",
    "- Ada records can be initialized with aggregate literals\n",
    "\n",
    "- COBOL provides `MOVE CORRESPONDING`\n",
    "\n",
    "    - Copies a field of the source record to the corresponding field in the target record"
   ]
  },
  {
   "cell_type": "markdown",
   "metadata": {
    "slideshow": {
     "slide_type": "slide"
    }
   },
   "source": [
    "## Implementation of Record Type\n",
    "\n",
    "Offset address relative to the beginning of the records is associated with each field\n",
    "\n",
    "<img src=\"img/record-type.png\" style=\"width:30%\" />"
   ]
  },
  {
   "cell_type": "markdown",
   "metadata": {
    "slideshow": {
     "slide_type": "slide"
    }
   },
   "source": [
    "## Tuple Types\n",
    "\n",
    "- A **tuple** is a data type that is similar to a record, except that the elements are not named\n",
    "\n",
    "- Used in Python, ML, and F# to allow functions to return multiple values"
   ]
  },
  {
   "cell_type": "markdown",
   "metadata": {
    "slideshow": {
     "slide_type": "slide"
    }
   },
   "source": [
    "## List Types\n",
    "\n",
    "- Lists in LISP and Scheme are delimited by parentheses and use no commas\n",
    "  \n",
    "    - (A B C D) and (A (B C) D)    \n",
    "\n",
    "- Data and code have the same form\n",
    "    \n",
    "    - As data, (A B C) is literally what it is\n",
    "\n",
    "    - As code, (A B C) is the function A applied to the parameters B and C\n",
    "\n",
    "- The interpreter needs to know which a list is, so if it is data, we quote it with an apostrophe `'`\n",
    "\n",
    "    - '(A B C) is data"
   ]
  },
  {
   "cell_type": "markdown",
   "metadata": {
    "slideshow": {
     "slide_type": "slide"
    }
   },
   "source": [
    "## List Operations in Scheme\n",
    "\n",
    "- `CAR` returns the first element of its list parameter\n",
    "\n",
    "    - `(CAR ′(A B C))` returns `A`\n",
    "\n",
    "- `CDR` returns the remainder of its list parameter after the first element has been removed\n",
    "\n",
    "    - `(CDR ′(A B C))` returns `(B C)`\n",
    "\n",
    "- `CONS` puts its first parameter into its second parameter, a list, to make a new list\n",
    "\n",
    "    - `(CONS ′A (B C))` returns `(A B C)`\n",
    "\n",
    "- `LIST` returns a new list of its parameters\n",
    "\n",
    "    - `(LIST ′A ′B ′(C D))` returns `(A B (C D))`"
   ]
  },
  {
   "cell_type": "markdown",
   "metadata": {
    "slideshow": {
     "slide_type": "slide"
    }
   },
   "source": [
    "## Unions Types\n",
    "\n",
    "- A **union** is a type whose variables are allowed to store different type values at different times during execution\n",
    "\n",
    "- Design issues\n",
    "\n",
    "    - Should type checking be required?\n",
    "\n",
    "    - Should unions be embedded in records?"
   ]
  },
  {
   "cell_type": "markdown",
   "metadata": {
    "slideshow": {
     "slide_type": "slide"
    }
   },
   "source": [
    "## Discriminated vs. Free Unions\n",
    "\n",
    "- Fortran, C, and C++ provide union constructs in which there is no language support for type checking; the union in these languages is called **free union**\n",
    "\n",
    "- Type checking of unions require that each union include a type indicator called a **discriminant**\n",
    "\n",
    "    - Supported by Ada & functional languages"
   ]
  },
  {
   "cell_type": "markdown",
   "metadata": {
    "slideshow": {
     "slide_type": "slide"
    }
   },
   "source": [
    "## Ada Union Type\n",
    "\n",
    "```ada\n",
    "type Shape is (Circle, Triangle, Rectangle);\n",
    "type Colors is (Red, Green, Blue);\n",
    "type Figure (Form: Shape) is record\n",
    "    Filled: Boolean;\n",
    "    Color: Colors;   \n",
    "    case Form is    \n",
    "        when Circle => Diameter: Float;\n",
    "        when Triangle =>\n",
    "            Leftside, Rightside: Integer;\n",
    "            Angle: Float;\n",
    "        when Rectangle => Side1, Side2: Integer;\n",
    "    end case;\n",
    "end record;\n",
    "```"
   ]
  },
  {
   "cell_type": "markdown",
   "metadata": {
    "slideshow": {
     "slide_type": "slide"
    }
   },
   "source": [
    "## Ada Union Type Illustrated\n",
    "\n",
    "- A discriminated union of three shape variables\n",
    "\n",
    "![](img/union-type.jpeg)"
   ]
  },
  {
   "cell_type": "markdown",
   "metadata": {
    "slideshow": {
     "slide_type": "slide"
    }
   },
   "source": [
    "## Evaluation of Unions\n",
    "\n",
    "- Free unions are unsafe\n",
    "\n",
    "    - Do not allow type checking\n",
    "\n",
    "- Java and C# do not support unions\n",
    "\n",
    "    - Reflective of growing concerns for safety in programming language\n",
    "\n",
    "- Ada discriminated unions are safe"
   ]
  },
  {
   "cell_type": "markdown",
   "metadata": {
    "slideshow": {
     "slide_type": "slide"
    }
   },
   "source": [
    "## Pointer and Reference Types\n",
    "\n",
    "A **pointer** type variable has a range of values that consists of memory addresses and a special value, *nil*\n",
    "\n",
    "- Provide the power of indirect addressing\n",
    "\n",
    "- Provide a way to manage dynamic memory\n",
    "\n",
    "- A pointer can be used to access a location in the area where storage is dynamically created (usually called a *heap*)"
   ]
  },
  {
   "cell_type": "markdown",
   "metadata": {
    "slideshow": {
     "slide_type": "slide"
    }
   },
   "source": [
    "## Design Issues of Pointers\n",
    "\n",
    "- What are the scope of and lifetime of a pointer variable?\n",
    "\n",
    "- What is the lifetime of a heap-dynamic variable?\n",
    "\n",
    "- Are pointers restricted as to the type of value to which they can point?\n",
    "\n",
    "- Are pointers used for dynamic storage management, indirect addressing, or both?\n",
    "\n",
    "- Should the language support pointer types, reference types, or both?"
   ]
  },
  {
   "cell_type": "markdown",
   "metadata": {
    "slideshow": {
     "slide_type": "slide"
    }
   },
   "source": [
    "## Pointer Operations\n",
    "\n",
    "- Two fundamental operations: *assignment* and *dereferencing*\n",
    "\n",
    "- *Assignment* is used to set a pointer variable's value to some useful address\n",
    "\n",
    "- *Dereferencing* yields the value stored at the location represented by the pointer's value\n",
    "\n",
    "    - Dereferencing can be explicit or implicit\n",
    "\n",
    "    - C++ uses an explicit operation via `*`\n",
    "\n",
    "    ```c++\n",
    "    j = *ptr\n",
    "    ```\n",
    "    sets `j` to the value located at `ptr`\n",
    "\n",
    "\n",
    "\n",
    "\n",
    "\n",
    "\n",
    "\n",
    "\n",
    "\n",
    "\n",
    "\n",
    "\n",
    "\n",
    "\n",
    "\n",
    "\n",
    "\n",
    "\n",
    "\n",
    "\n",
    "\n",
    "\n",
    "\n",
    "\n",
    "\n",
    "\n",
    "\n"
   ]
  },
  {
   "cell_type": "markdown",
   "metadata": {
    "slideshow": {
     "slide_type": "slide"
    }
   },
   "source": [
    "## Pointer Assignment Illustrated\n",
    "\n",
    "The assignment operation `j = *ptr`\n",
    "\n",
    "<img src=\"img/pointer.png\" style=\"width:70%\" />"
   ]
  },
  {
   "cell_type": "markdown",
   "metadata": {
    "slideshow": {
     "slide_type": "slide"
    }
   },
   "source": [
    "## Problems with Pointers\n",
    "\n",
    "- Dangling pointers (dangerous!!!)\n",
    "\n",
    "    - A pointer points to a heap-dynamic variable that has been deallocated\n",
    "    \n",
    "- Lost heap-dynamic variable\n",
    "\n",
    "    - An allocated heap-dynamic variable that is no longer accessible to the user program (often called *garbage*)\n",
    "\n",
    "        - Pointer `p1` is set to point to a newly created heap-dynamic variable\n",
    "\n",
    "        - Pointer `p1` is later set to point to another newly created heap-dynamic variable\n",
    "\n",
    "        - The process of losing heap-dynamic variables is called memory leakage"
   ]
  },
  {
   "cell_type": "markdown",
   "metadata": {
    "slideshow": {
     "slide_type": "slide"
    }
   },
   "source": [
    "## Reference Types\n",
    "\n",
    "- C++ includes a special kind of pointer type called a *reference type* that is used primarily for formal parameters\n",
    "\n",
    "    - Advantages of both pass-by-reference and pass-by-value\n",
    "\n",
    "- Java extends C++'s reference variables and allows them to replace pointers entirely\n",
    "\n",
    "    - References are references to objects, rather than being addresses\n",
    "\n",
    "- C# includes both the references of Java and the pointers of C++"
   ]
  },
  {
   "cell_type": "markdown",
   "metadata": {
    "slideshow": {
     "slide_type": "slide"
    }
   },
   "source": [
    "## Evaluation of Pointers\n",
    "\n",
    "- Dangling pointers and dangling objects are problems as is heap management\n",
    "\n",
    "- Pointers are like `goto`- they widen the range of cells that can be accessed by a variable\n",
    "\n",
    "- Pointers or references are necessary for dynamic data structures - so we can't design a language without them"
   ]
  },
  {
   "cell_type": "markdown",
   "metadata": {
    "slideshow": {
     "slide_type": "slide"
    }
   },
   "source": [
    "## Dangling Pointer Problem\n",
    "\n",
    "**Tombstone**: extra heap cell that is a pointer to the heap-dynamic variable\n",
    "\n",
    "- The actual pointer variable points only at tombstones\n",
    "\n",
    "- When heap-dynamic variable deallocated, tombstone remains but set to nil\n",
    "\n",
    "- Costly in time and space\n",
    "\n",
    "**Locks-and-keys**: Pointer values are represented as (key, address) pairs\n",
    "\n",
    "- Heap-dynamic variables are represented as variable plus cell for integer lock value\n",
    "\n",
    "- When heap-dynamic variable allocated, lock value is created and placed in lock cell and key cell of pointer"
   ]
  },
  {
   "cell_type": "markdown",
   "metadata": {
    "slideshow": {
     "slide_type": "slide"
    }
   },
   "source": [
    "## Heap Management\n",
    "\n",
    "- A very complex run-time process\n",
    "\n",
    "- Single-size cells vs. variable-size cells\n",
    "\n",
    "- Two approaches to reclaim garbage\n",
    "\n",
    "    - **Reference counters** (eager approach): reclamation is gradual\n",
    "\n",
    "    - **Mark-sweep** (lazy approach): reclamation occurs when the list of variable space becomes empty"
   ]
  },
  {
   "cell_type": "markdown",
   "metadata": {
    "slideshow": {
     "slide_type": "slide"
    }
   },
   "source": [
    "## Reference Counter\n",
    "\n",
    "**Reference counters**: maintain a counter in every cell that store the number of pointers currently pointing at the cell\n",
    "\n",
    "- *Disadvantages*: space required, execution time required, complications for cells connected circularly\n",
    "\n",
    "- *Advantage*: it is intrinsically incremental, so significant delays in the application execution are avoided"
   ]
  },
  {
   "cell_type": "markdown",
   "metadata": {
    "slideshow": {
     "slide_type": "slide"
    }
   },
   "source": [
    "## Mark-Sweep\n",
    "\n",
    "The run-time system allocates storage cells as requested and disconnects pointers from cells as necessary; mark-sweep then begins\n",
    "\n",
    "- Every heap cell has an extra bit used by collection algorithm\n",
    "\n",
    "- All cells initially set to garbage\n",
    "\n",
    "- All pointers traced into heap, and reachable cells marked as not garbage\n",
    "\n",
    "- All garbage cells returned to list of available cells\n",
    "\n",
    "*Disadvantages*: in its original form, it was done too infrequently. When done, it caused significant delays in application execution.\n",
    "    - Contemporary mark-sweep algorithms avoid this by doing it more often - called incremental mark-sweep"
   ]
  },
  {
   "cell_type": "markdown",
   "metadata": {
    "slideshow": {
     "slide_type": "slide"
    }
   },
   "source": [
    "## Type Checking\n",
    "\n",
    "- Generalize the concept of operands and operators to include subprograms and assignments\n",
    "\n",
    "- **Type checking** is the activity of ensuring that the operands of an operator are of compatible types\n",
    "\n",
    "- A **compatible type** is one that is either legal for the operator, or is allowed under language rules to be implicitly converted, by compiler-generated code, to a legal type\n",
    "\n",
    "    - This automatic conversion is called a **coercion**\n",
    "\n",
    "\n",
    "- A **type error** is the application of an operator to an operand of an inappropriate type"
   ]
  },
  {
   "cell_type": "markdown",
   "metadata": {
    "slideshow": {
     "slide_type": "slide"
    }
   },
   "source": [
    "## Type Checking (cont.)\n",
    "\n",
    "- If all type bindings are static, nearly all type checking can be static\n",
    "\n",
    "- If type bindings are dynamic, type checking must be dynamic\n",
    "\n",
    "- A programming language is **strongly typed** if type errors are always detected\n",
    "\n",
    "    - *Advantage of strong typing*: allows the detection of the misuses of variables that result in type errors"
   ]
  },
  {
   "cell_type": "markdown",
   "metadata": {
    "slideshow": {
     "slide_type": "slide"
    }
   },
   "source": [
    "## Strong Typing\n",
    "\n",
    "- C and C++ are not\n",
    "    - parameter type checking can be avoided;\n",
    "    - unions are not type checked\n",
    "\n",
    "- Ada is, almost (UNCHECKED CONVERSION is loophole)\n",
    "\n",
    "- Java and C# are similar to Ada"
   ]
  },
  {
   "cell_type": "markdown",
   "metadata": {
    "slideshow": {
     "slide_type": "slide"
    }
   },
   "source": [
    "## Strong Typing (cont.)\n",
    "\n",
    "- Coercion rules strongly affect strong typing\n",
    "    - they can weaken it considerably (C++ versus Ada)\n",
    "\n",
    "- Although Java has just half the assignment coercions of C++, its strong typing is still far less effective than that of Ada"
   ]
  },
  {
   "cell_type": "markdown",
   "metadata": {
    "slideshow": {
     "slide_type": "slide"
    }
   },
   "source": [
    "## Name Type Equivalence\n",
    "\n",
    "- **Name type equivalence** means the two  variables have equivalent types if they are in either the same declaration or in declarations that use the same type name\n",
    "\n",
    "- Easy to implement but highly restrictive:\n",
    "\n",
    "    - Subranges of integer types are not equivalent with integer types\n",
    "\n",
    "    - Formal parameters must be the same type as their corresponding actual parameters\n"
   ]
  },
  {
   "cell_type": "markdown",
   "metadata": {
    "slideshow": {
     "slide_type": "slide"
    }
   },
   "source": [
    "## Structure Type Equivalence\n",
    "\n",
    "- **Structure type equivalence** means that two variables have equivalent types if their types have identical structures\n",
    "\n",
    "- More flexible, but harder to implement\n"
   ]
  },
  {
   "cell_type": "markdown",
   "metadata": {
    "slideshow": {
     "slide_type": "slide"
    }
   },
   "source": [
    "## Type Equivalence (cont.)\n",
    "\n",
    "Consider the problem of two structured types:\n",
    "\n",
    "- Are two record types equivalent if they are structurally the same but use different field names?\n",
    "\n",
    "- Are two array types equivalent if they are the same except that the subscripts are different?\n",
    "\n",
    "    - e.g. [1..10] and [0..9]\n",
    "\n",
    "\n",
    "- Are two enumeration types equivalent if their components are spelled differently?\n",
    "\n",
    "- With structural type equivalence, you cannot differentiate between types of the same structure\n",
    "    - e.g. different units of speed, both float"
   ]
  },
  {
   "cell_type": "markdown",
   "metadata": {
    "slideshow": {
     "slide_type": "slide"
    }
   },
   "source": [
    "## Theory and Data Types\n",
    "\n",
    "- Type theory is a broad area of study in mathematics, logic, computer science, and philosophy\n",
    "\n",
    "- Two branches of type theory in computer science:\n",
    "\n",
    "    - Practical: data types in commercial languages\n",
    "\n",
    "    - Abstract: typed lambda calculus\n",
    "\n",
    "- A type system is a set of types and the rules that govern their use in programs"
   ]
  },
  {
   "cell_type": "markdown",
   "metadata": {
    "slideshow": {
     "slide_type": "slide"
    }
   },
   "source": [
    "## Theory and Data Types (cont.)\n",
    "\n",
    "Formal model of a type system is a set of types and a collection of functions that define the type rules\n",
    "\n",
    "- Either an attribute grammar or a type map could be used for the functions\n",
    "\n",
    "- Finite mappings: model arrays and functions\n",
    "\n",
    "- Cartesian products: model tuples and records\n",
    "\n",
    "- Set unions: model union types\n",
    "\n",
    "- Subsets: model subtypes"
   ]
  },
  {
   "cell_type": "markdown",
   "metadata": {
    "slideshow": {
     "slide_type": "slide"
    }
   },
   "source": [
    "## Summary\n",
    "\n",
    "- The data types of a language are a large part of what determines that language's style and usefulness\n",
    "\n",
    "- The primitive data types of most imperative languages include numeric, character, and Boolean types\n",
    "\n",
    "- The user-defined enumeration and subrange types are convenient and add to the readability and reliability of programs\n",
    "\n",
    "- Arrays and records are included in most languages\n",
    "\n",
    "- Pointers are used for addressing flexibility and to control dynamic storage management"
   ]
  }
 ],
 "metadata": {
  "celltoolbar": "Slideshow",
  "jupytext": {
   "cell_metadata_filter": "-all",
   "main_language": "python",
   "notebook_metadata_filter": "-all"
  },
  "kernelspec": {
   "display_name": "Python 3",
   "language": "python",
   "name": "python3"
  },
  "language_info": {
   "codemirror_mode": {
    "name": "ipython",
    "version": 3
   },
   "file_extension": ".py",
   "mimetype": "text/x-python",
   "name": "python",
   "nbconvert_exporter": "python",
   "pygments_lexer": "ipython3",
   "version": "3.7.8"
  }
 },
 "nbformat": 4,
 "nbformat_minor": 4
}
