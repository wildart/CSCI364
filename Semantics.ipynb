{
  "cells": [
    {
      "metadata": {
        "slideshow": {
          "slide_type": "slide"
        }
      },
      "cell_type": "markdown",
      "source": "# Semantics"
    },
    {
      "metadata": {
        "slideshow": {
          "slide_type": "slide"
        }
      },
      "cell_type": "markdown",
      "source": "## Introduction\n\nThere is no single widely acceptable notation or formalism for describing semantics\n\nSeveral needs for a methodology and notation for semantics:\n\n- Programmers need to know what statements mean\n- Compiler writers must know exactly what language constructs do\n- Correctness proofs would be possible\n- Compiler generators would be possible\n- Designers could detect ambiguities and inconsistencies"
    },
    {
      "metadata": {
        "trusted": true,
        "slideshow": {
          "slide_type": "slide"
        }
      },
      "cell_type": "markdown",
      "source": "## Operational Semantics\n\nDescribes the meaning of a program by executing its statements on a machine, either simulated or actual.\n- The change in the state of the machine (memory, registers, etc.) defines the meaning of the statement\n\nTo use operational semantics for a high-level language, a virtual machine is needed."
    },
    {
      "metadata": {
        "trusted": true,
        "slideshow": {
          "slide_type": "slide"
        }
      },
      "cell_type": "markdown",
      "source": "## Operational Semantics (cont.)\n\nA **hardware** pure interpreter would be too expensive\n\nA **software** pure interpreter also has problems\n\n-   The detailed characteristics of the particular computer would make actions difficult to understand\n-   Such a semantic definition would be machine-dependent"
    },
    {
      "metadata": {
        "trusted": true,
        "slideshow": {
          "slide_type": "slide"
        }
      },
      "cell_type": "markdown",
      "source": "## Operational Semantics (cont.)\n\n\nA better alternative: A complete computer simulation\n\nThe process:\n\n-   Build a translator (translates source code to the machine code of an idealized computer)\n-   Build a simulator for the idealized computer\n\nEvaluation of operational semantics:\n\n-   Good if used informally (language manuals, etc.)\n-   Extremely complex if used formally (e.g., VDL), it was used for describing semantics of PL/I."
    },
    {
      "metadata": {
        "trusted": true,
        "slideshow": {
          "slide_type": "slide"
        }
      },
      "cell_type": "markdown",
      "source": "## Operational Semantics (cont.)\n\n- Uses of operational semantics:\n    - Language manuals and textbooks\n    - Teaching programming languages\n- Two different levels of uses of operational semantics:\n    - Natural operational semantics\n    - Structural operational semantics\n- Evaluation\n    - Good if used informally (language manuals, etc.)\n    - Extremely complex if used formally (e.g.,VDL)"
    },
    {
      "metadata": {
        "trusted": true,
        "slideshow": {
          "slide_type": "slide"
        }
      },
      "cell_type": "markdown",
      "source": "## Denotational Semantics\n\n-   Based on recursive function theory\n-   The most abstract semantics description method\n-   Originally developed by Scott and Strachey (1970)"
    },
    {
      "metadata": {
        "trusted": true,
        "slideshow": {
          "slide_type": "slide"
        }
      },
      "cell_type": "markdown",
      "source": "## Denotational Semantics (cont.)\n\nThe process of building a denotational specification for a language:\n\n- Define a mathematical object for each language entity\n\n- Define a function that maps instances of the language entities onto instances of the corresponding mathematical objects\n\nThe meaning of language constructs are defined by only the values of the program's variables"
    },
    {
      "metadata": {
        "trusted": true,
        "slideshow": {
          "slide_type": "slide"
        }
      },
      "cell_type": "markdown",
      "source": "## Denotational Semantics: Program State\n\nThe state of a program is the values of all its current variables\n- s = {<i₁, v₁\\>, <i₂, v₂\\>, …, <iₙ, vₙ\\>}\n \nLet **VARMAP** be a function that, when given a variable name and a state, returns the current value of the variable\n- VARMAP(iⱼ, s) = vⱼ\n"
    },
    {
      "metadata": {
        "slideshow": {
          "slide_type": "slide"
        }
      },
      "cell_type": "markdown",
      "source": "## Denotational Semantics:  Decimal Numbers\n\n- **CFG Rule:**\n\n    <dec_num> ⟶ '0' | '1' | '2' | '3' | '4' | '5' | '6' | '7' | '8' | '9' |\n                <dec_num> ('0' | '1' | '2' | '3' | '4' |\n                           '5' | '6' | '7' | '8' | '9')\n\n- **Semantics:**\n\n        Mₙ('0') = 0, Mₙ('1') = 1, …, Mₙ('9') = 9\n        Mₙ(<dec_num> '0') = 10 * Mₙ(<dec_num>)\n        Mₙ(<dec_num> '1') = 10 * Mₙ(<dec_num>) + 1\n        ...\n        Mₙ(<dec_num> '9') = 10 * Mₙ(<dec_num>) + 9\n\n"
    },
    {
      "metadata": {
        "trusted": true,
        "slideshow": {
          "slide_type": "slide"
        }
      },
      "cell_type": "markdown",
      "source": "## Denotational Semantics: Expressions\n\n- Map expressions onto **Z** ∪ {error}\n- We assume expressions are decimal numbers, variables, or binary expressions having one arithmetic operator and two operands, each of which can be an expression"
    },
    {
      "metadata": {
        "trusted": true,
        "slideshow": {
          "slide_type": "slide"
        }
      },
      "cell_type": "markdown",
      "source": "- **CFG Rule:** <expr\\> → <dec_num\\> | <var\\> | <binary_expr\\>\n- **Semantics:**\n    \n    Mₑ(<expr>, s) Δ=\n        case <expr> of\n        <dec_num> => Mₙ(<dec_num>, s)\n        <var>     => if VARMAP(<var>, s) == undef then error\n                     else VARMAP(<var>, s)\n        <binary_expr> =>\n            if (Mₑ(<binary_expr>.<left_expr>, s) == undef\n                OR Mₑ(<binary_expr>.<right_expr>, s) = undef)\n            then error\n            else\n            if (<binary_expr>.<operator> == ' + ' then\n                 Mₑ(<binary_expr>.<left_expr>, s) + Mₑ(<binary_expr>.<right_expr>, s)\n            else Mₑ(<binary_expr>.<left_expr>, s) * Mₑ(<binary_expr>.<right_expr>, s)\n        ...\n"
    },
    {
      "metadata": {
        "trusted": true,
        "slideshow": {
          "slide_type": "slide"
        }
      },
      "cell_type": "markdown",
      "source": "## Denotational Semantics: Assignment Statements\n\n- Maps state sets to state sets ∪ {error}\n- **CFG Rule:** <assign\\> -> <var\\> := <expr\\>\n- **Semantics:**\n\n        Ma(x := E, s) Δ=\n            if Mₑ(E, s) == error\n            then error\n            else s’ = {<i₁ ,v₁’>,<i₂ ,v₂’>,...,<iₙ ,vₙ’>},\n                where for j = 1, 2, ..., n,\n                    if iⱼ == x\n                    then vⱼ’ = Mₑ(E, s)\n                    else vⱼ’ = VARMAP(iⱼ , s)"
    },
    {
      "metadata": {
        "trusted": true,
        "slideshow": {
          "slide_type": "slide"
        }
      },
      "cell_type": "markdown",
      "source": "## Denotational Semantics: Logical Pretest Loops\n\n- Maps state sets to state sets ∪ {error}\n    \n    Mₗ(while B do L, s) Δ=\n        if Mₚ(B, s) == undef\n        then error\n        else if Mₚ(B, s) == false\n             then s\n             else if Mₛₗ(L, s) == error\n                  then error\n                  else Mₗ(while B do L, Mₛₗ(L, s))\n"
    },
    {
      "metadata": {
        "slideshow": {
          "slide_type": "slide"
        }
      },
      "cell_type": "markdown",
      "source": "## Loop Meaning\n\n- The meaning of the loop is the value of the program variables after the statements in the loop have been executed the prescribed number of times, assuming there have been no errors\n- In essence, the loop has been converted from iteration to recursion, where the recursive control is mathematically defined by other recursive state mapping functions\n    - Recursion, when compared to iteration, is easier to describe with mathematical rigor"
    },
    {
      "metadata": {
        "slideshow": {
          "slide_type": "slide"
        }
      },
      "cell_type": "markdown",
      "source": "## Evaluation of Denotational Semantics\n\n-   Can be used to prove the correctness of programs\n-   Provides a rigorous way to think about programs\n-   Can be an aid to language design\n-   Has been used in compiler generation systems\n-   Because of its complexity, it are of little use to language users"
    },
    {
      "metadata": {
        "slideshow": {
          "slide_type": "slide"
        }
      },
      "cell_type": "markdown",
      "source": "## Axiomatic Semantics\n\n- Based on formal logic (predicate calculus)\n- Original purpose: formal program verification\n- Axioms or inference rules are defined for each statement type in the language (to allow transformations of logic expressions into more formal logic expressions)\n- The logic expressions are called *assertions*\n- Concerned with **properties of program state**"
    },
    {
      "metadata": {
        "slideshow": {
          "slide_type": "slide"
        }
      },
      "cell_type": "markdown",
      "source": "## Axiomatic Semantics: State\n\nState: a function $\\sigma$ from variables to values\n- e.g., program with 3 variables x, y, z\n$$\\sigma(x) = 9$$\n$$\\sigma(y) = 5$$\n$$\\sigma(z) = 2$$\n\nFor simplicity, we will only consider integer variables\n- σ: Variables ⟶ {0,-1,+1,-2,2,...}"
    },
    {
      "metadata": {
        "slideshow": {
          "slide_type": "slide"
        }
      },
      "cell_type": "markdown",
      "source": "## Sets of States\n\nNeed to talk about sets of states\n- e.g., \"x=1, y=2, z=1 or x=1, y=2, z=2 or x=1, y=2, z=3\"\n\nWe use assertions in first-order logic\n- x=1 ∧ y=2 ∧ 1 ≤ z ≤ 3\n\nAn assertion $P$ represents the set of states that satisfy the assertion\n\n- We will write $\\{P\\}$ to denote this set of states"
    },
    {
      "metadata": {
        "slideshow": {
          "slide_type": "slide"
        }
      },
      "cell_type": "markdown",
      "source": "## Use of First-Order Logic\n\nVariables from the program\n- In the program they are part of the syntax, here they are part of the assertion\n    - programming language vs. meta-language of assertions\n\nThe usual symbols from first-order logic\n- = < > ∨ ∧ ¬ ∃ ∀ true false\n\nOperations from the programming language:\n- e.g. +, -, ..."
    },
    {
      "metadata": {
        "slideshow": {
          "slide_type": "slide"
        }
      },
      "cell_type": "markdown",
      "source": "## First-Order Logic\n\nTerms\n- If $x$ is a variable, $x$ is a term\n- If $n$ is an integer constant, $n$ is a term\n- If $s$ and $t$ are terms, so are $s+t$, $s-t$,...\n\nFormulas\n- **true** and **false**\n- $s < t$ and $s=t$ for terms $s$ and $t$\n- $f \\vee g$, $f \\wedge g$, $\\neg f$ for formulas $f, g$\n- $\\exists x.f$ and $\\forall x.f$ for a formula $f$"
    },
    {
      "metadata": {
        "slideshow": {
          "slide_type": "slide"
        }
      },
      "cell_type": "markdown",
      "source": "## Axiomatic Semantics (cont.)\n\n- An assertion before a statement (a **precondition**) states the relationships and constraints among variables that are true at that point in execution\n- An assertion following a statement is a **postcondition**\n- A **weakest precondition** is the least restrictive precondition that will guarantee the postcondition"
    },
    {
      "metadata": {
        "slideshow": {
          "slide_type": "slide"
        }
      },
      "cell_type": "markdown",
      "source": "## Axiomatic Semantics Form\n\nHoare triple: $\\{P\\} S \\{Q\\}$\n- $S$ is a program statement, $P$ is the **precondition**, $Q$ is the **postcondition**\n- $P$ and $Q$ are **logical assertions** over program variables\n    - P = (X ≥ 0 ∧ Y ≥ 0) ∨ (X < 0 ∧ Y < 0)\n\nA triple means:\n- if $P$ holds before $S$ is executed\n- then $Q$ holds after the execution of $S$\n- unless $S$ does not terminates or encounters an error\n\nExample:\n- a = b + 1 {a \\> 1}\n- One possible precondition: {b \\> 10}\n- Weakest precondition: {b \\> 0}\n"
    },
    {
      "metadata": {
        "slideshow": {
          "slide_type": "slide"
        }
      },
      "cell_type": "markdown",
      "source": "## Program Proof Process\n\nThe postcondition for the entire program is the desired result\n\n- Work back through the program to the first statement. If the\n  precondition on the first statement is the same as the program\n  specification, the program is correct."
    },
    {
      "metadata": {
        "slideshow": {
          "slide_type": "slide"
        }
      },
      "cell_type": "markdown",
      "source": "## Axiomatic Semantics: Assignment\n\nAn axiom for assignment statements ($x = E$):\n\n$$\\{Q_{x \\to E}\\} x = E \\{Q\\}$$\n\nwhere $Q_{x \\to E}$ is $Q$ where free occurrences of $x$ are replaced with $E$\n\nExamples:\n- {true} X ← 5 {X = 5}\n- {Y = 5} X ← Y {X = 5}\n- {X + 1 ≥ 0} X ← X + 1 {X ≥ 0}\n- {false} X ← Y + 3 {Y = 0 ∧ X = 12}\n- {Y ∈ [0, 10]} X ← Y + 3 {X = Y + 3 ∧ Y ∈ [0, 10]}"
    },
    {
      "metadata": {
        "slideshow": {
          "slide_type": "slide"
        }
      },
      "cell_type": "markdown",
      "source": "## Axiomatic Semantics: The Rule of Consequence\n\nThe Rule of Consequence:\n\n$$\\frac{\\{P\\}S\\{Q\\}, P'=>P, Q=>Q'}{\\{P'\\}S\\{Q'\\}}$$\n\nWe can weaken a Hoare triple by:\n- *weakening* its postcondition $Q <= Q'$\n- *strengthening* its precondition $P => P'$\n\nExample:\n- {X = 99 ∧ Y ∈ [1, 10]} X ← Y + 10 {X = Y + 10 ∧ Y ∈ [1, 10]}\n    - as {Y ∈ [1, 10]} X ← Y + 10 {X = Y + 10 ∧ Y ∈ [1, 10]}\n        - where X = 99 ∧ Y ∈ [1, 10] ⇒ Y ∈ [1, 10])\n"
    },
    {
      "metadata": {
        "slideshow": {
          "slide_type": "slide"
        }
      },
      "cell_type": "markdown",
      "source": "## Axiomatic Semantics: Sequences\n\nGiven sequences of the form $S1; S2$ where\n-   {P1} S1 {P2}\n-   {P2} S2 {P3}\n\nAn inference rule for sequences is\n\n$$\\frac{\\{P1\\}S1\\{P2\\}, \\{P2\\}S2\\{P3\\}}{\\{P1\\}S1;S2\\{P3\\}}$$\n\nExample:\n- {X = 1 ∧ Y = 1} X ← X + 1 {X = 2 ∧ Y = 1} Y ← Y − 1 {X = 2 ∧ Y = 0}"
    },
    {
      "metadata": {
        "slideshow": {
          "slide_type": "slide"
        }
      },
      "cell_type": "markdown",
      "source": "\n## Axiomatic Semantics: Selection\n\nGiven a selection:\n- {P}**if** B **then** S1 **else** S2{Q}\n\nAn inference rules for selection is\n\n$$\\frac{\\{B \\text{ and } P\\}S1\\{Q\\}, \\{(\\text{not } B) \\text{ and } P\\}S2\\{Q\\}}{\\{P\\} \\textbf{if } B \\textbf{ then } S1 \\textbf{ else } S2 \\{Q\\}}$$\n"
    },
    {
      "metadata": {
        "slideshow": {
          "slide_type": "slide"
        }
      },
      "cell_type": "markdown",
      "source": "## Axiomatic Semantics: Loops\n\nGiven a loop\n- {P} **while** B **do** S **end** {Q}\n\nAn inference rule for logical pretest loops is\n\n$$\\frac{\\{I \\text{ and } B\\}S\\{I\\}}{\\{I\\} \\textbf{while} B \\textbf{ do } S \\{I \\text{ and } (\\text{not } B)\\}}$$\n\n- where $I$ is the loop invariant (the inductive hypothesis)"
    },
    {
      "metadata": {
        "slideshow": {
          "slide_type": "slide"
        }
      },
      "cell_type": "markdown",
      "source": "## Axiomatic Semantics: Loop Axioms\n\nCharacteristics of the loop invariant $I$ must meet the following conditions:\n\n- $P => I$: the loop invariant must be true initially\n- $\\{I\\} B \\{I\\}$: evaluation of the Boolean must not change the validity of $I$\n- $\\{I \\text{ and } B\\} S \\{I\\}$: $I$ is not changed by executing the body of the loop\n- $(I \\text{ and } (\\text{not } B)) => Q$: if $I$ is true and $B$ is false, $Q$ is implied\n- The loop terminates: can be difficult to prove\n"
    },
    {
      "metadata": {
        "slideshow": {
          "slide_type": "slide"
        }
      },
      "cell_type": "markdown",
      "source": "## Loop Invariant\n\n-   The loop invariant I is a weakened version of the loop\n    postcondition, and it is also a precondition.\n-   I must be weak enough to be satisfied prior to the beginning of the\n    loop, but when combined with the loop exit condition, it must be\n    strong enough to force the truth of the postcondition"
    },
    {
      "metadata": {
        "slideshow": {
          "slide_type": "slide"
        }
      },
      "cell_type": "markdown",
      "source": "## Evaluation of Axiomatic Semantics\n\n-   Developing axioms or inference rules for all of the statements in a\n    language is difficult\n-   It is a good tool for correctness proofs, and an excellent framework\n    for reasoning about programs, but it is not as useful for language\n    users and compiler writers\n-   Its usefulness in describing the meaning of a programming language\n    is limited for language users or compiler writers"
    },
    {
      "metadata": {
        "slideshow": {
          "slide_type": "slide"
        }
      },
      "cell_type": "markdown",
      "source": "## Denotation Semantics vs Operational Semantics\n\n- In operational semantics, the state changes are defined by coded algorithms\n- In denotational semantics, the state changes are defined by rigorous mathematical functions"
    }
  ],
  "metadata": {
    "kernelspec": {
      "name": "ifsharp",
      "display_name": "F#",
      "language": "fsharp"
    },
    "language_info": {
      "mimetype": "text/x-fsharp",
      "nbconvert_exporter": "",
      "name": "fsharp",
      "pygments_lexer": "",
      "version": "4.3.1.0",
      "file_extension": ".fs",
      "codemirror_mode": ""
    },
    "language": "fsharp",
    "celltoolbar": "Slideshow"
  },
  "nbformat": 4,
  "nbformat_minor": 5
}