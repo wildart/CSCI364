{
 "cells": [
  {
   "cell_type": "code",
   "execution_count": 1,
   "metadata": {
    "slideshow": {
     "slide_type": "skip"
    }
   },
   "outputs": [
    {
     "data": {
      "text/html": [
       "\r\n",
       "<div>\r\n",
       "    <div id='dotnet-interactive-this-cell-70781.f683f9eb258640afb0fd4c5b685fd390' style='display: none'>\r\n",
       "        The below script needs to be able to find the current output cell; this is an easy method to get it.\r\n",
       "    </div>\r\n",
       "    <script type='text/javascript'>\r\n",
       "// ensure `require` is available globally\r\n",
       "if (typeof require !== typeof Function || typeof require.config !== typeof Function) {\r\n",
       "    let require_script = document.createElement('script');\r\n",
       "    require_script.setAttribute('src', 'https://cdnjs.cloudflare.com/ajax/libs/require.js/2.3.6/require.min.js');\r\n",
       "    require_script.setAttribute('type', 'text/javascript');\r\n",
       "    require_script.onload = function () {\r\n",
       "        loadDotnetInteractiveApi();\r\n",
       "    };\r\n",
       "\r\n",
       "    document.getElementsByTagName('head')[0].appendChild(require_script);\r\n",
       "}\r\n",
       "else {\r\n",
       "    loadDotnetInteractiveApi();\r\n",
       "}\r\n",
       "\r\n",
       "async function probeAddresses(probingAddresses) {\r\n",
       "    function timeout(ms, promise) {\r\n",
       "        return new Promise(function (resolve, reject) {\r\n",
       "            setTimeout(function () {\r\n",
       "                reject(new Error('timeout'))\r\n",
       "            }, ms)\r\n",
       "            promise.then(resolve, reject)\r\n",
       "        })\r\n",
       "    }\r\n",
       "\r\n",
       "    if (Array.isArray(probingAddresses)) {\r\n",
       "        for (let i = 0; i < probingAddresses.length; i++) {\r\n",
       "\r\n",
       "            let rootUrl = probingAddresses[i];\r\n",
       "\r\n",
       "            if (!rootUrl.endsWith('/')) {\r\n",
       "                rootUrl = `${rootUrl}/`;\r\n",
       "            }\r\n",
       "\r\n",
       "            try {\r\n",
       "                let response = await timeout(1000, fetch(`${rootUrl}discovery`, {\r\n",
       "                    method: 'POST',\r\n",
       "                    cache: 'no-cache',\r\n",
       "                    mode: 'cors',\r\n",
       "                    timeout: 1000,\r\n",
       "                    headers: {\r\n",
       "                        'Content-Type': 'text/plain'\r\n",
       "                    },\r\n",
       "                    body: probingAddresses[i]\r\n",
       "                }));\r\n",
       "\r\n",
       "                if (response.status == 200) {\r\n",
       "                    return rootUrl;\r\n",
       "                }\r\n",
       "            }\r\n",
       "            catch (e) { }\r\n",
       "        }\r\n",
       "    }\r\n",
       "}\r\n",
       "\r\n",
       "function loadDotnetInteractiveApi() {\r\n",
       "    probeAddresses([\"http://192.168.0.201:1024/\", \"http://127.0.0.1:1024/\"])\r\n",
       "        .then((root) => {\r\n",
       "            // use probing to find host url and api resources\r\n",
       "            // load interactive helpers and language services\r\n",
       "            let dotnetInteractiveRequire = require.config({\r\n",
       "                context: '70781.f683f9eb258640afb0fd4c5b685fd390',\r\n",
       "                paths: {\r\n",
       "                    'dotnet-interactive': `${root}resources`\r\n",
       "                }\r\n",
       "            }) || require;\r\n",
       "\r\n",
       "            let dotnetInteractiveExtensionsRequire = require.config({\r\n",
       "                context: '70781.f683f9eb258640afb0fd4c5b685fd390',\r\n",
       "                paths: {\r\n",
       "                    'dotnet-interactive-extensions': `${root}extensions`\r\n",
       "                }\r\n",
       "            }) || require;\r\n",
       "\r\n",
       "            window.dotnetInteractiveRequire = dotnetInteractiveRequire;\r\n",
       "            window.dotnetInteractiveExtensionsRequire = dotnetInteractiveExtensionsRequire;\r\n",
       "            window.getExtensionRequire = function(extensionName, extensionCacheBuster) {\r\n",
       "                let paths = {};\r\n",
       "                paths[extensionName] = `${root}extensions/${extensionName}/resources/`;\r\n",
       "                \r\n",
       "                let internalRequire = require.config({\r\n",
       "                    context: extensionCacheBuster,\r\n",
       "                    paths: paths,\r\n",
       "                    urlArgs: `cacheBuster=${extensionCacheBuster}`\r\n",
       "                    }) || require;\r\n",
       "\r\n",
       "                return internalRequire\r\n",
       "            };\r\n",
       "        \r\n",
       "            dotnetInteractiveRequire([\r\n",
       "                    'dotnet-interactive/dotnet-interactive'\r\n",
       "                ],\r\n",
       "                function (dotnet) {\r\n",
       "                    dotnet.init(window);\r\n",
       "                },\r\n",
       "                function (error) {\r\n",
       "                    console.log(error);\r\n",
       "                }\r\n",
       "            );\r\n",
       "        })\r\n",
       "        .catch(error => {console.log(error);});\r\n",
       "    }\r\n",
       "    </script>\r\n",
       "</div>"
      ]
     },
     "metadata": {},
     "output_type": "display_data"
    }
   ],
   "source": [
    "#load \"sig.fsx\"\n",
    "open CSCI374.ExtraReflection"
   ]
  },
  {
   "cell_type": "markdown",
   "metadata": {
    "collapsed": true,
    "slideshow": {
     "slide_type": "slide"
    }
   },
   "source": [
    "# F# Type System"
   ]
  },
  {
   "cell_type": "markdown",
   "metadata": {
    "slideshow": {
     "slide_type": "slide"
    }
   },
   "source": [
    "## How to build bigger types\n",
    "\n",
    "- Have various base types like **int bool unit char**\n",
    "\n",
    "- Ways to build (nested) compound types: *tuples, lists, array*\n",
    "    - Coming soon: more ways to build compound types\n",
    "    - First: 3 most important type building blocks in any language\n",
    "\n",
    "- **Each of**: A **t** value contains values of *each* of **t1 t2 ... tn** (Product)\n",
    "\n",
    "- **One of**: A **t** value contains values of *one* of **t1 t2 ... tn** (Union)\n",
    "\n",
    "- **Self reference**: A **t** value can *refer* to other **t** values (Recursive)\n",
    "\n",
    "**Remarkable:** A lot of data can be described with just these building blocks\n",
    "\n",
    "*Note: These are not the common names for these concepts*"
   ]
  },
  {
   "cell_type": "markdown",
   "metadata": {
    "slideshow": {
     "slide_type": "slide"
    }
   },
   "source": [
    "## Creating new F# types\n",
    "\n",
    "New types in F# are constructed by combining other types using two basic operations:\n",
    "\n",
    "- **Product Type**: type **typeW** = **typeX** \"times\" **typeY**\n",
    "- **Union Type**: type **typeZ** = **typeX** \"plus\" **typeY**"
   ]
  },
  {
   "cell_type": "markdown",
   "metadata": {
    "slideshow": {
     "slide_type": "slide"
    }
   },
   "source": [
    "## Representing Pairs\n",
    "\n",
    "![type-pair](img/int-tuple.png)\n",
    "\n",
    "- pair of ints written **int * int**"
   ]
  },
  {
   "cell_type": "markdown",
   "metadata": {
    "slideshow": {
     "slide_type": "slide"
    }
   },
   "source": [
    "## Representing Pairs\n",
    "\n",
    "![type-record](img/record.png)"
   ]
  },
  {
   "cell_type": "markdown",
   "metadata": {
    "slideshow": {
     "slide_type": "slide"
    }
   },
   "source": [
    "## Representing a Choice\n",
    "\n",
    "![type-choice](img/choice1.png)"
   ]
  },
  {
   "cell_type": "markdown",
   "metadata": {
    "slideshow": {
     "slide_type": "subslide"
    }
   },
   "source": [
    "## Representing a Choice (cont.)\n",
    "\n",
    "![type-choice](img/choice2.png)"
   ]
  },
  {
   "cell_type": "markdown",
   "metadata": {
    "slideshow": {
     "slide_type": "subslide"
    }
   },
   "source": [
    "## Representing a Choice (cont.)\n",
    "\n",
    "![type-choice](img/choice3.png)"
   ]
  },
  {
   "cell_type": "markdown",
   "metadata": {
    "slideshow": {
     "slide_type": "slide"
    }
   },
   "source": [
    "## More Examples\n",
    "\n",
    "- Tuples build each-of types\n",
    "    - **int * bool** contains an **int** *and* a **bool**\n",
    "\n",
    "- Options build one-of types\n",
    "    - **int option** contains an **int** *or* it contains no data\n",
    "\n",
    "- Lists use all three building blocks\n",
    "    - **int list** contains an **int** *and* another **int list** *or* it contains no data\n",
    "\n",
    "- And of course we can nest compound types\n",
    "    - **((int \\* int) option \\* (int list list)) option**\n"
   ]
  },
  {
   "cell_type": "markdown",
   "metadata": {
    "slideshow": {
     "slide_type": "slide"
    }
   },
   "source": [
    "## Records\n",
    "\n",
    "Record values have fields (any name) holding values\n",
    "\n",
    "    {n1 = v1; ...; nn = vn}\n",
    "\n",
    "Record types have fields (and name) holding types\n",
    "\n",
    "    {n1 : t1; ...; nn : tn}\n",
    "\n",
    "The order of fields in a record value or type never matters\n"
   ]
  },
  {
   "cell_type": "markdown",
   "metadata": {
    "slideshow": {
     "slide_type": "slide"
    }
   },
   "source": [
    "## Records\n",
    "\n",
    "A record type is exactly that, a tuple where each element is labeled."
   ]
  },
  {
   "cell_type": "code",
   "execution_count": 37,
   "metadata": {
    "slideshow": {
     "slide_type": "fragment"
    }
   },
   "outputs": [],
   "source": [
    "type ComplexNumberTuple = float * float\n",
    "\n",
    "type ComplexNumberRecord = { real: float; imaginary: float } // use colon in type"
   ]
  },
  {
   "cell_type": "markdown",
   "metadata": {
    "slideshow": {
     "slide_type": "fragment"
    }
   },
   "source": [
    "A record type has the standard preamble: \n",
    "\n",
    "- `type [typename] =` followed by curly braces\n",
    "- Inside the curly braces is a list of label:\n",
    "    - type pairs, separated by semicolons\n",
    "    \n",
    "**Remember:** all lists in F# use semicolon separators – commas are for tuples"
   ]
  },
  {
   "cell_type": "markdown",
   "metadata": {
    "slideshow": {
     "slide_type": "slide"
    }
   },
   "source": [
    "## Record Value\n",
    "\n",
    "To create a record value:\n",
    "- use a similar format to the type definition\n",
    "- but using equals signs after the labels.\n",
    "\n",
    "This is called a **record expression**."
   ]
  },
  {
   "cell_type": "code",
   "execution_count": 40,
   "metadata": {
    "slideshow": {
     "slide_type": "fragment"
    }
   },
   "outputs": [
    {
     "data": {
      "text/html": [
       "<table><thead><tr><th>Item1</th><th>Item2</th></tr></thead><tbody><tr><td><div class=\"dni-plaintext\">Value: ComplexNumberRecord</div></td><td><div class=\"dni-plaintext\">{ real = 1.1\n",
       "  imaginary = 2.2 }</div></td></tr></tbody></table>"
      ]
     },
     "execution_count": 40,
     "metadata": {},
     "output_type": "execute_result"
    }
   ],
   "source": [
    "// Record value\n",
    "let record = { real = 1.1; imaginary = 2.2 } // use equals!\n",
    "\n",
    "sgn record, record"
   ]
  },
  {
   "cell_type": "code",
   "execution_count": 41,
   "metadata": {
    "slideshow": {
     "slide_type": "fragment"
    }
   },
   "outputs": [
    {
     "data": {
      "text/html": [
       "<table><thead><tr><th>real</th><th>imaginary</th></tr></thead><tbody><tr><td><div class=\"dni-plaintext\">1.1</div></td><td><div class=\"dni-plaintext\">2.2</div></td></tr></tbody></table>"
      ]
     },
     "execution_count": 41,
     "metadata": {},
     "output_type": "execute_result"
    }
   ],
   "source": [
    "let myComplexNumber = { imaginary = 2.2; real = 1.1 } // use equals in let\n",
    "myComplexNumber"
   ]
  },
  {
   "cell_type": "markdown",
   "metadata": {
    "slideshow": {
     "slide_type": "slide"
    }
   },
   "source": [
    "And to “deconstruct” a record, use the same syntax:"
   ]
  },
  {
   "cell_type": "code",
   "execution_count": 42,
   "metadata": {
    "slideshow": {
     "slide_type": "fragment"
    }
   },
   "outputs": [
    {
     "name": "stdout",
     "output_type": "stream",
     "text": [
      "Re: 1.100000, Im: 2.109000\n"
     ]
    },
    {
     "name": "stderr",
     "output_type": "stream",
     "text": [
      "\n",
      "input.fsx (2,5)-(2,30) typecheck warning The field labels and expected type of this record expression or pattern do not uniquely determine a corresponding record type\n",
      "\n"
     ]
    }
   ],
   "source": [
    "let myComplexNumber = { imaginary = 2.109; real = 1.1 }  // \"construct\"\n",
    "let { real=re; imaginary=im } = myComplexNumber          // \"deconstruct\"\n",
    "\n",
    "printfn \"Re: %f, Im: %f\" re im"
   ]
  },
  {
   "cell_type": "markdown",
   "metadata": {
    "slideshow": {
     "slide_type": "fragment"
    }
   },
   "source": [
    "If you just need a single property, you can use dot notation rather than pattern matching."
   ]
  },
  {
   "cell_type": "code",
   "execution_count": 43,
   "metadata": {
    "slideshow": {
     "slide_type": "fragment"
    }
   },
   "outputs": [
    {
     "data": {
      "text/html": [
       "<div class=\"dni-plaintext\">1.1</div>"
      ]
     },
     "execution_count": 43,
     "metadata": {},
     "output_type": "execute_result"
    }
   ],
   "source": [
    "myComplexNumber.real"
   ]
  },
  {
   "cell_type": "code",
   "execution_count": 44,
   "metadata": {
    "slideshow": {
     "slide_type": "fragment"
    }
   },
   "outputs": [
    {
     "data": {
      "text/html": [
       "<div class=\"dni-plaintext\">2.109</div>"
      ]
     },
     "execution_count": 44,
     "metadata": {},
     "output_type": "execute_result"
    }
   ],
   "source": [
    "myComplexNumber.imaginary"
   ]
  },
  {
   "cell_type": "markdown",
   "metadata": {
    "slideshow": {
     "slide_type": "slide"
    }
   },
   "source": [
    "## By name vs by position\n",
    "\n",
    "Little difference between (4,7,9) and {f=4,g=7,h=9}\n",
    "- Tuples a little shorter\n",
    "- Records a little easier to remember “what is where”\n",
    "- Generally a matter of taste, but for many (6? 8? 12?) fields, a record is usually a better choice\n",
    "\n",
    "A common decision for a construct's syntax is whether to refer to things by position (as in tuples) or by some (field) name (as with records)\n",
    "- A common hybrid is like with Java method arguments (and ML functions as used so far):\n",
    "    - Caller uses position\n",
    "    - Callee uses variables\n",
    "    - Could totally do it differently; some languages have"
   ]
  },
  {
   "cell_type": "markdown",
   "metadata": {
    "slideshow": {
     "slide_type": "slide"
    }
   },
   "source": [
    "## Unions\n",
    "\n",
    "A “strange” (?) and totally awesome (!) way to make **one-of** types:"
   ]
  },
  {
   "cell_type": "code",
   "execution_count": null,
   "metadata": {
    "slideshow": {
     "slide_type": "fragment"
    }
   },
   "outputs": [],
   "source": [
    "type mytype = TwoInts of int * int\n",
    "            | Str of string\n",
    "            | Pizza"
   ]
  },
  {
   "cell_type": "markdown",
   "metadata": {
    "slideshow": {
     "slide_type": "fragment"
    }
   },
   "source": [
    "Datatype binding:\n",
    "\n",
    "- Adds a new type `mytype` to the environment\n",
    "- Adds constructors to the environment: `TwoInts`, `Str`, and `Pizza`\n",
    "- A constructor is (among other things), a function that makes values of the new type (or is a value of the new type):\n",
    "    - `TwoInts : int * int -> mytype`\n",
    "    - `Str : string -> mytype`\n",
    "    - `Pizza : mytype`"
   ]
  },
  {
   "cell_type": "markdown",
   "metadata": {
    "slideshow": {
     "slide_type": "slide"
    }
   },
   "source": [
    "## Creating Values\n",
    "\n",
    "Any value of type `mytype` is made from one of the constructors\n",
    "\n",
    "The value contains:\n",
    "- A “tag” for “which constructor” (e.g., TwoInts)\n",
    "- The corresponding data (e.g., (7,9))\n",
    "\n",
    "Examples:\n",
    "- `TwoInts(3+4,5+4)` evaluates to `TwoInts(7,9)`\n",
    "- `Str(if true then \"hi\" else \"bye\")` evaluates to `Str(\"hi\")`\n",
    "- `Pizza` is a value"
   ]
  },
  {
   "cell_type": "code",
   "execution_count": 45,
   "metadata": {
    "slideshow": {
     "slide_type": "subslide"
    }
   },
   "outputs": [
    {
     "data": {
      "text/html": [
       "<table><thead><tr><th>Item1</th><th>Item2</th></tr></thead><tbody><tr><td><div class=\"dni-plaintext\">Value: TwoInts</div></td><td><div class=\"dni-plaintext\">TwoInts (7, 9)</div></td></tr></tbody></table>"
      ]
     },
     "execution_count": 45,
     "metadata": {},
     "output_type": "execute_result"
    }
   ],
   "source": [
    "let v = TwoInts(3+4,5+4)\n",
    "\n",
    "sgn v, v"
   ]
  },
  {
   "cell_type": "code",
   "execution_count": 46,
   "metadata": {
    "slideshow": {
     "slide_type": "fragment"
    }
   },
   "outputs": [
    {
     "data": {
      "text/html": [
       "<table><thead><tr><th>Item1</th><th>Item2</th></tr></thead><tbody><tr><td><div class=\"dni-plaintext\">Value: Str</div></td><td><div class=\"dni-plaintext\">Str &quot;bye&quot;</div></td></tr></tbody></table>"
      ]
     },
     "execution_count": 46,
     "metadata": {},
     "output_type": "execute_result"
    }
   ],
   "source": [
    "let v = Str(if false then \"hi\" else \"bye\")\n",
    "\n",
    "sgn v, v"
   ]
  },
  {
   "cell_type": "code",
   "execution_count": 47,
   "metadata": {
    "slideshow": {
     "slide_type": "fragment"
    }
   },
   "outputs": [
    {
     "data": {
      "text/html": [
       "<table><thead><tr><th>Item1</th><th>Item2</th></tr></thead><tbody><tr><td><div class=\"dni-plaintext\">Value: _Pizza</div></td><td><div class=\"dni-plaintext\">Pizza</div></td></tr></tbody></table>"
      ]
     },
     "execution_count": 47,
     "metadata": {},
     "output_type": "execute_result"
    }
   ],
   "source": [
    "let v = Pizza\n",
    "\n",
    "sgn v, v"
   ]
  },
  {
   "cell_type": "markdown",
   "metadata": {
    "slideshow": {
     "slide_type": "slide"
    }
   },
   "source": [
    "## Deconstruct Value\n",
    "\n",
    "F# combines the two aspects of accessing a **one-of** value with pattern matching.\n",
    "- To deconstruct the values of union types into their basic parts, you **always** use pattern matching.\n",
    "\n",
    "\n",
    "```fsharp\n",
    "match x with\n",
    "| Pizza -> 3\n",
    "| TwoInts (i1, i2) -> i1+i2\n",
    "| Str s -> String.length s\n",
    "```    \n",
    "\n",
    "- A multi-branch conditional to pick branch based on variant\n",
    "- Extracts data and binds to variables local to that branch\n",
    "- Type-checking: all branches must have same type"
   ]
  },
  {
   "cell_type": "code",
   "execution_count": 49,
   "metadata": {
    "slideshow": {
     "slide_type": "slide"
    }
   },
   "outputs": [
    {
     "data": {
      "text/plain": [
       "Function: x:mytype -> int"
      ]
     },
     "execution_count": 49,
     "metadata": {},
     "output_type": "execute_result"
    }
   ],
   "source": [
    "let f x =\n",
    "    match x with\n",
    "    | Pizza -> 3\n",
    "    | TwoInts (i1, i2) -> i1+i2\n",
    "    | Str s -> String.length s\n",
    "    \n",
    "sgn f"
   ]
  },
  {
   "cell_type": "code",
   "execution_count": 50,
   "metadata": {
    "slideshow": {
     "slide_type": "fragment"
    }
   },
   "outputs": [
    {
     "data": {
      "text/html": [
       "<div class=\"dni-plaintext\">3</div>"
      ]
     },
     "execution_count": 50,
     "metadata": {},
     "output_type": "execute_result"
    }
   ],
   "source": [
    "f Pizza"
   ]
  },
  {
   "cell_type": "code",
   "execution_count": 57,
   "metadata": {
    "slideshow": {
     "slide_type": "fragment"
    }
   },
   "outputs": [
    {
     "data": {
      "text/html": [
       "<div class=\"dni-plaintext\">2</div>"
      ]
     },
     "execution_count": 57,
     "metadata": {},
     "output_type": "execute_result"
    }
   ],
   "source": [
    "f (Str(if true then \"hi\" else \"bye\"))"
   ]
  },
  {
   "cell_type": "code",
   "execution_count": 59,
   "metadata": {
    "slideshow": {
     "slide_type": "fragment"
    }
   },
   "outputs": [
    {
     "data": {
      "text/html": [
       "<div class=\"dni-plaintext\">17</div>"
      ]
     },
     "execution_count": 59,
     "metadata": {},
     "output_type": "execute_result"
    }
   ],
   "source": [
    "f (TwoInts(3+4,5+5))"
   ]
  },
  {
   "cell_type": "markdown",
   "metadata": {
    "slideshow": {
     "slide_type": "slide"
    }
   },
   "source": [
    "## Examples\n",
    "\n",
    "\n",
    "Enumerations, including carrying other data\n",
    "\n",
    "```fsharp\n",
    "type Suit = Club | Diamond | Heart | Spade\n",
    "type Card = Jack | Queen | King | Ace | Num of int\n",
    "type Deck = (Suit * Card) list\n",
    "```\n",
    "\n",
    "Alternate ways of identifying real-world things/people\n",
    "\n",
    "```fsharp\n",
    "type id = StudentNum of int\n",
    "        | Name of string\n",
    "                * (string option)\n",
    "                * string\n",
    "```"
   ]
  },
  {
   "cell_type": "markdown",
   "metadata": {
    "slideshow": {
     "slide_type": "slide"
    }
   },
   "source": [
    "## Example"
   ]
  },
  {
   "cell_type": "code",
   "execution_count": 87,
   "metadata": {
    "slideshow": {
     "slide_type": "fragment"
    }
   },
   "outputs": [],
   "source": [
    "type CardType = Visa | Mastercard | AmEx\n",
    "type CardNumber = string\n",
    "type AccountNumber = int\n",
    "type PaymentMethod =\n",
    "    | Cash\n",
    "    | Cheque of AccountNumber\n",
    "    | Card of CardType * CardNumber"
   ]
  },
  {
   "cell_type": "code",
   "execution_count": 88,
   "metadata": {
    "slideshow": {
     "slide_type": "fragment"
    }
   },
   "outputs": [
    {
     "data": {
      "text/html": [
       "<table><thead><tr><th>Item1</th><th>Item2</th></tr></thead><tbody><tr><td><div class=\"dni-plaintext\">Mastercard</div></td><td><div class=\"dni-plaintext\">734687346</div></td></tr></tbody></table>"
      ]
     },
     "execution_count": 88,
     "metadata": {},
     "output_type": "execute_result"
    }
   ],
   "source": [
    "Card (Mastercard, \"734687346\")"
   ]
  },
  {
   "cell_type": "code",
   "execution_count": 89,
   "metadata": {
    "slideshow": {
     "slide_type": "slide"
    }
   },
   "outputs": [
    {
     "data": {
      "text/plain": [
       "Function: method:PaymentMethod -> unit"
      ]
     },
     "execution_count": 89,
     "metadata": {},
     "output_type": "execute_result"
    }
   ],
   "source": [
    "let printPayment method =\n",
    "    match method with\n",
    "    | Cash ->\n",
    "        printfn \"Paid in cash\"\n",
    "    | Cheque checkNo ->\n",
    "        printfn \"Paid by cheque: %i\" checkNo\n",
    "    | Card (cardType,cardNo) ->\n",
    "        printfn \"Paid with %A %A\" cardType cardNo\n",
    "sgn printPayment"
   ]
  },
  {
   "cell_type": "code",
   "execution_count": 90,
   "metadata": {
    "slideshow": {
     "slide_type": "fragment"
    }
   },
   "outputs": [
    {
     "name": "stdout",
     "output_type": "stream",
     "text": [
      "\"Value: _Cash\"\n",
      "Paid in cash\n"
     ]
    }
   ],
   "source": [
    "sgn Cash |> printfn \"%A\"\n",
    "printPayment Cash"
   ]
  },
  {
   "cell_type": "code",
   "execution_count": 93,
   "metadata": {
    "slideshow": {
     "slide_type": "fragment"
    }
   },
   "outputs": [
    {
     "name": "stdout",
     "output_type": "stream",
     "text": [
      "\"Value: Cheque\"\n",
      "Paid by cheque: 1300\n"
     ]
    }
   ],
   "source": [
    "sgn (Cheque 1000) |> printfn \"%A\"\n",
    "printPayment (Cheque 1300)"
   ]
  },
  {
   "cell_type": "code",
   "execution_count": 92,
   "metadata": {
    "slideshow": {
     "slide_type": "fragment"
    }
   },
   "outputs": [
    {
     "name": "stdout",
     "output_type": "stream",
     "text": [
      "\"Value: Card\"\n",
      "Paid with Visa \"V12345\"\n"
     ]
    }
   ],
   "source": [
    "sgn (Card (Visa, \"V12345\")) |> printfn \"%A\"\n",
    "printPayment (Card (Visa, \"V12345\"))"
   ]
  },
  {
   "cell_type": "markdown",
   "metadata": {
    "slideshow": {
     "slide_type": "slide"
    }
   },
   "source": [
    "## Expression Trees\n",
    "\n",
    "A more exciting (?) example of a data type, using self-reference"
   ]
  },
  {
   "cell_type": "code",
   "execution_count": 94,
   "metadata": {
    "slideshow": {
     "slide_type": "fragment"
    }
   },
   "outputs": [
    {
     "data": {
      "text/html": [
       "<table><thead><tr><th>Item1</th><th>Item2</th></tr></thead><tbody><tr><td><div class=\"dni-plaintext\">Value: Add</div></td><td><div class=\"dni-plaintext\">Add (Constant 19, Negate (Constant 4))</div></td></tr></tbody></table>"
      ]
     },
     "execution_count": 94,
     "metadata": {},
     "output_type": "execute_result"
    }
   ],
   "source": [
    "type Exp = Constant of int \n",
    "         | Negate of Exp \n",
    "         | Add of Exp * Exp\n",
    "         | Multiply of Exp * Exp\n",
    "         \n",
    "let example_exp = Add (Constant 19, Negate (Constant 4))\n",
    "sgn example_exp, example_exp"
   ]
  },
  {
   "cell_type": "markdown",
   "metadata": {
    "slideshow": {
     "slide_type": "fragment"
    }
   },
   "source": [
    "How to picture the resulting value in your head:\n",
    "```\n",
    "       Add\n",
    "     /     \\\n",
    "Constant Negate\n",
    "   |        |\n",
    "  19    Constant\n",
    "            |\n",
    "            4\n",
    "```"
   ]
  },
  {
   "cell_type": "markdown",
   "metadata": {
    "slideshow": {
     "slide_type": "slide"
    }
   },
   "source": [
    "## Recursion\n",
    "\n",
    "Not surprising:\n",
    "- Functions over recursive data types are usually recursive"
   ]
  },
  {
   "cell_type": "code",
   "execution_count": 97,
   "metadata": {
    "slideshow": {
     "slide_type": "fragment"
    }
   },
   "outputs": [],
   "source": [
    "let rec eval e =\n",
    "    match e with\n",
    "    | Constant i      -> i\n",
    "    | Negate e2       -> -(eval e2)\n",
    "    | Add(e1,e2)      -> (eval e1) + (eval e2)\n",
    "    | Multiply(e1,e2) -> (eval e1) * (eval e2)"
   ]
  },
  {
   "cell_type": "code",
   "execution_count": 95,
   "metadata": {
    "scrolled": true
   },
   "outputs": [
    {
     "data": {
      "text/html": [
       "<table><thead><tr><th>Item1</th><th>Item2</th></tr></thead><tbody><tr><td><div class=\"dni-plaintext\">Function: e:Exp -&gt; int</div></td><td><div class=\"dni-plaintext\">Add (Constant 19, Negate (Constant 4))</div></td></tr></tbody></table>"
      ]
     },
     "execution_count": 95,
     "metadata": {},
     "output_type": "execute_result"
    }
   ],
   "source": [
    "sgn eval, example_exp"
   ]
  },
  {
   "cell_type": "code",
   "execution_count": 98,
   "metadata": {
    "slideshow": {
     "slide_type": "fragment"
    }
   },
   "outputs": [
    {
     "data": {
      "text/html": [
       "<div class=\"dni-plaintext\">15</div>"
      ]
     },
     "execution_count": 98,
     "metadata": {},
     "output_type": "execute_result"
    }
   ],
   "source": [
    "eval example_exp"
   ]
  },
  {
   "cell_type": "code",
   "execution_count": 99,
   "metadata": {
    "slideshow": {
     "slide_type": "subslide"
    }
   },
   "outputs": [],
   "source": [
    "let rec number_of_adds e =\n",
    "    match e with\n",
    "    | Constant i      -> 0\n",
    "    | Negate e2       -> number_of_adds e2\n",
    "    | Add(e1,e2)      -> 1 + number_of_adds e1 + number_of_adds e2\n",
    "    | Multiply(e1,e2) -> number_of_adds e1 + number_of_adds e2"
   ]
  },
  {
   "cell_type": "code",
   "execution_count": 100,
   "metadata": {},
   "outputs": [
    {
     "data": {
      "text/html": [
       "<table><thead><tr><th>Item1</th><th>Item2</th></tr></thead><tbody><tr><td><div class=\"dni-plaintext\">Add\n",
       "  (Negate (Add (Constant 1, Constant 32)),\n",
       "   Multiply\n",
       "     (Add (Constant 19, Negate (Constant 4)),\n",
       "      Add (Constant 19, Negate (Constant 4))))</div></td><td><div class=\"dni-plaintext\">192</div></td></tr></tbody></table>"
      ]
     },
     "execution_count": 100,
     "metadata": {},
     "output_type": "execute_result"
    }
   ],
   "source": [
    "let example_addcount = Add ((Negate (Add (Constant 1, Constant 32))), Multiply(example_exp, example_exp))\n",
    "example_addcount, eval example_addcount"
   ]
  },
  {
   "cell_type": "code",
   "execution_count": 101,
   "metadata": {
    "slideshow": {
     "slide_type": "fragment"
    }
   },
   "outputs": [
    {
     "data": {
      "text/html": [
       "<div class=\"dni-plaintext\">4</div>"
      ]
     },
     "execution_count": 101,
     "metadata": {},
     "output_type": "execute_result"
    }
   ],
   "source": [
    "number_of_adds example_addcount"
   ]
  },
  {
   "cell_type": "markdown",
   "metadata": {
    "slideshow": {
     "slide_type": "slide"
    }
   },
   "source": [
    "Let's define `max_constant : Exp -> int`\n",
    "\n",
    "Good example of combining several topics as we program:\n",
    "- Case expressions\n",
    "- Local helper functions\n",
    "- Avoiding repeated recursion\n",
    "- Simpler solution by using library functions"
   ]
  },
  {
   "cell_type": "code",
   "execution_count": 106,
   "metadata": {
    "slideshow": {
     "slide_type": "fragment"
    }
   },
   "outputs": [],
   "source": [
    "let rec max_constant e =\n",
    "    let max_of_two (e1,e2) =\n",
    "        let m1 = max_constant e1\n",
    "        let m2 = max_constant e2\n",
    "        if m1 > m2 then m1 else m2 \n",
    "\n",
    "    match e with\n",
    "    | Constant i      -> i\n",
    "    | Negate e2       -> max_constant e2\n",
    "    | Add(e1,e2)      -> max_of_two (e1,e2)\n",
    "    | Multiply(e1,e2) -> max_of_two (e1,e2)"
   ]
  },
  {
   "cell_type": "code",
   "execution_count": 107,
   "metadata": {
    "slideshow": {
     "slide_type": "fragment"
    }
   },
   "outputs": [
    {
     "data": {
      "text/html": [
       "<div class=\"dni-plaintext\">32</div>"
      ]
     },
     "execution_count": 107,
     "metadata": {},
     "output_type": "execute_result"
    }
   ],
   "source": [
    "max_constant example_addcount // 32"
   ]
  },
  {
   "cell_type": "markdown",
   "metadata": {
    "slideshow": {
     "slide_type": "slide"
    }
   },
   "source": [
    "## Parameterization\n",
    "\n",
    "- Both *union* and *record* types can be parameterized.\n",
    "\n",
    "- Parameterizing a type means leaving *one or more* of the types within the type being defined to be determined later by the consumer of the types.\n",
    "  - When defining types, you must be a little bit more explicit about which types are variable.\n",
    "  \n",
    "- F# supports two syntaxes for type parameterization."
   ]
  },
  {
   "cell_type": "markdown",
   "metadata": {
    "slideshow": {
     "slide_type": "slide"
    }
   },
   "source": [
    "First, you place the type being parameterized between the keyword `type` and the name of the type, as follows:\n",
    "- The names of type parameters always start with a single quote (') followed by an alphanumeric name for the type.\n",
    "- Typically, just a single letter is used.\n",
    "- If multiple parameterized types are required, you separate them with commas."
   ]
  },
  {
   "cell_type": "code",
   "execution_count": 108,
   "metadata": {
    "slideshow": {
     "slide_type": "fragment"
    }
   },
   "outputs": [],
   "source": [
    "type 'a BinaryTree =\n",
    "    | BinaryNode of 'a BinaryTree * 'a BinaryTree\n",
    "    | BinaryValue of 'a"
   ]
  },
  {
   "cell_type": "code",
   "execution_count": 109,
   "metadata": {
    "slideshow": {
     "slide_type": "fragment"
    }
   },
   "outputs": [
    {
     "data": {
      "text/plain": [
       "Value: BinaryTree<int>"
      ]
     },
     "execution_count": 109,
     "metadata": {},
     "output_type": "execute_result"
    }
   ],
   "source": [
    "let intbt = \n",
    "    BinaryNode(\n",
    "        BinaryNode ( BinaryValue 1, BinaryValue 2),\n",
    "        BinaryNode ( BinaryValue 3, BinaryValue 4)\n",
    "    )\n",
    "sgn intbt"
   ]
  },
  {
   "cell_type": "code",
   "execution_count": 112,
   "metadata": {
    "scrolled": true,
    "slideshow": {
     "slide_type": "fragment"
    }
   },
   "outputs": [
    {
     "data": {
      "text/plain": [
       "Value: BinaryTree<char>"
      ]
     },
     "execution_count": 112,
     "metadata": {},
     "output_type": "execute_result"
    }
   ],
   "source": [
    "let chbt = \n",
    "    BinaryNode(\n",
    "        BinaryNode ( BinaryValue 'a', BinaryValue 'b'),\n",
    "        BinaryValue ('c')\n",
    "    )\n",
    "sgn chbt"
   ]
  },
  {
   "cell_type": "markdown",
   "metadata": {
    "slideshow": {
     "slide_type": "slide"
    }
   },
   "source": [
    "In the second syntax, you place the types being parameterized in *angle brackets* after the type name, as follows:"
   ]
  },
  {
   "cell_type": "code",
   "execution_count": 113,
   "metadata": {
    "slideshow": {
     "slide_type": "fragment"
    }
   },
   "outputs": [],
   "source": [
    "type Tree<'a> =\n",
    "    | Node of Tree<'a> list\n",
    "    | Value of 'a"
   ]
  },
  {
   "cell_type": "code",
   "execution_count": 114,
   "metadata": {
    "slideshow": {
     "slide_type": "fragment"
    }
   },
   "outputs": [
    {
     "data": {
      "text/html": [
       "<table><thead><tr><th>Item1</th><th>Item2</th></tr></thead><tbody><tr><td><div class=\"dni-plaintext\">Value: Tree&lt;string&gt;</div></td><td><div class=\"dni-plaintext\">Node [Node [Value &quot;one&quot;; Value &quot;two&quot;]; Node [Value &quot;three&quot;; Value &quot;four&quot;]]</div></td></tr></tbody></table>"
      ]
     },
     "execution_count": 114,
     "metadata": {},
     "output_type": "execute_result"
    }
   ],
   "source": [
    "let tree1 =\n",
    "    Node(\n",
    "        [ Node( [Value \"one\"; Value \"two\"] ) ;\n",
    "          Node( [Value \"three\"; Value \"four\"] ) ]\n",
    "    )\n",
    "sgn tree1, tree1"
   ]
  },
  {
   "cell_type": "code",
   "execution_count": 115,
   "metadata": {
    "slideshow": {
     "slide_type": "fragment"
    }
   },
   "outputs": [
    {
     "data": {
      "text/html": [
       "<table><thead><tr><th>Item1</th><th>Item2</th></tr></thead><tbody><tr><td><div class=\"dni-plaintext\">Value: Tree&lt;int&gt;</div></td><td><div class=\"dni-plaintext\">Node [Node [Value 1; Value 2]; Node [Value 3]]</div></td></tr></tbody></table>"
      ]
     },
     "execution_count": 115,
     "metadata": {},
     "output_type": "execute_result"
    }
   ],
   "source": [
    "let tree2 = \n",
    "    Node(\n",
    "        [ Node( [Value 1; Value 2] ) ;\n",
    "          Node( [Value 3] ) ]\n",
    "    )\n",
    "sgn tree2, tree2"
   ]
  },
  {
   "cell_type": "markdown",
   "metadata": {
    "slideshow": {
     "slide_type": "slide"
    }
   },
   "source": [
    "The syntax for creating and consuming an instance of a parameterized type does not change from that of creating and consuming a nonparameterized type.\n",
    "- This is because the compiler will automatically infer the type parameters of the parameterized type."
   ]
  },
  {
   "cell_type": "code",
   "execution_count": 116,
   "metadata": {
    "slideshow": {
     "slide_type": "fragment"
    }
   },
   "outputs": [],
   "source": [
    "let rec printTreeValues x =\n",
    "    match x with\n",
    "    | Node l -> List.iter printTreeValues l\n",
    "    | Value x -> printf \"%A, \" x"
   ]
  },
  {
   "cell_type": "code",
   "execution_count": 117,
   "metadata": {
    "slideshow": {
     "slide_type": "fragment"
    }
   },
   "outputs": [
    {
     "name": "stdout",
     "output_type": "stream",
     "text": [
      "\"one\", \"two\", \"three\", \"four\", "
     ]
    }
   ],
   "source": [
    "printTreeValues tree1"
   ]
  },
  {
   "cell_type": "code",
   "execution_count": 118,
   "metadata": {
    "slideshow": {
     "slide_type": "fragment"
    }
   },
   "outputs": [
    {
     "name": "stdout",
     "output_type": "stream",
     "text": [
      "1, 2, 3, "
     ]
    }
   ],
   "source": [
    "printTreeValues tree2"
   ]
  },
  {
   "cell_type": "code",
   "execution_count": 138,
   "metadata": {
    "slideshow": {
     "slide_type": "subslide"
    }
   },
   "outputs": [
    {
     "data": {
      "text/plain": [
       "Function: t:Tree<int> -> int"
      ]
     },
     "execution_count": 138,
     "metadata": {},
     "output_type": "execute_result"
    }
   ],
   "source": [
    "let rec sum t = \n",
    "    match t with\n",
    "    | Value i -> i\n",
    "    | Node [] -> 0 // ??? string or int ???\n",
    "    | Node (x::xs) -> (sum x) + (sum (Node xs))\n",
    "    \n",
    "sgn sum"
   ]
  },
  {
   "cell_type": "code",
   "execution_count": 136,
   "metadata": {
    "slideshow": {
     "slide_type": "fragment"
    }
   },
   "outputs": [
    {
     "data": {
      "text/html": [
       "<table><thead><tr><th>Item1</th><th>Item2</th></tr></thead><tbody><tr><td><div class=\"dni-plaintext\">Node [Node [Value 1; Value 2]; Node [Value 3]]</div></td><td><div class=\"dni-plaintext\">6</div></td></tr></tbody></table>"
      ]
     },
     "execution_count": 136,
     "metadata": {},
     "output_type": "execute_result"
    }
   ],
   "source": [
    "tree2, sum tree2"
   ]
  },
  {
   "cell_type": "code",
   "execution_count": 137,
   "metadata": {},
   "outputs": [
    {
     "name": "stderr",
     "output_type": "stream",
     "text": [
      "Stopped due to error\n",
      "\n",
      "input.fsx (1,12)-(1,17) typecheck error Type mismatch. Expecting a\n",
      "    'Tree<int>'    \n",
      "but given a\n",
      "    'Tree<string>'    \n",
      "The type 'int' does not match the type 'string'\n",
      "\n"
     ]
    },
    {
     "ename": "Cell not executed",
     "evalue": "compilation error",
     "output_type": "error",
     "traceback": []
    }
   ],
   "source": [
    "tree1, sum tree1"
   ]
  },
  {
   "cell_type": "markdown",
   "metadata": {
    "slideshow": {
     "slide_type": "slide"
    }
   },
   "source": [
    "## Polymorphism\n",
    "\n",
    "A **generic** or **polymorphic** subprogram takes parameters of different types on different activations\n",
    "- Overloaded subprograms provide **ad hoc polymorphism**\n",
    "- **Subtype polymorphism** means that a variable of type `T` can access any object of type `T` or any type derived from `T` (OOP languages)"
   ]
  },
  {
   "cell_type": "markdown",
   "metadata": {
    "slideshow": {
     "slide_type": "slide"
    }
   },
   "source": [
    "## Parametric Polymorphism\n",
    "\n",
    "**Parametric** polymorphism is provided by a subprogram that takes **generic** parameters that are used in type expressions that describe the types\n",
    "of the parameters of the subprogram.\n",
    "\n",
    "Different instantiations of such subprograms can be given different generic parameters, producing subprograms that take different types of parameters.\n",
    " - A cheap compile-time substitute for dynamic binding"
   ]
  },
  {
   "cell_type": "markdown",
   "metadata": {
    "slideshow": {
     "slide_type": "slide"
    }
   },
   "source": [
    "## Generic Functions\n",
    "\n",
    "A key feature of F# is the automatic generalization of code. The combination of automatic generalization and type inference makes:\n",
    "- many programs simpler, and more general,\n",
    "- enhances code reuse\n",
    "\n",
    "Automatic generalization is applied when a `let` or `member` definition doesn't fully constrain the types of inputs or outputs.\n",
    "- You can tell automatic generalization has been applied by the presence of type variables in an inferred type, and\n",
    "- ultimately by the fact that you can reuse a construct with multiple types."
   ]
  },
  {
   "cell_type": "code",
   "execution_count": 139,
   "metadata": {
    "slideshow": {
     "slide_type": "slide"
    }
   },
   "outputs": [
    {
     "data": {
      "text/html": [
       "<table><thead><tr><th>Item1</th><th>Item2</th></tr></thead><tbody><tr><td><div class=\"dni-plaintext\">Function: tupledArg:obj * obj * obj -&gt; obj</div></td><td><div class=\"dni-plaintext\">Function: f:(obj -&gt; obj) -&gt; g:(obj -&gt; obj) -&gt; tupledArg:obj * obj -&gt; obj * obj</div></td></tr></tbody></table>"
      ]
     },
     "execution_count": 139,
     "metadata": {},
     "output_type": "execute_result"
    }
   ],
   "source": [
    "// Evaluate functions in the interpreter\n",
    "let getFirst (a,b,c) = a\n",
    "let mapPair f g (x, y) = (f x, g y)\n",
    "sgn getFirst, sgn mapPair"
   ]
  },
  {
   "cell_type": "code",
   "execution_count": 140,
   "metadata": {
    "slideshow": {
     "slide_type": "fragment"
    }
   },
   "outputs": [
    {
     "data": {
      "text/html": [
       "<div class=\"dni-plaintext\">1</div>"
      ]
     },
     "execution_count": 140,
     "metadata": {},
     "output_type": "execute_result"
    }
   ],
   "source": [
    "getFirst (1,2.0,3)"
   ]
  },
  {
   "cell_type": "code",
   "execution_count": 141,
   "metadata": {
    "slideshow": {
     "slide_type": "fragment"
    }
   },
   "outputs": [
    {
     "data": {
      "text/html": [
       "<div class=\"dni-plaintext\">a</div>"
      ]
     },
     "execution_count": 141,
     "metadata": {},
     "output_type": "execute_result"
    }
   ],
   "source": [
    "getFirst ('a',2.0,3)"
   ]
  },
  {
   "cell_type": "code",
   "execution_count": 144,
   "metadata": {
    "slideshow": {
     "slide_type": "fragment"
    }
   },
   "outputs": [
    {
     "data": {
      "text/html": [
       "<table><thead><tr><th>Item1</th><th>Item2</th></tr></thead><tbody><tr><td><div class=\"dni-plaintext\">2</div></td><td><div class=\"dni-plaintext\">6</div></td></tr></tbody></table>"
      ]
     },
     "execution_count": 144,
     "metadata": {},
     "output_type": "execute_result"
    }
   ],
   "source": [
    "mapPair (fun x-> int (x+1.5)) (fun x-> string (x*2)) (1.4,3)"
   ]
  },
  {
   "cell_type": "markdown",
   "metadata": {
    "slideshow": {
     "slide_type": "slide"
    }
   },
   "source": [
    "## Units\n",
    "\n",
    "F# has the ability to define units of measure and associate them with other types.\n",
    "- The unit of measure is then \"attached\" to the declared type as a additional type and prevents mixing different types."
   ]
  },
  {
   "cell_type": "code",
   "execution_count": 145,
   "metadata": {
    "slideshow": {
     "slide_type": "fragment"
    }
   },
   "outputs": [],
   "source": [
    "[<Measure>] \n",
    "type cm\n",
    "\n",
    "[<Measure>] \n",
    "type inch\n",
    "\n",
    "let meter = 100<cm>\n",
    "let yard = 36<inch>"
   ]
  },
  {
   "cell_type": "code",
   "execution_count": 146,
   "metadata": {
    "slideshow": {
     "slide_type": "slide"
    }
   },
   "outputs": [
    {
     "name": "stderr",
     "output_type": "stream",
     "text": [
      "Stopped due to error\n",
      "\n",
      "input.fsx (1,8)-(1,13) typecheck error The unit of measure 'cm' does not match the unit of measure 'inch'\n",
      "\n",
      "input.fsx (1,6)-(1,7) typecheck error The unit of measure 'cm' does not match the unit of measure 'inch'\n",
      "\n"
     ]
    },
    {
     "ename": "Cell not executed",
     "evalue": "compilation error",
     "output_type": "error",
     "traceback": []
    }
   ],
   "source": [
    "yard + meter // not allowed: different measures"
   ]
  },
  {
   "cell_type": "code",
   "execution_count": 147,
   "metadata": {
    "slideshow": {
     "slide_type": "fragment"
    }
   },
   "outputs": [
    {
     "name": "stderr",
     "output_type": "stream",
     "text": [
      "Stopped due to error\n",
      "\n",
      "input.fsx (1,8)-(1,9) typecheck error The type 'int' does not match the type 'int<inch>'\n",
      "\n",
      "input.fsx (1,6)-(1,7) typecheck error The type 'int' does not match the type 'int<inch>'\n",
      "\n"
     ]
    },
    {
     "ename": "Cell not executed",
     "evalue": "compilation error",
     "output_type": "error",
     "traceback": []
    }
   ],
   "source": [
    "yard + 1  // not allowed: didn't specify a measure type"
   ]
  },
  {
   "cell_type": "code",
   "execution_count": 149,
   "metadata": {
    "slideshow": {
     "slide_type": "fragment"
    }
   },
   "outputs": [
    {
     "data": {
      "text/html": [
       "<table><thead><tr><th>Item1</th><th>Item2</th></tr></thead><tbody><tr><td><div class=\"dni-plaintext\">37</div></td><td><div class=\"dni-plaintext\">111</div></td></tr></tbody></table>"
      ]
     },
     "execution_count": 149,
     "metadata": {},
     "output_type": "execute_result"
    }
   ],
   "source": [
    "yard + 1<inch>, meter + 11<cm>"
   ]
  },
  {
   "cell_type": "markdown",
   "metadata": {
    "slideshow": {
     "slide_type": "slide"
    }
   },
   "source": [
    "## Exceptions\n",
    "\n",
    "- F# supports throwing and catching exceptions.\n",
    "\n",
    "- Exception definitions in F# are similar to defining a constructor of a union type, and the syntax for handling exceptions is similar to pattern matching.\n",
    "\n",
    "- You define exceptions using the `exception` keyword followed:\n",
    "  - by the **name** of the exception, and\n",
    "  - then optionally the keyword of and the types of any values the exception should contain, with multiple types separated by asterisks.\n",
    " "
   ]
  },
  {
   "cell_type": "code",
   "execution_count": null,
   "metadata": {
    "slideshow": {
     "slide_type": "fragment"
    }
   },
   "outputs": [],
   "source": [
    "exception WrongSecond of int"
   ]
  },
  {
   "cell_type": "markdown",
   "metadata": {
    "slideshow": {
     "slide_type": "slide"
    }
   },
   "source": [
    "## Raising Exceptions\n",
    "\n",
    "You can raise exceptions with the `raise` keyword, as shown in the `else` clause in the following `testSecond` function."
   ]
  },
  {
   "cell_type": "code",
   "execution_count": null,
   "metadata": {
    "slideshow": {
     "slide_type": "fragment"
    }
   },
   "outputs": [],
   "source": [
    "let primes = [ 2; 3; 5; 7; 11; 13; 17; 19; 23; 29; 31; 37; 41; 43; 47; 53; 59 ]\n",
    "\n",
    "let testSecond() =\n",
    "    try\n",
    "        let currentSecond = System.DateTime.Now.Second in\n",
    "        if List.exists (fun x -> x = currentSecond) primes then\n",
    "            failwithf \"A prime second: %d\" currentSecond\n",
    "        else\n",
    "            raise (WrongSecond currentSecond)\n",
    "    with\n",
    "        WrongSecond x -> printfn \"The current was %i, which is not prime\" x\n",
    "    printfn \"Done!!!\"\n",
    "    \n",
    "testSecond()"
   ]
  },
  {
   "cell_type": "markdown",
   "metadata": {
    "slideshow": {
     "slide_type": "subslide"
    }
   },
   "source": [
    "F# also has an alterative to the `raise` keyword, the `failwith` function\n",
    "- If you just want to raise an exception with a text description of what went wrong, you can use `failwith` to raise a generic exception that contains the text passed to the function."
   ]
  },
  {
   "cell_type": "markdown",
   "metadata": {
    "slideshow": {
     "slide_type": "slide"
    }
   },
   "source": [
    "## Exception Handling\n",
    "\n",
    "The `try` and `with` keywords handle exceptions.\n",
    "- The expressions that are subject to error handling go between the `try` and `with` keywords, and\n",
    "- one or more pattern matching rules must follow the `with` keyword.\n",
    "\n",
    "When trying to match an F# exception, the syntax follows that of trying to match an F# constructor from a union type.\n",
    "- The first half of the rule consists of the exception name, followed by identifiers or wildcards to match values that the exception contains.\n",
    "- The second half of the rule is an expression that states how the exception should be handled."
   ]
  }
 ],
 "metadata": {
  "celltoolbar": "Slideshow",
  "kernelspec": {
   "display_name": ".NET (F#)",
   "language": "F#",
   "name": ".net-fsharp"
  },
  "language": "fsharp",
  "language_info": {
   "file_extension": ".fs",
   "mimetype": "text/x-fsharp",
   "name": "C#",
   "pygments_lexer": "fsharp",
   "version": "4.5"
  }
 },
 "nbformat": 4,
 "nbformat_minor": 2
}
