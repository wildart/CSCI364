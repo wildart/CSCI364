{
  "cells": [
    {
      "metadata": {
        "collapsed": true
      },
      "cell_type": "markdown",
      "source": "# Lab 3: Recursive Data Types"
    },
    {
      "metadata": {},
      "cell_type": "markdown",
      "source": "In this lab, you will implement a binary tree data structure.\n\nAll functions should be defined within a module named `Tree`, and you should submit the file Tree.fs. File names are case sensitive. Verbal\nresponses to non-programming questions should be in the form of comments in your code.\n\nFYI: Link to F# Interactive Console: https://notebooks.azure.com/adiky/projects/csci-374/html/FSharp.zip (Windows 7 only)"
    },
    {
      "metadata": {},
      "cell_type": "markdown",
      "source": "## Problem 1 (5 pts)\n\nDefine a parametric data type called `Tree` a that has two constructors (5 pts):\n- `Leaf` :: `Tree`\n- `Node` :: `'a * Tree<'a> * Tree<'a> -> Tree<'a>`\n\nTrees of this type will contain a single piece of data of type a at each node, and **no data at their leaves**."
    },
    {
      "metadata": {
        "trusted": true
      },
      "cell_type": "code",
      "source": "type Tree<'a> =\n    ...",
      "execution_count": 16,
      "outputs": []
    },
    {
      "metadata": {},
      "cell_type": "markdown",
      "source": "Test your type:"
    },
    {
      "metadata": {
        "trusted": true
      },
      "cell_type": "code",
      "source": "let tree = Node(1, Node(2, Leaf, Leaf), Node(3, Node(4, Leaf, Leaf), Leaf))\ntree",
      "execution_count": 19,
      "outputs": [
        {
          "output_type": "execute_result",
          "execution_count": 19,
          "data": {
            "text/plain": "Node (1,Node (2,Leaf,Leaf),Node (3,Node (4,Leaf,Leaf),Leaf))"
          },
          "metadata": {}
        }
      ]
    },
    {
      "metadata": {},
      "cell_type": "markdown",
      "source": "## Problem 2 (10 pts)\n\nDefine a function `mapT :: (a -> b) -> Tree<'a> -> Tree<'b>` that operates on trees the same way that `List.map` operates on lists. In other words, `mapT` should take a function and apply it to every data item of type a within a tree of type `Tree<'a>`."
    },
    {
      "metadata": {
        "trusted": true
      },
      "cell_type": "code",
      "source": "let rec mapT f tree = \n    ...",
      "execution_count": 24,
      "outputs": []
    },
    {
      "metadata": {},
      "cell_type": "markdown",
      "source": "Test your function:"
    },
    {
      "metadata": {
        "trusted": true
      },
      "cell_type": "code",
      "source": "// returns Node (1,Node (4,Leaf,Leaf),Node (9,Node (16,Leaf,Leaf),Leaf))\nmapT (fun n -> n*n) tree",
      "execution_count": 25,
      "outputs": [
        {
          "output_type": "execute_result",
          "execution_count": 25,
          "data": {
            "text/plain": "Node (1,Node (4,Leaf,Leaf),Node (9,Node (16,Leaf,Leaf),Leaf))"
          },
          "metadata": {}
        }
      ]
    },
    {
      "metadata": {},
      "cell_type": "markdown",
      "source": "## Problem 3 (10 pts)\n\nDefine a function `foldT :: (a -> b -> b -> b) -> b -> Tree<'a> -> b` that opeates on trees the same way that `List.fold` operates on lists. In other words, the base item of type `b` should replace the `Leaf` constructor in the tree, and the function of type `a -> b -> b -> b` should replace the `Node` constructor in the tree."
    },
    {
      "metadata": {
        "trusted": true
      },
      "cell_type": "code",
      "source": "let rec foldT f b tree =\n    ...",
      "execution_count": 28,
      "outputs": []
    },
    {
      "metadata": {},
      "cell_type": "markdown",
      "source": "Test your function:"
    },
    {
      "metadata": {
        "trusted": true
      },
      "cell_type": "code",
      "source": "// returns 10\nfoldT (fun bv tv1 tv2 -> bv+tv1+tv2) 0 tree",
      "execution_count": 39,
      "outputs": [
        {
          "output_type": "execute_result",
          "execution_count": 39,
          "data": {
            "text/plain": "10"
          },
          "metadata": {}
        }
      ]
    }
  ],
  "metadata": {
    "kernelspec": {
      "name": "ifsharp",
      "display_name": "F#",
      "language": "fsharp"
    },
    "language_info": {
      "mimetype": "text/x-fsharp",
      "nbconvert_exporter": "",
      "name": "fsharp",
      "pygments_lexer": "",
      "version": "4.3.1.0",
      "file_extension": ".fs",
      "codemirror_mode": ""
    },
    "language": "fsharp"
  },
  "nbformat": 4,
  "nbformat_minor": 2
}