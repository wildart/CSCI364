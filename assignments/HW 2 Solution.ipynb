{
  "cells": [
    {
      "metadata": {},
      "cell_type": "markdown",
      "source": "# Assignment 2\n\nIn this assignment, you will write a program that plot ASCII text approximations of the [Mandelbrot set](https://en.wikipedia.org/wiki/Mandelbrot_set).\n"
    },
    {
      "metadata": {
        "collapsed": true
      },
      "cell_type": "markdown",
      "source": "## Problems\n\n### Problem 1\n\nConsider the function $P_{(x,y)}$ defined as follows:\n\n$$P_{(x,y)} (u, v) = (u^2 − v^2 + x, 2uv + y)$$\n\nWe define the orbit $O(x, y)$ of a point $(x, y)$ to be an infinite list of items:\n\n$$O(x, y) = \\{(0, 0), P_{(x,y)}(0, 0), P_{(x,y)}(P_{(x,y)}(0, 0)), P_{(x,y)}(P_{(x,y)}(P_{(x,y)}(0, 0))), \\ldots \\}$$\n\nIn other words, the nth entry of the list $O(x, y)$ is the $P_{(x,y)}$ function composed with itself n times and then applied to $(0, 0)$.\n\nDefine a F# function `orbit` that takes a single point $(x,y)$ and index $i$ as an arguments and returns an $i^{th}$ element of the infinite list corresponding to $O(x,y)$.\n\n- You may want to define a helper function corresponding to $P_{(x,y)}$."
    },
    {
      "metadata": {},
      "cell_type": "markdown",
      "source": "\n\n### Problem 2\n\nDefine a recursive function `disp` that takes two arguments:\n\n- a number `d`, and\n- a list of tuples `pairs`.\n\nEvery tuple in this input list consists of a number followed by a character, and\nyou can assume the input list is always in ascending order. For example, a possible\ninput list might be:\n\n```fsharp\n[(0.15, '#'), (0.5, 'x'), (1.0, '.')]\n```\n\nThe function `disp` should return the character from the list that corresponds\nto the **smallest number** on the list that is greater than the input `d`, and\nif `d` is  larger than all the number in the list, `disp` should return a space\ncharacter, ' '. For example,\n\n```fsharp\ndisp 0.01 [(0.15, '#'), (0.5, 'x'), (1.0, '.')] = '#'\ndisp 0.4 [(0.15, '#'), (0.5, 'x'), (1.0, '.')]  = 'x'\ndisp 100 [(0.15, '#'), (0.5, 'x'), (1.0, '.')]  = ' '\n```"
    },
    {
      "metadata": {},
      "cell_type": "markdown",
      "source": "\n### Problem 3\n\nOne way to approximate the Mandelbrot set is to consider a certain element\nwithin the orbit of every point on the plane (such as the 12th element) and\nto check whether that element is within a a certain distance from the origin;\nif it is within this distance, then a non-blank character should be printed,\nelse it should be left blank. You should use the following function to calculate\ndistances of points from the origin:\n```fsharp\nlet norm (x,y) = x*x + y*y\n```\nThese distance values can then be used with `disp` and `orbit` to turn points on\nthe plane into appropriate ASCII characters within an ASCII plot of\nthe Mandelbrot set.\n\nDefine a function `mandelbrot` that takes three arguments:\n\n- the resolution of the approximation, `r` (used with the `plane` function),\n- the index of the elements, `i`, to check in the orbit lists of the points, and\n- the formatting list, `l` (to be used with the `disp` function).\n\nThis function should return a list of characters that corresponds to a picture approximating the shape of the Mandelbrot set on the plane.\n\nYou will need to combine the `split`, `plane`, `disp`, and `orbit` functions\nappropriately; list comprehensions are allowed.\n\nOnce you’ve defined the function `mandelbrot`, you can generate an ASCII version of\nan approximation of the Mandelbrot set by evaluating the expression:\n\n```fsharp\nmandelbrot 17 12 disp_symbols |> printfn \"%s\";;\n```"
    },
    {
      "metadata": {},
      "cell_type": "markdown",
      "source": "## Submission\n\nFill the missing parts of the functions (see below) and submit through the Blackboard."
    },
    {
      "metadata": {},
      "cell_type": "markdown",
      "source": "## Lab Source Core"
    },
    {
      "metadata": {
        "trusted": true
      },
      "cell_type": "code",
      "source": "let disp_symbols = [(0.15, '#'); (0.5, 'x'); (1.0, '.')]\n\nlet str chs = List.fold (fun str x -> str + x.ToString()) \"\" chs\n\nlet plane r = [\n    for y in -1.0 .. 1.0/r .. 1.0 do\n        for x in -2.0 .. 1.0/r .. 1.0 do\n            yield (x, y) ]\n            \nlet norm (x,y) :float = x*x + y*y",
      "execution_count": 6,
      "outputs": []
    },
    {
      "metadata": {},
      "cell_type": "markdown",
      "source": "# Solution"
    },
    {
      "metadata": {
        "trusted": true
      },
      "cell_type": "code",
      "source": "let split n ch xs =\n    let rec splitloop c ch xs =\n        match xs with\n        | [] -> []\n        | x::xs when c = 1 -> x :: ch :: splitloop n ch xs\n        | x::xs -> x :: splitloop (c-1) ch xs\n    splitloop n ch xs\n\nlet P (x,y) = fun (u,v) -> (u*u - v*v + x, 2.0*u*v+y)\n\nlet rec orbit (x,y) i =    \n    match i with\n    | 0 -> (0.0, 0.0)\n    | _ -> orbit (x,y) (i-1) |> P (x,y)\n\nlet disp xs (d:float) =\n    let rec mintup xs =\n        match xs with\n        | (v,c)::xs when v < d -> mintup xs\n        | x::xs -> x |> snd\n        | [] -> ' '\n    mintup xs\n\nlet mandelbrot r i = \n    [ for p in plane (float r) do\n          yield orbit p i |> norm |> disp disp_symbols\n    ] |> split (3*r+1) '\\n' |> str",
      "execution_count": 10,
      "outputs": []
    },
    {
      "metadata": {
        "trusted": true
      },
      "cell_type": "code",
      "source": "mandelbrot 17 12 |> printfn \"%s\"",
      "execution_count": 11,
      "outputs": [
        {
          "output_type": "display_data",
          "data": {
            "text/plain": "##############                              ########\n############                    .            #######\n###########                     #.            ######\n#########                     ####x           ######\n########                      ####x            #####\n######                   .    x###              ####\n#####                    x  .xx###...           ####\n####                     xx..xxx#xxxxx ##       ####\n###                      xxxxxxxxxxxxx##.        ###\n##                    ..x#xxxxxx#xxxxx#x         ###\n#                      xx##xxx#######xxxx        ###\n                      xxxxx###########xx..#      ###\n              x. #.   .xxxx###########xxx         ##\n              ######  .xxxx############x#.        ##\n             #######xxxxxx#############xx         ##\n             x#######xxxxx#############xx         ##\n           ############xx##############x          ##\n # ##x  ###############xx##############             \n           ############xx##############x          ##\n             x#######xxxxx#############xx         ##\n             #######xxxxxx#############xx         ##\n              ######  .xxxx############x#.        ##\n              x. #.   .xxxx###########xxx         ##\n                      xxxxx###########xx..#      ###\n#                      xx##xxx#######xxxx        ###\n##                    ..x#xxxxxx#xxxxx#x         ###\n###                      xxxxxxxxxxxxx##.        ###\n####                     xx..xxx#xxxxx ##       ####\n#####                    x  .xx###...           ####\n######                   .    x###              ####\n########                      ####x            #####\n#########                     ####x           ######\n###########                     #.            ######\n############                    .            #######\n##############                              ########\n\n"
          },
          "metadata": {}
        }
      ]
    }
  ],
  "metadata": {
    "kernelspec": {
      "name": "ifsharp",
      "display_name": "F#",
      "language": "fsharp"
    },
    "language_info": {
      "mimetype": "text/x-fsharp",
      "nbconvert_exporter": "",
      "name": "fsharp",
      "pygments_lexer": "",
      "version": "4.3.1.0",
      "file_extension": ".fs",
      "codemirror_mode": ""
    },
    "language": "fsharp"
  },
  "nbformat": 4,
  "nbformat_minor": 2
}