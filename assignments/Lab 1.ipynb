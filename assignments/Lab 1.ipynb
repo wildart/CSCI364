{
  "cells": [
    {
      "metadata": {
        "collapsed": true
      },
      "cell_type": "markdown",
      "source": "# Lab1: Recursive Functions and Lists"
    },
    {
      "metadata": {},
      "cell_type": "markdown",
      "source": "Link to F# Interactive Console: https://notebooks.azure.com/adiky/projects/csci-374/html/FSharp.zip"
    },
    {
      "metadata": {},
      "cell_type": "markdown",
      "source": "## Problem 1 (10 pts)\n\nDefine a recursive function `prefix` that accepts a positive integer `n` and a list `xs` as input, and returns a list containing **only** the first `n` elements in `xs`.\n- This function must have a recursive definition and does not use any library functions!"
    },
    {
      "metadata": {
        "trusted": true
      },
      "cell_type": "code",
      "source": "let rec prefix n xs =\n    ...",
      "execution_count": null,
      "outputs": []
    },
    {
      "metadata": {},
      "cell_type": "markdown",
      "source": "Test you function:"
    },
    {
      "metadata": {
        "trusted": true
      },
      "cell_type": "code",
      "source": "prefix 1 []      = []      |> printfn \"%b\"\nprefix 2 []      = []      |> printfn \"%b\"\nprefix 1 [1]     = [1]     |> printfn \"%b\"\nprefix 1 [1;2]   = [1]     |> printfn \"%b\"\nprefix 3 [1..10] = [1;2;3] |> printfn \"%b\"",
      "execution_count": null,
      "outputs": []
    },
    {
      "metadata": {},
      "cell_type": "markdown",
      "source": "## Problem 2 (10 pts)\n\nDefine a recursive function `suffix` that accepts a positive integer `n` and a list `xs` as input, and returns the list of elements that remain **after** the first `n` elements are dropped from the front of the list `xs`.\n- This function must have a recursive definition, and may not use any library functions!"
    },
    {
      "metadata": {
        "trusted": true
      },
      "cell_type": "code",
      "source": "let rec suffix n xs =\n    ...",
      "execution_count": null,
      "outputs": []
    },
    {
      "metadata": {},
      "cell_type": "markdown",
      "source": "Test you function:"
    },
    {
      "metadata": {
        "trusted": true
      },
      "cell_type": "code",
      "source": "suffix 1 []      = []      |> printfn \"%b\"\nsuffix 2 []      = []      |> printfn \"%b\"\nsuffix 1 [1]     = []      |> printfn \"%b\"\nsuffix 1 [1;2]   = [2]     |> printfn \"%b\"\nsuffix 6 [1..9]  = [7;8;9] |> printfn \"%b\"",
      "execution_count": 14,
      "outputs": [
        {
          "output_type": "display_data",
          "data": {
            "text/plain": "true\ntrue\ntrue\ntrue\ntrue\n"
          },
          "metadata": {}
        }
      ]
    },
    {
      "metadata": {},
      "cell_type": "markdown",
      "source": "## Problem 3 (15 pts)\n\nDefine a function `split` that takes a positive integer `n`, an element `y`, and a list `xs`.\n- The function should insert the specified element `y` after every `n` elements in the list `xs`.\n- This function should work even when applied to infinite lists.\n\nThe following example illustrates how this function should work:"
    },
    {
      "metadata": {
        "trusted": true
      },
      "cell_type": "code",
      "source": "let split n y xs =\n    ...",
      "execution_count": null,
      "outputs": []
    },
    {
      "metadata": {
        "trusted": true
      },
      "cell_type": "code",
      "source": "split 2 'X' ['a'; 'b'; 'c'; 'd'; 'e'; 'f'] = ['a'; 'b'; 'X'; 'c'; 'd'; 'X'; 'e'; 'f'; 'X']\nsplit 3 'X' ['a'; 'b'; 'c'; 'd'; 'e'; 'f'] = ['a'; 'b'; 'c'; 'X'; 'd'; 'e'; 'f'; 'X']",
      "execution_count": null,
      "outputs": []
    }
  ],
  "metadata": {
    "kernelspec": {
      "name": "ifsharp",
      "display_name": "F#",
      "language": "fsharp"
    },
    "language_info": {
      "mimetype": "text/x-fsharp",
      "nbconvert_exporter": "",
      "name": "fsharp",
      "pygments_lexer": "",
      "version": "4.3.1.0",
      "file_extension": ".fs",
      "codemirror_mode": ""
    },
    "language": "fsharp"
  },
  "nbformat": 4,
  "nbformat_minor": 2
}