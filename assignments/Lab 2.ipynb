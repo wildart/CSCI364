{
  "cells": [
    {
      "metadata": {
        "collapsed": true
      },
      "cell_type": "markdown",
      "source": "# LL(1) Parser"
    },
    {
      "metadata": {},
      "cell_type": "markdown",
      "source": "For the grammar:\n```\n1. S --> TT\n2. T --> aT\n3. T --> b   \n```\n\n## Problems\n\n- Calculate LL(1) parse table\n- Parse string \"abab\" and construct its parse tree\n\n- Bonus:\n    - Parse string \"aabb\" and construct its parse tree\n    \n## Prerequisites\n\nYou can download `lexer.fsx` and `ll1-parser.fsx` from [CSCI364 lab repository](https://notebooks.azure.com/adiky/projects/csci-374-labs)."
    },
    {
      "metadata": {},
      "cell_type": "markdown",
      "source": "## Lab Source Code\n\n- Use following source code snippets in your lab source code file\n- Use F# Interactive console to evaluate them"
    },
    {
      "metadata": {
        "trusted": true
      },
      "cell_type": "code",
      "source": "// Load required dependencies\n#load \"lexer.fsx\"\n#load \"ll1-parser.fsx\"\nopen CSCI374.Lexer",
      "execution_count": 1,
      "outputs": []
    },
    {
      "metadata": {
        "trusted": true
      },
      "cell_type": "code",
      "source": "// This is a gramma representation as an array of rules\nlet grammar = [|\n    (NonTerminal S, [NonTerminal T; NonTerminal T]);\n    (NonTerminal T, [Terminal A; NonTerminal T]);\n    (NonTerminal T, [Terminal B])\n|]",
      "execution_count": 2,
      "outputs": []
    },
    {
      "metadata": {},
      "cell_type": "markdown",
      "source": "Calculate a parse table for the above grammar and write it as a list of tuples of the following form:\n```\n((nonterminal, terminal), rule_number)\n```\nwhere the tuple `(nonterminal, terminal)` determines a cell in the parse table, and  `rule_number` is a index of the rule in the above `grammar` array. Rules are enumerated from 1.\n\nExample:\n\n```fsharp\n    ((S,B), 1)\n```\nCell for nonterminal `S` and terminal `b` for rule `S -->TT`\n"
    },
    {
      "metadata": {
        "trusted": true
      },
      "cell_type": "code",
      "source": "// LL(1) parse table\nlet table = [...]",
      "execution_count": 4,
      "outputs": []
    },
    {
      "metadata": {},
      "cell_type": "markdown",
      "source": "Run parser function `CSCI374.LL1.parse` with tree parameters: `grammar`, parse `table`, and `input` string."
    },
    {
      "metadata": {
        "trusted": true
      },
      "cell_type": "code",
      "source": "CSCI374.LL1.parse grammar table \"abab\"",
      "execution_count": null,
      "outputs": []
    },
    {
      "metadata": {},
      "cell_type": "markdown",
      "source": "Determine the sequance of the grammar rules from the parser output and build a parse tree."
    },
    {
      "metadata": {},
      "cell_type": "markdown",
      "source": "## Submission\n\nSubmit your lab source code text and parser output through the Blackboard."
    }
  ],
  "metadata": {
    "kernelspec": {
      "name": "ifsharp",
      "display_name": "F#",
      "language": "fsharp"
    },
    "language_info": {
      "mimetype": "text/x-fsharp",
      "nbconvert_exporter": "",
      "name": "fsharp",
      "pygments_lexer": "",
      "version": "4.3.1.0",
      "file_extension": ".fs",
      "codemirror_mode": ""
    },
    "language": "fsharp"
  },
  "nbformat": 4,
  "nbformat_minor": 2
}