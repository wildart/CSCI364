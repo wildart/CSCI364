{
  "cells": [
    {
      "metadata": {
        "collapsed": true
      },
      "cell_type": "markdown",
      "source": "# HW 3: Recursive Data Types"
    },
    {
      "metadata": {},
      "cell_type": "markdown",
      "source": "In this assignment, you will implement a binary tree data structure and some functions that work with this data type.\n\nAll functions should be defined within a module named `Tree`, and you should submit the file Tree.fs. File names are case sensitive. Verbal\nresponses to non-programming questions should be in the form of comments in your code.\n\nFYI: Link to F# Interactive Console: https://notebooks.azure.com/adiky/projects/csci-374/html/FSharp.zip (Windows 7 only)"
    },
    {
      "metadata": {},
      "cell_type": "markdown",
      "source": "## Problem 1 (1 pts)\n\nFinish **Lab 3**, in order to use `Tree` type, `mapT` and `foldT` functions in this homework."
    },
    {
      "metadata": {},
      "cell_type": "markdown",
      "source": "## Problem 2 (21 pts)\n\n1) Define a function `leafCount :: Tree<'a> -> int` that returns an integer representing the total number of leaves in a tree. To get full credit, you must use `foldT` and may define at most one helper function.\n\n2) Define a function `nodeCount :: Tree<'a> -> int` that returns an integer representing the total number of non-leaf nodes in a tree. To get full credit, you must use `foldT` and may define at most one helper function.\n\n3) Define a function `height :: Tree<'a> -> int` that returns an integer representing the height of the tree. Trees consisting of only a leaf have height 0. To get full credit, you must use `foldT` and may define at most one helper function."
    },
    {
      "metadata": {
        "trusted": true
      },
      "cell_type": "code",
      "source": "let leafCount tr :int =\n    ...\n    \nlet nodeCount tr :int =\n    ...\n    \nlet height tr :int =\n    ...    ",
      "execution_count": 8,
      "outputs": []
    },
    {
      "metadata": {},
      "cell_type": "markdown",
      "source": "Test your functions:"
    },
    {
      "metadata": {
        "trusted": true
      },
      "cell_type": "code",
      "source": "let tree = Node(1, Node(2, Leaf, Leaf), Node(3, Node(4, Leaf, Leaf), Leaf))\ntree",
      "execution_count": 5,
      "outputs": [
        {
          "output_type": "execute_result",
          "execution_count": 5,
          "data": {
            "text/plain": "Node (1,Node (2,Leaf,Leaf),Node (3,Node (4,Leaf,Leaf),Leaf))"
          },
          "metadata": {}
        }
      ]
    },
    {
      "metadata": {
        "trusted": true
      },
      "cell_type": "code",
      "source": "leafCount Leaf",
      "execution_count": 6,
      "outputs": [
        {
          "output_type": "execute_result",
          "execution_count": 6,
          "data": {
            "text/plain": "1"
          },
          "metadata": {}
        }
      ]
    },
    {
      "metadata": {
        "trusted": true
      },
      "cell_type": "code",
      "source": "leafCount tree",
      "execution_count": 7,
      "outputs": [
        {
          "output_type": "execute_result",
          "execution_count": 7,
          "data": {
            "text/plain": "5"
          },
          "metadata": {}
        }
      ]
    },
    {
      "metadata": {
        "trusted": true
      },
      "cell_type": "code",
      "source": "nodeCount Leaf",
      "execution_count": 8,
      "outputs": [
        {
          "output_type": "execute_result",
          "execution_count": 8,
          "data": {
            "text/plain": "0"
          },
          "metadata": {}
        }
      ]
    },
    {
      "metadata": {
        "trusted": true
      },
      "cell_type": "code",
      "source": "nodeCount tree",
      "execution_count": 9,
      "outputs": [
        {
          "output_type": "execute_result",
          "execution_count": 9,
          "data": {
            "text/plain": "4"
          },
          "metadata": {}
        }
      ]
    },
    {
      "metadata": {
        "trusted": true
      },
      "cell_type": "code",
      "source": "height tree",
      "execution_count": 10,
      "outputs": [
        {
          "output_type": "execute_result",
          "execution_count": 10,
          "data": {
            "text/plain": "3"
          },
          "metadata": {}
        }
      ]
    },
    {
      "metadata": {
        "trusted": true
      },
      "cell_type": "code",
      "source": "height Leaf",
      "execution_count": 11,
      "outputs": [
        {
          "output_type": "execute_result",
          "execution_count": 11,
          "data": {
            "text/plain": "0"
          },
          "metadata": {}
        }
      ]
    },
    {
      "metadata": {},
      "cell_type": "markdown",
      "source": "## Problem 3 (20 pts)\n\n1) A tree is **perfect** if all the leaves of the tree are at the same depth. Define a function `perfect :: Tree<'a> -> bool` that returns `true` if the tree supplied is perfect and `false` otherwise. You may use any approach to implement this function.\n\n2) A tree is a **degenerate** if all the nodes are arranged in a single path. Equivalently, a tree is degenerate if all nodes have at least one leaf child. Define a function `degenerate :: Tree<'a> -> bool` that returns `true` if and only if the tree supplied is degenerate.\n- **Hint:** How many leaves does a degenerate tree have? How many nodes?"
    },
    {
      "metadata": {
        "trusted": true
      },
      "cell_type": "code",
      "source": "let perfect tr =\n    ...",
      "execution_count": 14,
      "outputs": []
    },
    {
      "metadata": {},
      "cell_type": "markdown",
      "source": "Test your function:"
    },
    {
      "metadata": {
        "trusted": true,
        "scrolled": true
      },
      "cell_type": "code",
      "source": "perfect Leaf // true",
      "execution_count": 15,
      "outputs": [
        {
          "output_type": "execute_result",
          "execution_count": 15,
          "data": {
            "text/plain": "true"
          },
          "metadata": {}
        }
      ]
    },
    {
      "metadata": {
        "trusted": true,
        "scrolled": false
      },
      "cell_type": "code",
      "source": "perfect (Node(1, Leaf, Leaf)) // true",
      "execution_count": 16,
      "outputs": [
        {
          "output_type": "execute_result",
          "execution_count": 16,
          "data": {
            "text/plain": "true"
          },
          "metadata": {}
        }
      ]
    },
    {
      "metadata": {
        "trusted": true,
        "scrolled": false
      },
      "cell_type": "code",
      "source": "perfect (Node(1, Node(2, Leaf, Leaf), Leaf)) // false",
      "execution_count": 17,
      "outputs": [
        {
          "output_type": "execute_result",
          "execution_count": 17,
          "data": {
            "text/plain": "false"
          },
          "metadata": {}
        }
      ]
    },
    {
      "metadata": {
        "trusted": true,
        "scrolled": false
      },
      "cell_type": "code",
      "source": "perfect (Node(1, Node(2, Leaf, Leaf), Node(3, Leaf, Leaf))) // true",
      "execution_count": 18,
      "outputs": [
        {
          "output_type": "execute_result",
          "execution_count": 18,
          "data": {
            "text/plain": "true"
          },
          "metadata": {}
        }
      ]
    },
    {
      "metadata": {
        "trusted": true,
        "scrolled": true
      },
      "cell_type": "code",
      "source": "perfect (Node(1, Node(2, Node(4, Leaf, Leaf), Node(3, Leaf, Leaf)), Leaf)) // false",
      "execution_count": 19,
      "outputs": [
        {
          "output_type": "execute_result",
          "execution_count": 19,
          "data": {
            "text/plain": "false"
          },
          "metadata": {}
        }
      ]
    },
    {
      "metadata": {
        "trusted": true,
        "scrolled": true
      },
      "cell_type": "code",
      "source": "perfect (Node(1, Node(2, Node(4, Leaf, Leaf), Leaf), Node(5, Node(6, Leaf, Leaf), Node(7, Leaf, Leaf)))) // false",
      "execution_count": 20,
      "outputs": [
        {
          "output_type": "execute_result",
          "execution_count": 20,
          "data": {
            "text/plain": "false"
          },
          "metadata": {}
        }
      ]
    },
    {
      "metadata": {
        "trusted": true,
        "scrolled": false
      },
      "cell_type": "code",
      "source": "perfect (Node(1, Node(2, Node(4, Leaf, Leaf), Node(3, Leaf, Leaf)), Node(5, Node(6, Leaf, Leaf), Node(7, Leaf, Leaf)))) // true",
      "execution_count": 21,
      "outputs": [
        {
          "output_type": "execute_result",
          "execution_count": 21,
          "data": {
            "text/plain": "true"
          },
          "metadata": {}
        }
      ]
    },
    {
      "metadata": {
        "trusted": true
      },
      "cell_type": "code",
      "source": "let rec degenerate tr =\n   ...",
      "execution_count": 22,
      "outputs": []
    },
    {
      "metadata": {},
      "cell_type": "markdown",
      "source": "Test your function:"
    },
    {
      "metadata": {
        "trusted": true,
        "scrolled": false
      },
      "cell_type": "code",
      "source": "degenerate Leaf // true",
      "execution_count": 23,
      "outputs": [
        {
          "output_type": "execute_result",
          "execution_count": 23,
          "data": {
            "text/plain": "true"
          },
          "metadata": {}
        }
      ]
    },
    {
      "metadata": {
        "trusted": true,
        "scrolled": false
      },
      "cell_type": "code",
      "source": "degenerate (Node(1, Leaf, Leaf)) // true",
      "execution_count": 24,
      "outputs": [
        {
          "output_type": "execute_result",
          "execution_count": 24,
          "data": {
            "text/plain": "true"
          },
          "metadata": {}
        }
      ]
    },
    {
      "metadata": {
        "trusted": true,
        "scrolled": true
      },
      "cell_type": "code",
      "source": "degenerate (Node(1, Node(2, Leaf, Leaf), Leaf)) // true",
      "execution_count": 25,
      "outputs": [
        {
          "output_type": "execute_result",
          "execution_count": 25,
          "data": {
            "text/plain": "true"
          },
          "metadata": {}
        }
      ]
    },
    {
      "metadata": {
        "trusted": true,
        "scrolled": false
      },
      "cell_type": "code",
      "source": "degenerate (Node(1, Node(2, Leaf, Leaf), Node(3, Leaf, Leaf))) // false",
      "execution_count": 26,
      "outputs": [
        {
          "output_type": "execute_result",
          "execution_count": 26,
          "data": {
            "text/plain": "false"
          },
          "metadata": {}
        }
      ]
    },
    {
      "metadata": {
        "trusted": true,
        "scrolled": false
      },
      "cell_type": "code",
      "source": "degenerate (Node(1, Node(2, Leaf, Node(3, Leaf, Leaf)), Leaf)) // true",
      "execution_count": 27,
      "outputs": [
        {
          "output_type": "execute_result",
          "execution_count": 27,
          "data": {
            "text/plain": "true"
          },
          "metadata": {}
        }
      ]
    },
    {
      "metadata": {
        "trusted": true,
        "scrolled": false
      },
      "cell_type": "code",
      "source": "degenerate (Node(1, Node(2, Node(4, Leaf, Leaf), Node(3, Leaf, Leaf)), Leaf)) // false",
      "execution_count": 28,
      "outputs": [
        {
          "output_type": "execute_result",
          "execution_count": 28,
          "data": {
            "text/plain": "false"
          },
          "metadata": {}
        }
      ]
    },
    {
      "metadata": {
        "trusted": true
      },
      "cell_type": "code",
      "source": "degenerate (Node(1,Node(2, Leaf, Node(3, Node(4, Leaf, Leaf), Leaf)), Leaf)) // true",
      "execution_count": 29,
      "outputs": [
        {
          "output_type": "execute_result",
          "execution_count": 29,
          "data": {
            "text/plain": "true"
          },
          "metadata": {}
        }
      ]
    },
    {
      "metadata": {
        "trusted": true
      },
      "cell_type": "code",
      "source": "degenerate (Node(1,Leaf,Node(2, Node(5,Leaf,Leaf), Node(3, Node(4,Leaf,Leaf), Leaf)))) // false",
      "execution_count": 30,
      "outputs": [
        {
          "output_type": "execute_result",
          "execution_count": 30,
          "data": {
            "text/plain": "false"
          },
          "metadata": {}
        }
      ]
    },
    {
      "metadata": {},
      "cell_type": "markdown",
      "source": "# Bonus (15 pts)\n\n1) Define a function `list :: Tree<'a> -> 'a option`. If the supplied tree is degenerate the function should return `Some l`, where `l` corresponds to a list constructed by replacing the `Node` constructors with (::) constructors and the `Leaf` constructors have been replaced with the `[]` constructor where appropriate. If the supplied tree is not degenerate, the function should return `None`. You are encouraged to use `degenerate` and `foldT` to implement this function.\n- **Hint:** Do not make your use of `foldT` more complicated than necessary. Do you need to check that the tree is degenerate more than once? Use your `nodeCount` implementation as a guide."
    },
    {
      "metadata": {
        "trusted": true
      },
      "cell_type": "code",
      "source": "let list tr =\n    ...",
      "execution_count": 31,
      "outputs": []
    },
    {
      "metadata": {},
      "cell_type": "markdown",
      "source": "Test your function:"
    },
    {
      "metadata": {
        "trusted": true
      },
      "cell_type": "code",
      "source": "list (Node(1,Node(2, Leaf, Node(3, Node(4,Leaf,Leaf), Leaf)),Leaf))",
      "execution_count": 32,
      "outputs": [
        {
          "output_type": "execute_result",
          "execution_count": 32,
          "data": {
            "text/plain": "Some [1; 2; 3; 4]"
          },
          "metadata": {}
        }
      ]
    },
    {
      "metadata": {
        "trusted": true
      },
      "cell_type": "code",
      "source": "list (Node(1,Leaf,Node(2, Node(5,Leaf,Leaf), Node(3, Node(4,Leaf,Leaf), Leaf))))",
      "execution_count": 33,
      "outputs": [
        {
          "output_type": "execute_result",
          "execution_count": 33,
          "data": {
            "text/plain": "<null>"
          },
          "metadata": {}
        }
      ]
    },
    {
      "metadata": {
        "trusted": true
      },
      "cell_type": "code",
      "source": "list (Node(10, Node(2, Leaf, Node(3, Leaf, Leaf)), Leaf))",
      "execution_count": 34,
      "outputs": [
        {
          "output_type": "execute_result",
          "execution_count": 34,
          "data": {
            "text/plain": "Some [10; 2; 3]"
          },
          "metadata": {}
        }
      ]
    }
  ],
  "metadata": {
    "kernelspec": {
      "name": "ifsharp",
      "display_name": "F#",
      "language": "fsharp"
    },
    "language_info": {
      "mimetype": "text/x-fsharp",
      "nbconvert_exporter": "",
      "name": "fsharp",
      "pygments_lexer": "",
      "version": "4.3.1.0",
      "file_extension": ".fs",
      "codemirror_mode": ""
    },
    "language": "fsharp"
  },
  "nbformat": 4,
  "nbformat_minor": 2
}