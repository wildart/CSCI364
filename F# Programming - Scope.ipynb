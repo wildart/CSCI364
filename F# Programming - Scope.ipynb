{
 "cells": [
  {
   "cell_type": "markdown",
   "metadata": {
    "slideshow": {
     "slide_type": "slide"
    }
   },
   "source": [
    "# F# Programming: Scope"
   ]
  },
  {
   "cell_type": "markdown",
   "metadata": {
    "slideshow": {
     "slide_type": "slide"
    }
   },
   "source": [
    "## Modules\n",
    "\n",
    "A module is a grouping of F# code, such as values, types, and function values, in an F# program.\n",
    "- Grouping code in modules helps keep related code together and helps avoid name conflicts in your program.\n",
    "\n",
    "```fsharp\n",
    "// Local module declaration.\n",
    "module [accessibility-modifier] module-name =\n",
    "    declarations\n",
    "```\n",
    "\n",
    "*Note: If you have multiple modules in a file, you must use a local module declaration for each module.*"
   ]
  },
  {
   "cell_type": "code",
   "execution_count": 3,
   "metadata": {
    "slideshow": {
     "slide_type": "fragment"
    }
   },
   "outputs": [],
   "source": [
    "module Program = \n",
    "    let x = 42"
   ]
  },
  {
   "cell_type": "code",
   "execution_count": 4,
   "metadata": {
    "slideshow": {
     "slide_type": "fragment"
    }
   },
   "outputs": [
    {
     "data": {
      "text/html": [
       "<div class=\"dni-plaintext\">42</div>"
      ]
     },
     "execution_count": 4,
     "metadata": {},
     "output_type": "execute_result"
    }
   ],
   "source": [
    "Program.x"
   ]
  },
  {
   "cell_type": "markdown",
   "metadata": {
    "slideshow": {
     "slide_type": "slide"
    }
   },
   "source": [
    "## Nested Modules\n",
    "\n",
    "Modules can be nested.\n",
    "- Inner modules must be indented as far as outer module declarations to indicate that they are inner modules, not new modules. \n",
    "\n",
    "Module Z is an inner module in the following code."
   ]
  },
  {
   "cell_type": "code",
   "execution_count": 9,
   "metadata": {
    "slideshow": {
     "slide_type": "fragment"
    }
   },
   "outputs": [],
   "source": [
    "module Y =\n",
    "    let x = 3\n",
    "\n",
    "    module Z =\n",
    "        let z = x+1"
   ]
  },
  {
   "cell_type": "code",
   "execution_count": 10,
   "metadata": {
    "slideshow": {
     "slide_type": "fragment"
    }
   },
   "outputs": [
    {
     "data": {
      "text/html": [
       "<table><thead><tr><th>Item1</th><th>Item2</th></tr></thead><tbody><tr><td><div class=\"dni-plaintext\">3</div></td><td><div class=\"dni-plaintext\">4</div></td></tr></tbody></table>"
      ]
     },
     "execution_count": 10,
     "metadata": {},
     "output_type": "execute_result"
    }
   ],
   "source": [
    "Y.x, Y.Z.z"
   ]
  },
  {
   "cell_type": "markdown",
   "metadata": {
    "slideshow": {
     "slide_type": "slide"
    }
   },
   "source": [
    "## Namespaces\n",
    "\n",
    "A namespace lets you organize code into areas of related functionality by enabling you to attach a name to a grouping of F# program elements.\n",
    "- Namespaces are typically top-level elements in F# files.\n",
    "\n",
    "```fsharp\n",
    "namespace [rec] [parent-namespaces.]identifier\n",
    "```"
   ]
  },
  {
   "cell_type": "markdown",
   "metadata": {
    "slideshow": {
     "slide_type": "slide"
    }
   },
   "source": [
    "Namespaces cannot directly contain values and functions.\n",
    "- Instead, values and functions must be included in modules, and modules are included in namespaces.\n",
    "- Namespaces can contain types, modules."
   ]
  },
  {
   "cell_type": "code",
   "execution_count": 19,
   "metadata": {
    "slideshow": {
     "slide_type": "fragment"
    }
   },
   "outputs": [],
   "source": [
    "namespace Widgets\n",
    "\n",
    "type MyWidget1 =\n",
    "    member this.WidgetName = \"Widget1\"\n",
    "\n",
    "module WidgetsModule =\n",
    "    let widgetName = \"Widget2\""
   ]
  },
  {
   "cell_type": "markdown",
   "metadata": {
    "slideshow": {
     "slide_type": "slide"
    }
   },
   "source": [
    "## `let` binding\n",
    "\n",
    "`let` binding introduces a name into a scope\n",
    "- The scope of an entity declared with a `let` binding is limited to the portion of the containing scope (such as a function, module, file or class) after the binding appears.\n",
    "\n",
    "```fsharp\n",
    "// Binding a value:\n",
    "let identifier-or-pattern [: type] =expressionbody-expression\n",
    "// Binding a function value:\n",
    "let identifier parameter-list [: return-type ] =expressionbody-expression\n",
    "```"
   ]
  },
  {
   "cell_type": "markdown",
   "metadata": {
    "slideshow": {
     "slide_type": "slide"
    }
   },
   "source": [
    "## Verbose Syntax\n",
    "\n",
    "https://docs.microsoft.com/en-us/dotnet/fsharp/language-reference/verbose-syntax"
   ]
  },
  {
   "cell_type": "code",
   "execution_count": 29,
   "metadata": {
    "slideshow": {
     "slide_type": "fragment"
    }
   },
   "outputs": [
    {
     "data": {
      "text/html": [
       "<table><thead><tr><th>Item1</th><th>Item2</th></tr></thead><tbody><tr><td><div class=\"dni-plaintext\">11</div></td><td><div class=\"dni-plaintext\">4</div></td></tr></tbody></table>"
      ]
     },
     "execution_count": 29,
     "metadata": {},
     "output_type": "execute_result"
    }
   ],
   "source": [
    "// Split a string into words at spaces\n",
    "let splitAtSpaces (text:string) =\n",
    "    text.Split ' '\n",
    "    |> Array.toList\n",
    "\n",
    "// Analyze a string for duplicate words\n",
    "let wordCount text =    \n",
    "    let words = splitAtSpaces text in\n",
    "    let wordSet = Set.ofList words in\n",
    "    let numWords = words.Length in\n",
    "    let numDups = numWords - wordSet.Count in\n",
    "    (numWords, numDups)\n",
    "    \n",
    "let text = \"Analyze a string for duplicate words in a string for\" in\n",
    "    //(\n",
    "    //begin  \n",
    "        let y = \" for\"\n",
    "    //end    \n",
    "    //)\n",
    "    wordCount (text + y)"
   ]
  },
  {
   "cell_type": "markdown",
   "metadata": {
    "slideshow": {
     "slide_type": "slide"
    }
   },
   "source": [
    "## Understanding Scope\n",
    "\n",
    "- Local values, such as `words` and `wordCount`, can't be accessed outside their scope.\n",
    "\n",
    "- In the case of variables defined using `let`, the scope of the value is the entire expression that follows the definition, although not the definition itself."
   ]
  },
  {
   "cell_type": "markdown",
   "metadata": {
    "slideshow": {
     "slide_type": "slide"
    }
   },
   "source": [
    "Here are two examples of invalid definitions that try to access variables outside their scope.\n",
    "\n",
    "- `let` definitions follow a sequential, top-down order, which helps ensure that programs are well-formed and free from many bugs related to uninitialized values:"
   ]
  },
  {
   "cell_type": "code",
   "execution_count": 32,
   "metadata": {
    "slideshow": {
     "slide_type": "fragment"
    }
   },
   "outputs": [
    {
     "name": "stderr",
     "output_type": "stream",
     "text": [
      "Stopped due to error\n",
      "\n",
      "input.fsx (2,31)-(2,35) typecheck error The value or constructor 'text' is not defined. Maybe you want one of the following:\n",
      "   Text\n",
      "   TextReader\n",
      "   TextWriter\n",
      "   TextReader\n",
      "   TextWriter\n",
      "\n"
     ]
    },
    {
     "ename": "Cell not executed",
     "evalue": "compilation error",
     "output_type": "error",
     "traceback": []
    }
   ],
   "source": [
    "let badDefinition1 =    \n",
    "    let words = splitAtSpaces text\n",
    "    let text = \"We three kings\"\n",
    "    words.Length\n",
    "badDefinition1"
   ]
  },
  {
   "cell_type": "code",
   "execution_count": 33,
   "metadata": {
    "slideshow": {
     "slide_type": "fragment"
    }
   },
   "outputs": [
    {
     "name": "stderr",
     "output_type": "stream",
     "text": [
      "Stopped due to error\n",
      "\n",
      "input.fsx (1,22)-(1,36) typecheck error The value or constructor 'badDefinition2' is not defined. Maybe you want one of the following:\n",
      "   badDefinition1\n",
      "\n"
     ]
    },
    {
     "ename": "Cell not executed",
     "evalue": "compilation error",
     "output_type": "error",
     "traceback": []
    }
   ],
   "source": [
    "let badDefinition2 = badDefinition2 + 1"
   ]
  },
  {
   "cell_type": "markdown",
   "metadata": {
    "slideshow": {
     "slide_type": "slide"
    }
   },
   "source": [
    "Within function definitions, you can **outscope** values by declaring another value of the same name."
   ]
  },
  {
   "cell_type": "code",
   "execution_count": 34,
   "metadata": {
    "slideshow": {
     "slide_type": "fragment"
    }
   },
   "outputs": [
    {
     "data": {
      "text/html": [
       "<div class=\"dni-plaintext\">18</div>"
      ]
     },
     "execution_count": 34,
     "metadata": {},
     "output_type": "execute_result"
    }
   ],
   "source": [
    "(* This code is equivalent to:\n",
    "let powerOfFourPlusTwo n =\n",
    "    let n1 = n * n\n",
    "    let n2 = n1 * n1\n",
    "    let n3 = n2 + 2\n",
    "    n3\n",
    "*)\n",
    "let powerOfFourPlusTwo n =\n",
    "    let n = n * n\n",
    "    let n = n * n\n",
    "    let n = n + 2\n",
    "    n\n",
    "powerOfFourPlusTwo 3    "
   ]
  },
  {
   "cell_type": "markdown",
   "metadata": {
    "slideshow": {
     "slide_type": "slide"
    }
   },
   "source": [
    "Because let bindings are simply a kind of expression, you can use them in a nested fashion. For example:"
   ]
  },
  {
   "cell_type": "code",
   "execution_count": 32,
   "metadata": {
    "slideshow": {
     "slide_type": "fragment"
    }
   },
   "outputs": [
    {
     "data": {
      "text/plain": [
       "108"
      ]
     },
     "execution_count": 32,
     "metadata": {},
     "output_type": "execute_result"
    }
   ],
   "source": [
    "let powerOfFourPlusTwoTimesSix n =\n",
    "    let n3 =\n",
    "        let n1 = n * n\n",
    "        let n2 = n1 * n1\n",
    "        n2 + 2\n",
    "    let n4 = n3 * 6\n",
    "    n4\n",
    "powerOfFourPlusTwoTimesSix 2"
   ]
  },
  {
   "cell_type": "markdown",
   "metadata": {
    "slideshow": {
     "slide_type": "slide"
    }
   },
   "source": [
    "Here, `n1` and `n2` are values defined locally by let bindings within the expression that defines `n3`.\n",
    "These local values aren’t available for use outside their scope. For example, this code gives an error:"
   ]
  },
  {
   "cell_type": "code",
   "execution_count": 40,
   "metadata": {
    "slideshow": {
     "slide_type": "fragment"
    }
   },
   "outputs": [
    {
     "name": "stderr",
     "output_type": "stream",
     "text": [
      "Stopped due to error\n",
      "\n",
      "input.fsx (6,14)-(6,16) typecheck error The value or constructor 'n1' is not defined.\n",
      "\n",
      "input.fsx (6,19)-(6,21) typecheck error The value or constructor 'n2' is not defined.\n",
      "\n"
     ]
    },
    {
     "ename": "Cell not executed",
     "evalue": "compilation error",
     "output_type": "error",
     "traceback": []
    }
   ],
   "source": [
    "let invalidFunction n =\n",
    "    let n3 =\n",
    "        let n1 = n + n\n",
    "        let n2 = n1 * n1\n",
    "        n1 * n2\n",
    "    let n4 = n1 + n2 + n3 // Error! n3 is in scope, but n1 and n2 are not!\n",
    "    n4"
   ]
  },
  {
   "cell_type": "markdown",
   "metadata": {
    "slideshow": {
     "slide_type": "slide"
    }
   },
   "source": [
    "Following code that will not compile, because on the third line you change\n",
    "the value of `x` from an integer to the string \"change me\", and then on the fourth line you try to\n",
    "add a string and an integer, which is illegal in F#, so you get a compile error:"
   ]
  },
  {
   "cell_type": "code",
   "execution_count": 55,
   "metadata": {
    "slideshow": {
     "slide_type": "fragment"
    }
   },
   "outputs": [
    {
     "name": "stderr",
     "output_type": "stream",
     "text": [
      "\n",
      "input.fsx (3,9)-(3,12) parse error Unexpected keyword 'let' or 'use' in binding. Expected incomplete structured construct at or before this point or other token.\n",
      "\n",
      "input.fsx (2,5)-(2,8) parse error Incomplete value or function definition. If this is in an expression, the body of the expression must be indented to the same column as the 'let' keyword.\n",
      "\n",
      "input.fsx (4,13)-(4,16) parse error Unexpected keyword 'let' or 'use' in expression. Expected 'in' or other token.\n",
      "\n",
      "input.fsx (2,5)-(2,8) parse error Error in the return expression for this 'let'. Possible incorrect indentation.\n",
      "\n",
      "input.fsx (5,5)-(5,12) parse error Unexpected identifier in binding. Expected incomplete structured construct at or before this point or other token.\n",
      "\n",
      "input.fsx (1,1)-(1,4) parse error Incomplete value or function definition. If this is in an expression, the body of the expression must be indented to the same column as the 'let' keyword.\n",
      "\n",
      "input.fsx (5,1)-(5,27) parse error Incomplete structured construct at or before this point in interaction. Expected incomplete structured construct at or before this point, ';', ';;' or other token.\n",
      "\n",
      "input.fsx (5,1)-(5,27) interactive error parse error\n",
      "\n"
     ]
    },
    {
     "ename": "Cell not executed",
     "evalue": "compilation error",
     "output_type": "error",
     "traceback": []
    }
   ],
   "source": [
    "let changeType () =\n",
    "    let x = 1            // bind x to an integer\n",
    "        let x = \"change me\"    // rebind x to a string\n",
    "            let x = x + \"1\"    // attempt to rebind to itself plus an integer\n",
    "    printfn \"%A\" x        "
   ]
  }
 ],
 "metadata": {
  "celltoolbar": "Slideshow",
  "kernelspec": {
   "display_name": ".NET (F#)",
   "language": "F#",
   "name": ".net-fsharp"
  },
  "language": "fsharp",
  "language_info": {
   "file_extension": ".fs",
   "mimetype": "text/x-fsharp",
   "name": "C#",
   "pygments_lexer": "fsharp",
   "version": "4.5"
  }
 },
 "nbformat": 4,
 "nbformat_minor": 2
}
