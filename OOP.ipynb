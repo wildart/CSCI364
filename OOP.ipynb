{
  "cells": [
    {
      "metadata": {
        "collapsed": true,
        "slideshow": {
          "slide_type": "slide"
        }
      },
      "cell_type": "markdown",
      "source": "# Object Oriented Programming"
    },
    {
      "metadata": {
        "slideshow": {
          "slide_type": "slide"
        }
      },
      "cell_type": "markdown",
      "source": "## Object-Oriented Programming\n\nObject Oriented Programming (OOP) is the third major programming paradigm.\n\nThree major language features:\n- Abstract data types\n- Inheritance\n  - Inheritance is the central theme in OOP and languages that support it\n- Polymorphism"
    },
    {
      "metadata": {
        "slideshow": {
          "slide_type": "slide"
        }
      },
      "cell_type": "markdown",
      "source": "## The Concept of Abstraction\n\n- An **abstraction** is a view or representation of an entity that includes only the most significant attributes\n- The concept of abstraction is fundamental in programming (and computer science)\n- Nearly all programming languages support **process abstraction** with subprograms\n- Nearly all programming languages designed since 1980 support **data abstraction**"
    },
    {
      "metadata": {
        "slideshow": {
          "slide_type": "slide"
        }
      },
      "cell_type": "markdown",
      "source": "## Data Abstraction\n\nAn **abstract data type** is a user-defined data type that satisfies the following **two conditions**:\n- The representation of objects of the type is **hidden** from the program units that use these objects, so the only operations possible are those provided in the type's definition\n- The declarations of the type and the protocols of the operations on objects of the type are contained in a **single** syntactic unit.\n  \nLanguage requirements for ADTs  \n- A syntactic unit in which to encapsulate the type definition\n- A method of making type names and subprogram headers visible to clients, while hiding actual definitions\n- Some primitive operations must be built into the language processor"
    },
    {
      "metadata": {
        "slideshow": {
          "slide_type": "slide"
        }
      },
      "cell_type": "markdown",
      "source": "## Advantages of Data Abstraction\n\nAdvantages the first condition \n- Reliability, by hiding the data representations, user code cannot directly access objects of the type or depend on the representation, allowing the representation to be changed without affecting user code\n- Reduces the range of code and variables of which the programmer must be aware\n- Name conflicts are less likely\n\nAdvantages of the second condition\n- Provides a method of program organization\n- Aids modifiability (everything associated with a data structure is together)\n- Separate compilation"
    },
    {
      "metadata": {
        "slideshow": {
          "slide_type": "slide"
        }
      },
      "cell_type": "markdown",
      "source": "## Encapsulation\n\n**Encapsulation** is one of the fundamentals of OOP.\n- It refers to the bundling of data with the methods that operate on that data.\n\nEncapsulation is used to **hide** the *values* or *state* of a structured data object inside a class\n- Publicly accessible methods are generally provided in the class, **getters** and **setters**, to access the values"
    },
    {
      "metadata": {
        "slideshow": {
          "slide_type": "slide"
        }
      },
      "cell_type": "markdown",
      "source": "## Encapsulation Constructs\n\nLarge programs have two special needs\n- Some means of organization, other than simply division into subprograms\n- Some means of partial compilation (compilation units that are smaller than the whole program)\n\nObvious solution\n- a grouping of subprograms that are *logically related* into a **unit** that can be separately compiled (compilation units)\n- Such collections are called **encapsulation**"
    },
    {
      "metadata": {
        "slideshow": {
          "slide_type": "subslide"
        }
      },
      "cell_type": "markdown",
      "source": "## Encapsulation in Ada\n\nThe encapsulation construct is called a **package**\n- Specification package (the interface)\n- Body package (implementation of the entities named in the specification)\n\nInformation hiding\n- The spec package has two parts, *public* and *private*\n- The name of the abstract type appears in the public part of the specification package. This part may also include representations of unhidden types\n- The representation of the abstract type appears in a part of the specification called the private part\n  - More restricted form with limited private types\n  - Private types have built-in operations for assignment and comparison\n  - Limited private types have NO built-in operations"
    },
    {
      "metadata": {
        "slideshow": {
          "slide_type": "subslide"
        }
      },
      "cell_type": "markdown",
      "source": "## Encapsulation in C++\n\nThe **class** is the encapsulation device\n- A class is a type\n- All of the class instances of a class share a single copy of the member functions\n- Each instance of a class has its own copy of the class data members\n- Instances can be *static*, *stack dynamic*, or *heap dynamic*\n\nInformation hiding\n- `private` clause for hidden entities\n- `public` clause for interface entities\n- `protected` clause for inheritance"
    },
    {
      "metadata": {
        "slideshow": {
          "slide_type": "subslide"
        }
      },
      "cell_type": "markdown",
      "source": "## C++ Constructors & Destructors\n\nConstructors\n- Functions to initialize the data members of instances (they do not create the objects)\n- May also allocate storage if part of the object is heap-dynamic\n- Can include parameters to provide parameterization of the objects\n- Implicitly called when an instance is created\n- Can be explicitly called\n- Name is the same as the class name\n\nDestructors\n- Functions to cleanup after an instance is destroyed; usually just to reclaim heap storage\n- Implicitly called when the object’s lifetime ends\n- Can be explicitly called\n- Name is the class name, preceded by a tilde (~)\n\nFriend functions or classes\n- Provide access to private members to some unrelated units or functions\n- Necessary in C++"
    },
    {
      "metadata": {
        "slideshow": {
          "slide_type": "subslide"
        }
      },
      "cell_type": "markdown",
      "source": "## Encapsulation in `C#`\n\nBased on C++ and Java\n- Adds two access modifiers, `internal` and `protected internal`\n- All class instances are *heap dynamic*\n- Default constructors are available for all classes\n- Garbage collection is used for most heap objects, so destructors are rarely used structs are lightweight classes that do not support inheritance\n\nAccess to data members\n- accessor methods (getter and setter)\n- *properties* as a way of implementing getters and setters without requiring explicit method calls\n\nParameterized ADTs allow designing an ADT that can store any type elements\n- only an issue for static typed languages\n- known as **generic classes**"
    },
    {
      "metadata": {
        "slideshow": {
          "slide_type": "slide"
        }
      },
      "cell_type": "markdown",
      "source": "## Naming Encapsulations\n\nLarge programs define many global names; need a way to divide into logical groupings\n- A **naming encapsulation** is used to create a new scope for names\n\nC++ Namespaces\n- Can place each library in its own namespace and qualify names used outside with the namespace\n- C# also includes namespaces\n    \nJava Packages\n- Packages can contain more than one class definition; classes in a package are partial friends\n- Clients of a package can use fully qualified name or use the import declaration\n\nAda Packages\n- Packages are defined in hierarchies which correspond to file hierarchies\n- Visibility from a program unit is gained with the with clause"
    },
    {
      "metadata": {
        "slideshow": {
          "slide_type": "slide"
        }
      },
      "cell_type": "markdown",
      "source": "## F#: Namespaces and Modules\n\nThe most important organizational technique for large-scale software is giving sensible qualified names to your types and values.\n\n| Entity | Description | Examples |\n|:-------|:-----------:|----------|\n|Namespace| A namespace can contain further namespaces, modules, and types. |System, Microsoft.FSharp|\n|Module| A module can contain nested modules, types, and values. | Microsoft.FSharp.Collections.Map|\n|Concrete type definition| A type definition can contain members and nested type definitions.| System.String, System.Int32 |\n|Type abbreviation| A type abbreviation such as `string` for System.String |int, string|"
    },
    {
      "metadata": {
        "slideshow": {
          "slide_type": "slide"
        }
      },
      "cell_type": "markdown",
      "source": "## F#: Encapsulation\n\nYou can add accessibility annotations in a number of places in F# code:\n- On `let`, and `extern` definitions in modules, and in individual identifiers in patterns\n- On `new(...)` object constructor definitions\n- On `member` definitions associated with types\n- On `module` definitions\n- On `type` definitions associated with types\n- On primary constructors, such as `type C private (...) = ...`"
    },
    {
      "metadata": {
        "slideshow": {
          "slide_type": "slide"
        },
        "trusted": true
      },
      "cell_type": "code",
      "source": "module public GlobalClock =\n    type TickTock = Tick | Tock\n    let mutable private clock = Tick\n    let private tick = new Event<TickTock>()\n    let internal oneTick() =\n        (clock <- match clock with Tick -> Tock | Tock -> Tick);\n        tick.Trigger (clock)\n    let tickEvent = tick.Publish\n\nmodule internal TickTockDriver =\n    open System.Threading\n    let timer = new Timer(callback=(fun _ -> GlobalClock.oneTick()),\n                          state = null, dueTime = 0, period = 100)\n\n// module TickTockListener =\n//     GlobalClock.tickEvent.Add(function\n//     | GlobalClock.Tvick -> printfn \"tick!\"\n//     | GlobalClock.Tock -> printfn \"tock!\")",
      "execution_count": 42,
      "outputs": []
    },
    {
      "metadata": {
        "slideshow": {
          "slide_type": "fragment"
        },
        "trusted": true
      },
      "cell_type": "code",
      "source": "GlobalClock.Tick",
      "execution_count": 70,
      "outputs": [
        {
          "output_type": "execute_result",
          "execution_count": 70,
          "data": {
            "text/plain": "Tick"
          },
          "metadata": {}
        }
      ]
    },
    {
      "metadata": {
        "slideshow": {
          "slide_type": "slide"
        }
      },
      "cell_type": "markdown",
      "source": "## Object-Oriented Concepts\n\nADTs are usually called **classes**\n- Class instances are called **objects**\n- A class that inherits is a **derived** class or a **subclass**\n  - In the simplest case, a class inherits all of the entities of its parent\n- The class from which another class inherits is a **parent** class or **superclass**\n- Subprograms that define operations on objects are called **methods**\n- Calls to methods are called **messages**\n- The entire collection of methods of an object is called its **message protocol** or **message interface**\n\nMessages have two parts\n- a method name\n- the destination object"
    },
    {
      "metadata": {
        "slideshow": {
          "slide_type": "slide"
        }
      },
      "cell_type": "markdown",
      "source": "## F#: Records As Objects\n\nUse the **record** types to simulate object-like behavior."
    },
    {
      "metadata": {
        "slideshow": {
          "slide_type": "fragment"
        },
        "trusted": true
      },
      "cell_type": "code",
      "source": "/// Two-dimensional vectors\ntype Vector2D =\n    { DX : float; DY : float }\n    /// Get the length of the vector\n    member v.Length = sqrt(v.DX * v.DX + v.DY * v.DY)\n    /// Get the zero vector\n    static member Zero = {DX = 0.0; DY = 0.0}",
      "execution_count": 2,
      "outputs": []
    },
    {
      "metadata": {
        "slideshow": {
          "slide_type": "fragment"
        },
        "trusted": true
      },
      "cell_type": "code",
      "source": "Vector2D.Zero",
      "execution_count": 3,
      "outputs": [
        {
          "output_type": "execute_result",
          "execution_count": 3,
          "data": {
            "text/plain": "{DX = 0.0;\n DY = 0.0;}"
          },
          "metadata": {}
        }
      ]
    },
    {
      "metadata": {
        "slideshow": {
          "slide_type": "fragment"
        },
        "trusted": true
      },
      "cell_type": "code",
      "source": "let v = { DX = 3.0; DY=4.0 }\nprintfn \"%A,\\n len=%f\" v v.Length",
      "execution_count": 4,
      "outputs": [
        {
          "output_type": "display_data",
          "data": {
            "text/plain": "{DX = 3.0;\n DY = 4.0;},\n len=5.000000\n"
          },
          "metadata": {}
        }
      ]
    },
    {
      "metadata": {
        "slideshow": {
          "slide_type": "slide"
        },
        "trusted": true
      },
      "cell_type": "code",
      "source": "/// A type of binary trees, generic in the type of values carried at nodes and tips\ntype Tree<'T> =\n    | Node of 'T * Tree<'T> * Tree<'T>\n    | Tip\n    /// Compute the number of values in the tree\n    member t.Size =\n        match t with\n        | Node(_, l, r) -> 1 + l.Size + r.Size\n        | Tip -> 0",
      "execution_count": 5,
      "outputs": []
    },
    {
      "metadata": {
        "slideshow": {
          "slide_type": "fragment"
        },
        "trusted": true
      },
      "cell_type": "code",
      "source": "let z = Node(int, Node (int, Tip, Tip), Node (int, Tip, Tip))\nz",
      "execution_count": 6,
      "outputs": [
        {
          "output_type": "execute_result",
          "execution_count": 6,
          "data": {
            "text/plain": "Node (<fun:z@1>,Node (<fun:z@1-1>,Tip,Tip),Node (<fun:z@1-2>,Tip,Tip))"
          },
          "metadata": {}
        }
      ]
    },
    {
      "metadata": {
        "slideshow": {
          "slide_type": "fragment"
        },
        "trusted": true
      },
      "cell_type": "code",
      "source": "z.Size",
      "execution_count": 7,
      "outputs": [
        {
          "output_type": "execute_result",
          "execution_count": 7,
          "data": {
            "text/plain": "3"
          },
          "metadata": {}
        }
      ]
    },
    {
      "metadata": {
        "slideshow": {
          "slide_type": "slide"
        }
      },
      "cell_type": "markdown",
      "source": "## F#: Classes\n\n**Record** and **union** types are symmetric\n- the values used to construct an object are the same as those stored in the object, which are a subset of those published by the object\n- more advanced object programming often needs to break these symmetries"
    },
    {
      "metadata": {
        "slideshow": {
          "slide_type": "fragment"
        }
      },
      "cell_type": "markdown",
      "source": "```fsharp\n// Class definition:\ntype [access-modifier] type-name [type-params] [access-modifier] ( parameter-list ) [ as identifier ] =\n[ class ]\n[ inherit base-type-name(base-constructor-args) ]\n[ let-bindings ]\n[ do-bindings ]\nmember-list\n...\n[ end ]\n\n// Mutually recursive class definitions:\ntype [access-modifier] type-name1 ...\nand [access-modifier] type-name2 ...\n...\n```"
    },
    {
      "metadata": {
        "slideshow": {
          "slide_type": "slide"
        },
        "trusted": true
      },
      "cell_type": "code",
      "source": "type Vector2D(dx : float, dy : float) = class    \n    /// Get the X component of the vector\n    member v.DX = dx\n    /// Get the Y component of the vector\n    member v.DY = dy\n    /// Get the length of the vector\n    member v.Length = sqrt(dx * dx + dy * dy)\n    /// Get the zero vector\n    static member Zero = Vector2D(dx = 0.0, dy = 0.0)\nend",
      "execution_count": 8,
      "outputs": []
    },
    {
      "metadata": {
        "slideshow": {
          "slide_type": "fragment"
        },
        "trusted": true
      },
      "cell_type": "code",
      "source": "let v = Vector2D(3.0, 4.0)\nv.Length",
      "execution_count": 66,
      "outputs": [
        {
          "output_type": "execute_result",
          "execution_count": 66,
          "data": {
            "text/plain": "5.0"
          },
          "metadata": {}
        }
      ]
    },
    {
      "metadata": {
        "slideshow": {
          "slide_type": "fragment"
        },
        "trusted": true
      },
      "cell_type": "code",
      "source": "Vector2D.Zero",
      "execution_count": 10,
      "outputs": [
        {
          "output_type": "execute_result",
          "execution_count": 10,
          "data": {
            "text/plain": "FSI_0015+Vector2D"
          },
          "metadata": {}
        }
      ]
    },
    {
      "metadata": {
        "slideshow": {
          "slide_type": "fragment"
        },
        "trusted": true
      },
      "cell_type": "code",
      "source": "Vector2D.Zero.DY ",
      "execution_count": 11,
      "outputs": [
        {
          "output_type": "execute_result",
          "execution_count": 11,
          "data": {
            "text/plain": "0.0"
          },
          "metadata": {}
        }
      ]
    },
    {
      "metadata": {
        "slideshow": {
          "slide_type": "slide"
        }
      },
      "cell_type": "markdown",
      "source": "## F#: Constructors\n\nThe constructor is code that creates an **instance** of the class type. \n\nThere is *always* a **primary constructor** whose arguments are described in the `parameter-list` that follows the type name\n- The arguments of the primary constructor are in scope throughout the class declaration.\n\nYou can add additional constructors by using the new keyword to add a member, as follows:\n\n```fsharp\nnew(argument-list) = constructor-body\n```"
    },
    {
      "metadata": {
        "slideshow": {
          "slide_type": "fragment"
        },
        "trusted": true
      },
      "cell_type": "code",
      "source": "type Value(v:int) = class\n    new(v1, v2) = Value(v1+v2)\n    member x.show () = printfn \"Current values is %d\" v\nend",
      "execution_count": 12,
      "outputs": []
    },
    {
      "metadata": {
        "slideshow": {
          "slide_type": "fragment"
        },
        "trusted": true
      },
      "cell_type": "code",
      "source": "Value(10).show()",
      "execution_count": 13,
      "outputs": [
        {
          "output_type": "display_data",
          "data": {
            "text/plain": "Current values is 10\n"
          },
          "metadata": {}
        }
      ]
    },
    {
      "metadata": {
        "slideshow": {
          "slide_type": "fragment"
        },
        "trusted": true
      },
      "cell_type": "code",
      "source": "Value(1,2).show()",
      "execution_count": 14,
      "outputs": [
        {
          "output_type": "display_data",
          "data": {
            "text/plain": "Current values is 3\n"
          },
          "metadata": {}
        }
      ]
    },
    {
      "metadata": {
        "slideshow": {
          "slide_type": "slide"
        }
      },
      "cell_type": "markdown",
      "source": "\n## F#: Properties and Indexers\n\n- **Properties** are a special form of method that look like a **value** to the code that calls it.\n- **Indexers** are a similar concept that makes a method look a bit like a **collection to** the calling code.\n  - Both properties and indexers have accessors, which include a **get accessor** for reading and a **set accessor** for writing."
    },
    {
      "metadata": {
        "slideshow": {
          "slide_type": "fragment"
        },
        "trusted": true
      },
      "cell_type": "code",
      "source": "type Properties() = class\n    let mutable rand = new System.Random()\n    member x.MyProp\n        with get () = rand.Next()\n        and set y = rand <- new System.Random(y)\nend",
      "execution_count": 68,
      "outputs": []
    },
    {
      "metadata": {
        "slideshow": {
          "slide_type": "fragment"
        },
        "trusted": true
      },
      "cell_type": "code",
      "source": "let prop = new Properties()\nprop.MyProp <- 12\nprintfn \"%d\" prop.MyProp\nprintfn \"%d\" prop.MyProp\nprop.MyProp <- 12\nprintfn \"%d\" (prop.MyProp + 1)\nprintfn \"%d\" (prop.MyProp + 1)",
      "execution_count": 69,
      "outputs": [
        {
          "output_type": "display_data",
          "data": {
            "text/plain": "2137491492\n726598452\n2137491493\n726598453\n"
          },
          "metadata": {}
        }
      ]
    },
    {
      "metadata": {
        "slideshow": {
          "slide_type": "slide"
        }
      },
      "cell_type": "markdown",
      "source": "Indexers are properties that take two or more parameters\n- one to represent the element being placed in the pseudocollection, and\n- others to represent the index in it."
    },
    {
      "metadata": {
        "slideshow": {
          "slide_type": "fragment"
        },
        "trusted": true
      },
      "cell_type": "code",
      "source": "type Indexers(vals:string[]) = class\n    member x.Item\n        with get(y) = vals.[y]\n        and set y  z  = vals.[y] <- z\n\n    member x.MyString\n        with get (y) = vals.[y]\n        and set y z = vals.[y] <- z\nend",
      "execution_count": 35,
      "outputs": []
    },
    {
      "metadata": {
        "slideshow": {
          "slide_type": "fragment"
        },
        "trusted": true
      },
      "cell_type": "code",
      "source": "let index = new Indexers [|\"One\"; \"Two\"; \"Three\"; \"Four\"|]\n\nindex.[0] <- \"Five\"\nindex.Item(2) <- \"Six\"\nindex.MyString(3) <- \"Seven\"\n\nprintfn \"%s\" index.[0]\nprintfn \"%s\" (index.Item 3)\nprintfn \"%s\" (index.MyString 1)\n//index.vals",
      "execution_count": 41,
      "outputs": [
        {
          "output_type": "display_data",
          "data": {
            "text/plain": "Five\nSeven\nTwo\n"
          },
          "metadata": {}
        }
      ]
    },
    {
      "metadata": {
        "slideshow": {
          "slide_type": "slide"
        }
      },
      "cell_type": "markdown",
      "source": "## Inheritance\n\nProductivity increases can come from **reuse**\n- ADTs are difficult to reuse - always need changes\n- All ADTs are independent and at the same level\n\n**Inheritance** allows new classes *defined in terms of existing ones*\n- by allowing them to inherit common parts\n\nInheritance addresses both of the above concerns\n- reuse ADTs after minor changes\n- define classes in a hierarchy"
    },
    {
      "metadata": {
        "slideshow": {
          "slide_type": "slide"
        }
      },
      "cell_type": "markdown",
      "source": "## Object-Oriented Concepts: Inheritance\n\nInheritance can be complicated by access controls to encapsulated entities\n- A class can hide entities from its subclasses\n- A class can hide entities from its clients\n- A class can also hide entities for its clients while allowing its subclasses to see them\n\nBesides inheriting methods as is, a class can modify an inherited method\n- The new one **overrides** the inherited one\n- The method in the parent is **overriden**\n\nOne disadvantage of inheritance for reuse: \n- Creates interdependencies among classes that complicate maintenance"
    },
    {
      "metadata": {
        "slideshow": {
          "slide_type": "subslide"
        }
      },
      "cell_type": "markdown",
      "source": "Three ways a class can differ from its parent:\n1. The parent class can define some of its variables or methods to have private access, which means they will not be visible in the subclass\n2. The subclass can add variables and/or methods to those inherited from the parent\n3. The subclass can modify the behavior of one or more of its inherited methods."
    },
    {
      "metadata": {
        "slideshow": {
          "slide_type": "subslide"
        }
      },
      "cell_type": "markdown",
      "source": "There are two kinds of variables in a class:\n- Class variables - one/class\n- Instance variables - one/object\n\nThere are two kinds of methods in a class:\n- Class methods - accept messages to the class\n- Instance methods - accept messages to objects"
    },
    {
      "metadata": {
        "slideshow": {
          "slide_type": "slide"
        }
      },
      "cell_type": "markdown",
      "source": "## F#: Classes and Inheritance\n\nThe *base class* **must** have a parameterless constructor\n- If the base class does not have a parameterless constructor, then it cannot be initialized implicitly when the derived class is instantiated."
    },
    {
      "metadata": {
        "slideshow": {
          "slide_type": "fragment"
        },
        "trusted": true
      },
      "cell_type": "code",
      "source": "type Base = class\n    val state: int\n    new() = { state = 1 }\nend",
      "execution_count": 74,
      "outputs": []
    },
    {
      "metadata": {
        "slideshow": {
          "slide_type": "fragment"
        },
        "trusted": true
      },
      "cell_type": "code",
      "source": "let myBaseObject = new Base()\nprintfn \"myBaseObject.state = %i\" myBaseObject.state",
      "execution_count": 76,
      "outputs": [
        {
          "output_type": "display_data",
          "data": {
            "text/plain": "myBaseObject.state = 1\n"
          },
          "metadata": {}
        }
      ]
    },
    {
      "metadata": {
        "slideshow": {
          "slide_type": "fragment"
        },
        "trusted": true
      },
      "cell_type": "code",
      "source": "type Sub = class\n    inherit Base\n    val otherState: int\n    new() = { otherState = 2 }\nend",
      "execution_count": 77,
      "outputs": []
    },
    {
      "metadata": {
        "slideshow": {
          "slide_type": "fragment"
        },
        "trusted": true
      },
      "cell_type": "code",
      "source": "let myObject = new Sub()\nprintfn \"myObject.state = %i, myObject.otherState = %i\" myObject.state myObject.otherState",
      "execution_count": 78,
      "outputs": [
        {
          "output_type": "display_data",
          "data": {
            "text/plain": "myObject.state = 1, myObject.otherState = 2\n"
          },
          "metadata": {}
        }
      ]
    },
    {
      "metadata": {
        "slideshow": {
          "slide_type": "slide"
        }
      },
      "cell_type": "markdown",
      "source": "If base class does not have a parameterless constructor\n- need to explicitly call the base class’s constructor.\n- use the `inherit` keyword again but this time within the constructor’s initializer block."
    },
    {
      "metadata": {
        "slideshow": {
          "slide_type": "fragment"
        },
        "trusted": true
      },
      "cell_type": "code",
      "source": "type Base = class\n    val state: int\n    new(state) = { state = state }\nend",
      "execution_count": 79,
      "outputs": []
    },
    {
      "metadata": {
        "slideshow": {
          "slide_type": "fragment"
        },
        "trusted": true
      },
      "cell_type": "code",
      "source": "type Sub = class\n    inherit Base\n    val otherState: int\n    new(state) = { inherit Base(state); otherState = 0 }\nend",
      "execution_count": 80,
      "outputs": []
    },
    {
      "metadata": {
        "trusted": true,
        "slideshow": {
          "slide_type": "fragment"
        }
      },
      "cell_type": "code",
      "source": "let myObject = new Sub(10)\nprintfn \"myObject.state = %i, myObject.otherState = %i\" myObject.state myObject.otherState",
      "execution_count": 64,
      "outputs": [
        {
          "output_type": "display_data",
          "data": {
            "text/plain": "myObject.state = 10, myObject.otherState = 0\n"
          },
          "metadata": {}
        }
      ]
    },
    {
      "metadata": {
        "slideshow": {
          "slide_type": "slide"
        }
      },
      "cell_type": "markdown",
      "source": "## Polymorphism\n\n**Polymorphism** is\n- the provision of a single interface to entities of different types\n- the use of a single symbol to represent multiple different types.\n\nThe most commonly recognised major classes of polymorphism are:\n\n- **Ad hoc polymorphism**: defines a common interface for an arbitrary set of individually specified types.\n- **Parametric polymorphism**: when one or more types are not specified by name but by abstract symbols that can represent any type.\n- **Subtyping** (inclusion polymorphism): when a name denotes instances of many different classes related by some common superclass."
    },
    {
      "metadata": {
        "slideshow": {
          "slide_type": "slide"
        }
      },
      "cell_type": "markdown",
      "source": "## OO Polymorphism\n\nA **polymorphic** member can be defined in a class\n- for **reference** objects of the class and objects of any of its descendants\n\nWhen a class hierarchy includes classes that **override** methods and such methods are called through a polymorphic variable\n- the binding to the correct method will be **dynamic**\n- Allows software systems to be more easily extended during both development and maintenance\n\nAn **abstract method** is one that does not include a definition\n- it only defines a protocol\n\nAn **abstract class** is one that includes at least one virtual method\n- an abstract class cannot be instantiated"
    },
    {
      "metadata": {
        "trusted": true,
        "slideshow": {
          "slide_type": "subslide"
        }
      },
      "cell_type": "markdown",
      "source": "## Dynamic and Static Binding\n\nShould all binding of messages to methods be dynamic?\n- If none are, you lose the advantages of dynamic binding\n- If all are, it is inefficient\n\nMaybe the design should allow the user to specify"
    },
    {
      "metadata": {
        "slideshow": {
          "slide_type": "slide"
        }
      },
      "cell_type": "markdown",
      "source": "## F#: Classes and Methods\n\n**Methods** are defined using four keywords, either `member`, `override`, `abstract`, or `default`:\n\n- The simplest way to declare a method is to use the `member` keyword;\n  - this defines a method that **cannot** be overridden.\n\n- The `override` keyword defines a method that overrides an inherited method that has an implementation in a base class.\n\n- The `abstract` keyword defines a method that has no implementation and must be overridden in a derived class.\n\n- The keyword `default` has a similar meaning to the override keyword, except it is only ever used to override an abstract method."
    },
    {
      "metadata": {
        "slideshow": {
          "slide_type": "slide"
        },
        "trusted": true
      },
      "cell_type": "code",
      "source": "type Base = class\n    val mutable state: int\n    new() = { state = 0 }\n    // The method cannot be overridden\n    // so all derived classes will inherit this implementation.\n    member x.JiggleState y = x.state <- y\n    abstract WiggleState: int -> unit\n    default x.WiggleState y = x.state <- y + x.state\nend\n\ntype Sub = class\n    inherit Base\n    new() = {}\n    default x.WiggleState y = x.state <- y &&& x.state\nend",
      "execution_count": 23,
      "outputs": []
    },
    {
      "metadata": {
        "slideshow": {
          "slide_type": "fragment"
        },
        "trusted": true
      },
      "cell_type": "code",
      "source": "let myBase = new Base()\nlet mySub = new Sub()",
      "execution_count": 24,
      "outputs": []
    },
    {
      "metadata": {
        "slideshow": {
          "slide_type": "fragment"
        },
        "trusted": true
      },
      "cell_type": "code",
      "source": "let testBehavior (c : #Base) =\n    c.JiggleState 1\n    printfn \"%d\" c.state\n    c.WiggleState 3\n    printfn \"%d\" c.state\n    \nprintfn \"base class: \"\ntestBehavior myBase\nprintfn \"sub class: \"\ntestBehavior mySub",
      "execution_count": 25,
      "outputs": [
        {
          "output_type": "display_data",
          "data": {
            "text/plain": "base class: \n1\n4\nsub class: \n1\n1\n"
          },
          "metadata": {}
        }
      ]
    },
    {
      "metadata": {
        "slideshow": {
          "slide_type": "slide"
        }
      },
      "cell_type": "markdown",
      "source": "## F#: Accessing the Base Class\n\nWhen accessing methods within a class, they will usually call the version of the method in the **most derived** class.\n\nThe keyword `base` is available in derived classes and refers to the **base class instance**.\n- It is used like the *self-identifier*."
    },
    {
      "metadata": {
        "slideshow": {
          "slide_type": "fragment"
        },
        "trusted": true
      },
      "cell_type": "code",
      "source": "type Sub2 = class\n    inherit Base\n    new() = {}\n    override x.WiggleState y =\n        printfn \"`state` before `base.WiggleState` %d\" x.state\n        base.WiggleState y\n        printfn \"`state` after `base.WiggleState` %d\" x.state\n        x.state <- y ||| x.state\nend",
      "execution_count": 26,
      "outputs": []
    },
    {
      "metadata": {
        "slideshow": {
          "slide_type": "fragment"
        },
        "trusted": true
      },
      "cell_type": "code",
      "source": "testBehavior (new Sub2())",
      "execution_count": 27,
      "outputs": [
        {
          "output_type": "display_data",
          "data": {
            "text/plain": "1\n`state` before `base.WiggleState` 1\n`state` after `base.WiggleState` 4\n7\n"
          },
          "metadata": {}
        }
      ]
    },
    {
      "metadata": {
        "slideshow": {
          "slide_type": "slide"
        }
      },
      "cell_type": "markdown",
      "source": "## Method Dispatch\n\nThe choice of which method to execute when a function is applied is called **dispatch**.\n\nOOP:\n\n- when a derived class inherits from a base class, an object of the derived class may be referred to via a pointer or reference of the base class type instead of the derived class type.\n\nVirtual functions:\n\n- If the function in question is `virtual` in the base class, the most-derived class's implementation of the function is called according to the actual type of the object referred to\n\n- If the function is not `virtual`, the method is resolved 'early' and the function called is selected according to the declared type of the pointer or reference.\n\n- Virtual functions allow a program to call methods that don't necessarily even exist at the moment the code is compiled."
    },
    {
      "metadata": {
        "slideshow": {
          "slide_type": "slide"
        }
      },
      "cell_type": "markdown",
      "source": "## Dynamic Dispatch\n\n**Dynamic dispatch** is the process of selecting which implementation of a *polymorphic operation* to call at **runtime**. \n- the dispatch mechanism will be performed based on the type of the arguments\n\nVirtual function table (vtable) in C++\n- defines the **name-to-implementation** mapping for a given class as a set of member function pointers\n- instances of that type will store a pointer to this table as part of their instance data\n- This is purely an implementation detail\n- the C++ specification does not mention it\n- vtable in a C++ object cannot be modified at run-time"
    },
    {
      "metadata": {
        "slideshow": {
          "slide_type": "slide"
        }
      },
      "cell_type": "markdown",
      "source": "## Multiple Dispatch\n\n**Multiple dispatch** is the process in which a function or method can be **dynamically** dispatched based on the **runtime** (dynamic) type or, in the more general case some other attribute, of more than one of its arguments.\n\nJulia language allows the *dispatch process*:\n- to choose which of a function's methods to call based on the number of arguments given, and\n- on the types of all of the function's arguments.\n- different from OOP, where dispatch occurs based only on the first argument\n  - which often has a special argument syntax, and is sometimes implied rather than explicitly written as an argument."
    },
    {
      "metadata": {
        "slideshow": {
          "slide_type": "slide"
        }
      },
      "cell_type": "markdown",
      "source": "## F#: Object Expressions\n\n**Object expressions** are at the heart of succinct object-oriented programming in F#.\n- useful if you want to provide a short implementation of an abstract class or an interface\n- want to tweak an existing class definition.\n\nAn object expression allows you to provide an implementation of a class or interface while at *the same time* creating a new instance of it.\n\n```fsharp\n// When typename is a class:\n{ new typename [type-params]arguments with\n    member-definitions\n    [ additional-interface-definitions ]\n}\n// When typename is not a class:\n{ new typename [generic-type-args] with\n    member-definitions\n    [ additional-interface-definitions ]\n}\n```"
    },
    {
      "metadata": {
        "slideshow": {
          "slide_type": "fragment"
        },
        "trusted": true
      },
      "cell_type": "code",
      "source": "let obj1 = { new System.Object() with member x.ToString() = \"F#\" }\nprintfn \"%A\" obj1",
      "execution_count": 28,
      "outputs": [
        {
          "output_type": "display_data",
          "data": {
            "text/plain": "F#\n"
          },
          "metadata": {}
        }
      ]
    },
    {
      "metadata": {
        "slideshow": {
          "slide_type": "slide"
        },
        "trusted": true
      },
      "cell_type": "code",
      "source": "// create a new object that implements IDisposable\nlet makeResource name = \n   { new System.IDisposable \n     with member this.Dispose() = printfn \"%s disposed\" name }",
      "execution_count": 29,
      "outputs": []
    },
    {
      "metadata": {
        "slideshow": {
          "slide_type": "fragment"
        },
        "trusted": true
      },
      "cell_type": "code",
      "source": "let testOE = \n    use r1 = makeResource \"first resource\"\n    printfn \"using first resource\" \n    for i in [1..3] do\n        let resourceName = sprintf \"\\tinner resource %d\" i\n        use temp = makeResource resourceName \n        printfn \"\\tdo something with %s\" resourceName\n    printfn \"done.\" ",
      "execution_count": 30,
      "outputs": [
        {
          "output_type": "display_data",
          "data": {
            "text/plain": "using first resource\n\tdo something with \tinner resource 1\n\tinner resource 1 disposed\n\tdo something with \tinner resource 2\n\tinner resource 2 disposed\n\tdo something with \tinner resource 3\n\tinner resource 3 disposed\ndone.\nfirst resource disposed\n"
          },
          "metadata": {}
        }
      ]
    },
    {
      "metadata": {
        "slideshow": {
          "slide_type": "slide"
        }
      },
      "cell_type": "markdown",
      "source": "## Implementing OO Constructs\n\nTwo interesting and challenging parts\n- Storage structures for instance variables\n- Dynamic binding of messages to methods\n    \nInstance Data Storage\n- Class instance records (CIRs) store the state of an object\n  - Static (built at compile time)\n- If a class has a parent, the subclass instance variables are added to the parent CIR\n- Because CIR is static, access to all instance variables is done as it is in records        \n        \nDynamic Binding of Methods Calls\n- Methods in a class that are statically bound need not be involved in the CIR; methods that will be dynamically bound must have entries in the CIR\n  - Calls to dynamically bound methods can be connected to the corresponding code thru a pointer in the CIR\n  - The storage structure is sometimes called virtual method tables  (vtable)\n  - Method calls can be represented as offsets from the beginning of the vtable"
    },
    {
      "metadata": {
        "trusted": true,
        "slideshow": {
          "slide_type": "skip"
        }
      },
      "cell_type": "markdown",
      "source": "### Support for OOP in `C#`\n\n- General characteristics\n    - Support for OOP similar to Java\n    - Includes both classes and structs\n    - Classes are similar to Java’s classes\n        - structs are less powerful stack-dynamic constructs (e.g., no inheritance)\n    \n- Inheritance\n    - Uses the syntax of C++ for defining classes\n    - A method inherited from parent class can be replaced in the derived class by marking its definition with new\n    - The parent class version can still be called explicitly with the prefix base:\n        - base.Draw()\n\n- Dynamic binding\n    - To allow dynamic binding of method calls to methods:\n        - The base class method is marked virtual\n        - The corresponding methods in derived classes are marked override\n    - Abstract methods are marked abstract and must be implemented in all subclasses\n    - All C# classes are ultimately derived from a single root class, Object\n    \n- Nested Classes\n    - A C# class that is directly nested in a nesting class behaves like a Java static nested class\n    - C# does not support nested classes that behave like the non-static classes of Java    \n    \n- Evaluation\n    - C# is a relatively recently designed C-based OO language\n    - The differences between C#’s and Java’s support for OOP are relatively minor    "
    },
    {
      "metadata": {
        "slideshow": {
          "slide_type": "slide"
        }
      },
      "cell_type": "markdown",
      "source": "## Design Issues for OOP Languages\n\n- The Exclusivity of Objects\n- Are Subclasses Subtypes?\n- Single and Multiple Inheritance\n- Object Allocation and Deallocation\n- Nested Classes\n- Initialization of Objects"
    },
    {
      "metadata": {
        "trusted": true,
        "slideshow": {
          "slide_type": "subslide"
        }
      },
      "cell_type": "markdown",
      "source": "## The Exclusivity of Objects\n\n- Everything is an object (Smalltalk)\n    - Advantage - elegance and purity\n    - Disadvantage - slow operations on simple objects\n- Add objects to a complete typing system\n    - Advantage - fast operations on simple objects\n    - Disadvantage - results in a confusing type system (two kinds of entities)\n- Include an imperative-style typing system for primitives but make everything else objects\n    - Advantage - fast operations on simple objects and a relatively small typing system\n    - Disadvantage - still some confusion because of the two type systems"
    },
    {
      "metadata": {
        "trusted": true,
        "slideshow": {
          "slide_type": "subslide"
        }
      },
      "cell_type": "markdown",
      "source": "## Are Subclasses Subtypes?\n\n**Subtyping** is a form of type polymorphism in which a **subtype** is a datatype that is related to another datatype, **supertype**, by some notion of **substitutability**\n- so program elements, typically subroutines or functions, written to operate on elements of the supertype can also operate on elements of the subtype.\n\nDoes an **is-a** relationship hold between a *parent class object* and an *object of the subclass*?\n- If a derived class *is-a* parent class, then objects of the derived class **must** behave the same as the parent class object\n\nA derived class is a **subtype** if it has an *is-a* relationship with its parent class\n- Subclass can only add variables and methods and override inherited methods in \"compatible\" ways"
    },
    {
      "metadata": {
        "trusted": true,
        "slideshow": {
          "slide_type": "subslide"
        }
      },
      "cell_type": "markdown",
      "source": "## Single and Multiple Inheritance\n\nMultiple inheritance allows a new class to **inherit from two or more classes**\n\nAdvantage: \n- Sometimes it is quite convenient and valuable\n    \nDisadvantages:\n- Language and implementation complexity (in part due to name collisions)\n- Potential inefficiency - dynamic binding costs more with multiple inheritance (but not much)"
    },
    {
      "metadata": {
        "trusted": true,
        "slideshow": {
          "slide_type": "subslide"
        }
      },
      "cell_type": "markdown",
      "source": "## Allocation and Deallocation of Objects\n\n- From where are objects allocated?\n    - If they behave line the ADTs, they can be allocated from anywhere\n        - Allocated from the run-time stack\n        - Explicitly create on the heap (via new)\n    - If they are all heap-dynamic, references can be uniform thru a pointer or reference variable\n        - Simplifies assignment - dereferencing can be implicit\n    - If objects are stack dynamic, there is a problem with regard to subtypes – object slicing\n- Is deallocation explicit or implicit?"
    },
    {
      "metadata": {
        "trusted": true,
        "slideshow": {
          "slide_type": "subslide"
        }
      },
      "cell_type": "markdown",
      "source": "## Nested Classes\n\n- If a new class is needed by only one class, there is no reason to define so it can be seen by other classes\n    - Can the new class be nested inside the class that uses it?\n    - In some cases, the new class is nested inside  a subprogram rather than directly in another class\n- Other issues:\n    - Which facilities of the nesting class should be visible to the nested class and vice versa"
    },
    {
      "metadata": {
        "trusted": true,
        "slideshow": {
          "slide_type": "subslide"
        }
      },
      "cell_type": "markdown",
      "source": "## Initialization of Objects\n\n- Are objects initialized to values when they are created?\n  - Implicit or explicit initialization\n\n- How are parent class members initialized when a subclass object is created?"
    }
  ],
  "metadata": {
    "kernelspec": {
      "name": "ifsharp",
      "display_name": "F#",
      "language": "fsharp"
    },
    "language_info": {
      "mimetype": "text/x-fsharp",
      "nbconvert_exporter": "",
      "name": "fsharp",
      "pygments_lexer": "",
      "version": "4.3.1.0",
      "file_extension": ".fs",
      "codemirror_mode": ""
    },
    "language": "fsharp",
    "celltoolbar": "Slideshow"
  },
  "nbformat": 4,
  "nbformat_minor": 2
}