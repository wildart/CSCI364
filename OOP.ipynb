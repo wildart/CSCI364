{
 "cells": [
  {
   "cell_type": "markdown",
   "metadata": {
    "collapsed": true,
    "slideshow": {
     "slide_type": "slide"
    }
   },
   "source": [
    "# Object Oriented Programming"
   ]
  },
  {
   "cell_type": "markdown",
   "metadata": {
    "slideshow": {
     "slide_type": "slide"
    }
   },
   "source": [
    "## Object-Oriented Programming\n",
    "\n",
    "Object Oriented Programming (OOP) is the third major programming paradigm.\n",
    "\n",
    "Three major language features:\n",
    "- Abstract data types\n",
    "- Inheritance\n",
    "  - Inheritance is the central theme in OOP and languages that support it\n",
    "- Polymorphism"
   ]
  },
  {
   "cell_type": "markdown",
   "metadata": {
    "slideshow": {
     "slide_type": "slide"
    }
   },
   "source": [
    "## Object-Oriented Concepts\n",
    "\n",
    "ADTs are usually called **classes**\n",
    "- Class instances are called **objects**\n",
    "- A class that inherits is a **derived** class or a **subclass**\n",
    "  - In the simplest case, a class inherits all of the entities of its parent\n",
    "- The class from which another class inherits is a **base/parent** class or **superclass**\n",
    "- Subprograms that define operations on objects are called **methods**\n",
    "- Calls to methods are called **messages**\n",
    "- The entire collection of methods of an object is called its **message protocol** or **message interface**\n",
    "\n",
    "Messages have two parts\n",
    "- a method name\n",
    "- the destination object"
   ]
  },
  {
   "cell_type": "markdown",
   "metadata": {
    "slideshow": {
     "slide_type": "slide"
    }
   },
   "source": [
    "## F#: Records As Objects\n",
    "\n",
    "Use the **record** types to simulate object-like behavior."
   ]
  },
  {
   "cell_type": "code",
   "execution_count": 10,
   "metadata": {
    "slideshow": {
     "slide_type": "fragment"
    }
   },
   "outputs": [],
   "source": [
    "/// Two-dimensional vectors\n",
    "type Vector2D =\n",
    "    { DX : float; DY : float }\n",
    "    /// Get the length of the vector\n",
    "    member obj.Length = sqrt(obj.DX * obj.DX + obj.DY * obj.DY)\n",
    "    /// Get the zero vector\n",
    "    static member Zero = {DX = 1.0; DY = 1.0}"
   ]
  },
  {
   "cell_type": "code",
   "execution_count": 7,
   "metadata": {
    "slideshow": {
     "slide_type": "fragment"
    }
   },
   "outputs": [
    {
     "data": {
      "text/html": [
       "<table><thead><tr><th>DX</th><th>DY</th><th>Length</th></tr></thead><tbody><tr><td><div class=\"dni-plaintext\">1</div></td><td><div class=\"dni-plaintext\">1</div></td><td><div class=\"dni-plaintext\">1.4142135623730951</div></td></tr></tbody></table>"
      ]
     },
     "execution_count": 7,
     "metadata": {},
     "output_type": "execute_result"
    }
   ],
   "source": [
    "Vector2D.Zero"
   ]
  },
  {
   "cell_type": "code",
   "execution_count": 8,
   "metadata": {
    "slideshow": {
     "slide_type": "fragment"
    }
   },
   "outputs": [
    {
     "name": "stdout",
     "output_type": "stream",
     "text": [
      "{ DX = 3.0\n",
      "  DY = 4.0 },\n",
      " len=5.000000\n"
     ]
    }
   ],
   "source": [
    "let v = { DX = 3.0; DY=4.0 }\n",
    "printfn \"%A,\\n len=%f\" v v.Length"
   ]
  },
  {
   "cell_type": "code",
   "execution_count": 11,
   "metadata": {
    "slideshow": {
     "slide_type": "slide"
    }
   },
   "outputs": [],
   "source": [
    "/// A type of binary trees, generic in the type of values carried at nodes and tips\n",
    "type Tree<'T> =\n",
    "    | Node of 'T * Tree<'T> * Tree<'T>\n",
    "    | Tip\n",
    "    /// Compute the number of values in the tree\n",
    "    member t.Size =\n",
    "        match t with\n",
    "        | Node(_, l, r) -> 1 + l.Size + r.Size\n",
    "        | Tip -> 0"
   ]
  },
  {
   "cell_type": "code",
   "execution_count": 14,
   "metadata": {
    "slideshow": {
     "slide_type": "fragment"
    }
   },
   "outputs": [
    {
     "data": {
      "text/html": [
       "<table><thead><tr><th>Item1</th><th>Item2</th><th>Item3</th><th>Size</th></tr></thead><tbody><tr><td><div class=\"dni-plaintext\">FSI_0017+z@1-3</div></td><td><div class=\"dni-plaintext\">Node (&lt;fun:z@1-4&gt;, Tip, Tip)</div></td><td><div class=\"dni-plaintext\">Node (&lt;fun:z@1-5&gt;, Tip, Node (&lt;fun:z@1-6&gt;, Tip, Tip))</div></td><td><div class=\"dni-plaintext\">4</div></td></tr></tbody></table>"
      ]
     },
     "execution_count": 14,
     "metadata": {},
     "output_type": "execute_result"
    }
   ],
   "source": [
    "let z = Node(int, Node (int, Tip, Tip), Node (int, Tip, Node (int, Tip, Tip)))\n",
    "z"
   ]
  },
  {
   "cell_type": "code",
   "execution_count": 15,
   "metadata": {
    "slideshow": {
     "slide_type": "fragment"
    }
   },
   "outputs": [
    {
     "data": {
      "text/html": [
       "<div class=\"dni-plaintext\">4</div>"
      ]
     },
     "execution_count": 15,
     "metadata": {},
     "output_type": "execute_result"
    }
   ],
   "source": [
    "z.Size"
   ]
  },
  {
   "cell_type": "markdown",
   "metadata": {
    "slideshow": {
     "slide_type": "slide"
    }
   },
   "source": [
    "## F#: Classes\n",
    "\n",
    "**Record** and **union** types are symmetric\n",
    "- the values used to construct an object are the same as those stored in the object, which are a subset of those published by the object\n",
    "- more advanced object programming often needs to break these symmetries"
   ]
  },
  {
   "cell_type": "markdown",
   "metadata": {
    "slideshow": {
     "slide_type": "fragment"
    }
   },
   "source": [
    "```fsharp\n",
    "// Class definition\n",
    "type [access-modifier] type-name [type-params] [access-modifier] ( parameter-list ) [ as identifier ] =\n",
    "[ class ]\n",
    "[ inherit base-type-name(base-constructor-args) ]\n",
    "[ let-bindings ]\n",
    "[ do-bindings ]\n",
    "member-list\n",
    "...\n",
    "[ end ]\n",
    "\n",
    "// Mutually recursive class definitions:\n",
    "type [access-modifier] type-name1 ...\n",
    "and [access-modifier] type-name2 ...\n",
    "...\n",
    "```"
   ]
  },
  {
   "cell_type": "code",
   "execution_count": 35,
   "metadata": {
    "slideshow": {
     "slide_type": "slide"
    }
   },
   "outputs": [],
   "source": [
    "type Vector2D(dx : float, dy : float) = class    \n",
    "    /// Get the X component of the vector\n",
    "    member v.DX = dx\n",
    "    /// Get the Y component of the vector\n",
    "    member v.DY = dy\n",
    "    /// Get the length of the vector\n",
    "    member obj.Length = sqrt(dx * dx + dy * dy)\n",
    "    /// Get the zero vector\n",
    "    static member Zero = Vector2D(dx = 0.0, dy = 0.0)\n",
    "end"
   ]
  },
  {
   "cell_type": "code",
   "execution_count": 36,
   "metadata": {
    "slideshow": {
     "slide_type": "fragment"
    }
   },
   "outputs": [
    {
     "data": {
      "text/html": [
       "<table><thead><tr><th>DX</th><th>DY</th><th>Length</th></tr></thead><tbody><tr><td><div class=\"dni-plaintext\">3</div></td><td><div class=\"dni-plaintext\">4</div></td><td><div class=\"dni-plaintext\">5</div></td></tr></tbody></table>"
      ]
     },
     "execution_count": 36,
     "metadata": {},
     "output_type": "execute_result"
    }
   ],
   "source": [
    "let v = Vector2D(3.0, 4.0)\n",
    "v"
   ]
  },
  {
   "cell_type": "code",
   "execution_count": 39,
   "metadata": {
    "slideshow": {
     "slide_type": "fragment"
    }
   },
   "outputs": [
    {
     "data": {
      "text/html": [
       "<div class=\"dni-plaintext\">6</div>"
      ]
     },
     "execution_count": 39,
     "metadata": {},
     "output_type": "execute_result"
    }
   ],
   "source": [
    "v.Length + 1.0"
   ]
  },
  {
   "cell_type": "code",
   "execution_count": 20,
   "metadata": {
    "slideshow": {
     "slide_type": "fragment"
    }
   },
   "outputs": [
    {
     "data": {
      "text/html": [
       "<table><thead><tr><th>DX</th><th>DY</th><th>Length</th></tr></thead><tbody><tr><td><div class=\"dni-plaintext\">0</div></td><td><div class=\"dni-plaintext\">0</div></td><td><div class=\"dni-plaintext\">0</div></td></tr></tbody></table>"
      ]
     },
     "execution_count": 20,
     "metadata": {},
     "output_type": "execute_result"
    }
   ],
   "source": [
    "Vector2D.Zero"
   ]
  },
  {
   "cell_type": "code",
   "execution_count": 21,
   "metadata": {
    "slideshow": {
     "slide_type": "fragment"
    }
   },
   "outputs": [
    {
     "data": {
      "text/html": [
       "<div class=\"dni-plaintext\">0</div>"
      ]
     },
     "execution_count": 21,
     "metadata": {},
     "output_type": "execute_result"
    }
   ],
   "source": [
    "Vector2D.Zero.DY "
   ]
  },
  {
   "cell_type": "markdown",
   "metadata": {
    "slideshow": {
     "slide_type": "slide"
    }
   },
   "source": [
    "## F#: Constructors\n",
    "\n",
    "The constructor is code that creates an **instance** of the class type. \n",
    "\n",
    "There is *always* a **primary constructor** whose arguments are described in the `parameter-list` that follows the type name\n",
    "- The arguments of the primary constructor are in scope throughout the class declaration.\n",
    "\n",
    "You can add additional constructors by using the new keyword to add a member, as follows:\n",
    "\n",
    "```fsharp\n",
    "new(argument-list) = constructor-body\n",
    "```"
   ]
  },
  {
   "cell_type": "code",
   "execution_count": 24,
   "metadata": {
    "slideshow": {
     "slide_type": "slide"
    }
   },
   "outputs": [],
   "source": [
    "type Value(v:int) = class\n",
    "    new(v1, v2) = Value(v1+v2)\n",
    "    new(v1, v2, v3) = Value(v1+v2+v3)\n",
    "    member x.show () = printfn \"Current values is %d\" v\n",
    "end"
   ]
  },
  {
   "cell_type": "code",
   "execution_count": 25,
   "metadata": {
    "slideshow": {
     "slide_type": "fragment"
    }
   },
   "outputs": [
    {
     "name": "stdout",
     "output_type": "stream",
     "text": [
      "Current values is 10\n"
     ]
    }
   ],
   "source": [
    "Value(10).show()"
   ]
  },
  {
   "cell_type": "code",
   "execution_count": 26,
   "metadata": {
    "slideshow": {
     "slide_type": "fragment"
    }
   },
   "outputs": [
    {
     "name": "stdout",
     "output_type": "stream",
     "text": [
      "Current values is 3\n"
     ]
    }
   ],
   "source": [
    "Value(1,2).show()"
   ]
  },
  {
   "cell_type": "code",
   "execution_count": 27,
   "metadata": {
    "slideshow": {
     "slide_type": "fragment"
    }
   },
   "outputs": [
    {
     "name": "stdout",
     "output_type": "stream",
     "text": [
      "Current values is 7\n"
     ]
    }
   ],
   "source": [
    "Value(1,2,4).show()"
   ]
  },
  {
   "cell_type": "markdown",
   "metadata": {
    "slideshow": {
     "slide_type": "slide"
    }
   },
   "source": [
    "\n",
    "## F#: Properties and Indexers\n",
    "\n",
    "- **Properties** are a special form of method that look like a **value** to the code that calls it.\n",
    "- **Indexers** are a similar concept that makes a method look a bit like a **collection to** the calling code.\n",
    "  - Both properties and indexers have accessors, which include a **get accessor** for reading and a **set accessor** for writing."
   ]
  },
  {
   "cell_type": "code",
   "execution_count": 46,
   "metadata": {
    "slideshow": {
     "slide_type": "slide"
    }
   },
   "outputs": [],
   "source": [
    "type Properties() = class\n",
    "    let mutable rand = new System.Random()\n",
    "    member x.MyProp\n",
    "        with get () = rand.Next()\n",
    "        and set y = rand <- new System.Random(y)\n",
    "end"
   ]
  },
  {
   "cell_type": "code",
   "execution_count": 47,
   "metadata": {
    "slideshow": {
     "slide_type": "fragment"
    }
   },
   "outputs": [
    {
     "name": "stdout",
     "output_type": "stream",
     "text": [
      "1374932722\n",
      "2137491492\n",
      "726598452\n",
      "2137491493\n",
      "726598453\n"
     ]
    }
   ],
   "source": [
    "let prop = new Properties()\n",
    "printfn \"%d\" prop.MyProp\n",
    "prop.MyProp <- 12\n",
    "printfn \"%d\" prop.MyProp\n",
    "printfn \"%d\" prop.MyProp\n",
    "prop.MyProp <- 12\n",
    "printfn \"%d\" (prop.MyProp + 1)\n",
    "printfn \"%d\" (prop.MyProp + 1)"
   ]
  },
  {
   "cell_type": "markdown",
   "metadata": {
    "slideshow": {
     "slide_type": "slide"
    }
   },
   "source": [
    "## Indexed Properties\n",
    "\n",
    "A class can abstract over ordered data by providing indexed access to the data members without exposing the underlying implementation.\n",
    "- This is done with the `Item` member.\n",
    "- If the `Item` member is implemented, the subscript operator (`.[]`) can be used.\n",
    "\n",
    "Indexed properties, **indexers**, are properties that take one or more parameters\n",
    "- one to represent the element being placed in the pseudocollection, and\n",
    "- others to represent the index in it."
   ]
  },
  {
   "cell_type": "code",
   "execution_count": 56,
   "metadata": {
    "slideshow": {
     "slide_type": "slide"
    }
   },
   "outputs": [],
   "source": [
    "type Indexers(vals:string[]) = class\n",
    "    member x.Values = vals\n",
    "    member x.Item\n",
    "        with get(y) = vals.[y]\n",
    "        and set y z  = vals.[y] <- z\n",
    "\n",
    "    member x.MyString\n",
    "        with get (y) = vals.[y]\n",
    "        and set y z = vals.[y] <- z\n",
    "end"
   ]
  },
  {
   "cell_type": "code",
   "execution_count": 57,
   "metadata": {
    "slideshow": {
     "slide_type": "fragment"
    }
   },
   "outputs": [
    {
     "data": {
      "text/plain": [
       "One"
      ]
     },
     "execution_count": 57,
     "metadata": {},
     "output_type": "execute_result"
    }
   ],
   "source": [
    "let array = [|\"One\"; \"Two\"; \"Three\"; \"Four\"|]\n",
    "array.[0]"
   ]
  },
  {
   "cell_type": "code",
   "execution_count": 59,
   "metadata": {
    "slideshow": {
     "slide_type": "fragment"
    }
   },
   "outputs": [
    {
     "data": {
      "text/html": [
       "<table><thead><tr><th><i>index</i></th><th>value</th></tr></thead><tbody><tr><td>0</td><td><div class=\"dni-plaintext\">One</div></td></tr><tr><td>1</td><td><div class=\"dni-plaintext\">Two</div></td></tr><tr><td>2</td><td><div class=\"dni-plaintext\">Three</div></td></tr><tr><td>3</td><td><div class=\"dni-plaintext\">Four</div></td></tr></tbody></table>"
      ]
     },
     "execution_count": 59,
     "metadata": {},
     "output_type": "execute_result"
    }
   ],
   "source": [
    "let index = new Indexers(array)\n",
    "index.Values"
   ]
  },
  {
   "cell_type": "code",
   "execution_count": 60,
   "metadata": {
    "slideshow": {
     "slide_type": "slide"
    }
   },
   "outputs": [
    {
     "data": {
      "text/plain": [
       "Three"
      ]
     },
     "execution_count": 60,
     "metadata": {},
     "output_type": "execute_result"
    }
   ],
   "source": [
    "index.Item(2)"
   ]
  },
  {
   "cell_type": "code",
   "execution_count": 61,
   "metadata": {
    "slideshow": {
     "slide_type": "fragment"
    }
   },
   "outputs": [
    {
     "data": {
      "text/plain": [
       "Three"
      ]
     },
     "execution_count": 61,
     "metadata": {},
     "output_type": "execute_result"
    }
   ],
   "source": [
    "index.[2]"
   ]
  },
  {
   "cell_type": "code",
   "execution_count": 62,
   "metadata": {
    "slideshow": {
     "slide_type": "fragment"
    }
   },
   "outputs": [
    {
     "data": {
      "text/html": [
       "<table><thead><tr><th><i>index</i></th><th>value</th></tr></thead><tbody><tr><td>0</td><td><div class=\"dni-plaintext\">One</div></td></tr><tr><td>1</td><td><div class=\"dni-plaintext\">Two</div></td></tr><tr><td>2</td><td><div class=\"dni-plaintext\">5</div></td></tr><tr><td>3</td><td><div class=\"dni-plaintext\">Four</div></td></tr></tbody></table>"
      ]
     },
     "execution_count": 62,
     "metadata": {},
     "output_type": "execute_result"
    }
   ],
   "source": [
    "index.[2] <- \"5\"\n",
    "index.Values"
   ]
  },
  {
   "cell_type": "code",
   "execution_count": 63,
   "metadata": {
    "slideshow": {
     "slide_type": "subslide"
    }
   },
   "outputs": [
    {
     "name": "stdout",
     "output_type": "stream",
     "text": [
      "5\n",
      "Seven\n",
      "Two\n"
     ]
    },
    {
     "data": {
      "text/html": [
       "<table><thead><tr><th>Values</th></tr></thead><tbody><tr><td><div class=\"dni-plaintext\">[ 5, Two, Six, Seven ]</div></td></tr></tbody></table>"
      ]
     },
     "execution_count": 63,
     "metadata": {},
     "output_type": "execute_result"
    }
   ],
   "source": [
    "let index = new Indexers [|\"One\"; \"Two\"; \"Three\"; \"Four\"|]\n",
    "\n",
    "index.[0] <- \"5\"\n",
    "index.Item(2) <- \"Six\"\n",
    "index.MyString(3) <- \"Seven\"\n",
    "\n",
    "printfn \"%s\" index.[0]\n",
    "printfn \"%s\" (index.Item 3)\n",
    "printfn \"%s\" (index.MyString 1)\n",
    "index"
   ]
  },
  {
   "cell_type": "markdown",
   "metadata": {
    "slideshow": {
     "slide_type": "slide"
    }
   },
   "source": [
    "## Inheritance\n",
    "\n",
    "Productivity increases can come from **reuse**\n",
    "- ADTs are difficult to reuse - always need changes\n",
    "- All ADTs are independent and at the same level\n",
    "\n",
    "**Inheritance** allows new classes *defined in terms of existing ones*\n",
    "- by allowing them to inherit common parts\n",
    "\n",
    "Inheritance addresses both of the above concerns\n",
    "- reuse ADTs after minor changes\n",
    "- define classes in a hierarchy"
   ]
  },
  {
   "cell_type": "markdown",
   "metadata": {
    "slideshow": {
     "slide_type": "slide"
    }
   },
   "source": [
    "## Object-Oriented Concepts: Inheritance\n",
    "\n",
    "Inheritance can be complicated by access controls to encapsulated entities\n",
    "- A class can hide entities from its subclasses\n",
    "- A class can hide entities from its clients\n",
    "- A class can also hide entities for its clients while allowing its subclasses to see them\n",
    "\n",
    "Besides inheriting methods as is, a class can modify an inherited method\n",
    "- The new one **overrides** the inherited one\n",
    "- The method in the parent is **overriden**\n",
    "\n",
    "One disadvantage of inheritance for reuse: \n",
    "- Creates interdependencies among classes that complicate maintenance"
   ]
  },
  {
   "cell_type": "markdown",
   "metadata": {
    "slideshow": {
     "slide_type": "subslide"
    }
   },
   "source": [
    "Three ways a class can differ from its parent:\n",
    "1. The parent class can define some of its variables or methods to have private access, which means they will not be visible in the subclass\n",
    "2. The subclass can add variables and/or methods to those inherited from the parent\n",
    "3. The subclass can modify the behavior of one or more of its inherited methods."
   ]
  },
  {
   "cell_type": "markdown",
   "metadata": {
    "slideshow": {
     "slide_type": "subslide"
    }
   },
   "source": [
    "There are two kinds of variables in a class:\n",
    "- Class variables - one/class\n",
    "- Instance variables - one/object\n",
    "\n",
    "There are two kinds of methods in a class:\n",
    "- Class methods - accept messages to the class\n",
    "- Instance methods - accept messages to objects"
   ]
  },
  {
   "cell_type": "markdown",
   "metadata": {
    "slideshow": {
     "slide_type": "slide"
    }
   },
   "source": [
    "## F#: Classes and Inheritance\n",
    "\n",
    "The *base class* **must** have a parameterless constructor\n",
    "- If the base class does not have a parameterless constructor, then it cannot be initialized implicitly when the derived class is instantiated."
   ]
  },
  {
   "cell_type": "code",
   "execution_count": 64,
   "metadata": {
    "slideshow": {
     "slide_type": "fragment"
    }
   },
   "outputs": [],
   "source": [
    "type Base = class\n",
    "    val state: int\n",
    "    new() = { state = 1 }\n",
    "end"
   ]
  },
  {
   "cell_type": "code",
   "execution_count": 65,
   "metadata": {
    "slideshow": {
     "slide_type": "fragment"
    }
   },
   "outputs": [
    {
     "name": "stdout",
     "output_type": "stream",
     "text": [
      "myBaseObject.state = 1\n"
     ]
    }
   ],
   "source": [
    "let myBaseObject = new Base()\n",
    "printfn \"myBaseObject.state = %i\" myBaseObject.state"
   ]
  },
  {
   "cell_type": "code",
   "execution_count": 67,
   "metadata": {
    "slideshow": {
     "slide_type": "fragment"
    }
   },
   "outputs": [],
   "source": [
    "type Sub = class\n",
    "    inherit Base\n",
    "    val otherState: int\n",
    "    new() = { otherState = 2 }\n",
    "end"
   ]
  },
  {
   "cell_type": "code",
   "execution_count": 68,
   "metadata": {
    "slideshow": {
     "slide_type": "fragment"
    }
   },
   "outputs": [
    {
     "name": "stdout",
     "output_type": "stream",
     "text": [
      "myObject.state = 1, myObject.otherState = 2\n"
     ]
    }
   ],
   "source": [
    "let myObject = new Sub()\n",
    "printfn \"myObject.state = %i, myObject.otherState = %i\" myObject.state myObject.otherState"
   ]
  },
  {
   "cell_type": "markdown",
   "metadata": {
    "slideshow": {
     "slide_type": "slide"
    }
   },
   "source": [
    "If base class does not have a parameterless constructor\n",
    "- need to explicitly call the base class’s constructor.\n",
    "- use the `inherit` keyword again but this time within the constructor’s initializer block."
   ]
  },
  {
   "cell_type": "code",
   "execution_count": 69,
   "metadata": {
    "slideshow": {
     "slide_type": "fragment"
    }
   },
   "outputs": [],
   "source": [
    "type Base2 = class\n",
    "    val state: int\n",
    "    new(state) = { state = state }\n",
    "    member this.addToState x  = this.state + x\n",
    "end"
   ]
  },
  {
   "cell_type": "code",
   "execution_count": 70,
   "metadata": {
    "slideshow": {
     "slide_type": "fragment"
    }
   },
   "outputs": [],
   "source": [
    "type Sub = class\n",
    "    inherit Base2\n",
    "    val otherState: int\n",
    "    new(state) = { inherit Base2(state); otherState = 0 }\n",
    "end"
   ]
  },
  {
   "cell_type": "code",
   "execution_count": 71,
   "metadata": {
    "slideshow": {
     "slide_type": "fragment"
    }
   },
   "outputs": [
    {
     "name": "stdout",
     "output_type": "stream",
     "text": [
      "myObject.state = 10, myObject.otherState = 0\n"
     ]
    },
    {
     "data": {
      "text/html": [
       "<div class=\"dni-plaintext\">20</div>"
      ]
     },
     "execution_count": 71,
     "metadata": {},
     "output_type": "execute_result"
    }
   ],
   "source": [
    "let myObject = new Sub(10)\n",
    "printfn \"myObject.state = %i, myObject.otherState = %i\" myObject.state myObject.otherState\n",
    "myObject.addToState 10"
   ]
  },
  {
   "cell_type": "markdown",
   "metadata": {
    "slideshow": {
     "slide_type": "slide"
    }
   },
   "source": [
    "## Polymorphism\n",
    "\n",
    "**Polymorphism** is\n",
    "- the provision of a single interface to entities of different types\n",
    "- the use of a single symbol to represent multiple different types.\n",
    "\n",
    "The most commonly recognised major classes of polymorphism are:\n",
    "\n",
    "- **Ad hoc polymorphism**: defines a common interface for an arbitrary set of individually specified types.\n",
    "- **Parametric polymorphism**: when one or more types are not specified by name but by abstract symbols that can represent any type.\n",
    "- **Subtyping** (inclusion polymorphism): when a name denotes instances of many different classes related by some common superclass."
   ]
  },
  {
   "cell_type": "markdown",
   "metadata": {
    "slideshow": {
     "slide_type": "slide"
    }
   },
   "source": [
    "## OO Polymorphism\n",
    "\n",
    "A **polymorphic** member can be defined in a class\n",
    "- for **reference** objects of the class and objects of any of its descendants\n",
    "\n",
    "When a class hierarchy includes classes that **override** methods and such methods are called through a polymorphic variable\n",
    "- the binding to the correct method will be **dynamic**\n",
    "- Allows software systems to be more easily extended during both development and maintenance\n",
    "\n",
    "An **abstract method** is one that does not include a definition\n",
    "- it only defines a protocol\n",
    "\n",
    "An **abstract class** is one that includes at least one abstract (virtual) method\n",
    "- an abstract class cannot be instantiated"
   ]
  },
  {
   "cell_type": "markdown",
   "metadata": {
    "slideshow": {
     "slide_type": "subslide"
    }
   },
   "source": [
    "## Dynamic and Static Binding\n",
    "\n",
    "Should all binding of messages to methods be dynamic?\n",
    "- If none are, you lose the advantages of dynamic binding\n",
    "- If all are, it is inefficient\n",
    "\n",
    "Maybe the design should allow the user to specify"
   ]
  },
  {
   "cell_type": "markdown",
   "metadata": {
    "slideshow": {
     "slide_type": "slide"
    }
   },
   "source": [
    "## F#: Classes and Methods\n",
    "\n",
    "**Methods** are defined using four keywords, either `member`, `override`, `abstract`, or `default`:\n",
    "\n",
    "- The simplest way to declare a method is to use the `member` keyword;\n",
    "  - this defines a method that **cannot** be overridden.\n",
    "\n",
    "- The `override` keyword defines a method that overrides an inherited method that has an implementation in a base class.\n",
    "\n",
    "- The `abstract` keyword defines a method that has no implementation and must be overridden in a derived class.\n",
    "\n",
    "- The keyword `default` has a similar meaning to the override keyword, except it is only ever used to override an abstract method."
   ]
  },
  {
   "cell_type": "code",
   "execution_count": null,
   "metadata": {
    "slideshow": {
     "slide_type": "slide"
    }
   },
   "outputs": [],
   "source": [
    "// [<AbstractClass>]\n",
    "type Base = class\n",
    "    val mutable state: int\n",
    "    new() = { state = 0 }\n",
    "    // The method cannot be overridden\n",
    "    // so all derived classes will inherit this implementation.\n",
    "    member x.JiggleState y = x.state <- y\n",
    "    abstract WiggleState: int -> unit\n",
    "    default x.WiggleState y = x.state <- y + x.state\n",
    "end\n",
    "\n",
    "type Sub = class\n",
    "    inherit Base\n",
    "    new() = {}\n",
    "    default x.WiggleState y = x.state <- y - x.state\n",
    "end"
   ]
  },
  {
   "cell_type": "code",
   "execution_count": null,
   "metadata": {
    "slideshow": {
     "slide_type": "fragment"
    }
   },
   "outputs": [],
   "source": [
    "let myBase = new Base()\n",
    "let mySub = new Sub()"
   ]
  },
  {
   "cell_type": "code",
   "execution_count": null,
   "metadata": {
    "slideshow": {
     "slide_type": "fragment"
    }
   },
   "outputs": [],
   "source": [
    "// polymorphic function accepts any object derived form Base\n",
    "let testBehavior (c : #Base) =\n",
    "    c.JiggleState 1\n",
    "    printfn \"%d\" c.state\n",
    "    c.WiggleState 3\n",
    "    printfn \"%d\" c.state\n",
    "    \n",
    "printfn \"base class: \"\n",
    "testBehavior myBase\n",
    "printfn \"sub class: \"\n",
    "testBehavior mySub"
   ]
  },
  {
   "cell_type": "markdown",
   "metadata": {
    "slideshow": {
     "slide_type": "slide"
    }
   },
   "source": [
    "## F#: Accessing the Base Class\n",
    "\n",
    "When accessing methods within a class, they will usually call the version of the method in the **most derived** class.\n",
    "\n",
    "The keyword `base` is available in derived classes and refers to the **base class instance**.\n",
    "- It is used like the *self-identifier*."
   ]
  },
  {
   "cell_type": "code",
   "execution_count": null,
   "metadata": {
    "slideshow": {
     "slide_type": "fragment"
    }
   },
   "outputs": [],
   "source": [
    "type Sub2 = class\n",
    "    inherit Base\n",
    "    new() = {}\n",
    "    override x.WiggleState y =\n",
    "        printfn \"`state` before `base.WiggleState` %d\" x.state\n",
    "        base.WiggleState y\n",
    "        printfn \"`state` after `base.WiggleState` %d\" x.state\n",
    "        x.state <- y ||| x.state\n",
    "end"
   ]
  },
  {
   "cell_type": "code",
   "execution_count": null,
   "metadata": {
    "slideshow": {
     "slide_type": "fragment"
    }
   },
   "outputs": [],
   "source": [
    "testBehavior (new Sub2())"
   ]
  },
  {
   "cell_type": "markdown",
   "metadata": {
    "slideshow": {
     "slide_type": "slide"
    }
   },
   "source": [
    "## Method Dispatch\n",
    "\n",
    "The choice of which method to execute when a function is applied is called **dispatch**.\n",
    "\n",
    "OOP:\n",
    "\n",
    "- when a derived class inherits from a base class, an object of the derived class may be referred to via a pointer or reference of the base class type instead of the derived class type.\n",
    "\n",
    "Virtual functions:\n",
    "\n",
    "- If the function in question is `virtual` in the base class, the most-derived class's implementation of the function is called according to the actual type of the object referred to\n",
    "\n",
    "- If the function is not `virtual`, the method is resolved 'early' and the function called is selected according to the declared type of the pointer or reference.\n",
    "\n",
    "- Virtual functions allow a program to call methods that don't necessarily even exist at the moment the code is compiled."
   ]
  },
  {
   "cell_type": "markdown",
   "metadata": {
    "slideshow": {
     "slide_type": "slide"
    }
   },
   "source": [
    "## Dynamic Dispatch\n",
    "\n",
    "**Dynamic dispatch** is the process of selecting which implementation of a *polymorphic operation* to call at **runtime**. \n",
    "- the dispatch mechanism will be performed based on the type of the arguments\n",
    "\n",
    "Virtual function table (vtable) in C++\n",
    "- defines the **name-to-implementation** mapping for a given class as a set of member function pointers\n",
    "- instances of that type will store a pointer to this table as part of their instance data\n",
    "- This is purely an implementation detail\n",
    "- the C++ specification does not mention it\n",
    "- vtable in a C++ object cannot be modified at run-time"
   ]
  },
  {
   "cell_type": "markdown",
   "metadata": {
    "slideshow": {
     "slide_type": "slide"
    }
   },
   "source": [
    "## Multiple Dispatch\n",
    "\n",
    "[**Multiple dispatch**](https://en.wikipedia.org/wiki/Multiple_dispatch) is the process in which a function or method can be **dynamically** dispatched based on the **runtime** (dynamic) type or, in the more general case some other attribute, of more than one of its arguments.\n",
    "\n",
    "Julia language allows the *dispatch process*:\n",
    "- to choose which of a function's methods to call based on the number of arguments given, and\n",
    "- on the types of all of the function's arguments.\n",
    "- different from OOP, where dispatch occurs based only on the first argument\n",
    "  - which often has a special argument syntax, and is sometimes implied rather than explicitly written as an argument."
   ]
  },
  {
   "cell_type": "markdown",
   "metadata": {
    "slideshow": {
     "slide_type": "slide"
    }
   },
   "source": [
    "Julia [strongly typed](https://en.wikipedia.org/wiki/Strong_and_weak_typing) dynamic language.\n",
    "\n",
    "Dispatch on type parameters:\n",
    "\n",
    "```julia\n",
    "julia> f(x::Float64, y::Float64) = 2x + y\n",
    "f (generic function with 1 method)\n",
    "\n",
    "julia> f(2.0, 3.0)\n",
    "7.0\n",
    "\n",
    "julia> f(2.0, 3)\n",
    "ERROR: MethodError: no method matching f(::Float64, ::Int64)\n",
    "Closest candidates are:\n",
    "  f(::Float64, ::Float64) at REPL[1]:1\n",
    "Stacktrace:\n",
    " [1] top-level scope at none:0\n",
    "```"
   ]
  },
  {
   "cell_type": "markdown",
   "metadata": {
    "slideshow": {
     "slide_type": "slide"
    }
   },
   "source": [
    "```julia\n",
    "julia> f(x::Number, y::Number) = 2x - y\n",
    "f (generic function with 2 methods)\n",
    "\n",
    "julia> typeof((2.0, 3))\n",
    "Tuple{Float64,Int64}    \n",
    "    \n",
    "julia> f(2.0, 3)\n",
    "1.0\n",
    "    \n",
    "julia> f(2.0, 3.0) # see previous definition\n",
    "7.0\n",
    "```\n",
    "\n",
    "- First parameter is of type **Float64**\n",
    "    - `Float64 <: AbstractFloat  <: Real <: Number`\n",
    "- Second parameter is of type **Int64**\n",
    "    - `Int64 <: Signed  <: Integer <: Real <: Number`"
   ]
  },
  {
   "cell_type": "markdown",
   "metadata": {
    "slideshow": {
     "slide_type": "slide"
    }
   },
   "source": [
    "## F#: Object Expressions\n",
    "\n",
    "**Object expressions** are at the heart of succinct object-oriented programming in F#.\n",
    "- useful if you want to provide a short implementation of an abstract class or an interface\n",
    "- want to tweak an existing class definition.\n",
    "\n",
    "An object expression allows you to provide an implementation of a class or interface while at *the same time* creating a new instance of it.\n",
    "\n",
    "```fsharp\n",
    "// When typename is a class:\n",
    "{ new typename [type-params]arguments with\n",
    "    member-definitions\n",
    "    [ additional-interface-definitions ]\n",
    "}\n",
    "// When typename is not a class:\n",
    "{ new typename [generic-type-args] with\n",
    "    member-definitions\n",
    "    [ additional-interface-definitions ]\n",
    "}\n",
    "```"
   ]
  },
  {
   "cell_type": "code",
   "execution_count": null,
   "metadata": {
    "slideshow": {
     "slide_type": "fragment"
    }
   },
   "outputs": [],
   "source": [
    "let obj1 = { new System.Object() with member x.ToString() = \"F#\" }\n",
    "printfn \"%A\" obj1"
   ]
  },
  {
   "cell_type": "code",
   "execution_count": null,
   "metadata": {
    "slideshow": {
     "slide_type": "slide"
    }
   },
   "outputs": [],
   "source": [
    "// create a new object that implements IDisposable\n",
    "let makeResource name = \n",
    "   { new System.IDisposable \n",
    "     with member this.Dispose() = printfn \"%s disposed\" name }"
   ]
  },
  {
   "cell_type": "code",
   "execution_count": null,
   "metadata": {
    "slideshow": {
     "slide_type": "fragment"
    }
   },
   "outputs": [],
   "source": [
    "let testOE = \n",
    "    use r1 = makeResource \"first resource\"\n",
    "    printfn \"using first resource\" \n",
    "    for i in [1..3] do\n",
    "        let resourceName = sprintf \"\\tinner resource %d\" i\n",
    "        use temp = makeResource resourceName \n",
    "        printfn \"\\tdo something with %s\" resourceName\n",
    "    printfn \"done.\" "
   ]
  },
  {
   "cell_type": "markdown",
   "metadata": {
    "slideshow": {
     "slide_type": "slide"
    }
   },
   "source": [
    "## Implementing OO Constructs\n",
    "\n",
    "Two interesting and challenging parts\n",
    "- Storage structures for instance variables\n",
    "- Dynamic binding of messages to methods\n",
    "    \n",
    "Instance Data Storage\n",
    "- Class instance records (CIRs) store the state of an object\n",
    "  - Static (built at compile time)\n",
    "- If a class has a parent, the subclass instance variables are added to the parent CIR\n",
    "- Because CIR is static, access to all instance variables is done as it is in records        \n",
    "        \n",
    "Dynamic Binding of Methods Calls\n",
    "- Methods in a class that are statically bound need not be involved in the CIR; methods that will be dynamically bound must have entries in the CIR\n",
    "  - Calls to dynamically bound methods can be connected to the corresponding code thru a pointer in the CIR\n",
    "  - The storage structure is sometimes called virtual method tables  (vtable)\n",
    "  - Method calls can be represented as offsets from the beginning of the vtable"
   ]
  },
  {
   "cell_type": "markdown",
   "metadata": {
    "slideshow": {
     "slide_type": "skip"
    }
   },
   "source": [
    "### Support for OOP in `C#`\n",
    "\n",
    "- General characteristics\n",
    "    - Support for OOP similar to Java\n",
    "    - Includes both classes and structs\n",
    "    - Classes are similar to Java’s classes\n",
    "        - structs are less powerful stack-dynamic constructs (e.g., no inheritance)\n",
    "    \n",
    "- Inheritance\n",
    "    - Uses the syntax of C++ for defining classes\n",
    "    - A method inherited from parent class can be replaced in the derived class by marking its definition with new\n",
    "    - The parent class version can still be called explicitly with the prefix base:\n",
    "        - base.Draw()\n",
    "\n",
    "- Dynamic binding\n",
    "    - To allow dynamic binding of method calls to methods:\n",
    "        - The base class method is marked virtual\n",
    "        - The corresponding methods in derived classes are marked override\n",
    "    - Abstract methods are marked abstract and must be implemented in all subclasses\n",
    "    - All C# classes are ultimately derived from a single root class, Object\n",
    "    \n",
    "- Nested Classes\n",
    "    - A C# class that is directly nested in a nesting class behaves like a Java static nested class\n",
    "    - C# does not support nested classes that behave like the non-static classes of Java    \n",
    "    \n",
    "- Evaluation\n",
    "    - C# is a relatively recently designed C-based OO language\n",
    "    - The differences between C#’s and Java’s support for OOP are relatively minor    "
   ]
  },
  {
   "cell_type": "markdown",
   "metadata": {
    "slideshow": {
     "slide_type": "slide"
    }
   },
   "source": [
    "## Design Issues for OOP Languages\n",
    "\n",
    "- The Exclusivity of Objects\n",
    "- Are Subclasses Subtypes?\n",
    "- Single and Multiple Inheritance\n",
    "- Object Allocation and Deallocation\n",
    "- Nested Classes\n",
    "- Initialization of Objects"
   ]
  },
  {
   "cell_type": "markdown",
   "metadata": {
    "slideshow": {
     "slide_type": "subslide"
    }
   },
   "source": [
    "## The Exclusivity of Objects\n",
    "\n",
    "- Everything is an object (Smalltalk)\n",
    "    - Advantage - elegance and purity\n",
    "    - Disadvantage - slow operations on simple objects\n",
    "- Add objects to a complete typing system\n",
    "    - Advantage - fast operations on simple objects\n",
    "    - Disadvantage - results in a confusing type system (two kinds of entities)\n",
    "- Include an imperative-style typing system for primitives but make everything else objects\n",
    "    - Advantage - fast operations on simple objects and a relatively small typing system\n",
    "    - Disadvantage - still some confusion because of the two type systems"
   ]
  },
  {
   "cell_type": "markdown",
   "metadata": {
    "slideshow": {
     "slide_type": "subslide"
    }
   },
   "source": [
    "## Are Subclasses Subtypes?\n",
    "\n",
    "**Subtyping** is a form of type polymorphism in which a **subtype** is a datatype that is related to another datatype, **supertype**, by some notion of **substitutability**\n",
    "- so program elements, typically subroutines or functions, written to operate on elements of the supertype can also operate on elements of the subtype.\n",
    "\n",
    "Does an **is-a** relationship hold between a *parent class object* and an *object of the subclass*?\n",
    "- If a derived class *is-a* parent class, then objects of the derived class **must** behave the same as the parent class object\n",
    "\n",
    "A derived class is a **subtype** if it has an *is-a* relationship with its parent class\n",
    "- Subclass can only add variables and methods and override inherited methods in \"compatible\" ways"
   ]
  },
  {
   "cell_type": "markdown",
   "metadata": {
    "slideshow": {
     "slide_type": "subslide"
    }
   },
   "source": [
    "## Single and Multiple Inheritance\n",
    "\n",
    "Multiple inheritance allows a new class to **inherit from two or more classes**\n",
    "\n",
    "Advantage: \n",
    "- Sometimes it is quite convenient and valuable\n",
    "    \n",
    "Disadvantages:\n",
    "- Language and implementation complexity (in part due to name collisions)\n",
    "- Potential inefficiency - dynamic binding costs more with multiple inheritance (but not much)"
   ]
  },
  {
   "cell_type": "markdown",
   "metadata": {
    "slideshow": {
     "slide_type": "subslide"
    }
   },
   "source": [
    "## Allocation and Deallocation of Objects\n",
    "\n",
    "- From where are objects allocated?\n",
    "    - If they behave line the ADTs, they can be allocated from anywhere\n",
    "        - Allocated from the run-time stack\n",
    "        - Explicitly create on the heap (via new)\n",
    "    - If they are all heap-dynamic, references can be uniform thru a pointer or reference variable\n",
    "        - Simplifies assignment - dereferencing can be implicit\n",
    "    - If objects are stack dynamic, there is a problem with regard to subtypes – object slicing\n",
    "- Is deallocation explicit or implicit?"
   ]
  },
  {
   "cell_type": "markdown",
   "metadata": {
    "slideshow": {
     "slide_type": "subslide"
    }
   },
   "source": [
    "## Nested Classes\n",
    "\n",
    "- If a new class is needed by only one class, there is no reason to define so it can be seen by other classes\n",
    "    - Can the new class be nested inside the class that uses it?\n",
    "    - In some cases, the new class is nested inside  a subprogram rather than directly in another class\n",
    "- Other issues:\n",
    "    - Which facilities of the nesting class should be visible to the nested class and vice versa"
   ]
  },
  {
   "cell_type": "markdown",
   "metadata": {
    "slideshow": {
     "slide_type": "subslide"
    }
   },
   "source": [
    "## Initialization of Objects\n",
    "\n",
    "- Are objects initialized to values when they are created?\n",
    "  - Implicit or explicit initialization\n",
    "\n",
    "- How are parent class members initialized when a subclass object is created?"
   ]
  }
 ],
 "metadata": {
  "celltoolbar": "Slideshow",
  "kernelspec": {
   "display_name": ".NET (F#)",
   "language": "F#",
   "name": ".net-fsharp"
  },
  "language": "fsharp",
  "language_info": {
   "file_extension": ".fs",
   "mimetype": "text/x-fsharp",
   "name": "C#",
   "pygments_lexer": "fsharp",
   "version": "4.5"
  }
 },
 "nbformat": 4,
 "nbformat_minor": 2
}
