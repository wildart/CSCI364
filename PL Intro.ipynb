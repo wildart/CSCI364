{
 "cells": [
  {
   "cell_type": "markdown",
   "metadata": {
    "collapsed": true,
    "slideshow": {
     "slide_type": "slide"
    }
   },
   "source": [
    "# Introduction to Programming Languages"
   ]
  },
  {
   "cell_type": "markdown",
   "metadata": {
    "slideshow": {
     "slide_type": "slide"
    }
   },
   "source": [
    "## Why Study Programming Languages?\n",
    "\n",
    "- Increased ability to express ideas\n",
    "- Improved background for choosing appropriate languages\n",
    "- Increased ability to learn new languages\n",
    "- Understand obscure features\n",
    "- Simulate useful features in languages that lack them\n",
    "- Better understanding of significance of implementation\n",
    "- Better use of languages that are already known\n",
    "- Overall advancement of computing"
   ]
  },
  {
   "cell_type": "markdown",
   "metadata": {
    "slideshow": {
     "slide_type": "slide"
    }
   },
   "source": [
    "## Influences on Language Design\n",
    "\n",
    "Computer Architecture\n",
    "- Languages are developed around the prevalent computer architecture, known as the von Neumann architecture\n",
    "\n",
    "Program Design Methodologies\n",
    "- New software development methodologies (e.g.,OOP) led to new programming paradigms and by extension, new programming languages"
   ]
  },
  {
   "cell_type": "markdown",
   "metadata": {
    "slideshow": {
     "slide_type": "slide"
    }
   },
   "source": [
    "## Computer Architecture Influence\n",
    "\n",
    "<div style=\"width:30%; float: right\">\n",
    "    <img src=\"img/vonNeumann.png\"/>\n",
    "</div>\n",
    "     \n",
    "- Well-known computer architecture: Von Neumann\n",
    "- Mostly used by **imperative** languages\n",
    "    - Data and programs stored in memory\n",
    "    - Memory is separate from CPU\n",
    "    - Instructions and data are piped from memory to CPU\n",
    "    - Basis for imperative languages\n",
    "        - Variables model memory cells\n",
    "        - Assignment statements model piping\n",
    "        - Iteration is efficient"
   ]
  },
  {
   "cell_type": "markdown",
   "metadata": {
    "slideshow": {
     "slide_type": "slide"
    }
   },
   "source": [
    "## The von Neumann Architecture\n",
    "\n",
    "**Fetch-execute-cycle** on a von Neumann architecture computer\n",
    "\n",
    "    initialize the program counter\n",
    "    repeat forever\n",
    "        fetch the instruction pointed by the counter\n",
    "        increment the counter\n",
    "        decode the instruction\n",
    "        execute the instruction\n",
    "    end repeat\n"
   ]
  },
  {
   "cell_type": "markdown",
   "metadata": {
    "slideshow": {
     "slide_type": "slide"
    }
   },
   "source": [
    "## Von Neumann Bottleneck\n",
    "\n",
    "- Connection speed between a computer's memory and its processor determines the speed of a computer\n",
    "- Program instructions often can be executed much faster than the speed of the connection\n",
    "    - the connection speed thus results in a **bottleneck**\n",
    "    - it is the primary limiting factor in the speed of computers"
   ]
  },
  {
   "cell_type": "markdown",
   "metadata": {
    "slideshow": {
     "slide_type": "slide"
    }
   },
   "source": [
    "## Classification of PL\n",
    "\n",
    "declarative \n",
    "- functional: Lisp/Scheme, ML, Haskell\n",
    "    - Making computations is by applying functions to given parameters\n",
    "- dataflow: Id, Val\n",
    "- logic, constraint-based: Prolog, spreadsheets\n",
    "- template-based: XSLT\n",
    "\n",
    "imperative\n",
    "- Central features: variables, assignment statements, and iteration\n",
    "- von Neumann: C, Ada, Fortran, . . .\n",
    "    - scripting: Perl, Python, PHP, . . .\n",
    "- object-oriented: Smalltalk, Eiffel, Java, . . .\n",
    "\n",
    "**Note:** The categories are fuzzy, and open to debate. In particular, it is possible for a functional language to be object-oriented, and many authors do not consider functional programming to be declarative."
   ]
  },
  {
   "cell_type": "markdown",
   "metadata": {
    "slideshow": {
     "slide_type": "slide"
    }
   },
   "source": [
    "## Programming Domains\n",
    "\n",
    "- Scientific applications\n",
    "    - Large numbers of floating point computations; use of arrays\n",
    "    - Fortran, Julia\n",
    "- Business applications\n",
    "    - Produce reports, use decimal numbers and characters\n",
    "    - COBOL, Visual Basic\n",
    "- Artificial intelligence\n",
    "    - Symbols rather than numbers manipulated; use of linked lists\n",
    "    - LISP\n",
    "- Systems programming\n",
    "    - Need efficiency because of continuous use\n",
    "    - C/C++, Rust\n",
    "- Web Software\n",
    "    - Eclectic collection of languages: markup (e.g., HTML), scripting (e.g., JavaScript, PHP), general-purpose (e.g., Java)"
   ]
  },
  {
   "cell_type": "markdown",
   "metadata": {
    "slideshow": {
     "slide_type": "slide"
    }
   },
   "source": [
    "## Language Evaluation Criteria\n",
    "\n",
    "- **Readability:** the ease with which programs can be read and understood\n",
    "- **Writability:** the ease with which a language can be used to create programs\n",
    "- **Reliability:** conformance to specifications (i.e., performs to its specifications)\n",
    "- **Cost:** the ultimate total cost"
   ]
  },
  {
   "cell_type": "markdown",
   "metadata": {
    "slideshow": {
     "slide_type": "slide"
    }
   },
   "source": [
    "## Evaluation Criteria: Readability\n",
    "\n",
    "- Overal simplicity\n",
    "    - A manageable set of features and constructs\n",
    "    - Minimal feature multiplicity\n",
    "    - Minimal operator overloading\n",
    "- Orthogonality\n",
    "    - A relatively small set of primitive constructs can be combined in a relatively small number of ways\n",
    "    - Every possible combination is legal\n",
    "- Data types\n",
    "    - Adequate predefined data types\n",
    "- Syntax considerations\n",
    "    - Identifier forms: flexible composition\n",
    "    - Special words and methods of forming compound statements\n",
    "    - Form and meaning: self-descriptive constructs, meaningful keywords"
   ]
  },
  {
   "cell_type": "markdown",
   "metadata": {
    "slideshow": {
     "slide_type": "slide"
    }
   },
   "source": [
    "## Evaluation Criteria: Writability\n",
    "\n",
    "- Simplicity and orthogonality\n",
    "    - Few constructs, a small number of primitives, a small set of rules for combining them\n",
    "- Support for abstraction\n",
    "    - The ability to define and use complex structures or operations in ways that allow details to be ignored\n",
    "- Expressivity\n",
    "     - A set of relatively convenient ways of specifying operations\n",
    "     - Strength and number of operators and predefined functions"
   ]
  },
  {
   "cell_type": "markdown",
   "metadata": {
    "slideshow": {
     "slide_type": "slide"
    }
   },
   "source": [
    "## Evaluation Criteria: Reliability\n",
    "\n",
    "- Type checking\n",
    "    - Testing for type errors\n",
    "- Exception handling\n",
    "    - Intercept run-time errors and take corrective measures\n",
    "- Aliasing\n",
    "    - Presence of two or more distinct referencing methods for the same memory location\n",
    "- Readability and writability\n",
    "    - A language that does not support \"natural\" ways of expressing an algorithm will require the use of \"unnatural\" approaches"
   ]
  },
  {
   "cell_type": "markdown",
   "metadata": {
    "slideshow": {
     "slide_type": "slide"
    }
   },
   "source": [
    "## Evaluation Criteria: Cost\n",
    "\n",
    "- Training programmers to use the language\n",
    "- Writing programs (closeness to particular applications)\n",
    "- Compiling programs\n",
    "- Executing programs\n",
    "- Language implementation system: availability of free compilers\n",
    "- Reliability: poor reliability leads to high costs\n",
    "- Maintaining programs"
   ]
  },
  {
   "cell_type": "markdown",
   "metadata": {
    "slideshow": {
     "slide_type": "slide"
    }
   },
   "source": [
    "## Evaluation Criteria: Others\n",
    "\n",
    "- Portability\n",
    "    - The ease with which programs can be moved from one implementation to another\n",
    "- Generality\n",
    "    - The applicability to a wide range of applications\n",
    "- Well-definedness\n",
    "    - The completeness and precision of the language's official definition"
   ]
  },
  {
   "cell_type": "markdown",
   "metadata": {
    "slideshow": {
     "slide_type": "slide"
    }
   },
   "source": [
    "## Language Design Trade-Offs\n",
    "\n",
    "Reliability vs. cost of execution\n",
    "- Example: Java demands all references to array elements be checked for proper indexing, which leads to increased execution costs\n",
    "\n",
    "Readability vs. writability\n",
    "- Example: APL provides many powerful operators (and a large number of new symbols), allowing complex computations to be written in a compact program but at the cost of poor readability\n",
    "\n",
    "Writability (flexibility) vs. reliability\n",
    "- Example: C++ pointers are powerful and very flexible but are unreliable"
   ]
  },
  {
   "cell_type": "markdown",
   "metadata": {
    "slideshow": {
     "slide_type": "slide"
    }
   },
   "source": [
    "## Implementation Methods\n",
    "\n",
    "Compilation\n",
    "- Programs are translated into machine language; includes JIT systems\n",
    "- Use: Large commercial applications\n",
    "\n",
    "Pure Interpretation\n",
    "- Programs are interpreted by another program known as an interpreter\n",
    "- Use: Small programs or when efficiency is not an issue\n",
    "\n",
    "Hybrid Implementation Systems\n",
    "- A compromise between compilers and pure interpreters\n",
    "- Use: Small and medium systems when efficiency is not the first concern"
   ]
  },
  {
   "cell_type": "markdown",
   "metadata": {
    "slideshow": {
     "slide_type": "slide"
    }
   },
   "source": [
    "## Compilation\n",
    "![compilation](img/compilation.jpg)"
   ]
  },
  {
   "cell_type": "markdown",
   "metadata": {
    "slideshow": {
     "slide_type": "slide"
    }
   },
   "source": [
    "## The LLVM Ecosystem\n",
    "\n",
    "![LLVM](img/llvm.png)"
   ]
  },
  {
   "cell_type": "markdown",
   "metadata": {
    "slideshow": {
     "slide_type": "slide"
    }
   },
   "source": [
    "## Additional Compilation Terminologies\n",
    "\n",
    "Load module (executable image)\n",
    "- the user and system code together\n",
    "\n",
    "Linking and loading: the process of collecting system program units and linking them to a user program"
   ]
  },
  {
   "cell_type": "markdown",
   "metadata": {
    "slideshow": {
     "slide_type": "slide"
    }
   },
   "source": [
    "## Just-in-Time Implementation Systems\n",
    "\n",
    "- Initially translate programs to an intermediate language\n",
    "- Then compile the intermediate language of the subprograms into machine code when they are called\n",
    "- Machine code version is kept for subsequent calls\n",
    "- JIT systems are widely used for Java programs\n",
    "- .NET languages are implemented with a JIT system\n",
    "- In essence, JIT systems are delayed compilers"
   ]
  },
  {
   "cell_type": "markdown",
   "metadata": {
    "slideshow": {
     "slide_type": "slide"
    }
   },
   "source": [
    "## Preprocessors\n",
    "\n",
    "- Preprocessor macros (instructions) are commonly used to specify that code from another file is to be included\n",
    "- A preprocessor processes a program immediately before the program is compiled to expand embedded preprocessor macros\n",
    "- A well-known example: C preprocessor\n",
    "    - expands #include, #define, and similar macros"
   ]
  },
  {
   "cell_type": "markdown",
   "metadata": {
    "slideshow": {
     "slide_type": "skip"
    }
   },
   "source": [
    "## Future of Programming Languages\n",
    "\n",
    "[John Hennessy and David Patterson 2017 ACM A.M. Turing Award Lecture](https://youtu.be/3LVeEjsn8Ts?t=2180)"
   ]
  }
 ],
 "metadata": {
  "celltoolbar": "Slideshow",
  "kernelspec": {
   "display_name": ".NET (F#)",
   "language": "F#",
   "name": ".net-fsharp"
  },
  "language": "fsharp",
  "language_info": {
   "file_extension": ".fs",
   "mimetype": "text/x-fsharp",
   "name": "C#",
   "pygments_lexer": "fsharp",
   "version": "4.5"
  },
  "rise": {
   "enable_chalkboard": true
  }
 },
 "nbformat": 4,
 "nbformat_minor": 2
}
