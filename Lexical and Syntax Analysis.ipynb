{
  "cells": [
    {
      "metadata": {
        "collapsed": true,
        "slideshow": {
          "slide_type": "slide"
        }
      },
      "cell_type": "markdown",
      "source": "# Lexical and Syntax Analysis"
    },
    {
      "metadata": {
        "slideshow": {
          "slide_type": "slide"
        }
      },
      "cell_type": "markdown",
      "source": "## Introduction\n\n- Language implementation systems must analyze source code, regardless of the specific implementation approach\n- Nearly all syntax analysis is based on a formal description of the syntax of the source language (BNF)"
    },
    {
      "metadata": {
        "slideshow": {
          "slide_type": "slide"
        }
      },
      "cell_type": "markdown",
      "source": "## Syntax Analysis\n\nThe **syntax analysis** portion of a language processor nearly always consists of two parts:\n\n- A low-level part called a **lexical analyzer**\n    - a finite automaton based on a regular grammar\n- A high-level part called a **syntax analyzer**, or **parser**\n    - a push-down automaton based on a context-free grammar, or BNF"
    },
    {
      "metadata": {
        "slideshow": {
          "slide_type": "slide"
        }
      },
      "cell_type": "markdown",
      "source": "## Lexical Analysis\n\n- A **lexical analyzer** is a pattern matcher for character strings\n- A lexical analyzer is a \"front-end\" for the parser\n- Identifies substrings of the source program that belong together - **lexemes**\n    - Lexemes match a character pattern, which is associated with a lexical category called a **token**\n    - `result` is a lexeme; its token may be IDENT"
    },
    {
      "metadata": {
        "slideshow": {
          "slide_type": "slide"
        }
      },
      "cell_type": "markdown",
      "source": "Consider the following example of an assignment statement:\n\n    result = oldsum – value / 100;\n\nFollowing are the tokens and lexemes of this statement:\n\n| Token  | Lexeme |\n|--------|--------|\n|IDENT| result |\n|ASSIGN_OP| = |\n|IDENT| oldsum |\n|SUB_OP| - |\n|IDENT| value |\n|DIV_OP| / |\n|INT_LIT| 100 |\n|SEMICOLON|`;`|"
    },
    {
      "metadata": {
        "slideshow": {
          "slide_type": "slide"
        }
      },
      "cell_type": "markdown",
      "source": "## Lexical Analysis (cont.)\n\nThe lexical analyzer is usually a function that is called by the **parser** when it needs the next token.\n\nThree approaches to building a lexical analyzer:\n- Write a formal description of the tokens and use a software tool that constructs a table-driven lexical analyzer from such a description\n- Design a state diagram that describes the tokens and write a program that implements the state diagram\n- Design a state diagram that describes the tokens and hand-construct a table-driven implementation of the state diagram"
    },
    {
      "metadata": {
        "slideshow": {
          "slide_type": "slide"
        }
      },
      "cell_type": "markdown",
      "source": "## State Diagram\n\nA naïve state diagram would have a transition from every state on every character in the source language - such a diagram would be very large!\n\n![](img/state-daig.png)"
    },
    {
      "metadata": {
        "trusted": true,
        "slideshow": {
          "slide_type": "slide"
        }
      },
      "cell_type": "markdown",
      "source": "## Reserved words\n\n- Reserved words and identifiers can be recognized together\n    - rather than having a part of the diagram for each reserved word\n- Use a table lookup to determine whether a possible identifier is in fact a reserved word"
    },
    {
      "metadata": {
        "slideshow": {
          "slide_type": "slide"
        },
        "trusted": true
      },
      "cell_type": "markdown",
      "source": "## Example\n\nSee [Sentence Lexical Analyzer](https://notebooks.azure.com/adiky/projects/csci-374/html/Sentence%20Lexer.ipynb)"
    },
    {
      "metadata": {
        "slideshow": {
          "slide_type": "slide"
        }
      },
      "cell_type": "markdown",
      "source": "## The Parsing Problem\n\nGoals of the parser, given an input program:\n- Find all syntax errors; for each, produce an appropriate diagnostic message and recover quickly\n- Produce the parse tree, or at least a trace of the parse tree, for the program\n\nTwo categories of parsers\n- **Top down** - produce the parse tree, beginning at the root\n    - Order is that of a leftmost derivation\n    - Traces or builds the parse tree in preorder\n- **Bottom up** - produce the parse tree, beginning at the leaves\n    - Order is that of the reverse of a rightmost derivation\n    \nUseful parsers look only one token ahead in the input"
    },
    {
      "metadata": {
        "slideshow": {
          "slide_type": "slide"
        }
      },
      "cell_type": "markdown",
      "source": "## Top-down Parsers\n\nGiven a sentential form, $xA\\alpha$:\n- the parser must choose the correct $A$-rule to get the next sentential form in the leftmost derivation, using only the first token produced by $A$\n\nThe most common top-down parsing algorithms:\n- **Recursive descent** - a coded implementation\n- **LL** parsers - table driven implementation"
    },
    {
      "metadata": {
        "slideshow": {
          "slide_type": "slide"
        }
      },
      "cell_type": "markdown",
      "source": "## Recursive-Descent Parsing\n\n- There is a subprogram for each nonterminal in the grammar, which can parse sentences that can be generated by that nonterminal\n- EBNF is ideally suited for being the basis for a recursive-descent parser, because EBNF  minimizes the number of nonterminals\n\nThe coding process when there is only one RHS:\n- For each terminal symbol in the RHS, compare it with the next input token; if they match, continue, else there is an error\n- For each nonterminal symbol in the RHS, call its associated parsing subprogram\n\nA nonterminal that has more than one RHS requires an initial process to determine which RHS it is to parse\n- The correct RHS is chosen on the basis of the next token of input (the lookahead)\n- The next token is compared with the first token that can be generated by each RHS until a match is found\n- If no match is found, it is a syntax error"
    },
    {
      "metadata": {
        "slideshow": {
          "slide_type": "slide"
        }
      },
      "cell_type": "markdown",
      "source": "## Example\n\nSee [Recursive-Descent Parser](https://notebooks.azure.com/adiky/projects/csci-374/html/Recursive-Descent%20Parser.ipynb)"
    },
    {
      "metadata": {
        "slideshow": {
          "slide_type": "slide"
        }
      },
      "cell_type": "markdown",
      "source": "## The LL Grammar Class\n\nThe Left Recursion Problem\n- If a grammar has **left** recursion, either direct or indirect, it cannot be the basis for a top-down parser\n\nA grammar can be modified to remove direct left recursion as follows:\n1. For each nonterminal, $A$, \n    - Group the $A$-rules as $A \\rightarrow A\\alpha_1 | \\ldots | A \\alpha_m | \\beta_1 | \\beta_2 | \\ldots | \\beta_n$ where none of the $\\beta$'s begins with $A$\n2. Replace the original $A$-rules with\n\n$$ A \\rightarrow \\beta_1 A' | \\beta_2 A' | \\ldots | \\beta_n A' $$\n$$ A' \\rightarrow \\alpha_1 A' | \\alpha_2 A' | \\ldots | \\alpha_m A' | \\varepsilon $$\n\nSymbol $\\varepsilon$ specifies the empty string.\n- A rule that has $\\varepsilon$ as its RHS is called an **erasure rule**\n  - because its use in a derivation effectively erases its LHS from the sentential form."
    },
    {
      "metadata": {
        "slideshow": {
          "slide_type": "slide"
        }
      },
      "cell_type": "markdown",
      "source": "## Example\n\nGrammar:\n\n$$E  \\rightarrow  E + T | T$$\n$$T  \\rightarrow  T * F | F$$\n$$F  \\rightarrow  (E) | id$$\n\nStep 1:\n\nFor the $E$-rules, we have $\\alpha_1 = +T$ and $\\beta = T$, so we replace the $E$-rules with\n\n$$E  \\rightarrow  T E'$$\n$$E' \\rightarrow  +T E' | \\varepsilon$$\n"
    },
    {
      "metadata": {
        "slideshow": {
          "slide_type": "subslide"
        }
      },
      "cell_type": "markdown",
      "source": "## Example\n\nGrammar:\n\n$$E  \\rightarrow  E + T | T$$\n$$T  \\rightarrow  T * F | F$$\n$$F  \\rightarrow  (E) | id$$\n\nStep 2:\n\nFor the $T$-rules, we have $\\alpha_1 = *F$ and $\\beta = F$, so we replace the $T$-rules with\n\n$$T \\rightarrow  F T'$$\n$$T' \\rightarrow  *F T' | \\varepsilon$$"
    },
    {
      "metadata": {
        "slideshow": {
          "slide_type": "subslide"
        }
      },
      "cell_type": "markdown",
      "source": "## Example\n\nGrammar:\n\n$$E  \\rightarrow  E + T | T$$\n$$T  \\rightarrow  T * F | F$$\n$$F  \\rightarrow  (E) | id$$\n\nStep3: \nBecause there is no left recursion in the $F$-rules, they remain the same, so the complete replacement grammar is\n\n$$E  \\rightarrow  T E'$$\n$$E' \\rightarrow  +T E' | \\varepsilon$$\n$$T \\rightarrow  F T'$$\n$$T' \\rightarrow  *F T' | \\varepsilon$$\n$$F  \\rightarrow  (E) | id$$\n\nThis grammar generates the same language as the original grammar but is **not** left recursive."
    },
    {
      "metadata": {
        "slideshow": {
          "slide_type": "slide"
        }
      },
      "cell_type": "markdown",
      "source": "## FIRST set\n\n**Definition:** $FIRST(\\alpha) = \\{a | \\alpha =>* a\\beta \\}$\n- If $\\alpha =>* \\varepsilon$, $\\varepsilon$ is in $FIRST(\\alpha)$)\n- $=>*$ means 0 or more derivation steps"
    },
    {
      "metadata": {
        "slideshow": {
          "slide_type": "slide"
        }
      },
      "cell_type": "markdown",
      "source": "## Pairwise Disjointness\n\nThe other characteristic of grammars that disallows top-down parsing is the lack of **pairwise disjointness**\n- The inability to determine the correct RHS on the basis of the next token of input, using only the first token generated by the leftmost nonterminal in the current sentential form"
    },
    {
      "metadata": {
        "slideshow": {
          "slide_type": "slide"
        }
      },
      "cell_type": "markdown",
      "source": "## Pairwise Disjointness Test\n\nFor each nonterminal, $A$, in the grammar that has more than one RHS, for each pair of rules, $A \\rightarrow \\alpha_i$ and $A \\rightarrow \\alpha_j$, it must be true that \n\n$$FIRST(\\alpha_i) \\cap FIRST(\\alpha_j) = \\emptyset$$\n"
    },
    {
      "metadata": {
        "slideshow": {
          "slide_type": "slide"
        }
      },
      "cell_type": "markdown",
      "source": "## Example\n\nGrammar:\n\n$$ A \\rightarrow aB | bAb | Bb $$\n$$ B \\rightarrow cB | d $$\n\nSteps:\n\n- The $FIRST$ sets for the RHSs of the $A$-rules are\n    - FIRST(aB) = {a}\n    - FIRST(bAb) = {b}\n    - FIRST(Bb) = FIRST(cBb) | FIRST(db) = {c ,d}\n    \nThe FIRST sets for the RHSs of the $A$-rules are {a}, {b}, and {c, d}, which are clearly disjoint.\n- passed the pairwise disjointness test"
    },
    {
      "metadata": {
        "slideshow": {
          "slide_type": "slide"
        }
      },
      "cell_type": "markdown",
      "source": "## Example\n\nGrammar:\n\n$$ A \\rightarrow a | bB | aAc $$\n$$ B \\rightarrow a | aB $$\n\nSteps:\n\n- The $FIRST$ sets for the RHSs of the $A$-rules are\n    - FIRST(a) = {a}\n    - FIRST(bB) = {b}\n    - FIRST(aAc) = {a}\n\nThey are intersected, thus the rule fails the test."
    },
    {
      "metadata": {
        "slideshow": {
          "slide_type": "slide"
        }
      },
      "cell_type": "markdown",
      "source": "## Example\n\nGrammar:\n\n$$ A \\rightarrow aB | BAb $$\n$$ B \\rightarrow aB | b $$\n\nSteps:\n\n- The $FIRST$ sets for the RHSs of the $A$-rules are\n    - FIRST(aB) = {a}\n    - FIRST(BAb) = FIRST(aBAb) | FIRST(bAb) = {a, b}\n\nThey are intersected, thus the rule fails the test."
    },
    {
      "metadata": {
        "slideshow": {
          "slide_type": "slide"
        }
      },
      "cell_type": "markdown",
      "source": "## Left Factoring\n\nIn many cases, a grammar that fails the pairwise disjointness test can be modified so that it will pass the test.\n\nConsider the rule:\n\n$$A \\rightarrow a | a[B]$$\n\nRule clearly does not pass the pairwise disjointness test, because both RHSs begin with the same terminal, **a**.\n\nReplace $A \\rightarrow a | a[B]$ with\n\n$$A \\rightarrow a C$$\n$$C  \\rightarrow \\varepsilon | [B] $$"
    },
    {
      "metadata": {
        "slideshow": {
          "slide_type": "slide"
        }
      },
      "cell_type": "markdown",
      "source": "## LL Parsers\n\nThe `LL(k)` parser is a [deterministic pushdown automaton](https://en.wikipedia.org/wiki/Deterministic_pushdown_automaton) with the ability to peek on the next `k` input symbols without reading.\n\nThe stack alphabet $\\Gamma = N \\cup \\Sigma$ where: \n\n- $N$ is the set of non-terminals\n- $\\Sigma$ the set of terminal (input) symbols with a special end-of-input (EOI) symbol `$`.\n\nThe parser stack initially contains the starting symbol above the EOI: $[\\ S\\ \\$\\ ]$"
    },
    {
      "metadata": {
        "slideshow": {
          "slide_type": "slide"
        }
      },
      "cell_type": "markdown",
      "source": "## LL Parsing\n\nDuring operation, the parser repeatedly replaces the symbol $X$ on top of the stack:\n\n- with some $\\alpha$ , if $X \\in N$ and there is a rule $X \\to \\alpha$\n- with $\\epsilon$, i.e. $X$ is popped off the stack, if $X \\in \\Sigma$.\n  - In this case, an input symbol $x$ is read and if $x \\neq X$, the parser rejects the input.\n\nIf the last symbol to be removed from the stack is the EOI, the parsing is successful; the automaton accepts via an empty stack."
    },
    {
      "metadata": {
        "slideshow": {
          "slide_type": "slide"
        }
      },
      "cell_type": "markdown",
      "source": "## LL(1) Parsing Table\n\nLL(1) parser uses provided (generated) parsing table. The table provides the following mapping:\n\n- **row**: top-of-stack symbol $X$\n- **column**: $|w| \\le k$ lookahead buffer contents\n- **cell**: rule number for $X \\to \\alpha$ or $\\varepsilon$\n\nIf the parser cannot perform a valid transition, the input is rejected (empty cells).\n- To make the table more compact, only the non-terminal rows are commonly displayed, since the action is the same for terminals. "
    },
    {
      "metadata": {
        "slideshow": {
          "slide_type": "slide"
        }
      },
      "cell_type": "markdown",
      "source": "## LL(1) Parsing Table Contruction\n\nConstructing LL(1) parsing tables is relatively easy. The table is constructed using the following algorithm.\n\n\nFor every rule $A \\to \\alpha$ in the grammar:\n\n1. If $\\alpha$ can derive a string starting with $a$ (i.e., for all $a \\in FIRST(\\alpha)$),\n\n$$Table[A, a] = A \\to \\alpha$$\n\n2. If $\\alpha$ can derive the empty symbol, $\\varepsilon$, then, for all $b$ that can follow a string derived from $A$ (i.e., for all $b \\in FOLLOW(A)$),\n\n$$Table[A, b] = A \\to \\alpha $$"
    },
    {
      "metadata": {
        "slideshow": {
          "slide_type": "slide"
        }
      },
      "cell_type": "markdown",
      "source": "## FOLLOW Set\n\n**Definition:** For a nonterminal $A$ in a sentential form, say $\\omega_1 A \\omega_2$ where $\\omega_1$ and $\\omega_2$ are some string of terminals and nonterminals,\n\n$$FOLLOW(A) = FIRST(\\omega_2)$$\n\nThat is, $FOLLOW(A)$ is the set of terminals that can appear to the right of $A$ in a sentential form.\n\n- If $B \\to \\omega_1 A \\omega_2$ is a production and $FIRST(\\omega_2)$ contains $\\varepsilon$, then \n\n$$ FOLLOW(A) = \\{ FIRST(\\omega_2) - \\varepsilon \\} \\cup FOLLOW(B)$$ "
    },
    {
      "metadata": {
        "slideshow": {
          "slide_type": "slide"
        }
      },
      "cell_type": "markdown",
      "source": "## FIRST Construction\n\nRules for constructing FIRST sets:\n1. If $x$ is a terminal **then** FIRST($x$) is just $\\{x\\}$! \n2. If there is a Production $X \\to \\varepsilon$ **then** add $\\varepsilon$ to FIRST($X$)\n3. If there is a Production $X \\to Y_1 Y_2\\ldots Y_k$ **then** add FIRST($Y_1 Y_2\\ldots Y_k$) to FIRST($X$)\n4. If FIRST($Y_1 Y_2\\ldots Y_k$) is **either**\n    - FIRST($Y_1$) (if FIRST($Y_1$) doesn't contain $\\varepsilon$)\n    - **or** (if FIRST($Y_1$) does contain $\\varepsilon$) then FIRST($Y_1 Y_2\\ldots Y_k$) is everything in FIRST($Y_1$) (except for $\\varepsilon$) as well as everything in FIRST($Y_2\\ldots Y_k$)\n    - If FIRST($Y_1$)FIRST($Y_2$)...FIRST($Y_k$) all contain $\\varepsilon$ **then** add $\\varepsilon$ to FIRST($Y_1 Y_2\\ldots Y_k$) as well."
    },
    {
      "metadata": {
        "slideshow": {
          "slide_type": "slide"
        }
      },
      "cell_type": "markdown",
      "source": "## FOLLOW Construction\n\nRules for constructing FOLLOW sets:\n1. First put \\$ (the end of input marker) in FOLLOW($S$) ($S$ is the start symbol)\n2. If there is a production $A \\to aBb$, (where a can be a whole string) then everything in FIRST($b$) except for $\\varepsilon$ is placed in FOLLOW($B$).\n3. If there is a production $A \\to aB$, then everything in FOLLOW($A$) is in FOLLOW($B$)\n4. If there is a production $A \\to aBb$, where FIRST($b$) contains $\\varepsilon$, then everything in FOLLOW($A$) is in FOLLOW($B$)"
    },
    {
      "metadata": {
        "slideshow": {
          "slide_type": "slide"
        }
      },
      "cell_type": "markdown",
      "source": "## Example\n\nGrammar:\n\n$$E  \\rightarrow  T E'$$\n$$E' \\rightarrow  +T E' | \\varepsilon$$\n$$T \\rightarrow  F T'$$\n$$T' \\rightarrow  *F T' | \\varepsilon$$\n$$F  \\rightarrow  (E) | id$$\n\nStep 1: \n- FIRST: We apply rule 2 to $T' \\to  \\varepsilon$ and $E' \\to \\varepsilon$\n- FOLLOW: Add \\$ to the start Symbol E\n\n|X|FIRST(X)|FOLLOW(X)|\n|-|--------|---------|\n|E|||$\\{\\$\\}$\n|E'|$\\{\\varepsilon\\}$||\n|T|||\n|T'|$\\{\\varepsilon\\}$||\n|F| ||\n\n"
    },
    {
      "metadata": {
        "slideshow": {
          "slide_type": "slide"
        }
      },
      "cell_type": "markdown",
      "source": "## Example\n\nStep 2: \n- FIRST: We apply rule 3 to $E' \\to +TE'$, thus we can add everything in FIRST($+TE'$) into FIRST($E'$)\n    - Since FIRST($+$) useing rule 1 is $+$, we can add $+$ to FIRST($E'$)\n- FOLLOW: we apply rule 2 to $E' \\to +TE'$, thus everything in FIRST($E'$) except for $\\varepsilon$ should be in FOLLOW($T$)\n\n|X |FIRST(X)|FOLLOW(X)|\n|--|--------|---------|\n|E ||$\\{\\$\\}$\n|E'|$\\{+,\\varepsilon\\}$||\n|T ||$\\{+\\}$|\n|T'|$\\{\\varepsilon\\}$||\n|F ||"
    },
    {
      "metadata": {
        "slideshow": {
          "slide_type": "slide"
        }
      },
      "cell_type": "markdown",
      "source": "## Example\n\nStep 3: \n- FIRST: We apply rule 3 to $T' \\to *FT'$, thus we can add everything in FIRST($*FT'$) into FIRST($T'$)\n    - Since FIRST($*$) useing rule 1 is $*$, we can add $*$ to FIRST($T'$)\n- FOLLOW: We apply rule 3 to $E \\to TE'$, thus we should add everything in FOLLOW($E$) into FOLLOW($E'$)\n\n|X |FIRST(X)|FOLLOW(X)|\n|--|--------|---------|\n|E ||$\\{\\$\\}$|\n|E'|$\\{+,\\varepsilon\\}$|$\\{\\$\\}$|\n|T ||$\\{+\\}$|\n|T'|$\\{*,\\varepsilon\\}$||\n|F ||"
    },
    {
      "metadata": {
        "slideshow": {
          "slide_type": "slide"
        }
      },
      "cell_type": "markdown",
      "source": "## Example\n\nStep 4: \n- FIRST: We apply rule 3 to two more productions: $F \\to (E)$ and $F \\to id$\n- FOLLOW: We apply rule 2 to $T \\to FT'$, thus we should add everything in FOLLOW($T$) into FOLLOW($T'$)\n\n|X |FIRST(X)|FOLLOW(X)|\n|--|--------|---------|\n|E ||$\\{\\$\\}$|\n|E'|$\\{+,\\varepsilon\\}$|$\\{\\$\\}$|\n|T ||$\\{+\\}$|\n|T'|$\\{*,\\varepsilon\\}$|$\\{+\\}$|\n|F |$\\{(, id\\}$|"
    },
    {
      "metadata": {
        "slideshow": {
          "slide_type": "slide"
        }
      },
      "cell_type": "markdown",
      "source": "## Example\n\nStep 5: \n- FIRST: We apply rule 3 to $T \\to FT'$, thus we can add FIRST($FT'$) to FIRST($T$)\n- FOLLOW: We apply rule 2 to $T' \\to *FT'$, thus we should add everything in FIRST($T'$) exept for $\\varepsilon$ into FOLLOW($F$)\n\n|X |FIRST(X)|FOLLOW(X)|\n|--|--------|---------|\n|E ||$\\{\\$\\}$|\n|E'|$\\{+,\\varepsilon\\}$|$\\{\\$\\}$|\n|T |$\\{(, id\\}$|$\\{+\\}$|\n|T'|$\\{*,\\varepsilon\\}$|$\\{+\\}$|\n|F |$\\{(, id\\}$|$\\{*\\}$"
    },
    {
      "metadata": {
        "slideshow": {
          "slide_type": "slide"
        }
      },
      "cell_type": "markdown",
      "source": "## Example\n\nStep 5: \n- FIRST: We apply rule 3 to $E \\to TE'$, thus we can add FIRST($TE'$) to FIRST($E$)\n- FOLLOW: We apply rule 2 to $F \\to (E)$, thus everything in FIRST($)$) should be in FOLLOW($E$)\n\n|X |FIRST(X)|FOLLOW(X)|\n|--|--------|---------|\n|E |$\\{(, id\\}$|$\\{\\$,)\\}$|\n|E'|$\\{+,\\varepsilon\\}$|$\\{\\$\\}$|\n|T |$\\{(, id\\}$|$\\{+\\}$|\n|T'|$\\{*,\\varepsilon\\}$|$\\{+\\}$|\n|F |$\\{(, id\\}$|$\\{*\\}$"
    },
    {
      "metadata": {
        "slideshow": {
          "slide_type": "slide"
        }
      },
      "cell_type": "markdown",
      "source": "## Example\n\nStep 5: \n- FIRST: Finished.\n- FOLLOW: We apply rule 3 to $E \\to TE'$, thus everything in FOLLOW($E$) should be in FOLLOW($E'$)\n\n|X |FIRST(X)|FOLLOW(X)|\n|--|--------|---------|\n|E |$\\{(, id\\}$|$\\{\\$,)\\}$|\n|E'|$\\{+,\\varepsilon\\}$|$\\{\\$,)\\}$|\n|T |$\\{(, id\\}$|$\\{+\\}$|\n|T'|$\\{*,\\varepsilon\\}$|$\\{+\\}$|\n|F |$\\{(, id\\}$|$\\{*\\}$"
    },
    {
      "metadata": {
        "slideshow": {
          "slide_type": "slide"
        }
      },
      "cell_type": "markdown",
      "source": "## Example\n\nStep 6: \n- FIRST: Finished.\n- FOLLOW: We apply rule 4 to $E' \\to +TE'$, thus add everything in FOLLOW($E'$) into FOLLOW($T$) because FIRST($E'$) has $\\varepsilon$\n\n|X |FIRST(X)|FOLLOW(X)|\n|--|--------|---------|\n|E |$\\{(, id\\}$|$\\{\\$,)\\}$|\n|E'|$\\{+,\\varepsilon\\}$|$\\{\\$,)\\}$|\n|T |$\\{(, id\\}$|$\\{+,\\$,)\\}$|\n|T'|$\\{*,\\varepsilon\\}$|$\\{+\\}$|\n|F |$\\{(, id\\}$|$\\{*\\}$"
    },
    {
      "metadata": {
        "slideshow": {
          "slide_type": "slide"
        }
      },
      "cell_type": "markdown",
      "source": "## Example\n\nStep 7: \n- FIRST: Finished.\n- FOLLOW: We apply rule 3 to $T \\to FT'$, thus add everything in FOLLOW($T$) into FOLLOW($T'$)\n\n|X |FIRST(X)|FOLLOW(X)|\n|--|--------|---------|\n|E |$\\{(, id\\}$|$\\{\\$,)\\}$|\n|E'|$\\{+,\\varepsilon\\}$|$\\{\\$,)\\}$|\n|T |$\\{(, id\\}$|$\\{+,\\$,)\\}$|\n|T'|$\\{*,\\varepsilon\\}$|$\\{+,\\$,)\\}$|\n|F |$\\{(, id\\}$|$\\{*\\}$"
    },
    {
      "metadata": {
        "slideshow": {
          "slide_type": "slide"
        }
      },
      "cell_type": "markdown",
      "source": "## Example\n\nStep 7: \n- FIRST: Finished.\n- FOLLOW: We apply rule 4 to $T' \\to *FT'$, thus add everything in FOLLOW($T'$) into FOLLOW($F$)\n\n|X |FIRST(X)|FOLLOW(X)|\n|--|--------|---------|\n|E |$\\{(, id\\}$|$\\{\\$,)\\}$|\n|E'|$\\{+,\\varepsilon\\}$|$\\{\\$,)\\}$|\n|T |$\\{(, id\\}$|$\\{+,\\$,)\\}$|\n|T'|$\\{*,\\varepsilon\\}$|$\\{+,\\$,)\\}$|\n|F |$\\{(, id\\}$|$\\{*,+,\\$,)\\}$"
    },
    {
      "metadata": {
        "slideshow": {
          "slide_type": "slide"
        }
      },
      "cell_type": "markdown",
      "source": "## Example\n\nFor the following the non-left-recursive, left-factored expression grammar construct LL(1) parsing table:\n\n$$E \\to T E'$$\n$$E'\\to +T E' | \\varepsilon$$\n$$T \\to F T'$$\n$$T'\\to *F T' | \\varepsilon$$\n$$F \\to (E) | id$$\n\nStep 1:\n\nConsider the production $E \\to T E'$. Since\n\n$$FIRST(TE') = \\{ (, id \\}$$\n\nThen\n    \n$$Table[E,(] = E \\to TE'$$ \n$$Table[E,id] = E \\to TE'$$"
    },
    {
      "metadata": {
        "slideshow": {
          "slide_type": "slide"
        }
      },
      "cell_type": "markdown",
      "source": "## Example\n\nFor the following the non-left-recursive, left-factored expression grammar construct LL(1) parsing table:\n\n$$E \\to T E'$$\n$$E'\\to +T E' | \\varepsilon$$\n$$T \\to F T'$$\n$$T'\\to *F T' | \\varepsilon$$\n$$F \\to (E) | id$$\n\nStep 2:\n\nConsider the production $E'\\to +T E'$. Since\n\n$$FIRST(+T E') = \\{ + \\}$$\n\nThen\n    \n$$Table[E',+] = E'\\to +T E'$$ "
    },
    {
      "metadata": {
        "slideshow": {
          "slide_type": "slide"
        }
      },
      "cell_type": "markdown",
      "source": "## Example\n\nFor the following the non-left-recursive, left-factored expression grammar construct LL(1) parsing table:\n\n$$E \\to T E'$$\n$$E'\\to +T E' | \\varepsilon$$\n$$T \\to F T'$$\n$$T'\\to *F T' | \\varepsilon$$\n$$F \\to (E) | id$$\n\nStep 3:\n\nConsider the production $E'\\to \\varepsilon$. Since\n\n$$FOLLOW(E') = \\{ ), $ \\}$$\n\nThen\n    \n$$Table[E',)] = E'\\to \\varepsilon$$\n$$Table[E',\\$] = E'\\to \\varepsilon'$$ "
    },
    {
      "metadata": {
        "slideshow": {
          "slide_type": "slide"
        }
      },
      "cell_type": "markdown",
      "source": "## Result\n\nFor the following the non-left-recursive, left-factored expression grammar:\n\n1. $E \\to T E'$\n2. $E'\\to +T E'$\n3. $E'\\to \\varepsilon$\n4. $T \\to F T'$\n5. $T'\\to *F T'$\n6. $T'\\to \\varepsilon$\n7. $F \\to (E)$\n8. $F \\to id$ \n\nLL(1) parsing table is following:\n\nN\\T| id| + | * | ( | ) | $\n---|---|---|---|---|---|---\nE  | 1 |   |   | 1 |   |\nE' |   | 2 |   |   | 3 | 3\nT  | 4 |   |   | 4 |   |\nT' |   | 6 | 5 |   | 6 | 6\nF  | 8 |   |   | 7 |   |\n"
    },
    {
      "metadata": {
        "slideshow": {
          "slide_type": "subslide"
        }
      },
      "cell_type": "markdown",
      "source": "N\\T| id| + | * | ( | ) | $\n---|---|---|---|---|---|---\nE  | 1 |   |   | 1 |   |\nE' |   | 2 |   |   | 3 | 3\nT  | 4 |   |   | 4 |   |\nT' |   | 6 | 5 |   | 6 | 6\nF  | 8 |   |   | 7 |   |"
    },
    {
      "metadata": {
        "slideshow": {
          "slide_type": "slide"
        }
      },
      "cell_type": "markdown",
      "source": "## LL(1) Parser Driver\n\n1. Push a $ on the stack.\n2. Initialize the stack to the start symbol.\n3. REPEAT WHILE stack is nonempty:\n  \n  - CASE top of the stack is:\n    - terminal: IF input symbol matches terminal\n      - THEN advance input and pop stack\n      - ELSE error\n\n    - nonterminal: Use nonterminal and current input  symbol to find correct production in table. \n      - Pop stack\n      - Push right-hand side of production from table onto stack, last symbol first.\n\n\n4. END REPEAT\n5. If input is finished, THEN accept, ELSE error\n"
    },
    {
      "metadata": {
        "slideshow": {
          "slide_type": "slide"
        }
      },
      "cell_type": "markdown",
      "source": "## Example\n\nSee [LL(1) Parser](https://notebooks.azure.com/adiky/projects/csci-374/html/LL%20Parser.ipynb)"
    },
    {
      "metadata": {
        "slideshow": {
          "slide_type": "slide"
        }
      },
      "cell_type": "markdown",
      "source": "## Bottom-up parsers\n\nGiven a right sentential form, $\\alpha$:\n- determine what substring of $\\alpha$ is the right-hand side of the rule in the grammar that must be reduced to produce the previous sentential form in the right derivation\n\nThe most common bottom-up parsing algorithms are in the **LR** parser family."
    },
    {
      "metadata": {
        "slideshow": {
          "slide_type": "slide"
        }
      },
      "cell_type": "markdown",
      "source": "## Handles\n\nDefinition: $\\beta$ is the **handle** of the right sentential form $\\gamma = \\alpha \\beta w$ if and only if $S => *_{rm} \\alpha Aw =>_{rm} \\alpha \\beta w$\n\nIn this definition,\n- $=>_{rm}$ specifies a rightmost derivation step, and\n- $=> *_{rm}$ rm specifies zero or more rightmost derivation steps.\n"
    },
    {
      "metadata": {
        "slideshow": {
          "slide_type": "slide"
        }
      },
      "cell_type": "markdown",
      "source": "## Phrase\n\nDefinition: $\\beta$ is the **phrase** of the right sentential form $\\gamma$ if and only if $S =>_* \\gamma = \\alpha_1 A \\alpha_2 =>_+ \\alpha_1 \\beta \\alpha_2$\n\n- $=>_+$ means one or more derivation steps.\n\nDefinition: $\\beta$ is the **simple phrase** of the right sentential form $\\gamma$ if and only if $S =>_* \\gamma = \\alpha_1 A \\alpha_2 => \\alpha_1 \\beta \\alpha_2$\n\n- The definition of *phrase* uses **one or more steps**, while the definition of *simple phrase* uses **exactly one step**.\n\n- A simple phrase is just a phrase that takes a single derivation step from root nonterminal node.\n"
    },
    {
      "metadata": {
        "slideshow": {
          "slide_type": "slide"
        }
      },
      "cell_type": "markdown",
      "source": "## Handles (cont.)\n\nIntuition about handles (continued):\n- The **handle** of a right sentential form is its leftmost **simple phrase**\n- Given a parse tree, it is now easy to find the handle\n- Parsing can be thought of as handle pruning"
    },
    {
      "metadata": {
        "slideshow": {
          "slide_type": "slide"
        }
      },
      "cell_type": "markdown",
      "source": "## Example\n\nConsider the parse tree:\n\n```\n     E\n  /  |   \\\n /   |     T\n |   |  /  | \\\n |   |  |  |  F\n |   |  |  |  |\n E   +  T  *  id\n```\n\n- There are three internal nodes, so three phrases\n  - Each internal node is the root of a subtree, whose leaves are a phrase\n    - E => E + T * id\n    - T => T * id\n    - F => id\n- The simple phrases are a subset of the phrases\n    - A simple phrase is always an RHS in the grammar\n        - id\n- The handle of any rightmost sentential form is its **leftmost simple phrase** - id."
    },
    {
      "metadata": {
        "slideshow": {
          "slide_type": "slide"
        }
      },
      "cell_type": "markdown",
      "source": "## Shift-Reduce Algorithms\n\n- Reduce is the action of replacing the handle on the top of the parse stack with its corresponding LHS\n- Shift is the action of moving the next token to the top of the parse stack"
    },
    {
      "metadata": {
        "slideshow": {
          "slide_type": "slide"
        }
      },
      "cell_type": "markdown",
      "source": "## LR Parser\n\nAn LR configuration stores the state of an LR parser:\n\n$$(S_0 X_1 S_1 X_2 S_2 \\ldots X_m S_m, a_i a_{i+1} \\ldots a_n \\$)$$\n\nLR parsers are table driven, where the table has two components, an **ACTION** table and a **GOTO** table\n- The ACTION table specifies the action of the parser, given the parser state and the next token\n    - Rows are state names; columns are terminals\n- The GOTO table specifies which state to put on top of the parse stack after a reduction action is done\n    - Rows are state names; columns are nonterminals"
    },
    {
      "metadata": {
        "slideshow": {
          "slide_type": "slide"
        }
      },
      "cell_type": "markdown",
      "source": "![](img/lr-parser.png)"
    },
    {
      "metadata": {
        "slideshow": {
          "slide_type": "slide"
        }
      },
      "cell_type": "markdown",
      "source": "## Parsing\n\nInitial configuration:\n\n\n$$(S_0 , a_1 a_2 \\ldots a_n \\$)$$\n\nParser actions:\n- **Shift**\n    - the next symbol of input is pushed onto the stack, along with the state symbol that is part of the Shift specification in the Action table\n- **Reduce**:\n    - remove the handle from the stack, along with its state symbols. Push the LHS of the rule. Push the state symbol from the GOTO table, using the state symbol just below the new LHS in the stack and the LHS of the new rule as the row and column into the GOTO table\n- **Accept**\n    - the parse is complete and no errors were found.\n- **Error**:\n    - the parser calls an error-handling routine.\n"
    },
    {
      "metadata": {
        "slideshow": {
          "slide_type": "slide"
        }
      },
      "cell_type": "markdown",
      "source": "## Example\n\nThis example of LR parsing uses the following small grammar with goal symbol `E`:\n\n1. E → E * B\n2. E → E + B\n3. E → B\n4. B → 0\n5. B → 1\n\nto parse the following input: **1 + 1**\n\nThe action table is indexed by a state of the parser and a terminal and contains three types of actions:\n\n- shift, which is written as `sn` and indicates that the next state is `n`\n- reduce, which is written as `rm` and indicates that a reduction with grammar rule `m` should be performed\n- accept, which is written as `acc` and indicates that the parser accepts the string in the input stream."
    },
    {
      "metadata": {
        "slideshow": {
          "slide_type": "slide"
        }
      },
      "cell_type": "markdown",
      "source": "## LR Parse Table\n\nThe two LR parsing tables for this grammar look as follows:\n\nstate | [   |     | action |     |  ]  | [go| to]|\n------|-----|-----|:------:|-----|-----|----|----|\n |\t*|\t+|\t0|\t1|\t$|\tE|\tB| \n0| | | s1| s2| | 3|\t4|\n1|\tr4|\tr4|r4|\tr4|\tr4| | |\n2|\tr5|\tr5|\tr5|\tr5|\tr5| | | \n3|\ts5|\ts6|   |   |acc| | | \n4|\tr3|\tr3|r3|r3|r3| | | \n5| | | s1| s2| | |\t7|\n6| | | s1| s2| | |\t8|\n7|\tr1|\tr1|\tr1|\tr1|\tr1| | |\t \t \n8|\tr2|\tr2|\tr2|\tr2|\tr2| | | "
    },
    {
      "metadata": {
        "slideshow": {
          "slide_type": "slide"
        }
      },
      "cell_type": "markdown",
      "source": "## Parsing steps\n\nState | Input stream |Output stream | Stack | Next action\n------|--------------|--------------|-------|-------------\n0| 1+1\\$ | | [0] | Shift 2\n2|\t+1\\$ | |\t[0,2] |\tReduce 5\n4|\t+1\\$ | 5|\t[0,4] |\tReduce 3\n3|\t+1\\$ | 5,3|\t[0,3] |\tShift 6\n6|\t 1\\$ | 5,3|\t[0,3,6]\t| Shift 2\n2|\t  \\$ | 5,3| [0,3,6,2] |\tReduce 5\n8|\t  \\$\t| 5,3,5| [0,3,6,8] |\tReduce 2\n3|    \\$ | 5,3,5,2|\t[0,3] |\tAccept"
    },
    {
      "metadata": {
        "slideshow": {
          "slide_type": "slide"
        }
      },
      "cell_type": "markdown",
      "source": "## Advantages of LR Parsers\n\n- They will work for nearly all grammars that describe programming languages.\n- They work on a larger class of grammars than other bottom-up algorithms, but are as efficient as any other bottom-up parser.\n- They can detect syntax errors as soon as it is possible.\n- The LR class of grammars is a superset of the  class parsable by LL parsers.\n\nLR tables are genereated by tools, e.g. `yacc`"
    }
  ],
  "metadata": {
    "kernelspec": {
      "name": "ifsharp",
      "display_name": "F#",
      "language": "fsharp"
    },
    "language_info": {
      "mimetype": "text/x-fsharp",
      "nbconvert_exporter": "",
      "name": "fsharp",
      "pygments_lexer": "",
      "version": "4.3.1.0",
      "file_extension": ".fs",
      "codemirror_mode": ""
    },
    "language": "fsharp",
    "celltoolbar": "Slideshow"
  },
  "nbformat": 4,
  "nbformat_minor": 2
}