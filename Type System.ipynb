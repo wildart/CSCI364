{
  "cells": [
    {
      "metadata": {
        "collapsed": true,
        "slideshow": {
          "slide_type": "slide"
        }
      },
      "cell_type": "markdown",
      "source": "# Type System"
    },
    {
      "metadata": {
        "slideshow": {
          "slide_type": "slide"
        }
      },
      "cell_type": "markdown",
      "source": "## How to build bigger types\n\n- Have various base types like **int bool unit char**\n\n- Ways to build (nested) compound types: *tuples, lists, options*\n    - Coming soon: more ways to build compound types\n    - First: 3 most important type building blocks in any language\n\n- **Each of**: A **t** value contains values of each of **t1 t2 ... tn**\n\n- **One of**: A **t** value contains values of one of **t1 t2 ... tn**\n\n- **Self reference**: A **t** value can refer to other **t** values\n\n**Remarkable:** A lot of data can be described with just these building blocks\n\n*Note: These are not the common names for these concepts*"
    },
    {
      "metadata": {
        "slideshow": {
          "slide_type": "slide"
        }
      },
      "cell_type": "markdown",
      "source": "## Creating new F# types\n\nNew types in F# are constructed by combining\nother types using two basic operations:\n\n- type **typeW** = **typeX** *\"times\"* **typeY**\n- type **typeZ** = **typeX** *\"plus\"* **typeY**"
    },
    {
      "metadata": {
        "slideshow": {
          "slide_type": "slide"
        }
      },
      "cell_type": "markdown",
      "source": "## Representing Pairs\n\n![type-pair](img/int-tuple.png)\n\n- pair of ints written **int * int**"
    },
    {
      "metadata": {
        "slideshow": {
          "slide_type": "slide"
        }
      },
      "cell_type": "markdown",
      "source": "## Representing Pairs\n\n![type-record](img/record.png)"
    },
    {
      "metadata": {
        "slideshow": {
          "slide_type": "slide"
        }
      },
      "cell_type": "markdown",
      "source": "## Representing a Choice\n\n![type-choice](img/choice1.png)"
    },
    {
      "metadata": {
        "slideshow": {
          "slide_type": "subslide"
        }
      },
      "cell_type": "markdown",
      "source": "## Representing a Choice (cont.)\n\n![type-choice](img/choice2.png)"
    },
    {
      "metadata": {
        "slideshow": {
          "slide_type": "subslide"
        },
        "trusted": true
      },
      "cell_type": "markdown",
      "source": "## Representing a Choice (cont.)\n\n![type-choice](img/choice3.png)"
    },
    {
      "metadata": {
        "slideshow": {
          "slide_type": "slide"
        }
      },
      "cell_type": "markdown",
      "source": "## More Examples\n\n- Tuples build each-of types\n    - **int * bool** contains an **int** *and* a **bool**\n\n- Options build one-of types\n    - **int option** contains an **int** *or* it contains no data\n\n- Lists use all three building blocks\n    - **int list** contains an **int** *and* another **int list** *or* it contains no data\n\n- And of course we can nest compound types\n    - **((int \\* int) option \\* (int list list)) option**\n"
    },
    {
      "metadata": {
        "slideshow": {
          "slide_type": "slide"
        }
      },
      "cell_type": "markdown",
      "source": "## Records\n\nRecord values have fields (any name) holding values\n\n    {f1 = v1; ...; fn = vn}\n\nRecord types have fields (and name) holding types\n\n    {f1 : t1; ...; fn : tn}\n\nThe order of fields in a record value or type never matters\n"
    },
    {
      "metadata": {
        "slideshow": {
          "slide_type": "slide"
        }
      },
      "cell_type": "markdown",
      "source": "## Records\n\nA record type is exactly that, a tuple where each element is labeled."
    },
    {
      "metadata": {
        "slideshow": {
          "slide_type": "fragment"
        },
        "trusted": true
      },
      "cell_type": "code",
      "source": "type ComplexNumberTuple = float * float\n\ntype ComplexNumberRecord = { real: float; imaginary: float } // use colon in type",
      "execution_count": 1,
      "outputs": []
    },
    {
      "metadata": {
        "slideshow": {
          "slide_type": "fragment"
        }
      },
      "cell_type": "markdown",
      "source": "A record type has the standard preamble: \n\n- `type [typename] =` followed by curly braces\n- Inside the curly braces is a list of label:\n    - type pairs, separated by semicolons\n    \n**Remember:** all lists in F# use semicolon separators – commas are for tuples"
    },
    {
      "metadata": {
        "slideshow": {
          "slide_type": "slide"
        }
      },
      "cell_type": "markdown",
      "source": "## Record Value\n\nTo create a record value:\n- use a similar format to the type definition\n- but using equals signs after the labels.\n\nThis is called a **record expression**."
    },
    {
      "metadata": {
        "slideshow": {
          "slide_type": "fragment"
        },
        "trusted": true
      },
      "cell_type": "code",
      "source": "// Record value\n{ real = 1.1; imaginary = 2.2 } // use equals!",
      "execution_count": 2,
      "outputs": [
        {
          "output_type": "execute_result",
          "execution_count": 2,
          "data": {
            "text/plain": "{real = 1.1;\n imaginary = 2.2;}"
          },
          "metadata": {}
        }
      ]
    },
    {
      "metadata": {
        "slideshow": {
          "slide_type": "fragment"
        },
        "trusted": true
      },
      "cell_type": "code",
      "source": "let myComplexNumber = { imaginary = 2.2; real = 1.1 } // use equals in let\nmyComplexNumber",
      "execution_count": 3,
      "outputs": [
        {
          "output_type": "execute_result",
          "execution_count": 3,
          "data": {
            "text/plain": "{real = 1.1;\n imaginary = 2.2;}"
          },
          "metadata": {}
        }
      ]
    },
    {
      "metadata": {
        "slideshow": {
          "slide_type": "slide"
        }
      },
      "cell_type": "markdown",
      "source": "And to “deconstruct” a record, use the same syntax:"
    },
    {
      "metadata": {
        "slideshow": {
          "slide_type": "fragment"
        },
        "trusted": true
      },
      "cell_type": "code",
      "source": "let myComplexNumber = { imaginary = 2.2; real = 1.1 }  // \"construct\"\nlet { real=re; imaginary=im } = myComplexNumber        // \"deconstruct\"\n\nprintfn \"Re: %f, Im: %f\" re im",
      "execution_count": 4,
      "outputs": [
        {
          "output_type": "display_data",
          "data": {
            "text/plain": "Re: 1.100000, Im: 2.200000\n"
          },
          "metadata": {}
        }
      ]
    },
    {
      "metadata": {
        "slideshow": {
          "slide_type": "fragment"
        }
      },
      "cell_type": "markdown",
      "source": "If you just need a single property, you can use dot notation rather than pattern matching."
    },
    {
      "metadata": {
        "slideshow": {
          "slide_type": "fragment"
        },
        "trusted": true
      },
      "cell_type": "code",
      "source": "myComplexNumber.real",
      "execution_count": 5,
      "outputs": [
        {
          "output_type": "execute_result",
          "execution_count": 5,
          "data": {
            "text/plain": "1.1"
          },
          "metadata": {}
        }
      ]
    },
    {
      "metadata": {
        "slideshow": {
          "slide_type": "fragment"
        },
        "trusted": true
      },
      "cell_type": "code",
      "source": "myComplexNumber.imaginary",
      "execution_count": 6,
      "outputs": [
        {
          "output_type": "execute_result",
          "execution_count": 6,
          "data": {
            "text/plain": "2.2"
          },
          "metadata": {}
        }
      ]
    },
    {
      "metadata": {
        "slideshow": {
          "slide_type": "slide"
        }
      },
      "cell_type": "markdown",
      "source": "## By name vs. by position\n\nLittle difference between (4,7,9) and {f=4,g=7,h=9}\n- Tuples a little shorter\n- Records a little easier to remember “what is where”\n- Generally a matter of taste, but for many (6? 8? 12?) fields, a record is usually a better choice\n\nA common decision for a construct's syntax is whether to refer to things by position (as in tuples) or by some (field) name (as with records)\n- A common hybrid is like with Java method arguments (and ML functions as used so far):\n    - Caller uses position\n    - Callee uses variables\n    - Could totally do it differently; some languages have"
    },
    {
      "metadata": {
        "slideshow": {
          "slide_type": "slide"
        }
      },
      "cell_type": "markdown",
      "source": "## Unions\n\nA “strange” (?) and totally awesome (!) way to make **one-of** types:"
    },
    {
      "metadata": {
        "slideshow": {
          "slide_type": "fragment"
        },
        "trusted": true
      },
      "cell_type": "code",
      "source": "type mytype = TwoInts of int * int\n            | Str of string\n            | Pizza",
      "execution_count": 99,
      "outputs": []
    },
    {
      "metadata": {
        "slideshow": {
          "slide_type": "fragment"
        }
      },
      "cell_type": "markdown",
      "source": "Datatype binding:\n\n- Adds a new type `mytype` to the environment\n- Adds constructors to the environment: `TwoInts`, `Str`, and `Pizza`\n- A constructor is (among other things), a function that makes values of the new type (or is a value of the new type):\n    - `TwoInts : int * int -> mytype`\n    - `Str : string -> mytype`\n    - `Pizza : mytype`"
    },
    {
      "metadata": {
        "slideshow": {
          "slide_type": "slide"
        }
      },
      "cell_type": "markdown",
      "source": "## Creating Values\n\nAny value of type `mytype` is made from one of the constructors\n\nThe value contains:\n- A “tag” for “which constructor” (e.g., TwoInts)\n- The corresponding data (e.g., (7,9))\n\nExamples:\n- `TwoInts(3+4,5+4)` evaluates to `TwoInts(7,9)`\n- `Str(if true then \"hi\" else \"bye\")` evaluates to `Str(\"hi\")`\n- `Pizza` is a value"
    },
    {
      "metadata": {
        "slideshow": {
          "slide_type": "subslide"
        },
        "trusted": true
      },
      "cell_type": "code",
      "source": "TwoInts(3+4,5+4)",
      "execution_count": 8,
      "outputs": [
        {
          "output_type": "execute_result",
          "execution_count": 8,
          "data": {
            "text/plain": "TwoInts (7,9)"
          },
          "metadata": {}
        }
      ]
    },
    {
      "metadata": {
        "slideshow": {
          "slide_type": "fragment"
        },
        "trusted": true
      },
      "cell_type": "code",
      "source": "Str(if true then \"hi\" else \"bye\")",
      "execution_count": 9,
      "outputs": [
        {
          "output_type": "execute_result",
          "execution_count": 9,
          "data": {
            "text/plain": "Str \"hi\""
          },
          "metadata": {}
        }
      ]
    },
    {
      "metadata": {
        "slideshow": {
          "slide_type": "fragment"
        },
        "trusted": true
      },
      "cell_type": "code",
      "source": "Pizza",
      "execution_count": 10,
      "outputs": [
        {
          "output_type": "execute_result",
          "execution_count": 10,
          "data": {
            "text/plain": "Pizza"
          },
          "metadata": {}
        }
      ]
    },
    {
      "metadata": {
        "slideshow": {
          "slide_type": "slide"
        }
      },
      "cell_type": "markdown",
      "source": "## Examples\n\n\nEnumerations, including carrying other data\n\n```fsharp\ntype Suit = Club | Diamond | Heart | Spade\ntype Card = Jack | Queen | King | Ace | Num of int\n```\n\nAlternate ways of identifying real-world things/people\n\n```fsharp\ntype id = StudentNum of int\n        | Name of string\n                * (string option)\n                * string\n```"
    },
    {
      "metadata": {
        "slideshow": {
          "slide_type": "slide"
        }
      },
      "cell_type": "markdown",
      "source": "## Deconstruct Value\n\nF# combines the two aspects of accessing a **one-of** value with pattern matching.\n- To deconstruct the values of union types into their basic parts, you **always** use pattern matching.\n\n\n```fsharp\n match x with\n    | Pizza -> 3\n    | TwoInts (i1, i2) -> i1+i2\n    | Str s -> String.length s\n```    \n\n- A multi-branch conditional to pick branch based on variant\n- Extracts data and binds to variables local to that branch\n- Type-checking: all branches must have same type"
    },
    {
      "metadata": {
        "slideshow": {
          "slide_type": "slide"
        },
        "trusted": true
      },
      "cell_type": "code",
      "source": "let f x = (* f has type mytype -> int *)\n    match x with\n    | Pizza -> 3\n    | TwoInts (i1, i2) -> i1+i2\n    | Str s -> String.length s",
      "execution_count": 11,
      "outputs": []
    },
    {
      "metadata": {
        "slideshow": {
          "slide_type": "fragment"
        },
        "trusted": true
      },
      "cell_type": "code",
      "source": "f Pizza",
      "execution_count": 12,
      "outputs": [
        {
          "output_type": "execute_result",
          "execution_count": 12,
          "data": {
            "text/plain": "3"
          },
          "metadata": {}
        }
      ]
    },
    {
      "metadata": {
        "slideshow": {
          "slide_type": "fragment"
        },
        "trusted": true
      },
      "cell_type": "code",
      "source": "f (Str(if true then \"hi\" else \"bye\"))",
      "execution_count": 13,
      "outputs": [
        {
          "output_type": "execute_result",
          "execution_count": 13,
          "data": {
            "text/plain": "2"
          },
          "metadata": {}
        }
      ]
    },
    {
      "metadata": {
        "slideshow": {
          "slide_type": "fragment"
        },
        "trusted": true
      },
      "cell_type": "code",
      "source": "f (TwoInts(3+4,5+4))",
      "execution_count": 14,
      "outputs": [
        {
          "output_type": "execute_result",
          "execution_count": 14,
          "data": {
            "text/plain": "16"
          },
          "metadata": {}
        }
      ]
    },
    {
      "metadata": {
        "slideshow": {
          "slide_type": "slide"
        }
      },
      "cell_type": "markdown",
      "source": "## Example"
    },
    {
      "metadata": {
        "slideshow": {
          "slide_type": "fragment"
        },
        "trusted": true
      },
      "cell_type": "code",
      "source": "type CardType = Visa | Mastercard\ntype CardNumber = string\n\ntype PaymentMethod =\n    | Cash\n    | Cheque of int\n    | Card of CardType * CardNumber\n\nlet printPayment method =\n    match method with\n    | Cash ->\n        printfn \"Paid in cash\"\n    | Cheque checkNo ->\n        printfn \"Paid by cheque: %i\" checkNo\n    | Card (cardType,cardNo) ->\n        printfn \"Paid with %A %A\" cardType cardNo",
      "execution_count": 15,
      "outputs": []
    },
    {
      "metadata": {
        "slideshow": {
          "slide_type": "fragment"
        },
        "trusted": true
      },
      "cell_type": "code",
      "source": "printPayment Cash",
      "execution_count": 16,
      "outputs": [
        {
          "output_type": "display_data",
          "data": {
            "text/plain": "Paid in cash\n"
          },
          "metadata": {}
        }
      ]
    },
    {
      "metadata": {
        "slideshow": {
          "slide_type": "fragment"
        },
        "trusted": true
      },
      "cell_type": "code",
      "source": "printPayment (Cheque(1000))",
      "execution_count": 74,
      "outputs": [
        {
          "output_type": "display_data",
          "data": {
            "text/plain": "Paid by cheque: 1000\n"
          },
          "metadata": {}
        }
      ]
    },
    {
      "metadata": {
        "slideshow": {
          "slide_type": "fragment"
        },
        "trusted": true
      },
      "cell_type": "code",
      "source": "printPayment (Card(Visa, \"V12345\"))",
      "execution_count": 18,
      "outputs": [
        {
          "output_type": "display_data",
          "data": {
            "text/plain": "Paid with Visa \"V12345\"\n"
          },
          "metadata": {}
        }
      ]
    },
    {
      "metadata": {
        "slideshow": {
          "slide_type": "slide"
        }
      },
      "cell_type": "markdown",
      "source": "## Expression Trees\n\nA more exciting (?) example of a data type, using self-reference"
    },
    {
      "metadata": {
        "slideshow": {
          "slide_type": "fragment"
        },
        "trusted": true
      },
      "cell_type": "code",
      "source": "type Exp = Constant of int \n         | Negate of Exp \n         | Add of Exp * Exp\n         | Multiply of Exp * Exp\n         \nlet example_exp = Add (Constant 19, Negate (Constant 4))\nexample_exp",
      "execution_count": 49,
      "outputs": [
        {
          "output_type": "execute_result",
          "execution_count": 49,
          "data": {
            "text/plain": "Add (Constant 19,Negate (Constant 4))"
          },
          "metadata": {}
        }
      ]
    },
    {
      "metadata": {
        "slideshow": {
          "slide_type": "fragment"
        }
      },
      "cell_type": "markdown",
      "source": "How to picture the resulting value in your head:\n```\n       Add\n     /     \\\nConstant Negate\n   |        |\n  19    Constant\n            |\n            4\n```"
    },
    {
      "metadata": {
        "slideshow": {
          "slide_type": "slide"
        }
      },
      "cell_type": "markdown",
      "source": "## Recursion\n\nNot surprising:\n- Functions over recursive data types are usually recursive"
    },
    {
      "metadata": {
        "slideshow": {
          "slide_type": "fragment"
        },
        "trusted": true
      },
      "cell_type": "code",
      "source": "let rec eval e =\n    match e with\n    | Constant i      -> i\n    | Negate e2       -> -(eval e2)\n    | Add(e1,e2)      -> (eval e1) + (eval e2)\n    | Multiply(e1,e2) -> (eval e1) * (eval e2)",
      "execution_count": 61,
      "outputs": []
    },
    {
      "metadata": {
        "trusted": true
      },
      "cell_type": "code",
      "source": "example_exp",
      "execution_count": 75,
      "outputs": [
        {
          "output_type": "execute_result",
          "execution_count": 75,
          "data": {
            "text/plain": "Add (Constant 19,Negate (Constant 4))"
          },
          "metadata": {}
        }
      ]
    },
    {
      "metadata": {
        "slideshow": {
          "slide_type": "fragment"
        },
        "trusted": true
      },
      "cell_type": "code",
      "source": "let eval_ans = eval example_exp\neval_ans",
      "execution_count": 62,
      "outputs": [
        {
          "output_type": "execute_result",
          "execution_count": 62,
          "data": {
            "text/plain": "15"
          },
          "metadata": {}
        }
      ]
    },
    {
      "metadata": {
        "slideshow": {
          "slide_type": "subslide"
        },
        "trusted": true
      },
      "cell_type": "code",
      "source": "let rec number_of_adds e =\n    match e with\n    | Constant i      -> 0\n    | Negate e2       -> number_of_adds e2\n    | Add(e1,e2)      -> 1 + number_of_adds e1 + number_of_adds e2\n    | Multiply(e1,e2) -> number_of_adds e1 + number_of_adds e2",
      "execution_count": 68,
      "outputs": []
    },
    {
      "metadata": {
        "trusted": true
      },
      "cell_type": "code",
      "source": "Multiply(example_exp,example_exp)",
      "execution_count": 76,
      "outputs": [
        {
          "output_type": "execute_result",
          "execution_count": 76,
          "data": {
            "text/plain": "Multiply\n  (Add (Constant 19,Negate (Constant 4)),Add (Constant 19,Negate (Constant 4)))"
          },
          "metadata": {}
        }
      ]
    },
    {
      "metadata": {
        "slideshow": {
          "slide_type": "fragment"
        },
        "trusted": true
      },
      "cell_type": "code",
      "source": "let example_addcount = number_of_adds (Multiply(example_exp,example_exp))\nexample_addcount",
      "execution_count": 77,
      "outputs": [
        {
          "output_type": "execute_result",
          "execution_count": 77,
          "data": {
            "text/plain": "2"
          },
          "metadata": {}
        }
      ]
    },
    {
      "metadata": {
        "slideshow": {
          "slide_type": "slide"
        }
      },
      "cell_type": "markdown",
      "source": "Let's define `max_constant : Exp -> int`\n\nGood example of combining several topics as we program:\n- Case expressions\n- Local helper functions\n- Avoiding repeated recursion\n- Simpler solution by using library functions"
    },
    {
      "metadata": {
        "slideshow": {
          "slide_type": "fragment"
        },
        "trusted": true
      },
      "cell_type": "code",
      "source": "let rec max_constant e =\n    let max_of_two (e1,e2) =\n        let m1 = max_constant e1\n        let m2 = max_constant e2\n        if m1 > m2 then m1 else m2 \n\n    match e with\n    | Constant i      -> i\n    | Negate e2       -> max_constant e2\n    | Add(e1,e2)      -> max_of_two (e1,e2)\n    | Multiply(e1,e2) -> max_of_two (e1,e2)",
      "execution_count": 65,
      "outputs": []
    },
    {
      "metadata": {
        "slideshow": {
          "slide_type": "fragment"
        },
        "trusted": true
      },
      "cell_type": "code",
      "source": "let nineteen = max_constant example_exp\nnineteen",
      "execution_count": 66,
      "outputs": [
        {
          "output_type": "execute_result",
          "execution_count": 66,
          "data": {
            "text/plain": "19"
          },
          "metadata": {}
        }
      ]
    },
    {
      "metadata": {
        "slideshow": {
          "slide_type": "slide"
        }
      },
      "cell_type": "markdown",
      "source": "## Parameterization\n\n- Both *union* and *record* types can be parameterized.\n\n- Parameterizing a type means leaving *one or more* of the types within the type being defined to be determined later by the consumer of the types.\n  - When defining types, you must be a little bit more explicit about which types are variable.\n  \n- F# supports two syntaxes for type parameterization."
    },
    {
      "metadata": {
        "slideshow": {
          "slide_type": "slide"
        }
      },
      "cell_type": "markdown",
      "source": "First, you place the type being parameterized between the keyword `type` and the name of the type, as follows:\n- The names of type parameters always start with a single quote (') followed by an alphanumeric name for the type.\n- Typically, just a single letter is used.\n- If multiple parameterized types are required, you separate them with commas."
    },
    {
      "metadata": {
        "slideshow": {
          "slide_type": "fragment"
        },
        "trusted": true
      },
      "cell_type": "code",
      "source": "type 'a BinaryTree =\n    | BinaryNode of 'a BinaryTree * 'a BinaryTree\n    | BinaryValue of 'a",
      "execution_count": 113,
      "outputs": []
    },
    {
      "metadata": {
        "slideshow": {
          "slide_type": "fragment"
        },
        "trusted": true
      },
      "cell_type": "code",
      "source": "BinaryNode(\n    BinaryNode ( BinaryValue 1, BinaryValue 2),\n    BinaryNode ( BinaryValue 3, BinaryValue 4)\n)",
      "execution_count": 114,
      "outputs": [
        {
          "output_type": "execute_result",
          "execution_count": 114,
          "data": {
            "text/plain": "BinaryNode\n  (BinaryNode (BinaryValue 1,BinaryValue 2),\n   BinaryNode (BinaryValue 3,BinaryValue 4))"
          },
          "metadata": {}
        }
      ]
    },
    {
      "metadata": {
        "slideshow": {
          "slide_type": "fragment"
        },
        "trusted": true,
        "scrolled": true
      },
      "cell_type": "code",
      "source": "BinaryNode(\n    BinaryNode ( BinaryValue 'a', BinaryValue 'b'),\n    BinaryValue ('c')\n)",
      "execution_count": 21,
      "outputs": [
        {
          "output_type": "execute_result",
          "execution_count": 21,
          "data": {
            "text/plain": "BinaryNode (BinaryNode (BinaryValue 'a',BinaryValue 'b'),BinaryValue 'c')"
          },
          "metadata": {}
        }
      ]
    },
    {
      "metadata": {
        "slideshow": {
          "slide_type": "slide"
        }
      },
      "cell_type": "markdown",
      "source": "In the second syntax, you place the types being parameterized in *angle brackets* after the type name, as follows:"
    },
    {
      "metadata": {
        "slideshow": {
          "slide_type": "fragment"
        },
        "trusted": true
      },
      "cell_type": "code",
      "source": "type Tree<'a> =\n    | Node of Tree<'a> list\n    | Value of 'a",
      "execution_count": 22,
      "outputs": []
    },
    {
      "metadata": {
        "slideshow": {
          "slide_type": "fragment"
        },
        "trusted": true
      },
      "cell_type": "code",
      "source": "let tree1 =\n    Node(\n        [ Node( [Value \"one\"; Value \"two\"] ) ;\n          Node( [Value \"three\"; Value \"four\"] ) ]\n    )\ntree1",
      "execution_count": 23,
      "outputs": [
        {
          "output_type": "execute_result",
          "execution_count": 23,
          "data": {
            "text/plain": "Node [Node [Value \"one\"; Value \"two\"]; Node [Value \"three\"; Value \"four\"]]"
          },
          "metadata": {}
        }
      ]
    },
    {
      "metadata": {
        "slideshow": {
          "slide_type": "fragment"
        },
        "trusted": true
      },
      "cell_type": "code",
      "source": "let tree2 = \n    Node(\n        [ Node( [Value 1; Value 2] ) ;\n          Node( [Value 3] ) ]\n    )\ntree2",
      "execution_count": 24,
      "outputs": [
        {
          "output_type": "execute_result",
          "execution_count": 24,
          "data": {
            "text/plain": "Node [Node [Value 1; Value 2]; Node [Value 3]]"
          },
          "metadata": {}
        }
      ]
    },
    {
      "metadata": {
        "slideshow": {
          "slide_type": "slide"
        }
      },
      "cell_type": "markdown",
      "source": "The syntax for creating and consuming an instance of a parameterized type does not change from that of creating and consuming a nonparameterized type.\n- This is because the compiler will automatically infer the type parameters of the parameterized type."
    },
    {
      "metadata": {
        "slideshow": {
          "slide_type": "fragment"
        },
        "trusted": true
      },
      "cell_type": "code",
      "source": "let rec printTreeValues x =\n    match x with\n    | Node l -> List.iter printTreeValues l\n    | Value x -> printf  \"%A, \" x",
      "execution_count": 119,
      "outputs": []
    },
    {
      "metadata": {
        "slideshow": {
          "slide_type": "fragment"
        },
        "trusted": true
      },
      "cell_type": "code",
      "source": "printTreeValues tree1",
      "execution_count": 120,
      "outputs": [
        {
          "output_type": "display_data",
          "data": {
            "text/plain": "\"one\", \"two\", \"three\", \"four\", "
          },
          "metadata": {}
        }
      ]
    },
    {
      "metadata": {
        "slideshow": {
          "slide_type": "fragment"
        },
        "trusted": true
      },
      "cell_type": "code",
      "source": "printTreeValues tree2",
      "execution_count": 121,
      "outputs": [
        {
          "output_type": "display_data",
          "data": {
            "text/plain": "1, 2, 3, "
          },
          "metadata": {}
        }
      ]
    },
    {
      "metadata": {
        "slideshow": {
          "slide_type": "slide"
        }
      },
      "cell_type": "markdown",
      "source": "## Polymorphism\n\nA **generic** or **polymorphic** subprogram takes parameters of different types on different activations\n- Overloaded subprograms provide *ad hoc polymorphism*\n\n**Subtype polymorphism** means that a variable of type `T` can access any object of type `T` or any type derived from `T` (OOP languages)"
    },
    {
      "metadata": {
        "slideshow": {
          "slide_type": "slide"
        }
      },
      "cell_type": "markdown",
      "source": "## Parametric Polymorphism\n\n**Parametric** polymorphism is provided by a subprogram that takes **generic** parameters that are used in type expressions that describe the types\nof the parameters of the subprogram.\n\nDifferent instantiations of such subprograms can be given different generic parameters, producing subprograms that take different types of parameters.\n - A cheap compile-time substitute for dynamic binding"
    },
    {
      "metadata": {
        "slideshow": {
          "slide_type": "slide"
        }
      },
      "cell_type": "markdown",
      "source": "## Generic Functions\n\nA key feature of F# is the automatic generalization of code. The combination of automatic generalization and type inference makes:\n- many programs simpler, and more general,\n- enhances code reuse\n\nAutomatic generalization is applied when a `let` or `member` definition doesn't fully constrain the types of inputs or outputs.\n- You can tell automatic generalization has been applied by the presence of type variables in an inferred type, and\n- ultimately by the fact that you can reuse a construct with multiple types."
    },
    {
      "metadata": {
        "slideshow": {
          "slide_type": "slide"
        },
        "trusted": true
      },
      "cell_type": "code",
      "source": "// Evaluate functions in the interpreter\nlet getFirst (a,b,c) = a\nlet mapPair f g (x, y) = (f x, g y)",
      "execution_count": 28,
      "outputs": []
    },
    {
      "metadata": {
        "slideshow": {
          "slide_type": "fragment"
        },
        "trusted": true
      },
      "cell_type": "code",
      "source": "getFirst (1,2.0,3)",
      "execution_count": 29,
      "outputs": [
        {
          "output_type": "execute_result",
          "execution_count": 29,
          "data": {
            "text/plain": "1"
          },
          "metadata": {}
        }
      ]
    },
    {
      "metadata": {
        "slideshow": {
          "slide_type": "fragment"
        },
        "trusted": true
      },
      "cell_type": "code",
      "source": "getFirst ('a',2.0,3)",
      "execution_count": 30,
      "outputs": [
        {
          "output_type": "execute_result",
          "execution_count": 30,
          "data": {
            "text/plain": "'a'"
          },
          "metadata": {}
        }
      ]
    },
    {
      "metadata": {
        "slideshow": {
          "slide_type": "slide"
        }
      },
      "cell_type": "markdown",
      "source": "## Exceptions\n\n- F# supports throwing and catching exceptions.\n\n- Exception definitions in F# are similar to defining a constructor of a union type, and the syntax for handling exceptions is similar to pattern matching.\n\n- You define exceptions using the `exception` keyword followed:\n  - by the **name** of the exception, and\n  - then optionally the keyword of and the types of any values the exception should contain, with multiple types separated by asterisks.\n "
    },
    {
      "metadata": {
        "slideshow": {
          "slide_type": "fragment"
        },
        "trusted": true
      },
      "cell_type": "code",
      "source": "exception WrongSecond of int",
      "execution_count": 31,
      "outputs": []
    },
    {
      "metadata": {
        "slideshow": {
          "slide_type": "slide"
        }
      },
      "cell_type": "markdown",
      "source": "## Raising Exceptions\n\nYou can raise exceptions with the `raise` keyword, as shown in the `else` clause in the following `testSecond` function."
    },
    {
      "metadata": {
        "slideshow": {
          "slide_type": "fragment"
        },
        "trusted": true
      },
      "cell_type": "code",
      "source": "let primes = [ 2; 3; 5; 7; 11; 13; 17; 19; 23; 29; 31; 37; 41; 43; 47; 53; 59 ]\n\nlet testSecond() =\n    try\n        let currentSecond = System.DateTime.Now.Second in\n        if List.exists (fun x -> x = currentSecond) primes then\n            failwithf \"A prime second: %d\" currentSecond\n        else\n            raise (WrongSecond currentSecond)\n    with\n        WrongSecond x -> printfn \"The current was %i, which is not prime\" x\n    printfn \"Done!!!\"\n    \ntestSecond()",
      "execution_count": 98,
      "outputs": [
        {
          "output_type": "stream",
          "text": "Expression evaluation failed: A prime second: 53\nExceptionA prime second: 53\n  at Microsoft.FSharp.Core.PrintfModule+PrintFormatToStringThenFail@1645[TResult].Invoke (System.String message) [0x00000] in <5a7d678a904cf4daa74503838a677d5a>:0 \n  at FSI_0154.testSecond () [0x000bd] in <1e0e956f83e64629a1d7c0c7f004d22c>:0 \n  at <StartupCode$FSI_0154>.$FSI_0154.main@ () [0x000b4] in <1e0e956f83e64629a1d7c0c7f004d22c>:0 \n  at (wrapper managed-to-native) System.Reflection.MonoMethod.InternalInvoke(System.Reflection.MonoMethod,object,object[],System.Exception&)\n  at System.Reflection.MonoMethod.Invoke (System.Object obj, System.Reflection.BindingFlags invokeAttr, System.Reflection.Binder binder, System.Object[] parameters, System.Globalization.CultureInfo culture) [0x0003b] in <2943701620b54f86b436d3ffad010412>:0 \n",
          "name": "stderr"
        }
      ]
    },
    {
      "metadata": {
        "slideshow": {
          "slide_type": "subslide"
        }
      },
      "cell_type": "markdown",
      "source": "F# also has an alterative to the `raise` keyword, the `failwith` function\n- If you just want to raise an exception with a text description of what went wrong, you can use `failwith` to raise a generic exception that contains the text passed to the function."
    },
    {
      "metadata": {
        "slideshow": {
          "slide_type": "slide"
        }
      },
      "cell_type": "markdown",
      "source": "## Exception Handling\n\nThe `try` and `with` keywords handle exceptions.\n- The expressions that are subject to error handling go between the `try` and `with` keywords, and\n- one or more pattern matching rules must follow the `with` keyword.\n\nWhen trying to match an F# exception, the syntax follows that of trying to match an F# constructor from a union type.\n- The first half of the rule consists of the exception name, followed by identifiers or wildcards to match values that the exception contains.\n- The second half of the rule is an expression that states how the exception should be handled."
    },
    {
      "metadata": {
        "slideshow": {
          "slide_type": "slide"
        }
      },
      "cell_type": "markdown",
      "source": "## Units\n\nF# has the ability to define units of measure and associate them with other types.\n- The unit of measure is then \"attached\" to the declared type as a additional type and prevents mixing different types."
    },
    {
      "metadata": {
        "slideshow": {
          "slide_type": "fragment"
        },
        "trusted": true
      },
      "cell_type": "code",
      "source": "[<Measure>] \ntype cm\n\n[<Measure>] \ntype inch\n\nlet meter = 100<cm>\nlet yard = 36<inch>",
      "execution_count": 34,
      "outputs": []
    },
    {
      "metadata": {
        "slideshow": {
          "slide_type": "fragment"
        },
        "trusted": true
      },
      "cell_type": "code",
      "source": "yard + meter // not allowed: different measures",
      "execution_count": 36,
      "outputs": [
        {
          "output_type": "stream",
          "text": "The unit of measure 'cm' does not match the unit of measure 'inch'\nThe unit of measure 'cm' does not match the unit of measure 'inch'",
          "name": "stderr"
        }
      ]
    },
    {
      "metadata": {
        "slideshow": {
          "slide_type": "fragment"
        },
        "trusted": true
      },
      "cell_type": "code",
      "source": "yard + 1  // not allowed: didn't specify a measure type",
      "execution_count": 37,
      "outputs": [
        {
          "output_type": "stream",
          "text": "The type 'int' does not match the type 'int<inch>'\nThe type 'int' does not match the type 'int<inch>'",
          "name": "stderr"
        }
      ]
    },
    {
      "metadata": {
        "slideshow": {
          "slide_type": "fragment"
        },
        "trusted": true
      },
      "cell_type": "code",
      "source": "yard + 1<inch>",
      "execution_count": 38,
      "outputs": [
        {
          "output_type": "execute_result",
          "execution_count": 38,
          "data": {
            "text/plain": "37"
          },
          "metadata": {}
        }
      ]
    }
  ],
  "metadata": {
    "kernelspec": {
      "name": "ifsharp",
      "display_name": "F#",
      "language": "fsharp"
    },
    "language_info": {
      "mimetype": "text/x-fsharp",
      "nbconvert_exporter": "",
      "name": "fsharp",
      "pygments_lexer": "",
      "version": "4.3.1.0",
      "file_extension": ".fs",
      "codemirror_mode": ""
    },
    "language": "fsharp",
    "celltoolbar": "Slideshow"
  },
  "nbformat": 4,
  "nbformat_minor": 2
}