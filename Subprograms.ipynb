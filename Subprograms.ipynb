{
 "cells": [
  {
   "cell_type": "code",
   "execution_count": 2,
   "metadata": {
    "slideshow": {
     "slide_type": "skip"
    }
   },
   "outputs": [],
   "source": [
    "#load \"sig.fsx\"\n",
    "open CSCI374.ExtraReflection"
   ]
  },
  {
   "cell_type": "markdown",
   "metadata": {
    "slideshow": {
     "slide_type": "slide"
    }
   },
   "source": [
    "# Subprograms"
   ]
  },
  {
   "cell_type": "markdown",
   "metadata": {
    "slideshow": {
     "slide_type": "slide"
    }
   },
   "source": [
    "## Outline\n",
    "\n",
    "- Fundamentals of Subprograms\n",
    "- Local Referencing Environments\n",
    "- Parameter-Passing Methods\n",
    "- Parameters That Are Subprograms\n",
    "- Calling Subprograms Indirectly\n",
    "- Overloaded Subprograms\n",
    "- Generic Subprograms\n",
    "- Design Issues for Functions\n",
    "- User-Defined Overloaded Operators\n",
    "- Closures\n",
    "- Coroutines\n",
    "- Implementing Subprograms\n"
   ]
  },
  {
   "cell_type": "markdown",
   "metadata": {
    "slideshow": {
     "slide_type": "slide"
    }
   },
   "source": [
    "## Abstractions\n",
    "\n",
    "Two fundamental abstraction facilities:\n",
    "\n",
    "- Process abstraction\n",
    "    - Emphasized from early days\n",
    "    - Discussed in this chapter\n",
    "\n",
    "- Data abstraction\n",
    "    - Emphasized in the 1980s"
   ]
  },
  {
   "cell_type": "markdown",
   "metadata": {
    "slideshow": {
     "slide_type": "slide"
    }
   },
   "source": [
    "## Fundamentals of Subprograms\n",
    "\n",
    "- Each subprogram has a single entry point\n",
    "\n",
    "- The calling program is suspended during execution of the called subprogram\n",
    "\n",
    "- Control always returns to the caller when the called subprogram's execution terminates\n"
   ]
  },
  {
   "cell_type": "markdown",
   "metadata": {
    "slideshow": {
     "slide_type": "slide"
    }
   },
   "source": [
    "## Basic Definitions\n",
    "\n",
    "- A **subprogram definition** describes the interface to and the actions of the subprogram abstraction\n",
    "\n",
    "- A **subprogram call** is an explicit request that the subprogram be executed\n",
    "\n",
    "- A **subprogram header** is the first part of the definition, including the name, the kind of subprogram, and the formal parameters\n",
    "\n",
    "- The **parameter profile (signature)** of a subprogram is the number, order, and types of its parameters\n",
    "\n",
    "- The **protocol** is a subprogram's parameter profile and, if it is a function, its return type"
   ]
  },
  {
   "cell_type": "markdown",
   "metadata": {
    "slideshow": {
     "slide_type": "slide"
    }
   },
   "source": [
    "## Basic Definitions (cont.)\n",
    "\n",
    "- Function declarations in C and C++ are often called **prototypes**\n",
    "\n",
    "- A subprogram declaration provides the protocol, but not the body, of the subprogram\n",
    "\n",
    "- A **formal parameter** is a dummy variable listed in the subprogram header and used in the subprogram\n",
    "\n",
    "- An **actual parameter** represents a value or address used in the subprogram call statement"
   ]
  },
  {
   "cell_type": "markdown",
   "metadata": {
    "slideshow": {
     "slide_type": "slide"
    }
   },
   "source": [
    "## Actual/Formal Parameter Correspondence\n",
    "\n",
    "- Positional\n",
    "    - The binding of actual parameters to formal parameters is by position: the first actual parameter is bound to the first formal parameter and so forth\n",
    "    - Safe and effective\n",
    "\n",
    "- Keyword\n",
    "    - The name of the formal parameter to which an actual parameter is to be bound is specified with the actual parameter\n",
    "    - *Advantage:* Parameters can appear in any order, thereby avoiding parameter correspondence errors\n",
    "    - *Disadvantage:* User must know the formal parameter's names"
   ]
  },
  {
   "cell_type": "markdown",
   "metadata": {
    "slideshow": {
     "slide_type": "slide"
    }
   },
   "source": [
    "## Procedures and Functions\n",
    "\n",
    "- There are two categories of subprograms\n",
    "    - **Procedures** are collection of statements that define parameterized computations\n",
    "\n",
    "    - **Functions** structurally resemble procedures but are semantically modeled on mathematical functions\n",
    "        - They are expected to produce no side effects\n",
    "        - In practice, program functions have side effects"
   ]
  },
  {
   "cell_type": "markdown",
   "metadata": {
    "slideshow": {
     "slide_type": "slide"
    }
   },
   "source": [
    "## Design Issues for Subprograms\n",
    "\n",
    "- Are local variables static or dynamic?\n",
    "- Can subprogram definitions appear in other subprogram definitions?\n",
    "- What parameter passing methods are provided?\n",
    "- Are parameter types checked?\n",
    "- If subprograms can be passed as parameters and subprograms can be nested, what is the referencing environment of a passed subprogram?\n",
    "- Can subprograms be overloaded?\n",
    "- Can subprogram be generic?\n",
    "- If the language allows nested subprograms, are closures supported?"
   ]
  },
  {
   "cell_type": "markdown",
   "metadata": {
    "slideshow": {
     "slide_type": "slide"
    }
   },
   "source": [
    "## Local Referencing Environments\n",
    "\n",
    "- The **referencing environment** of a statement is the collection of all variables that are visible in the statement.\n",
    "- Local variables can be stack-dynamic\n",
    "    - Advantages\n",
    "        - Support for recursion\n",
    "        - Storage for locals is shared among some subprograms\n",
    "\n",
    "    - Disadvantages\n",
    "        - Allocation/deallocation, initialization time\n",
    "        - Indirect addressing\n",
    "        - Subprograms cannot be history sensitive\n",
    "\n",
    "- Local variables can be static\n",
    "    - Advantages and disadvantages are the opposite of those for stack-dynamic local variables"
   ]
  },
  {
   "cell_type": "markdown",
   "metadata": {
    "slideshow": {
     "slide_type": "slide"
    }
   },
   "source": [
    "## Semantic Models of Parameter Passing\n",
    "\n",
    "![](img/param-pass.png)"
   ]
  },
  {
   "cell_type": "markdown",
   "metadata": {
    "slideshow": {
     "slide_type": "slide"
    }
   },
   "source": [
    "## Conceptual Models of Transfer\n",
    "\n",
    "- Physically move a value (Pass-by-Value/Result)\n",
    "- Move an access path to a value (Pass-by-Reference/Name)"
   ]
  },
  {
   "cell_type": "markdown",
   "metadata": {
    "slideshow": {
     "slide_type": "slide"
    }
   },
   "source": [
    "## Pass-by-Value (In Mode)\n",
    "\n",
    "- The value of the actual parameter is used to initialize the corresponding formal parameter\n",
    "\n",
    "    - Normally implemented by copying\n",
    "\n",
    "    - Can be implemented by transmitting an access path but not recommended (enforcing write protection is not easy)\n",
    "\n",
    "- Disadvantages\n",
    "    - *Physical move:* additional storage is required (stored twice) and the actual move can be costly (for large parameters)\n",
    "    - *Access path method:* must write-protect in the called subprogram and accesses cost more (indirect addressing)"
   ]
  },
  {
   "cell_type": "markdown",
   "metadata": {
    "slideshow": {
     "slide_type": "slide"
    }
   },
   "source": [
    "## Pass-by-Result (Out Mode)\n",
    "\n",
    "- When a parameter is passed by result, no value is transmitted to the subprogram; the corresponding formal parameter acts as a local variable; its value is transmitted to caller's actual parameter when control is returned to the caller, by physical move\n",
    "    - Require extra storage location and copy operation"
   ]
  },
  {
   "cell_type": "markdown",
   "metadata": {
    "slideshow": {
     "slide_type": "slide"
    }
   },
   "source": [
    "## Pass-by-Value-Result (InOut Mode)\n",
    "\n",
    "- A combination of pass-by-value and pass-by-result\n",
    "\n",
    "- Sometimes called pass-by-copy\n",
    "\n",
    "- Formal parameters have local storage\n",
    "\n",
    "- Disadvantages: Those of pass-by-result and pass-by-value\n"
   ]
  },
  {
   "cell_type": "markdown",
   "metadata": {
    "slideshow": {
     "slide_type": "slide"
    }
   },
   "source": [
    "## Pass-by-Reference (InOut Mode)\n",
    "\n",
    "- Pass an access path\n",
    "\n",
    "- Also called pass-by-sharing\n",
    "\n",
    "- *Advantage:* \n",
    "    - Passing process is efficient (no copying and no duplicated storage)\n",
    "\n",
    "- *Disadvantages:*\n",
    "    - Slower accesses (compared to pass-by-value) to formal parameters\n",
    "    - Potentials for unwanted side effects (collisions)\n",
    "    - Unwanted aliases (access broadened)"
   ]
  },
  {
   "cell_type": "markdown",
   "metadata": {
    "slideshow": {
     "slide_type": "slide"
    }
   },
   "source": [
    "## Pass-by-Name (InOut Mode)\n",
    "\n",
    "- By textual substitution\n",
    "\n",
    "- Formals are bound to an access method at the time of the call, but actual binding to a value or address takes place at the time of a reference or assignment\n",
    "\n",
    "- Allows flexibility in late binding\n",
    "\n",
    "- Implementation requires that the referencing environment of the caller is passed with the parameter, so the actual parameter address can be calculated"
   ]
  },
  {
   "cell_type": "markdown",
   "metadata": {
    "slideshow": {
     "slide_type": "slide"
    }
   },
   "source": [
    "## Implementing Parameter-Passing Methods\n",
    "\n",
    "- In most languages parameter communication takes place through the run-time stack\n",
    "- Pass-by-reference are the simplest to implement; only an address is placed in the stack"
   ]
  },
  {
   "cell_type": "markdown",
   "metadata": {
    "slideshow": {
     "slide_type": "slide"
    }
   },
   "source": [
    "- Function header:\n",
    "    - `void sub(int a, int b, int c, int d)`\n",
    "- Function call in `main`: `sub(w, x, y, z)`\n",
    "    - pass `w` by value, `x` by result, `y` by value-result, `z` by reference\n",
    "\n",
    "![](img/param-stack.png)"
   ]
  },
  {
   "cell_type": "markdown",
   "metadata": {
    "slideshow": {
     "slide_type": "slide"
    }
   },
   "source": [
    "## Design Considerations for Parameter Passing\n",
    "\n",
    "- Two important considerations\n",
    "    - Efficiency\n",
    "    - One-way or two-way data transfer\n",
    "\n",
    "- But the above considerations are in conflict\n",
    "    - Good programming suggest limited access to variables, which means one-way whenever possible\n",
    "    - But pass-by-reference is more efficient to pass structures of significant size"
   ]
  },
  {
   "cell_type": "markdown",
   "metadata": {
    "slideshow": {
     "slide_type": "slide"
    }
   },
   "source": [
    "## Overloaded Subprograms\n",
    "\n",
    "- An **overloaded subprogram** is one that has the same name as another subprogram in the same referencing environment\n",
    "    - Every version of an overloaded subprogram has a unique protocol\n",
    "\n",
    "- C++, Java, C#, and Ada include predefined overloaded subprograms\n",
    "\n",
    "- Ada, Java, C++, and C# allow users to write multiple versions of subprograms with the same name\n"
   ]
  },
  {
   "cell_type": "markdown",
   "metadata": {
    "slideshow": {
     "slide_type": "slide"
    }
   },
   "source": [
    "## Generic Subprograms\n",
    "\n",
    "- A **generic** or **polymorphic subprogram** takes parameters of different types on different activations\n",
    "\n",
    "- Overloaded subprograms provide *ad hoc polymorphism*\n",
    "\n",
    "- *Subtype polymorphism* means that a variable of type `T` can access any object of type `T` or any type derived from `T` (OOP languages)\n",
    "\n",
    "- A subprogram that takes a generic parameter that is used in a type expression that describes the type of the parameters of the subprogram provides **parametric polymorphism**\n",
    "    - A cheap compile-time substitute for dynamic binding"
   ]
  },
  {
   "cell_type": "markdown",
   "metadata": {
    "slideshow": {
     "slide_type": "slide"
    }
   },
   "source": [
    "## Generic Subprograms in F#\n",
    "\n",
    "- Infers a generic type if it cannot determine the type of a parameter or the return type of a function - **automatic generalization**\n",
    "\n",
    "- Such types are denoted with an apostrophe and a single letter, e.g., `'a`\n",
    "\n",
    "- Functions can be defined to have generic parameters\n",
    "    - These parameters are not type constrained"
   ]
  },
  {
   "cell_type": "code",
   "execution_count": 32,
   "metadata": {
    "slideshow": {
     "slide_type": "fragment"
    }
   },
   "outputs": [
    {
     "data": {
      "text/plain": [
       "Function: x:obj -> y:obj -> unit"
      ]
     },
     "execution_count": 32,
     "metadata": {},
     "output_type": "execute_result"
    }
   ],
   "source": [
    "let printPair (x: 'a) (y: 'a) =\n",
    "    printfn \"%A %A %b\" x y (x=y)\n",
    "    \n",
    "sgn printPair"
   ]
  },
  {
   "cell_type": "code",
   "execution_count": 34,
   "metadata": {
    "slideshow": {
     "slide_type": "fragment"
    }
   },
   "outputs": [
    {
     "name": "stdout",
     "output_type": "stream",
     "text": [
      "2 1 false\n"
     ]
    }
   ],
   "source": [
    "printPair 2 1"
   ]
  },
  {
   "cell_type": "code",
   "execution_count": 36,
   "metadata": {
    "slideshow": {
     "slide_type": "fragment"
    }
   },
   "outputs": [
    {
     "name": "stdout",
     "output_type": "stream",
     "text": [
      "'c' 'c' true\n"
     ]
    }
   ],
   "source": [
    "printPair 'c' 'c'"
   ]
  },
  {
   "cell_type": "markdown",
   "metadata": {
    "slideshow": {
     "slide_type": "slide"
    }
   },
   "source": [
    "## Design Issues for Functions\n",
    "\n",
    "- Are side effects allowed?\n",
    "    - Parameters should always be in-mode to reduce side effect (like Ada)\n",
    "- What types of return values are allowed?\n",
    "    - Most imperative languages restrict the return types\n",
    "    - C allows any type except arrays and functions\n",
    "    - C++ is like C but also allows user-defined types\n",
    "    - Java and C# methods can return any type (but because methods are not types, they cannot be returned)\n",
    "    - Python and Ruby treat methods as first-class objects, so they can be returned, as well as any other class"
   ]
  },
  {
   "cell_type": "markdown",
   "metadata": {
    "slideshow": {
     "slide_type": "slide"
    }
   },
   "source": [
    "## Closures\n",
    "\n",
    "A **closure** is a subprogram and the referencing environment where it was defined\n",
    "- The referencing environment is needed if the subprogram can be called from any arbitrary place in the program\n",
    "- A static-scoped language that does not permit nested subprograms doesn't need closures\n",
    "- Closures are only needed if a subprogram can access variables in nesting scopes and it can be called from anywhere\n",
    "- To support closures, an implementation may need to provide unlimited extent to some variables (because a subprogram may access a nonlocal variable that is normally no longer alive)"
   ]
  },
  {
   "cell_type": "code",
   "execution_count": 37,
   "metadata": {
    "slideshow": {
     "slide_type": "slide"
    }
   },
   "outputs": [
    {
     "data": {
      "text/plain": [
       "Function: x:int -> int -> int"
      ]
     },
     "execution_count": 37,
     "metadata": {},
     "output_type": "execute_result"
    }
   ],
   "source": [
    "let add x =\n",
    "    let z = x\n",
    "    let add_y y = //is a closure\n",
    "        z + y \n",
    "    add_y\n",
    "    \n",
    "sgn add"
   ]
  },
  {
   "cell_type": "code",
   "execution_count": 38,
   "metadata": {
    "slideshow": {
     "slide_type": "fragment"
    }
   },
   "outputs": [
    {
     "data": {
      "text/plain": [
       "Function: y:int -> int"
      ]
     },
     "execution_count": 38,
     "metadata": {},
     "output_type": "execute_result"
    }
   ],
   "source": [
    "let add10 = add 10\n",
    "\n",
    "sgn add10"
   ]
  },
  {
   "cell_type": "code",
   "execution_count": 20,
   "metadata": {
    "slideshow": {
     "slide_type": "fragment"
    }
   },
   "outputs": [
    {
     "data": {
      "text/html": [
       "<div class=\"dni-plaintext\">11</div>"
      ]
     },
     "execution_count": 20,
     "metadata": {},
     "output_type": "execute_result"
    }
   ],
   "source": [
    "add10 1"
   ]
  },
  {
   "cell_type": "markdown",
   "metadata": {
    "slideshow": {
     "slide_type": "slide"
    }
   },
   "source": [
    "## Coroutines\n",
    "\n",
    "- A **coroutine** is a subprogram that has multiple entries and controls them itself\n",
    "\n",
    "- Also called *symmetric control:* caller and called coroutines are on a more equal basis\n",
    "\n",
    "- A coroutine call is named a *resume*\n",
    "\n",
    "- The first resume of a coroutine is to its beginning, but subsequent calls enter at the point just after the last executed statement in the coroutine\n",
    "\n",
    "- Coroutines repeatedly resume each other, possibly forever\n",
    "\n",
    "- Coroutines provide *quasi-concurrent execution* of program units (the coroutines); their execution is interleaved, but not overlapped\n"
   ]
  },
  {
   "cell_type": "markdown",
   "metadata": {
    "slideshow": {
     "slide_type": "slide"
    }
   },
   "source": [
    "- Execution control sequences for two coroutines without loops\n",
    "<div>\n",
    "<img src=\"img/coroutines1.png\" style=\"float: left;width: 45%; margin-right: 50px;\"/>\n",
    "<img src=\"img/coroutines2.png\" style=\"float: left;width: 45%;\"/>\n",
    "</div>"
   ]
  },
  {
   "cell_type": "markdown",
   "metadata": {
    "slideshow": {
     "slide_type": "slide"
    }
   },
   "source": [
    "- Coroutine execution sequence with loops\n",
    "![](img/coroutines3.png)"
   ]
  },
  {
   "cell_type": "markdown",
   "metadata": {
    "slideshow": {
     "slide_type": "slide"
    }
   },
   "source": [
    "##  The General Semantics of Calls and Returns\n",
    "\n",
    "- The subprogram call and return operations of a language are together called its **subprogram linkage**\n",
    "\n",
    "- General semantics of **calls** to a subprogram\n",
    "    - Parameter passing methods\n",
    "    - Stack-dynamic allocation of local variables\n",
    "    - Save the execution status of calling program\n",
    "    - Transfer of control and arrange for the return\n",
    "    - If subprogram nesting is supported, access to nonlocal variables must be arranged\n",
    "\n",
    "- General semantics of subprogram **returns**:\n",
    "    - In/InOut mode parameters must have their values returned\n",
    "    - Deallocation of stack-dynamic locals\n",
    "    - Restore the execution status\n",
    "    - Return control to the caller"
   ]
  },
  {
   "cell_type": "markdown",
   "metadata": {
    "slideshow": {
     "slide_type": "slide"
    }
   },
   "source": [
    "## Implementing \"Simple\" Subprograms\n",
    "\n",
    "- Call Semantics:\n",
    "    - Save the execution status of the caller\n",
    "    - Pass the parameters\n",
    "    - Pass the return address to the called\n",
    "    - Transfer control to the called\n",
    "\n",
    "- Return Semantics:\n",
    "    - If pass-by-value-result or out mode parameters are used, move the current values of those parameters to their corresponding actual parameters\n",
    "    - If it is a function, move the functional value to a place the caller can get it\n",
    "    - Restore the execution status of the caller\n",
    "    - Transfer control back to the caller\n",
    "\n",
    "- Required storage:\n",
    "    - Status information, parameters, return address, return value for functions, temporaries"
   ]
  },
  {
   "cell_type": "markdown",
   "metadata": {
    "slideshow": {
     "slide_type": "slide"
    }
   },
   "source": [
    "## Call Implementation \n",
    "\n",
    "- Two separate parts:\n",
    "    - the actual code, and\n",
    "    - the non-code part (local variables and data that can change)\n",
    "\n",
    "- The format, or *layout*, of the non-code part of an executing subprogram is called an **activation record**\n",
    "\n",
    "![](img/activation-record1.png)"
   ]
  },
  {
   "cell_type": "markdown",
   "metadata": {
    "slideshow": {
     "slide_type": "slide"
    }
   },
   "source": [
    "- An *activation record instance* is a concrete example of an activation record (the collection of data for a particular subprogram activation)\n",
    "\n",
    "![](img/ar-instance.png)"
   ]
  },
  {
   "cell_type": "markdown",
   "metadata": {
    "slideshow": {
     "slide_type": "slide"
    }
   },
   "source": [
    "## Subprograms with Stack-Dynamic Local Variables\n",
    "\n",
    "- More complex activation record\n",
    "    - The compiler must generate code to cause implicit allocation and deallocation of local variables\n",
    "    - Recursion must be supported (adds the possibility of multiple simultaneous activations of a subprogram)\n",
    "    \n",
    "![](img/activation-record2.png)"
   ]
  },
  {
   "cell_type": "markdown",
   "metadata": {
    "slideshow": {
     "slide_type": "slide"
    }
   },
   "source": [
    "### Activation Record\n",
    "\n",
    "- The activation record format is static, but its size may be dynamic\n",
    "\n",
    "- The **dynamic link** points to the top of an instance of the activation record of the caller\n",
    "\n",
    "- An activation record instance is dynamically created when a subprogram is called\n",
    "\n",
    "- Activation record instances reside on the run-time stack\n",
    "\n",
    "- The **Environment Pointer (EP)** must be maintained by the run-time system. It always points at the base of the activation record instance of the currently executing program unit\n"
   ]
  },
  {
   "cell_type": "markdown",
   "metadata": {
    "slideshow": {
     "slide_type": "slide"
    }
   },
   "source": [
    "## Revised Semantic Call/Return Actions\n",
    "\n",
    "- Caller Actions\n",
    "    - Create an activation record instance\n",
    "    - Save the execution status of the current program unit\n",
    "    - Compute and pass the parameters\n",
    "    - Pass the return address to the called\n",
    "    - Transfer control to the called\n",
    "- Prologue actions of the called\n",
    "    - Save the old EP in the stack as the dynamic link and create the new value\n",
    "    - Allocate local variables\n",
    "- Epilogue actions of the called\n",
    "    - If there are pass-by-value-result or out-mode parameters, the current values of those parameters are moved to the corresponding actual parameters\n",
    "    - If the subprogram is a function, its value is moved to a place accessible to the caller\n",
    "    - Restore the stack pointer by setting it to the value of the current EP-1 and set the EP to the old dynamic link\n",
    "    - Restore the execution status of the caller\n",
    "    - Transfer control back to the caller"
   ]
  },
  {
   "cell_type": "markdown",
   "metadata": {
    "slideshow": {
     "slide_type": "slide"
    }
   },
   "source": [
    "## Example Without Recursion\n",
    "\n",
    "```cpp\n",
    "void fun1(float r) {    // main calls fun1\n",
    "    int s, t;           // fun1 calls fun2\n",
    "    ...                 // fun2 calls fun3        \n",
    "    fun2(s);\n",
    "    ...\n",
    "}\n",
    "void fun2(int x) {\n",
    "    int y;\n",
    "    ...\n",
    "    fun3(y);\n",
    "    ...\n",
    "}\n",
    "void fun3(int q) {\n",
    "    ...\n",
    "}\n",
    "void main() {\n",
    "    float p;\n",
    "    ...\n",
    "    fun1(p);\n",
    "    ...\n",
    "}\n",
    "```"
   ]
  },
  {
   "cell_type": "markdown",
   "metadata": {
    "slideshow": {
     "slide_type": "slide"
    }
   },
   "source": [
    "![](img/ari-example1.png)"
   ]
  },
  {
   "cell_type": "markdown",
   "metadata": {
    "slideshow": {
     "slide_type": "slide"
    }
   },
   "source": [
    "## Recursion\n",
    "\n",
    "- The activation record used in the previous example supports recursion\n",
    "\n",
    "```cpp\n",
    "int factorial (int n) {\n",
    "    //<-----------------------------1\n",
    "    if (n <= 1) return 1;\n",
    "    else return (n * factorial(n - 1));\n",
    "    //<-----------------------------2\n",
    "}\n",
    "void main() {\n",
    "    int value;\n",
    "    value = factorial(3);\n",
    "    //<-----------------------------3\n",
    "}\n",
    "```"
   ]
  },
  {
   "cell_type": "markdown",
   "metadata": {
    "slideshow": {
     "slide_type": "slide"
    }
   },
   "source": [
    "![](img/ari-example2.png)"
   ]
  },
  {
   "cell_type": "markdown",
   "metadata": {
    "slideshow": {
     "slide_type": "slide"
    }
   },
   "source": [
    "![](img/ari-example3.png)"
   ]
  }
 ],
 "metadata": {
  "celltoolbar": "Slideshow",
  "kernelspec": {
   "display_name": ".NET (F#)",
   "language": "F#",
   "name": ".net-fsharp"
  },
  "language_info": {
   "file_extension": ".fs",
   "mimetype": "text/x-fsharp",
   "name": "C#",
   "pygments_lexer": "fsharp",
   "version": "4.5"
  },
  "rise": {
   "enable_chalkboard": true
  }
 },
 "nbformat": 4,
 "nbformat_minor": 4
}
