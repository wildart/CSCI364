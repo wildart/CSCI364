{
 "cells": [
  {
   "cell_type": "code",
   "execution_count": 1,
   "metadata": {
    "slideshow": {
     "slide_type": "skip"
    }
   },
   "outputs": [
    {
     "data": {
      "text/html": [
       "\r\n",
       "<div>\r\n",
       "    <div id='dotnet-interactive-this-cell-45880.cdbccacd5bae4ebcb71c99a433692759' style='display: none'>\r\n",
       "        The below script needs to be able to find the current output cell; this is an easy method to get it.\r\n",
       "    </div>\r\n",
       "    <script type='text/javascript'>\r\n",
       "// ensure `require` is available globally\r\n",
       "if (typeof require !== typeof Function || typeof require.config !== typeof Function) {\r\n",
       "    let require_script = document.createElement('script');\r\n",
       "    require_script.setAttribute('src', 'https://cdnjs.cloudflare.com/ajax/libs/require.js/2.3.6/require.min.js');\r\n",
       "    require_script.setAttribute('type', 'text/javascript');\r\n",
       "    require_script.onload = function () {\r\n",
       "        loadDotnetInteractiveApi();\r\n",
       "    };\r\n",
       "\r\n",
       "    document.getElementsByTagName('head')[0].appendChild(require_script);\r\n",
       "}\r\n",
       "else {\r\n",
       "    loadDotnetInteractiveApi();\r\n",
       "}\r\n",
       "\r\n",
       "async function probeAddresses(probingAddresses) {\r\n",
       "    function timeout(ms, promise) {\r\n",
       "        return new Promise(function (resolve, reject) {\r\n",
       "            setTimeout(function () {\r\n",
       "                reject(new Error('timeout'))\r\n",
       "            }, ms)\r\n",
       "            promise.then(resolve, reject)\r\n",
       "        })\r\n",
       "    }\r\n",
       "\r\n",
       "    if (Array.isArray(probingAddresses)) {\r\n",
       "        for (let i = 0; i < probingAddresses.length; i++) {\r\n",
       "\r\n",
       "            let rootUrl = probingAddresses[i];\r\n",
       "\r\n",
       "            if (!rootUrl.endsWith('/')) {\r\n",
       "                rootUrl = `${rootUrl}/`;\r\n",
       "            }\r\n",
       "\r\n",
       "            try {\r\n",
       "                let response = await timeout(1000, fetch(`${rootUrl}discovery`, {\r\n",
       "                    method: 'POST',\r\n",
       "                    cache: 'no-cache',\r\n",
       "                    mode: 'cors',\r\n",
       "                    timeout: 1000,\r\n",
       "                    headers: {\r\n",
       "                        'Content-Type': 'text/plain'\r\n",
       "                    },\r\n",
       "                    body: probingAddresses[i]\r\n",
       "                }));\r\n",
       "\r\n",
       "                if (response.status == 200) {\r\n",
       "                    return rootUrl;\r\n",
       "                }\r\n",
       "            }\r\n",
       "            catch (e) { }\r\n",
       "        }\r\n",
       "    }\r\n",
       "}\r\n",
       "\r\n",
       "function loadDotnetInteractiveApi() {\r\n",
       "    probeAddresses([\"http://192.168.0.201:1024/\", \"http://127.0.0.1:1024/\"])\r\n",
       "        .then((root) => {\r\n",
       "            // use probing to find host url and api resources\r\n",
       "            // load interactive helpers and language services\r\n",
       "            let dotnetInteractiveRequire = require.config({\r\n",
       "                context: '45880.cdbccacd5bae4ebcb71c99a433692759',\r\n",
       "                paths: {\r\n",
       "                    'dotnet-interactive': `${root}resources`\r\n",
       "                }\r\n",
       "            }) || require;\r\n",
       "\r\n",
       "            let dotnetInteractiveExtensionsRequire = require.config({\r\n",
       "                context: '45880.cdbccacd5bae4ebcb71c99a433692759',\r\n",
       "                paths: {\r\n",
       "                    'dotnet-interactive-extensions': `${root}extensions`\r\n",
       "                }\r\n",
       "            }) || require;\r\n",
       "\r\n",
       "            window.dotnetInteractiveRequire = dotnetInteractiveRequire;\r\n",
       "            window.dotnetInteractiveExtensionsRequire = dotnetInteractiveExtensionsRequire;\r\n",
       "            window.getExtensionRequire = function(extensionName, extensionCacheBuster) {\r\n",
       "                let paths = {};\r\n",
       "                paths[extensionName] = `${root}extensions/${extensionName}/resources/`;\r\n",
       "                \r\n",
       "                let internalRequire = require.config({\r\n",
       "                    context: extensionCacheBuster,\r\n",
       "                    paths: paths,\r\n",
       "                    urlArgs: `cacheBuster=${extensionCacheBuster}`\r\n",
       "                    }) || require;\r\n",
       "\r\n",
       "                return internalRequire\r\n",
       "            };\r\n",
       "        \r\n",
       "            dotnetInteractiveRequire([\r\n",
       "                    'dotnet-interactive/dotnet-interactive'\r\n",
       "                ],\r\n",
       "                function (dotnet) {\r\n",
       "                    dotnet.init(window);\r\n",
       "                },\r\n",
       "                function (error) {\r\n",
       "                    console.log(error);\r\n",
       "                }\r\n",
       "            );\r\n",
       "        })\r\n",
       "        .catch(error => {console.log(error);});\r\n",
       "    }\r\n",
       "    </script>\r\n",
       "</div>"
      ]
     },
     "metadata": {},
     "output_type": "display_data"
    }
   ],
   "source": [
    "#load \"sig.fsx\"\n",
    "open CSCI374.ExtraReflection"
   ]
  },
  {
   "cell_type": "markdown",
   "metadata": {
    "slideshow": {
     "slide_type": "slide"
    }
   },
   "source": [
    "# F# Programming - Pattern Matching"
   ]
  },
  {
   "cell_type": "markdown",
   "metadata": {
    "slideshow": {
     "slide_type": "slide"
    }
   },
   "source": [
    "## Pattern matching for flow of control\n",
    "\n",
    "Most imperative languages offer a variety of control flow statements for branching and looping:\n",
    "\n",
    "- if-then-else (and the ternary version bool ? if-true : if-false)\n",
    "- case or switch statements\n",
    "- for and foreach loops, with break and continue\n",
    "- and even the dreaded goto\n",
    "\n",
    "F# does support some of these, but F# also supports the most general form of conditional expression, which is **pattern-matching**. The pattern matching construct in F# allows you to **pattern match over a variety of types and values**."
   ]
  },
  {
   "cell_type": "code",
   "execution_count": 2,
   "metadata": {
    "slideshow": {
     "slide_type": "slide"
    }
   },
   "outputs": [
    {
     "data": {
      "text/html": [
       "<div class=\"dni-plaintext\">11</div>"
      ]
     },
     "execution_count": 2,
     "metadata": {},
     "output_type": "execute_result"
    }
   ],
   "source": [
    "let booleanExpression = true\n",
    "\n",
    "(if booleanExpression then 10 else 20) + 1"
   ]
  },
  {
   "cell_type": "code",
   "execution_count": 3,
   "metadata": {
    "slideshow": {
     "slide_type": "fragment"
    }
   },
   "outputs": [
    {
     "data": {
      "text/plain": [
       "TRUE"
      ]
     },
     "execution_count": 3,
     "metadata": {},
     "output_type": "execute_result"
    }
   ],
   "source": [
    "if booleanExpression\n",
    "    then \"TRUE\"\n",
    "    else \"FALSE\""
   ]
  },
  {
   "cell_type": "markdown",
   "metadata": {
    "slideshow": {
     "slide_type": "fragment"
    }
   },
   "source": [
    "A typical matching expression that replaces `if-then-else` looks like this:"
   ]
  },
  {
   "cell_type": "code",
   "execution_count": 4,
   "metadata": {
    "scrolled": true,
    "slideshow": {
     "slide_type": "fragment"
    }
   },
   "outputs": [
    {
     "data": {
      "text/plain": [
       "TRUE"
      ]
     },
     "execution_count": 4,
     "metadata": {},
     "output_type": "execute_result"
    }
   ],
   "source": [
    "match booleanExpression with\n",
    "| true -> \"TRUE\" // true branch\n",
    "| false -> \"FALSE\" // false branch"
   ]
  },
  {
   "cell_type": "code",
   "execution_count": 5,
   "metadata": {
    "slideshow": {
     "slide_type": "slide"
    }
   },
   "outputs": [
    {
     "name": "stdout",
     "output_type": "stream",
     "text": [
      "Function: n:int -> int\n"
     ]
    },
    {
     "data": {
      "text/html": [
       "<div class=\"dni-plaintext\">89</div>"
      ]
     },
     "execution_count": 5,
     "metadata": {},
     "output_type": "execute_result"
    }
   ],
   "source": [
    "// This function calculates the nth term in the Fibonacci sequence.\n",
    "let rec fib n = \n",
    "    if n = 1 then 1\n",
    "    else if n = 2 then 1\n",
    "    else fib(n-1) + fib(n-2)\n",
    "        \n",
    "sgn fib |> printfn \"%s\"\n",
    "        \n",
    "fib 11"
   ]
  },
  {
   "cell_type": "code",
   "execution_count": 28,
   "metadata": {
    "slideshow": {
     "slide_type": "fragment"
    }
   },
   "outputs": [
    {
     "data": {
      "text/plain": [
       "Function: n:int -> int"
      ]
     },
     "execution_count": 28,
     "metadata": {},
     "output_type": "execute_result"
    }
   ],
   "source": [
    "let rec fib n =\n",
    "    match n with\n",
    "    | 1 -> 1\n",
    "    | 2 -> 1\n",
    "    | nth -> fib(nth - 1) + fib(nth - 2)\n",
    "\n",
    "sgn fib"
   ]
  },
  {
   "cell_type": "code",
   "execution_count": null,
   "metadata": {
    "slideshow": {
     "slide_type": "fragment"
    }
   },
   "outputs": [],
   "source": [
    "fib 12"
   ]
  },
  {
   "cell_type": "markdown",
   "metadata": {
    "slideshow": {
     "slide_type": "slide"
    }
   },
   "source": [
    "### Patterns\n",
    "\n",
    "In general the syntax is:\n",
    "\n",
    "```fsharp\n",
    "match e_0 with \n",
    "| p_1 when g_1 -> e_1\n",
    "| p_2 -> e_2\n",
    "....\n",
    "| p_n -> e_n\n",
    "| _   -> e_n+1\n",
    "```        "
   ]
  },
  {
   "cell_type": "markdown",
   "metadata": {
    "slideshow": {
     "slide_type": "slide"
    }
   },
   "source": [
    "Semantics:        \n",
    "        \n",
    "- The keyword `match` followed by the **identifier** that will be matched and then the keyword `with`.\n",
    "- All the possible **matching rules** separated by vertical bars, `|`.\n",
    "- A **rule** consists of either a *constant* or an *identifier*, followed by an arrow (`->`) and then by the **expression** to be used when the value matches the rule.\n",
    "- The rules are matched in the **order** in which they are defined, and the compiler will issue an error if pattern matching is incomplete.\n",
    "- The wildcard (`_`) will match **any value** and is a way of telling the compiler that you’re not interested in using this value.\n",
    "- The `when` guard gives exact control about when a rule executes.\n"
   ]
  },
  {
   "cell_type": "markdown",
   "metadata": {
    "slideshow": {
     "slide_type": "subslide"
    }
   },
   "source": [
    "Each pattern is a constructor name followed by the right number of variables (i.e., `C` or `C x` or `C(x,y)` or ...)\n",
    "\n",
    "- Syntactically most patterns (all today) look like expressions\n",
    "- But patterns are not expressions\n",
    "    - We do not evaluate them\n",
    "    - We see if the result of `e_0` matches them"
   ]
  },
  {
   "cell_type": "code",
   "execution_count": 8,
   "metadata": {
    "slideshow": {
     "slide_type": "slide"
    }
   },
   "outputs": [
    {
     "name": "stdout",
     "output_type": "stream",
     "text": [
      "Function: x:bool -> string\n"
     ]
    },
    {
     "data": {
      "text/html": [
       "<table><thead><tr><th>Item1</th><th>Item2</th></tr></thead><tbody><tr><td><div class=\"dni-plaintext\">TRUE</div></td><td><div class=\"dni-plaintext\">FALSE</div></td></tr></tbody></table>"
      ]
     },
     "execution_count": 8,
     "metadata": {},
     "output_type": "execute_result"
    }
   ],
   "source": [
    "let booleanToString x =\n",
    "    match x with\n",
    "    | false -> \"FALSE\" \n",
    "    | _ -> \"TRUE\"\n",
    "\n",
    "sgn booleanToString |> printfn \"%s\"\n",
    "    \n",
    "booleanToString true, booleanToString false"
   ]
  },
  {
   "cell_type": "code",
   "execution_count": 9,
   "metadata": {
    "slideshow": {
     "slide_type": "fragment"
    }
   },
   "outputs": [
    {
     "name": "stdout",
     "output_type": "stream",
     "text": [
      "Function: x:string -> bool\n"
     ]
    },
    {
     "data": {
      "text/html": [
       "<table><thead><tr><th>Item1</th><th>Item2</th><th>Item3</th></tr></thead><tbody><tr><td><div class=\"dni-plaintext\">True</div></td><td><div class=\"dni-plaintext\">True</div></td><td><div class=\"dni-plaintext\">True</div></td></tr></tbody></table>"
      ]
     },
     "execution_count": 9,
     "metadata": {},
     "output_type": "execute_result"
    }
   ],
   "source": [
    "let stringToBoolean x = \n",
    "    match x with\n",
    "    | \"True\" | \"true\" | \"T\" | \"t\" | \"1\" -> true\n",
    "    | \"False\" | \"false\" | \"f\" | \"0\" -> false\n",
    "    | _ -> failwith \"unexpected input string\"\n",
    "    \n",
    "sgn stringToBoolean |> printfn \"%s\"    \n",
    "    \n",
    "stringToBoolean \"True\", stringToBoolean \"1\", stringToBoolean \"t\""
   ]
  },
  {
   "cell_type": "code",
   "execution_count": 10,
   "metadata": {
    "slideshow": {
     "slide_type": "fragment"
    }
   },
   "outputs": [
    {
     "ename": "Unhandled exception",
     "evalue": "System.Exception: unexpected input string\n   at FSI_0013.stringToBoolean(String x)\n   at <StartupCode$FSI_0014>.$FSI_0014.main@()",
     "output_type": "error",
     "traceback": [
      "System.Exception: unexpected input string\n   at FSI_0013.stringToBoolean(String x)\n   at <StartupCode$FSI_0014>.$FSI_0014.main@()",
      "   at FSI_0013.stringToBoolean(String x)",
      "   at <StartupCode$FSI_0014>.$FSI_0014.main@()"
     ]
    }
   ],
   "source": [
    "stringToBoolean \"Hello!\""
   ]
  },
  {
   "cell_type": "markdown",
   "metadata": {
    "slideshow": {
     "slide_type": "slide"
    }
   },
   "source": [
    "It is also possible to pattern match over **most of the types** defined by F#."
   ]
  },
  {
   "cell_type": "markdown",
   "metadata": {
    "slideshow": {
     "slide_type": "fragment"
    }
   },
   "source": [
    "Pattern matching over tuples:"
   ]
  },
  {
   "cell_type": "code",
   "execution_count": 11,
   "metadata": {
    "slideshow": {
     "slide_type": "fragment"
    }
   },
   "outputs": [],
   "source": [
    "// let myOr b1 b2 =\n",
    "//     if      b1 = true  && b2 = true  then true\n",
    "//     else if b1 = true  && b2 = false then true\n",
    "//     else if b1 = false && b2 = true  then true\n",
    "//     else if b1 = false && b2 = false then false\n",
    "let myOr b1 b2 =\n",
    "    match (b1, b2) with\n",
    "    | true, _ -> true\n",
    "    | _, true -> true\n",
    "    | _ -> false"
   ]
  },
  {
   "cell_type": "code",
   "execution_count": 12,
   "metadata": {
    "slideshow": {
     "slide_type": "fragment"
    }
   },
   "outputs": [
    {
     "data": {
      "text/html": [
       "<table><thead><tr><th>Item1</th><th>Item2</th></tr></thead><tbody><tr><td><div class=\"dni-plaintext\">True</div></td><td><div class=\"dni-plaintext\">False</div></td></tr></tbody></table>"
      ]
     },
     "execution_count": 12,
     "metadata": {},
     "output_type": "execute_result"
    }
   ],
   "source": [
    "(myOr true false), (myOr false false)\n",
    "// myOr (true, false) // error"
   ]
  },
  {
   "cell_type": "code",
   "execution_count": 13,
   "metadata": {
    "slideshow": {
     "slide_type": "slide"
    }
   },
   "outputs": [
    {
     "data": {
      "text/plain": [
       "Function: tupledArg:bool * bool -> bool"
      ]
     },
     "execution_count": 13,
     "metadata": {},
     "output_type": "execute_result"
    }
   ],
   "source": [
    "// let myAnd b1 b2 =\n",
    "//     if      b1 = true  && b2 = true  then true\n",
    "//     else if b1 = false && b2 = true  then false\n",
    "//     else if b1 = true  && b2 = false then false\n",
    "//     else if b1 = false && b2 = false then false\n",
    "// let myAnd b1 b2 =\n",
    "//     if b1 && b2\n",
    "//         then true\n",
    "//         else false\n",
    "let myAnd p =\n",
    "    match p with\n",
    "    | true, true -> true\n",
    "    | _ -> false\n",
    "    \n",
    "sgn myAnd"
   ]
  },
  {
   "cell_type": "code",
   "execution_count": 14,
   "metadata": {
    "slideshow": {
     "slide_type": "fragment"
    }
   },
   "outputs": [
    {
     "data": {
      "text/html": [
       "<table><thead><tr><th>Item1</th><th>Item2</th></tr></thead><tbody><tr><td><div class=\"dni-plaintext\">False</div></td><td><div class=\"dni-plaintext\">True</div></td></tr></tbody></table>"
      ]
     },
     "execution_count": 14,
     "metadata": {},
     "output_type": "execute_result"
    }
   ],
   "source": [
    "myAnd(true, false), myAnd (true, true)\n",
    "// myAnd true false // problem not tuple"
   ]
  },
  {
   "cell_type": "markdown",
   "metadata": {
    "slideshow": {
     "slide_type": "slide"
    }
   },
   "source": [
    "### Why this way is better\n",
    "\n",
    "0. You can use pattern-matching to write your own testing and data-extractions functions if you must\n",
    "1. You cannot forget a case (inexhaustive pattern-match warning)\n",
    "2. You cannot duplicate a case (a type-checking error)\n",
    "3. You will not forget to test the variant correctly and get an exception (like List.head [])\n",
    "4. Pattern-matching can be generalized and made more powerful, leading to elegant and concise code\n",
    "5. Pattern-matching is better for options and lists for the same reasons as for all datatypes\n",
    "    - No missing cases, no exceptions for wrong variant, etc.\n"
   ]
  },
  {
   "cell_type": "markdown",
   "metadata": {
    "slideshow": {
     "slide_type": "slide"
    }
   },
   "source": [
    "## Pattern matching with expressions\n",
    "\n",
    "Let's look at the way pattern matching is used for binding values to expressions (the functional equivalent of assigning to variables). See also [conciseness pattern matching](https://fsharpforfunandprofit.com/posts/conciseness-pattern-matching/).\n",
    "\n",
    "Perform matching directly on tuples:"
   ]
  },
  {
   "cell_type": "code",
   "execution_count": 15,
   "metadata": {
    "slideshow": {
     "slide_type": "fragment"
    }
   },
   "outputs": [
    {
     "name": "stdout",
     "output_type": "stream",
     "text": [
      "1, 2\n"
     ]
    }
   ],
   "source": [
    "let firstPart, secondPart, _ =  (1,2,3)  // underscore means ignore\n",
    "printfn \"%i, %i\" firstPart secondPart"
   ]
  },
  {
   "cell_type": "markdown",
   "metadata": {
    "slideshow": {
     "slide_type": "slide"
    }
   },
   "source": [
    "### Lists are datatypes\n",
    "\n",
    "Do not use `head`, `tail`, or `isEmpty` either\n",
    "- `[]` and `::` are constructors too\n",
    "- (strange syntax, particularly infix)"
   ]
  },
  {
   "cell_type": "markdown",
   "metadata": {
    "slideshow": {
     "slide_type": "slide"
    }
   },
   "source": [
    "Perform matching directly on lists:"
   ]
  },
  {
   "cell_type": "code",
   "execution_count": 16,
   "metadata": {
    "slideshow": {
     "slide_type": "fragment"
    }
   },
   "outputs": [
    {
     "name": "stderr",
     "output_type": "stream",
     "text": [
      "\n",
      "input.fsx (1,5)-(1,23) typecheck warning Incomplete pattern matches on this expression. For example, the value '[_]' may indicate a case not covered by the pattern(s).\n",
      "\n"
     ]
    },
    {
     "data": {
      "text/html": [
       "<table><thead><tr><th>Item1</th><th>Item2</th><th>Item3</th></tr></thead><tbody><tr><td><div class=\"dni-plaintext\">1</div></td><td><div class=\"dni-plaintext\">2</div></td><td><div class=\"dni-plaintext\">[ 3, 4, 5, 6, 7, 8, 9, 10 ]</div></td></tr></tbody></table>"
      ]
     },
     "execution_count": 16,
     "metadata": {},
     "output_type": "execute_result"
    }
   ],
   "source": [
    "let elem1::elem2::tail = [1..10]       // ignore the warning for now\n",
    "elem1, elem2, tail"
   ]
  },
  {
   "cell_type": "markdown",
   "metadata": {
    "slideshow": {
     "slide_type": "slide"
    }
   },
   "source": [
    "and with a help of `match..with` construct"
   ]
  },
  {
   "cell_type": "code",
   "execution_count": 17,
   "metadata": {
    "slideshow": {
     "slide_type": "fragment"
    }
   },
   "outputs": [
    {
     "name": "stdout",
     "output_type": "stream",
     "text": [
      "the list has more than tree elements\n",
      "list is three elems: 1, 2 and 3\n",
      "list is 1 and 2\n",
      "the list has one element 1 \n",
      "the list is empty\n"
     ]
    }
   ],
   "source": [
    "let listMatcher aList = \n",
    "    match aList with\n",
    "    | [] -> printfn \"the list is empty\" \n",
    "    | [firstElement] -> printfn \"the list has one element %A \" firstElement \n",
    "    | [first; second] -> printfn \"list is %A and %A\" first second \n",
    "    | head::[b;c] -> printfn \"list is three elems: %A, %A and %A\" head b c\n",
    "    | _ -> printfn \"the list has more than tree elements\"\n",
    "\n",
    "listMatcher [1;2;3;4]\n",
    "listMatcher [1;2;3]\n",
    "listMatcher [1;2]\n",
    "listMatcher [1]\n",
    "listMatcher []"
   ]
  },
  {
   "cell_type": "code",
   "execution_count": 18,
   "metadata": {
    "slideshow": {
     "slide_type": "slide"
    }
   },
   "outputs": [
    {
     "data": {
      "text/plain": [
       "Function: xs:list<int> -> int"
      ]
     },
     "execution_count": 18,
     "metadata": {},
     "output_type": "execute_result"
    }
   ],
   "source": [
    "// list summation using recursion and pattern matching\n",
    "let rec sum_list_pm (xs : int list) =\n",
    "    match xs with\n",
    "    | [] -> 0\n",
    "    | x::xs -> x + sum_list_pm xs\n",
    "    \n",
    "sgn sum_list_pm "
   ]
  },
  {
   "cell_type": "code",
   "execution_count": 19,
   "metadata": {
    "slideshow": {
     "slide_type": "fragment"
    }
   },
   "outputs": [
    {
     "data": {
      "text/html": [
       "<div class=\"dni-plaintext\">25</div>"
      ]
     },
     "execution_count": 19,
     "metadata": {},
     "output_type": "execute_result"
    }
   ],
   "source": [
    "sum_list_pm [1; 2; 3; 4; 5; 10]"
   ]
  },
  {
   "cell_type": "code",
   "execution_count": 20,
   "metadata": {
    "slideshow": {
     "slide_type": "slide"
    }
   },
   "outputs": [
    {
     "data": {
      "text/plain": [
       "Function: xs:list<obj> -> ys:list<obj> -> list<obj>"
      ]
     },
     "execution_count": 20,
     "metadata": {},
     "output_type": "execute_result"
    }
   ],
   "source": [
    "let rec append xs ys =\n",
    "    match xs with\n",
    "    | [] -> ys\n",
    "    | x::xs -> x :: append xs ys\n",
    "\n",
    "sgn append"
   ]
  },
  {
   "cell_type": "code",
   "execution_count": 21,
   "metadata": {
    "slideshow": {
     "slide_type": "fragment"
    }
   },
   "outputs": [
    {
     "data": {
      "text/html": [
       "<table><thead><tr><th>Item1</th><th>Item2</th><th>Item3</th></tr></thead><tbody><tr><td><div class=\"dni-plaintext\">[ 1, 2, 3, 4, 5 ]</div></td><td><div class=\"dni-plaintext\">[ 5, 1, 2, 3, 4, 5 ]</div></td><td><div class=\"dni-plaintext\">[ 5, 6, 7, 8, 9, 10, 1, 2, 3, 4, 5 ]</div></td></tr></tbody></table>"
      ]
     },
     "execution_count": 21,
     "metadata": {},
     "output_type": "execute_result"
    }
   ],
   "source": [
    "append [] [1 .. 5],\n",
    "append [5] [1 .. 5],\n",
    "append [5 .. 10] [1 .. 5]"
   ]
  },
  {
   "cell_type": "markdown",
   "metadata": {
    "slideshow": {
     "slide_type": "slide"
    }
   },
   "source": [
    "Compare to the `sum_list` and `append` without using patter matching\n",
    "\n",
    "```fsharp\n",
    "let rec sum_list (xs : int list) = \n",
    "    if List.isEmpty xs\n",
    "    then 0\n",
    "    else List.head xs + sum_list (List.tail xs)\n",
    "    \n",
    "let rec append (xs : int list) (ys : int list) =\n",
    "    if xs.IsEmpty \n",
    "    then ys\n",
    "    else xs.Head :: append xs.Tail ys    \n",
    "```"
   ]
  },
  {
   "cell_type": "markdown",
   "metadata": {
    "slideshow": {
     "slide_type": "slide"
    }
   },
   "source": [
    "## Exhaustive pattern matching\n",
    "\n",
    "Here’s some C# code that uses a **switch** statement to handle different types of state.\n",
    "\n",
    "```c#\n",
    "enum State { New, Draft, Published, Inactive, Discontinued }\n",
    "void HandleState(State state)\n",
    "{\n",
    "    switch (state)\n",
    "    {\n",
    "    case State.Inactive: break; \n",
    "    case State.Draft: break;\n",
    "    case State.New: break;\n",
    "    case State.Discontinued: break;\n",
    "    } \n",
    "}\n",
    "```\n",
    "This code will compile, but there is an obvious **bug**! The compiler couldn’t see it – can you?\n",
    "If you can, and you fixed it, would it stay fixed if I added another `State` to the list?"
   ]
  },
  {
   "cell_type": "markdown",
   "metadata": {
    "slideshow": {
     "slide_type": "slide"
    }
   },
   "source": [
    "Here’s the F# equivalent:"
   ]
  },
  {
   "cell_type": "code",
   "execution_count": 22,
   "metadata": {
    "slideshow": {
     "slide_type": "fragment"
    }
   },
   "outputs": [
    {
     "name": "stderr",
     "output_type": "stream",
     "text": [
      "\n",
      "input.fsx (3,10)-(3,15) typecheck warning Incomplete pattern matches on this expression. For example, the value 'Published' may indicate a case not covered by the pattern(s).\n",
      "\n",
      "input.fsx (7,6)-(7,9) typecheck warning This rule will never be matched\n",
      "\n"
     ]
    }
   ],
   "source": [
    "type State = New | Draft | Published | Inactive | Discontinued\n",
    "let handleState state = \n",
    "   match state with\n",
    "   | Inactive -> () \n",
    "   | New -> ()\n",
    "   | Draft -> ()\n",
    "   | New -> ()\n",
    "//    | Published -> ()\n",
    "   | Discontinued -> ()"
   ]
  },
  {
   "cell_type": "markdown",
   "metadata": {
    "slideshow": {
     "slide_type": "fragment"
    }
   },
   "source": [
    "The fact that exhaustive matching is always done means that certain common errors will be detected by the compiler immediately:\n",
    "\n",
    "- A missing case (often caused when a new choice has been added due to changed requirements or refactoring).\n",
    "- An impossible case (when an existing choice has been removed).\n",
    "- A redundant case that could never be reached (the case has been subsumed in a previous case – this can sometimes be non-obvious).\n"
   ]
  },
  {
   "cell_type": "markdown",
   "metadata": {
    "slideshow": {
     "slide_type": "slide"
    }
   },
   "source": [
    "### Avoiding nulls with the `Option` type\n",
    "\n",
    "A typical C# program is littered with code like this:\n",
    "\n",
    "```c#\n",
    "if (myObject != null)\n",
    "{\n",
    "  // do something\n",
    "}\n",
    "```\n",
    "Unfortunately, this test is not required by the compiler. All it takes is for one piece of code to forget to do this, and the program can crash.\n",
    "- the invention of `nulls` has even been called a [billion dollar mistake](http://www.infoq.com/presentations/Null-References-The-Billion-Dollar-Mistake-Tony-Hoare)!\n",
    "\n",
    "In pure F#, nulls cannot exist **accidentally**. A string or object must always be assigned to something at creation, and is immutable thereafter."
   ]
  },
  {
   "cell_type": "markdown",
   "metadata": {
    "slideshow": {
     "slide_type": "slide"
    }
   },
   "source": [
    "### `Options` Type\n",
    "\n",
    "- the generic wrapper type called `Option`, with two choices: `Some` or `None`.\n",
    "- `Some` choice wraps a valid value\n",
    "- `None` represents a missing value\n",
    "\n",
    "Building:\n",
    "- `None` has type `'a option` (much like [] has type `'a list`)\n",
    "- `Some(e)` has type `t option` if `e` has type `t` (much like e::[])\n",
    "\n",
    "Accessing:\n",
    "- `.IsSome` has type `'a option -> bool`\n",
    "- `.Value` has type `'a option -> 'a` (exception if given `None`)\n",
    "- `.IsNone` has type `'a option -> bool`"
   ]
  },
  {
   "cell_type": "code",
   "execution_count": 23,
   "metadata": {
    "slideshow": {
     "slide_type": "slide"
    }
   },
   "outputs": [
    {
     "data": {
      "text/html": [
       "<table><thead><tr><th>Item1</th><th>Item2</th></tr></thead><tbody><tr><td><div class=\"dni-plaintext\">Value: option&lt;int&gt;</div></td><td><div class=\"dni-plaintext\">Some(10)</div></td></tr></tbody></table>"
      ]
     },
     "execution_count": 23,
     "metadata": {},
     "output_type": "execute_result"
    }
   ],
   "source": [
    "let x = Some(10)\n",
    "x\n",
    "sgn x, x"
   ]
  },
  {
   "cell_type": "code",
   "execution_count": 24,
   "metadata": {
    "slideshow": {
     "slide_type": "fragment"
    }
   },
   "outputs": [
    {
     "data": {
      "text/html": [
       "<table><thead><tr><th>Item1</th><th>Item2</th><th>Item3</th><th>Item4</th></tr></thead><tbody><tr><td><div class=\"dni-plaintext\">True</div></td><td><div class=\"dni-plaintext\">False</div></td><td><div class=\"dni-plaintext\">10</div></td><td><div class=\"dni-plaintext\">Value: int</div></td></tr></tbody></table>"
      ]
     },
     "execution_count": 24,
     "metadata": {},
     "output_type": "execute_result"
    }
   ],
   "source": [
    "x.IsSome, x.IsNone, x.Value, sgn x.Value"
   ]
  },
  {
   "cell_type": "code",
   "execution_count": 25,
   "metadata": {},
   "outputs": [
    {
     "data": {
      "text/html": [
       "<table><thead><tr><th>Item1</th><th>Item2</th></tr></thead><tbody><tr><td><div class=\"dni-plaintext\">False</div></td><td><div class=\"dni-plaintext\">True</div></td></tr></tbody></table>"
      ]
     },
     "execution_count": 25,
     "metadata": {},
     "output_type": "execute_result"
    }
   ],
   "source": [
    "let y = None\n",
    "\n",
    "y.IsSome, y.IsNone"
   ]
  },
  {
   "cell_type": "code",
   "execution_count": 26,
   "metadata": {
    "scrolled": true,
    "slideshow": {
     "slide_type": "fragment"
    }
   },
   "outputs": [
    {
     "name": "stderr",
     "output_type": "stream",
     "text": [
      "Stopped due to error\n",
      "\n",
      "input.fsx (1,1)-(1,8) typecheck error Value restriction. The value 'it' has been inferred to have generic type\n",
      "    val it : obj    \n",
      "Either define 'it' as a simple data term, make it a function with explicit arguments or, if you do not intend for it to be generic, add a type annotation.\n",
      "\n"
     ]
    },
    {
     "ename": "Cell not executed",
     "evalue": "compilation error",
     "output_type": "error",
     "traceback": []
    }
   ],
   "source": [
    "y.Value"
   ]
  },
  {
   "cell_type": "markdown",
   "metadata": {
    "slideshow": {
     "slide_type": "slide"
    }
   },
   "source": [
    "Here's an example where `Some` is returned if a file exists, but a missing file returns `None`."
   ]
  },
  {
   "cell_type": "code",
   "execution_count": 27,
   "metadata": {
    "slideshow": {
     "slide_type": "fragment"
    }
   },
   "outputs": [],
   "source": [
    "let getFileInfo filePath =\n",
    "   let fi = new System.IO.FileInfo(filePath)\n",
    "   if fi.Exists then Some(fi) else None"
   ]
  },
  {
   "cell_type": "code",
   "execution_count": 28,
   "metadata": {
    "slideshow": {
     "slide_type": "fragment"
    }
   },
   "outputs": [
    {
     "data": {
      "text/html": [
       "<table><thead><tr><th>Value</th></tr></thead><tbody><tr><td><div class=\"dni-plaintext\">rise.css</div></td></tr></tbody></table>"
      ]
     },
     "execution_count": 28,
     "metadata": {},
     "output_type": "execute_result"
    }
   ],
   "source": [
    "let goodFileInfo = getFileInfo \"rise.css\"\n",
    "goodFileInfo"
   ]
  },
  {
   "cell_type": "code",
   "execution_count": 29,
   "metadata": {
    "slideshow": {
     "slide_type": "fragment"
    }
   },
   "outputs": [
    {
     "data": {
      "text/html": [
       "<table><thead><tr><th>Item1</th><th>Item2</th></tr></thead><tbody><tr><td><div class=\"dni-plaintext\">&lt;null&gt;</div></td><td><div class=\"dni-plaintext\">True</div></td></tr></tbody></table>"
      ]
     },
     "execution_count": 29,
     "metadata": {},
     "output_type": "execute_result"
    }
   ],
   "source": [
    "let badFileInfo = getFileInfo \"no-such-file.txt\"\n",
    "badFileInfo, badFileInfo.IsNone"
   ]
  },
  {
   "cell_type": "markdown",
   "metadata": {
    "slideshow": {
     "slide_type": "slide"
    }
   },
   "source": [
    "If we want to do anything with these values, we must always handle both possible cases."
   ]
  },
  {
   "cell_type": "code",
   "execution_count": 30,
   "metadata": {
    "slideshow": {
     "slide_type": "fragment"
    }
   },
   "outputs": [
    {
     "name": "stdout",
     "output_type": "stream",
     "text": [
      "the file was created at 3/25/2020 4:01:24 AM\n",
      "the file doesn't exist\n"
     ]
    }
   ],
   "source": [
    "match goodFileInfo with\n",
    "| Some fileInfo -> printfn \"the file was created at %A\" fileInfo.CreationTime\n",
    "| None -> printfn \"the file doesn't exist\" \n",
    "\n",
    "match badFileInfo with\n",
    "| Some fileInfo -> printfn \"the file was created at %A\" fileInfo.CreationTime\n",
    "| None -> printfn \"the file doesn't exist\" "
   ]
  },
  {
   "cell_type": "markdown",
   "metadata": {
    "slideshow": {
     "slide_type": "slide"
    }
   },
   "source": [
    "### Exhaustive pattern matching for edge cases"
   ]
  },
  {
   "cell_type": "code",
   "execution_count": 4,
   "metadata": {
    "scrolled": true,
    "slideshow": {
     "slide_type": "fragment"
    }
   },
   "outputs": [
    {
     "name": "stderr",
     "output_type": "stream",
     "text": [
      "\n",
      "input.fsx (2,11)-(2,15) typecheck warning Incomplete pattern matches on this expression. For example, the value '[_]' may indicate a case not covered by the pattern(s).\n",
      "\n"
     ]
    },
    {
     "ename": "Unhandled exception",
     "evalue": "Microsoft.FSharp.Core.MatchFailureException: The match cases were incomplete\n   at FSI_0007.movingAverages(FSharpList`1 list)\n   at <StartupCode$FSI_0007>.$FSI_0007.main@()",
     "output_type": "error",
     "traceback": [
      "Microsoft.FSharp.Core.MatchFailureException: The match cases were incomplete\n   at FSI_0007.movingAverages(FSharpList`1 list)\n   at <StartupCode$FSI_0007>.$FSI_0007.main@()",
      "   at FSI_0007.movingAverages(FSharpList`1 list)",
      "   at <StartupCode$FSI_0007>.$FSI_0007.main@()"
     ]
    }
   ],
   "source": [
    "let rec movingAverages list = \n",
    "    match list with\n",
    "    // if input is empty, return an empty list\n",
    "    | [] -> []\n",
    "    // otherwise process pairs of items from the input\n",
    "    | x::y::rest -> \n",
    "        let avg = (x+y)/2.0 \n",
    "        //build the result by recursing the rest of the list\n",
    "        avg :: movingAverages (y::rest)\n",
    "            \n",
    "movingAverages [1.0]            "
   ]
  },
  {
   "cell_type": "code",
   "execution_count": 5,
   "metadata": {
    "slideshow": {
     "slide_type": "slide"
    }
   },
   "outputs": [],
   "source": [
    "let rec movingAverages list = \n",
    "    match list with\n",
    "    // if input is empty, return an empty list\n",
    "    | [] -> []\n",
    "    // otherwise process pairs of items from the input\n",
    "    | x::y::rest -> \n",
    "        let avg = (x+y)/2.0 \n",
    "        //build the result by recursing the rest of the list\n",
    "        avg :: movingAverages (y::rest)\n",
    "    // for one item, return an empty list !!!!\n",
    "    | [_] -> []"
   ]
  },
  {
   "cell_type": "code",
   "execution_count": 6,
   "metadata": {
    "slideshow": {
     "slide_type": "fragment"
    }
   },
   "outputs": [
    {
     "data": {
      "text/html": [
       "<table><thead><tr><th>Item1</th><th>Item2</th><th>Item3</th><th>Item4</th></tr></thead><tbody><tr><td><div class=\"dni-plaintext\">[  ]</div></td><td><div class=\"dni-plaintext\">[  ]</div></td><td><div class=\"dni-plaintext\">[ 1.5 ]</div></td><td><div class=\"dni-plaintext\">[ 1.5, 2.5, 3.5, 4.5, 5.5, 6.5, 7.5, 8.5, 9.5 ]</div></td></tr></tbody></table>"
      ]
     },
     "execution_count": 6,
     "metadata": {},
     "output_type": "execute_result"
    }
   ],
   "source": [
    "movingAverages [],\n",
    "movingAverages [1.0],\n",
    "movingAverages [1.0; 2.0],\n",
    "movingAverages [1.0 .. 10.0]"
   ]
  },
  {
   "cell_type": "markdown",
   "metadata": {
    "slideshow": {
     "slide_type": "slide"
    }
   },
   "source": [
    "## Type Pattern Matching\n",
    "\n",
    "Exhaustive pattern matching is is particularly usefull if you are matching on the cases of a union type:\n",
    "\n",
    "- Do not to use wildcards, and try to match all the cases explicitly if you can.\n",
    "- By being always explicit in this way, you can trap any error caused by adding a new case to the union."
   ]
  },
  {
   "cell_type": "code",
   "execution_count": 13,
   "metadata": {
    "slideshow": {
     "slide_type": "fragment"
    }
   },
   "outputs": [
    {
     "name": "stdout",
     "output_type": "stream",
     "text": [
      "\"Value: Choices\"\n"
     ]
    },
    {
     "name": "stderr",
     "output_type": "stream",
     "text": [
      "\n",
      "input.fsx (5,7)-(5,8) typecheck warning Incomplete pattern matches on this expression. For example, the value 'D' may indicate a case not covered by the pattern(s).\n",
      "\n"
     ]
    },
    {
     "data": {
      "text/plain": [
       "a"
      ]
     },
     "execution_count": 13,
     "metadata": {},
     "output_type": "execute_result"
    }
   ],
   "source": [
    "type Choices = A | B | C | D\n",
    "\n",
    "sgn A |> printfn \"%A\"\n",
    "\n",
    "match A with \n",
    "| A -> \"a\"\n",
    "| B -> \"b\"\n",
    "| C -> \"c\"\n",
    "//NO default match"
   ]
  },
  {
   "cell_type": "markdown",
   "metadata": {
    "slideshow": {
     "slide_type": "slide"
    }
   },
   "source": [
    "## Pattern Matching Function\n",
    "\n",
    "In the examples so far, we’ve seen a lot of this:"
   ]
  },
  {
   "cell_type": "code",
   "execution_count": 35,
   "metadata": {
    "slideshow": {
     "slide_type": "fragment"
    }
   },
   "outputs": [
    {
     "data": {
      "text/html": [
       "<table><thead><tr><th>Item1</th><th>Item2</th></tr></thead><tbody><tr><td><div class=\"dni-plaintext\">1</div></td><td><div class=\"dni-plaintext\">nothing</div></td></tr></tbody></table>"
      ]
     },
     "execution_count": 35,
     "metadata": {},
     "output_type": "execute_result"
    }
   ],
   "source": [
    "let f aValue = \n",
    "    match aValue with \n",
    "    | x::xs -> sprintf \"%i\" x\n",
    "    | _ -> \"nothing\" \n",
    "    \n",
    "f [1;2], f []"
   ]
  },
  {
   "cell_type": "markdown",
   "metadata": {
    "slideshow": {
     "slide_type": "fragment"
    }
   },
   "source": [
    "In the special case of function definitions we can simplify this dramatically by using the function keyword."
   ]
  },
  {
   "cell_type": "code",
   "execution_count": 21,
   "metadata": {
    "slideshow": {
     "slide_type": "fragment"
    }
   },
   "outputs": [
    {
     "data": {
      "text/html": [
       "<table><thead><tr><th>Item1</th><th>Item2</th><th>Item3</th></tr></thead><tbody><tr><td><div class=\"dni-plaintext\">1</div></td><td><div class=\"dni-plaintext\">2</div></td><td><div class=\"dni-plaintext\">empty</div></td></tr></tbody></table>"
      ]
     },
     "execution_count": 21,
     "metadata": {},
     "output_type": "execute_result"
    }
   ],
   "source": [
    "let f = \n",
    "    function\n",
    "    | x::xs -> sprintf \"%i\" x\n",
    "    | [] -> \"empty\"\n",
    "    \n",
    "f [1;2], f [2], f []"
   ]
  },
  {
   "cell_type": "markdown",
   "metadata": {
    "slideshow": {
     "slide_type": "fragment"
    }
   },
   "source": [
    "- the `aValue` parameter has completely disappeared, along with the `match..with`.\n",
    "- `function` keyword is not the same as the `fun` keyword for standard lambdas\n",
    "    - rather it combines `fun` and `match..with` in a single step."
   ]
  },
  {
   "cell_type": "markdown",
   "metadata": {
    "slideshow": {
     "slide_type": "slide"
    }
   },
   "source": [
    "Sometimes pattern matching is just not enough, as we saw in this example:"
   ]
  },
  {
   "cell_type": "code",
   "execution_count": 17,
   "metadata": {
    "slideshow": {
     "slide_type": "fragment"
    }
   },
   "outputs": [
    {
     "name": "stdout",
     "output_type": "stream",
     "text": [
      "both parts are the same\n",
      "both parts are different\n"
     ]
    }
   ],
   "source": [
    "let elementsAreEqual aTuple = \n",
    "//     let x, y = aTuple\n",
    "    match aTuple with \n",
    "    | (x,y) -> \n",
    "        if (x=y) then printfn \"both parts are the same\" \n",
    "        else printfn \"both parts are different\"\n",
    "        \n",
    "elementsAreEqual (1, 1)\n",
    "elementsAreEqual (1, 2) "
   ]
  },
  {
   "cell_type": "markdown",
   "metadata": {
    "slideshow": {
     "slide_type": "slide"
    }
   },
   "source": [
    "Pattern matching is based on **patterns** only\n",
    "- it can't use functions or other kinds of conditional tests\n",
    "\n",
    "But there is a way to do the equality test as part of the pattern match\n",
    " - using an additional `when` clause to the left of the function arrow."
   ]
  },
  {
   "cell_type": "code",
   "execution_count": 18,
   "metadata": {
    "slideshow": {
     "slide_type": "fragment"
    }
   },
   "outputs": [
    {
     "name": "stdout",
     "output_type": "stream",
     "text": [
      "both parts are the same and 1\n",
      "both parts are the same\n",
      "both parts are different\n"
     ]
    }
   ],
   "source": [
    "let elementsAreEqual aTuple = \n",
    "    match aTuple with \n",
    "    | (x,y) when x=y && x=1 -> \n",
    "        printfn \"both parts are the same and 1\" \n",
    "    | (x,y) when x=y -> \n",
    "        printfn \"both parts are the same\" \n",
    "    | _ ->\n",
    "        printfn \"both parts are different\" \n",
    "\n",
    "elementsAreEqual (1, 1)\n",
    "elementsAreEqual (2, 2)\n",
    "elementsAreEqual (1, 2) "
   ]
  },
  {
   "cell_type": "markdown",
   "metadata": {
    "slideshow": {
     "slide_type": "slide"
    }
   },
   "source": [
    "## Guards\n",
    "\n",
    "`when` guard provides control on rule execution\n",
    "\n",
    "- Composed of the keyword `when` followed by a Boolean expression\n",
    "- Once the rule is matched, the `when` clause is evaluated, and the rule will fire only if the expression evaluates to `true`.\n",
    "- If the expression evaluates to `false`, the remaining rules will be searched for another match.\n",
    "\n",
    "Guards can be used for all sorts of things that pure patterns can’t be used for, such as:\n",
    "\n",
    "- comparing the bound values\n",
    "- testing object properties\n",
    "- doing other kinds of matching, such as regular expressions\n",
    "- conditionals derived from functions\n"
   ]
  },
  {
   "cell_type": "code",
   "execution_count": 2,
   "metadata": {
    "slideshow": {
     "slide_type": "slide"
    }
   },
   "outputs": [],
   "source": [
    "// The first rule is designed to be the function’s error handler.\n",
    "// The first part of the rule is an identifier that will match any integer,\n",
    "// but the `when `guard means the rule will match only those integers that\n",
    "// are less than or equal to zero\n",
    "\n",
    "let rec fib x =\n",
    "    match x with\n",
    "    | x when x <= 0 -> failwith \"value must be greater than 0\"\n",
    "    | 1 -> 1\n",
    "    | 2 -> 1\n",
    "    | x -> fib (x - 1) + fib (x - 2)"
   ]
  },
  {
   "cell_type": "code",
   "execution_count": 3,
   "metadata": {
    "scrolled": true,
    "slideshow": {
     "slide_type": "fragment"
    }
   },
   "outputs": [
    {
     "ename": "Unhandled exception",
     "evalue": "System.Exception: value must be greater than 0\n   at FSI_0006.fib(Int32 x)\n   at <StartupCode$FSI_0007>.$FSI_0007.main@()",
     "output_type": "error",
     "traceback": [
      "System.Exception: value must be greater than 0\n   at FSI_0006.fib(Int32 x)\n   at <StartupCode$FSI_0007>.$FSI_0007.main@()",
      "   at FSI_0006.fib(Int32 x)",
      "   at <StartupCode$FSI_0007>.$FSI_0007.main@()"
     ]
    }
   ],
   "source": [
    "fib -12"
   ]
  },
  {
   "cell_type": "markdown",
   "metadata": {
    "slideshow": {
     "slide_type": "slide"
    }
   },
   "source": [
    "## Active patterns\n",
    "\n",
    "F# has a special type of pattern matching called **\"active patterns\"** where the pattern can be parsed or detected dynamically.\n",
    "As with normal patterns, the matching and output are combined into a single step from the caller's point of view, see https://fsharpforfunandprofit.com/posts/convenience-active-patterns/.\n",
    "\n",
    "- Guards are great for one-off matches\n",
    "- But if there are certain guards that you use over and over, consider using **active patterns** instead"
   ]
  },
  {
   "cell_type": "markdown",
   "metadata": {
    "slideshow": {
     "slide_type": "skip"
    }
   },
   "source": [
    "Here is an example of using active patterns to parse a `string` into an `int` or `bool`."
   ]
  },
  {
   "cell_type": "code",
   "execution_count": 14,
   "metadata": {
    "slideshow": {
     "slide_type": "fragment"
    }
   },
   "outputs": [],
   "source": [
    "// create an active pattern\n",
    "let (|IntAP|_|) (str:string) =\n",
    "    match System.Int32.TryParse(str) with\n",
    "    | (true,i) -> Some(i)\n",
    "    | _ -> None\n",
    "\n",
    "// create an active pattern\n",
    "let (|BoolAP|_|) str =\n",
    "    if str = \"true\"\n",
    "    then Some(true)\n",
    "    else if str = \"false\" \n",
    "    then Some(false)\n",
    "    else None    "
   ]
  },
  {
   "cell_type": "markdown",
   "metadata": {
    "slideshow": {
     "slide_type": "slide"
    }
   },
   "source": [
    "Once these patterns have been set up, they can be used as part of a normal `match..with` expression."
   ]
  },
  {
   "cell_type": "code",
   "execution_count": 16,
   "metadata": {
    "slideshow": {
     "slide_type": "fragment"
    }
   },
   "outputs": [
    {
     "name": "stdout",
     "output_type": "stream",
     "text": [
      "The value is a number '127'\n"
     ]
    }
   ],
   "source": [
    "match \"127\" with\n",
    "// | s -> printfn \"The value is a string '%s'\" s\n",
    "| IntAP i -> printfn \"The value is a number '%i'\" i\n",
    "| _ -> printfn \"Uknown value\"    "
   ]
  },
  {
   "cell_type": "code",
   "execution_count": 17,
   "metadata": {
    "slideshow": {
     "slide_type": "fragment"
    }
   },
   "outputs": [
    {
     "name": "stdout",
     "output_type": "stream",
     "text": [
      "Uknown value\n"
     ]
    }
   ],
   "source": [
    "match \"AAA\" with\n",
    "| IntAP i -> printfn \"The value is a number '%i'\" i\n",
    "| _ -> printfn \"Uknown value\""
   ]
  },
  {
   "cell_type": "code",
   "execution_count": 18,
   "metadata": {
    "slideshow": {
     "slide_type": "fragment"
    }
   },
   "outputs": [
    {
     "name": "stdout",
     "output_type": "stream",
     "text": [
      "The value is a bool 'false'\n"
     ]
    }
   ],
   "source": [
    "match \"false\" with\n",
    "| BoolAP b -> printfn \"The value is a bool '%b'\" b\n",
    "| _ -> printfn \"Uknown value\""
   ]
  },
  {
   "cell_type": "code",
   "execution_count": 19,
   "metadata": {
    "slideshow": {
     "slide_type": "slide"
    }
   },
   "outputs": [],
   "source": [
    "// create a function to call the patterns\n",
    "let testParse str = \n",
    "    match str with\n",
    "    | IntAP i -> printfn \"The value is an int '%i'\" i\n",
    "    | BoolAP b -> printfn \"The value is a bool '%b'\" b\n",
    "    | _ -> printfn \"The value '%s' is something else\" str"
   ]
  },
  {
   "cell_type": "code",
   "execution_count": 22,
   "metadata": {
    "slideshow": {
     "slide_type": "fragment"
    }
   },
   "outputs": [
    {
     "name": "stdout",
     "output_type": "stream",
     "text": [
      "The value is an int '42'\n",
      "The value is a bool 'false'\n",
      "The value 'abc' is something else\n"
     ]
    }
   ],
   "source": [
    "testParse \"42\"\n",
    "testParse \"false\"\n",
    "testParse \"abc\""
   ]
  },
  {
   "cell_type": "markdown",
   "metadata": {
    "slideshow": {
     "slide_type": "slide"
    }
   },
   "source": [
    "### FizzBuzz\n",
    "\n",
    "Write a program that prints the numbers from 1 to 100. But for multiples of three print \"Fizz\" instead of the number and for the multiples of five print \"Buzz\". For numbers which are multiples of both three and five print \"FizzBuzz\", see https://blog.codinghorror.com/why-cant-programmers-program/.\n",
    "\n",
    "Most good programmers should be able to write out on paper a program which does this in a under a couple of minutes, right?\n",
    "- The majority of comp sci graduates can't, even some self-proclaimed senior programmers take more than 10-15 minutes to write a solution."
   ]
  },
  {
   "cell_type": "code",
   "execution_count": 23,
   "metadata": {
    "slideshow": {
     "slide_type": "slide"
    }
   },
   "outputs": [
    {
     "name": "stdout",
     "output_type": "stream",
     "text": [
      "1, 2, Fizz, 4, Buzz, Fizz, 7, 8, Fizz, Buzz, 11, Fizz, 13, 14, FizzBuzz, 16, 17, Fizz, 19, Buzz, Fizz, 22, 23, Fizz, Buzz, 26, Fizz, 28, 29, FizzBuzz, 31, 32, Fizz, 34, Buzz, Fizz, 37, 38, Fizz, Buzz, 41, Fizz, 43, 44, FizzBuzz, 46, 47, Fizz, 49, Buzz, Fizz, 52, 53, Fizz, Buzz, 56, Fizz, 58, 59, FizzBuzz, 61, 62, Fizz, 64, Buzz, Fizz, 67, 68, Fizz, Buzz, 71, Fizz, 73, 74, FizzBuzz, 76, 77, Fizz, 79, Buzz, Fizz, 82, 83, Fizz, Buzz, 86, Fizz, 88, 89, FizzBuzz, 91, 92, Fizz, 94, Buzz, Fizz, 97, 98, Fizz, Buzz, "
     ]
    }
   ],
   "source": [
    "let fizzBuzz i = \n",
    "    let rem3, rem5 = i % 3, i % 5\n",
    "    if rem3 = 0 then printf \"Fizz\"\n",
    "    if rem5 = 0 then printf \"Buzz\"\n",
    "    if rem3 <> 0 && rem5 <> 0 then printf \"%i\" i\n",
    "    printf \", \"\n",
    "    \n",
    "[1..100] |> List.iter fizzBuzz"
   ]
  },
  {
   "cell_type": "code",
   "execution_count": 24,
   "metadata": {
    "slideshow": {
     "slide_type": "slide"
    }
   },
   "outputs": [
    {
     "name": "stdout",
     "output_type": "stream",
     "text": [
      "1, 2, Fizz, 4, Buzz, Fizz, 7, 8, Fizz, Buzz, 11, Fizz, 13, 14, FizzBuzz, 16, 17, Fizz, 19, Buzz, Fizz, 22, 23, Fizz, Buzz, 26, Fizz, 28, 29, FizzBuzz, 31, 32, Fizz, 34, Buzz, Fizz, 37, 38, Fizz, Buzz, 41, Fizz, 43, 44, FizzBuzz, 46, 47, Fizz, 49, Buzz, Fizz, 52, 53, Fizz, Buzz, 56, Fizz, 58, 59, FizzBuzz, 61, 62, Fizz, 64, Buzz, Fizz, 67, 68, Fizz, Buzz, 71, Fizz, 73, 74, FizzBuzz, 76, 77, Fizz, 79, Buzz, Fizz, 82, 83, Fizz, Buzz, 86, Fizz, 88, 89, FizzBuzz, 91, 92, Fizz, 94, Buzz, Fizz, 97, 98, Fizz, Buzz, "
     ]
    }
   ],
   "source": [
    "// setup the active patterns\n",
    "let (|MultOf3|_|) i = if i % 3 = 0 then Some MultOf3 else None\n",
    "let (|MultOf5|_|) i = if i % 5 = 0 then Some MultOf5 else None\n",
    "\n",
    "// the main function\n",
    "let fizzBuzzMatch i = \n",
    "  match i with\n",
    "  | MultOf3 & MultOf5 -> printf \"FizzBuzz, \" \n",
    "  | MultOf3 -> printf \"Fizz, \" \n",
    "  | MultOf5 -> printf \"Buzz, \" \n",
    "  | _ -> printf \"%i, \" i\n",
    "  \n",
    "// test\n",
    "[1..100] |> List.iter fizzBuzzMatch"
   ]
  }
 ],
 "metadata": {
  "celltoolbar": "Slideshow",
  "kernelspec": {
   "display_name": ".NET (F#)",
   "language": "F#",
   "name": ".net-fsharp"
  },
  "language": "fsharp",
  "language_info": {
   "file_extension": ".fs",
   "mimetype": "text/x-fsharp",
   "name": "C#",
   "pygments_lexer": "fsharp",
   "version": "4.5"
  }
 },
 "nbformat": 4,
 "nbformat_minor": 2
}
